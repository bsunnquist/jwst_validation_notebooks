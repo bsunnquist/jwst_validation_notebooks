{
 "cells": [
  {
   "cell_type": "markdown",
   "metadata": {},
   "source": [
    "<a id=\"title_ID\"></a>\n",
    "# JWST Pipeline Validation Testing Notebook: Calwebb_detector1, reset step for MIRI\n",
    "\n",
    "<span style=\"color:red\"> **Instruments Affected**</span>: MIRI\n",
    "\n",
    "### Table of Contents\n",
    "<div style=\"text-align: left\"> \n",
    "\n",
    "<br> [Imports](#imports_ID) <br> [Introduction](#intro_ID) <br> [Get Documentaion String for Markdown Blocks](#markdown_from_docs) <br> [Loading Data](#data_ID) <br> [Run JWST Pipeline](#pipeline_ID) <br> [Create Figure or Print Output](#residual_ID) <br> [About This Notebook](#about_ID) <br>\n",
    "\n",
    "</div>"
   ]
  },
  {
   "cell_type": "markdown",
   "metadata": {},
   "source": [
    "<a id=\"imports_ID\"></a>\n",
    "# Imports\n",
    "List the library imports and why they are relevant to this notebook.\n",
    "\n",
    "* get_bigdata to retrieve data from artifactory\n",
    "* jwst.datamodels for building model for JWST Pipeline\n",
    "* jwst.module.PipelineStep is the pipeline step being tested\n",
    "* matplotlib.pyplot.plt to generate plot\n",
    "* numpy\n",
    "* inspect to get the docstring of our objects.\n",
    "* IPython.display for printing markdown output\n",
    "\n",
    "\n",
    "[Top of Page](#title_ID)"
   ]
  },
  {
   "cell_type": "code",
   "execution_count": 1,
   "metadata": {
    "execution": {
     "iopub.execute_input": "2021-01-04T21:04:46.093520Z",
     "iopub.status.busy": "2021-01-04T21:04:46.093163Z",
     "iopub.status.idle": "2021-01-04T21:04:46.985498Z",
     "shell.execute_reply": "2021-01-04T21:04:46.985048Z"
    },
    "nbpresent": {
     "id": "45177853-942e-4949-9e30-f544d70ef5f4"
    }
   },
   "outputs": [],
   "source": [
    "from ci_watson.artifactory_helpers import get_bigdata\n",
    "import inspect\n",
    "from IPython.display import Markdown\n",
    "from jwst.dq_init import DQInitStep\n",
    "from jwst.reset import ResetStep\n",
    "from jwst.datamodels import RampModel\n",
    "import matplotlib.pyplot as plt\n",
    "import numpy as np"
   ]
  },
  {
   "cell_type": "markdown",
   "metadata": {},
   "source": [
    "<a id=\"intro_ID\"></a>\n",
    "# Introduction\n",
    "\n",
    "\n",
    "For this test we are using the reset step in the calwebb_detector1 pipeline. For MIRI exposures, the initial groups in each integration suffer from two effects related to the resetting of the detectors. The first effect is that the first few groups after a reset do not fall on the expected linear accumulation of signal. The most significant deviations ocurr in groups 1 and 2. This behavior is relatively uniform detector-wide. The second effect, on the other hand, is the appearance of significant extra spatial structure in these initial groups, before fading out in later groups. For more information on the pipeline step visit the links below. \n",
    "\n",
    "Step description: https://jwst-pipeline.readthedocs.io/en/latest/jwst/reset/description.html\n",
    "\n",
    "Pipeline code: https://github.com/spacetelescope/jwst/tree/master/jwst/reset\n",
    "\n",
    "\n",
    "### Calibration WG Requested Algorithm: \n",
    "\n",
    "A short description and link to the page: https://outerspace.stsci.edu/pages/viewpage.action?spaceKey=JWSTCC&title=Vanilla+MIR+Reset+Anomaly+Correction\n",
    "\n",
    "\n",
    "### Defining Term\n",
    "Here is where you will define terms or acronymns that may not be known a general audience (ie a new employee to the institute or an external user). For example\n",
    "\n",
    "JWST: James Webb Space Telescope\n",
    "\n",
    "MIRI: Mid Infrared Instrument\n",
    "\n",
    "\n",
    "[Top of Page](#title_ID)"
   ]
  },
  {
   "cell_type": "markdown",
   "metadata": {},
   "source": [
    "<a id=\"markdown_from_docs\"></a>\n",
    "# Get Documentaion String for Markdown Blocks"
   ]
  },
  {
   "cell_type": "code",
   "execution_count": 2,
   "metadata": {
    "execution": {
     "iopub.execute_input": "2021-01-04T21:04:47.039135Z",
     "iopub.status.busy": "2021-01-04T21:04:47.038189Z",
     "iopub.status.idle": "2021-01-04T21:04:47.041314Z",
     "shell.execute_reply": "2021-01-04T21:04:47.041595Z"
    }
   },
   "outputs": [
    {
     "data": {
      "text/markdown": [
       "\n",
       "# ResetStep\n",
       "---\n",
       "ResetStep: Performs a reset  correction by subtracting<br />the reset correction reference data from the input science data model.\n"
      ],
      "text/plain": [
       "<IPython.core.display.Markdown object>"
      ]
     },
     "execution_count": 1,
     "metadata": {},
     "output_type": "execute_result"
    }
   ],
   "source": [
    "# Get raw python docstring\n",
    "raw = inspect.getdoc(ResetStep)\n",
    "\n",
    "# To convert to markdown, you need convert line breaks from \\n to <br />\n",
    "markdown_text = \"<br />\".join(raw.split(\"\\n\"))\n",
    "\n",
    "# Here you can format markdown as an output using the Markdown method.\n",
    "Markdown(\"\"\"\n",
    "# ResetStep\n",
    "---\n",
    "{}\n",
    "\"\"\".format(markdown_text))"
   ]
  },
  {
   "cell_type": "markdown",
   "metadata": {},
   "source": [
    "<a id=\"data_ID\"></a>\n",
    "# Loading Data\n",
    "\n",
    "The data used to test this step is a dark data file taken as part of pre-launch ground testing. The original file name is MIRV00330001001P0000000002101_1_493_SE_2017-09-07T15h14m25.fits that was renamed to jw02201001001_01101_00001_MIRIMAGE_uncal.fits with a script that updates the file to put it in pipeline ready formatting.\n",
    "This is a dark data file with 40 frames and 4 integrations.\n",
    "\n",
    "[Top of Page](#title_ID)"
   ]
  },
  {
   "cell_type": "code",
   "execution_count": 3,
   "metadata": {
    "execution": {
     "iopub.execute_input": "2021-01-04T21:04:47.044320Z",
     "iopub.status.busy": "2021-01-04T21:04:47.043980Z",
     "iopub.status.idle": "2021-01-04T21:05:01.715774Z",
     "shell.execute_reply": "2021-01-04T21:05:01.715201Z"
    }
   },
   "outputs": [],
   "source": [
    "filename = get_bigdata('jwst_validation_notebooks',\n",
    "                     'validation_data',\n",
    "                     'reset',\n",
    "                     'reset_miri_test', \n",
    "                     'jw02201001001_01101_00001_MIRIMAGE_uncal.fits')"
   ]
  },
  {
   "cell_type": "markdown",
   "metadata": {},
   "source": [
    "<a id=\"pipeline_ID\"></a>\n",
    "# Run JWST Pipeline\n",
    "\n",
    "Take the initial input file and run it through both dq_init and reset to get the before and after correction versions of the data to run.\n",
    "\n",
    "[Top of Page](#title_ID)"
   ]
  },
  {
   "cell_type": "code",
   "execution_count": 4,
   "metadata": {
    "execution": {
     "iopub.execute_input": "2021-01-04T21:05:01.729939Z",
     "iopub.status.busy": "2021-01-04T21:05:01.719719Z",
     "iopub.status.idle": "2021-01-04T21:05:10.111340Z",
     "shell.execute_reply": "2021-01-04T21:05:10.111724Z"
    }
   },
   "outputs": [
    {
     "name": "stderr",
     "output_type": "stream",
     "text": [
      "2021-01-04 16:05:03,642 - stpipe.DQInitStep - INFO - DQInitStep instance created.\n"
     ]
    },
    {
     "name": "stderr",
     "output_type": "stream",
     "text": [
      "2021-01-04 16:05:03,877 - stpipe.DQInitStep - INFO - Step DQInitStep running with args ('/data1/jenkins/workspace/Notebooks/jwst_validation_notebooks_spacetelescope/jwst_validation_notebooks/reset/jwst_reset_miri_test/jw02201001001_01101_00001_MIRIMAGE_uncal.fits',).\n"
     ]
    },
    {
     "name": "stderr",
     "output_type": "stream",
     "text": [
      "2021-01-04 16:05:03,878 - stpipe.DQInitStep - INFO - Step DQInitStep parameters are: {'pre_hooks': [], 'post_hooks': [], 'output_file': None, 'output_dir': None, 'output_ext': '.fits', 'output_use_model': False, 'output_use_index': True, 'save_results': False, 'skip': False, 'suffix': None, 'search_output_file': True, 'input_dir': ''}\n"
     ]
    },
    {
     "name": "stderr",
     "output_type": "stream",
     "text": [
      "2021-01-04 16:05:04,930 - stpipe.DQInitStep - INFO - Using MASK reference file /tmp/crds_cache/references/jwst/miri/jwst_miri_mask_0023.fits\n"
     ]
    },
    {
     "name": "stderr",
     "output_type": "stream",
     "text": [
      "2021-01-04 16:05:06,352 - stpipe.DQInitStep - INFO - Step DQInitStep done\n"
     ]
    },
    {
     "name": "stderr",
     "output_type": "stream",
     "text": [
      "2021-01-04 16:05:06,360 - stpipe.ResetStep - INFO - ResetStep instance created.\n"
     ]
    },
    {
     "name": "stderr",
     "output_type": "stream",
     "text": [
      "2021-01-04 16:05:06,545 - stpipe.ResetStep - INFO - Step ResetStep running with args (<RampModel(4, 40, 1024, 1032) from jw02201001001_01101_00001_MIRIMAGE_uncal.fits>,).\n"
     ]
    },
    {
     "name": "stderr",
     "output_type": "stream",
     "text": [
      "2021-01-04 16:05:06,547 - stpipe.ResetStep - INFO - Step ResetStep parameters are: {'pre_hooks': [], 'post_hooks': [], 'output_file': None, 'output_dir': None, 'output_ext': '.fits', 'output_use_model': False, 'output_use_index': True, 'save_results': False, 'skip': False, 'suffix': None, 'search_output_file': True, 'input_dir': ''}\n"
     ]
    },
    {
     "name": "stderr",
     "output_type": "stream",
     "text": [
      "2021-01-04 16:05:06,569 - CRDS - INFO -  Fetching  /tmp/crds_cache/references/jwst/miri/jwst_miri_reset_0042.fits  205.0 M bytes  (1 / 1 files) (0 / 205.0 M bytes)\n"
     ]
    },
    {
     "name": "stderr",
     "output_type": "stream",
     "text": [
      "2021-01-04 16:05:08,202 - stpipe.ResetStep - INFO - Using RESET reference file /tmp/crds_cache/references/jwst/miri/jwst_miri_reset_0042.fits\n"
     ]
    },
    {
     "name": "stderr",
     "output_type": "stream",
     "text": [
      "2021-01-04 16:05:08,327 - stpipe.ResetStep - WARNING - Keyword RESET_LARGE does not correspond to an existing DQ mnemonic, so will be ignored\n"
     ]
    },
    {
     "name": "stderr",
     "output_type": "stream",
     "text": [
      "2021-01-04 16:05:10,107 - stpipe.ResetStep - INFO - Step ResetStep done\n"
     ]
    }
   ],
   "source": [
    "preim = DQInitStep.call(filename)\n",
    "postim = ResetStep.call(preim)"
   ]
  },
  {
   "cell_type": "markdown",
   "metadata": {},
   "source": [
    "<a id=\"residual_ID\"></a>\n",
    "# Show plots and take statistics before and after correction\n",
    "\n",
    "For a specific pixel in the dark data:\n",
    "1. Plot the ramps before and after the correction to see if the initial frame values are more in line with the rest of the ramp.\n",
    "2. Fit a line to the ramps and calculate the slope and residuals. The slope should be closer to 0 and the residuals should be much smaller after the correction.\n",
    "3. Plot the residuals of a single integration before and after the correction to see if they are smaller.\n",
    "\n",
    "[Top of Page](#title_ID)"
   ]
  },
  {
   "cell_type": "code",
   "execution_count": 5,
   "metadata": {
    "execution": {
     "iopub.execute_input": "2021-01-04T21:05:10.129818Z",
     "iopub.status.busy": "2021-01-04T21:05:10.129480Z",
     "iopub.status.idle": "2021-01-04T21:05:10.131507Z",
     "shell.execute_reply": "2021-01-04T21:05:10.131145Z"
    },
    "nbpresent": {
     "id": "fb9e82bd-ecca-4033-ad38-8772e288b145"
    }
   },
   "outputs": [
    {
     "name": "stdout",
     "output_type": "stream",
     "text": [
      "Shape of data cube: integrations, groups, ysize, xsize  (4, 40, 1024, 1032)\n"
     ]
    }
   ],
   "source": [
    "# set input variables\n",
    "print('Shape of data cube: integrations, groups, ysize, xsize ',preim.shape)\n",
    "\n",
    "xval = 650\n",
    "yval = 550\n",
    "\n",
    "framenum = 20  # number of frames to plot (reset only corrects first few frames in cube)\n",
    "intsnum = 3  # number of integrations to plot (3 should show reset and not crowd)\n",
    "    \n",
    "# put data into proper data models\n",
    "# read in images\n",
    "impre = RampModel(preim)\n",
    "\n",
    "# read in image\n",
    "impost = RampModel(postim)    "
   ]
  },
  {
   "cell_type": "markdown",
   "metadata": {},
   "source": [
    "First plot should show that after the correction, the drop at the early part of the ramp has evened out to resemble the data in the rest of the ramp."
   ]
  },
  {
   "cell_type": "code",
   "execution_count": 6,
   "metadata": {
    "execution": {
     "iopub.execute_input": "2021-01-04T21:05:10.147428Z",
     "iopub.status.busy": "2021-01-04T21:05:10.147082Z",
     "iopub.status.idle": "2021-01-04T21:05:10.302254Z",
     "shell.execute_reply": "2021-01-04T21:05:10.302530Z"
    }
   },
   "outputs": [
    {
     "data": {
      "image/png": "[encoded data removed]",
      "text/plain": [
       "<Figure size 432x288 with 1 Axes>"
      ]
     },
     "metadata": {
      "needs_background": "light"
     },
     "output_type": "display_data"
    }
   ],
   "source": [
    "# Plot frames vs. counts for a dark pixel before and after correction\n",
    "\n",
    "# loop through integrations\n",
    "for i in range(0, intsnum):\n",
    "\n",
    "    # get locations of flagged pixels within the ramps\n",
    "    ramp1 = impre.data[i, 0:framenum, yval, xval]\n",
    "    ramp2 = impost.data[i, 0:framenum, yval, xval]\n",
    "\n",
    "    # plot ramps of selected pixels\n",
    "    plt.title('Frame values (DN) for a dark pixel')\n",
    "    plt.xlabel('Frames')\n",
    "    plt.ylabel('Counts (DN)')\n",
    "    plt.plot(ramp1+i*10, label='int ' + str(i))\n",
    "    plt.plot(ramp2+i*10, label='int ' + str(i) + ' after reset')\n",
    "\n",
    "plt.legend(loc=4)\n",
    "plt.show()\n"
   ]
  },
  {
   "cell_type": "markdown",
   "metadata": {},
   "source": [
    "Take a single pixel in the file, before and after the correction, and fit a line to them. After the correction, for a dark, the slope should be closer to zero and the residuals should be much lower."
   ]
  },
  {
   "cell_type": "code",
   "execution_count": 7,
   "metadata": {
    "execution": {
     "iopub.execute_input": "2021-01-04T21:05:10.307450Z",
     "iopub.status.busy": "2021-01-04T21:05:10.307099Z",
     "iopub.status.idle": "2021-01-04T21:05:10.309669Z",
     "shell.execute_reply": "2021-01-04T21:05:10.309296Z"
    }
   },
   "outputs": [
    {
     "name": "stdout",
     "output_type": "stream",
     "text": [
      "The slope of the pixel before correction is:  1.7052631578944015\n",
      "The slope of the pixel after correction is:  0.5314027255638181\n",
      "The residuals of the pixel before correction are:  1565.031578946565\n",
      "The residuals of the pixel after correction are:  259.19273828059295\n"
     ]
    }
   ],
   "source": [
    "# get array of frame numbers and choose ramps for selected pixel\n",
    "frames = np.arange(0, framenum)\n",
    " \n",
    "preramp = impre.data[0, 0:framenum, yval, xval]\n",
    "postramp = impost.data[0, 0:framenum, yval, xval]\n",
    "\n",
    "# get slopes of selected pixel before and after correction and see if it is more linear\n",
    "fit = np.polyfit(frames, preramp, 1, full=True)\n",
    "\n",
    "slopepre = fit[0][0]\n",
    "interceptpre = fit[0][1]\n",
    "residualspre = fit[1][0]\n",
    "\n",
    "fitpost = np.polyfit(frames, postramp, 1, full=True)\n",
    "\n",
    "slopepost = fitpost[0][0]\n",
    "interceptpost = fitpost[0][1]\n",
    "residualspost = fitpost[1][0]\n",
    "\n",
    "# look at slopes and variances\n",
    "print('The slope of the pixel before correction is: ', slopepre)\n",
    "print('The slope of the pixel after correction is: ', slopepost)\n",
    "\n",
    "print('The residuals of the pixel before correction are: ', residualspre)\n",
    "print('The residuals of the pixel after correction are: ', residualspost)\n"
   ]
  },
  {
   "cell_type": "markdown",
   "metadata": {},
   "source": [
    "Plot the residuals for the linear fit before and after correction for the specified pixel to see if the plotted ramp is flatter after the correction."
   ]
  },
  {
   "cell_type": "code",
   "execution_count": 8,
   "metadata": {
    "execution": {
     "iopub.execute_input": "2021-01-04T21:05:10.326511Z",
     "iopub.status.busy": "2021-01-04T21:05:10.321329Z",
     "iopub.status.idle": "2021-01-04T21:05:10.431865Z",
     "shell.execute_reply": "2021-01-04T21:05:10.431580Z"
    }
   },
   "outputs": [
    {
     "data": {
      "image/png": "[encoded data removed]",
      "text/plain": [
       "<Figure size 432x288 with 1 Axes>"
      ]
     },
     "metadata": {
      "needs_background": "light"
     },
     "output_type": "display_data"
    }
   ],
   "source": [
    "# show line plus residual for 1st int\n",
    "yfit = np.polyval(fit[0], frames)\n",
    "yfitcorr = np.polyval(fitpost[0], frames)\n",
    "\n",
    "plt.title('Residuals for ramp (single pixel) before and after reset')\n",
    "plt.xlabel('Frames')\n",
    "plt.ylabel('Residual: linear fit - data')\n",
    "plt.plot(frames, yfit - preramp, label='raw variance')\n",
    "plt.plot(frames, yfitcorr - postramp, label='corrected variance')\n",
    "plt.legend()\n",
    "plt.show()\n"
   ]
  },
  {
   "cell_type": "markdown",
   "metadata": {},
   "source": [
    "<a id=\"about_ID\"></a>\n",
    "## About this Notebook\n",
    "**Author:** Misty Cracraft, Senior Staff Scientist, MIRI Branch\n",
    "<br>**Updated On:** 05/12/2020"
   ]
  },
  {
   "cell_type": "markdown",
   "metadata": {},
   "source": [
    "[Top of Page](#title_ID)\n",
    "<img style=\"float: right;\" src=\"./stsci_pri_combo_mark_horizonal_white_bkgd.png\" alt=\"stsci_pri_combo_mark_horizonal_white_bkgd\" width=\"200px\"/> "
   ]
  }
 ],
 "metadata": {
  "kernelspec": {
   "display_name": "Python 3",
   "language": "python",
   "name": "python3"
  },
  "language_info": {
   "codemirror_mode": {
    "name": "ipython",
    "version": 3
   },
   "file_extension": ".py",
   "mimetype": "text/x-python",
   "name": "python",
   "nbconvert_exporter": "python",
   "pygments_lexer": "ipython3",
   "version": "3.6.12"
  }
 },
 "nbformat": 4,
 "nbformat_minor": 1
}
