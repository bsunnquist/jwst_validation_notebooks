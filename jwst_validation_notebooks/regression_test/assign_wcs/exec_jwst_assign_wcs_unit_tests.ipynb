{
 "cells": [
  {
   "cell_type": "markdown",
   "metadata": {},
   "source": [
    "<a id=\"title_ID\"></a>\n",
    "# JWST calwebb_image2 and calwebb_spec2, assign_wcs unit tests\n",
    "\n",
    "<span style=\"color:red\"> **Instruments Affected**</span>: NIRCam, NIRISS, NIRSpec, MIRI, FGS\n",
    "\n",
    "### Table of Contents\n",
    "\n",
    "<div style=\"text-align: left\"> \n",
    "    \n",
    "<br> [Introduction](#intro)\n",
    "<br> [JWST Unit Tests](#unit)\n",
    "<br> [Defining Terms](#terms)\n",
    "<br> [Test Description](#description)\n",
    "<br> [Data Description](#data_descr)\n",
    "<br> [Imports](#imports)\n",
    "<br> [Convenience Functions](#functions)\n",
    "<br> [Perform Tests](#testing) \n",
    "<br> [About This Notebook](#about)\n",
    "<br>    \n",
    "\n",
    "</div>"
   ]
  },
  {
   "cell_type": "markdown",
   "metadata": {},
   "source": [
    "<a id=\"intro\"></a>\n",
    "# Introduction\n",
    "\n",
    "This is the validation notebook that displays the unit tests for the Assign WCS step in calwebb_image2 and calwebb_spec2. This notebook runs and displays the unit tests that are performed as a part of the normal software continuous integration process. For more information on the pipeline visit the links below. \n",
    "\n",
    "* Pipeline description: https://jwst-pipeline.readthedocs.io/en/latest/jwst/assign_wcs/index.html\n",
    "\n",
    "* Pipeline code: https://github.com/spacetelescope/jwst/tree/master/jwst/\n",
    "\n",
    "[Top of Page](#title_ID)"
   ]
  },
  {
   "cell_type": "markdown",
   "metadata": {},
   "source": [
    "<a id=\"unit\"></a>\n",
    "# JWST Unit Tests\n",
    "\n",
    "JWST unit tests are located in the \"tests\" folder for each pipeline step within the [GitHub repository](https://github.com/spacetelescope/jwst/tree/master/jwst/), e.g., ```jwst/assign_wcs/tests```.\n",
    "\n",
    "* Unit test README: https://github.com/spacetelescope/jwst#unit-tests\n",
    "\n",
    "\n",
    "[Top of Page](#title_ID)"
   ]
  },
  {
   "cell_type": "markdown",
   "metadata": {},
   "source": [
    "<a id=\"terms\"></a>\n",
    "# Defining Terms\n",
    "\n",
    "These are terms or acronymns used in this notebook that may not be known a general audience.\n",
    "\n",
    "* JWST: James Webb Space Telescope\n",
    "\n",
    "* NIRCam: Near-Infrared Camera\n",
    "\n",
    "\n",
    "[Top of Page](#title_ID)"
   ]
  },
  {
   "cell_type": "markdown",
   "metadata": {},
   "source": [
    "<a id=\"description\"></a>\n",
    "# Test Description\n",
    "\n",
    "Unit testing is a software testing method by which individual units of source code are tested to determine whether they are working sufficiently well. Unit tests do not require a separate data file; the test creates the necessary test data and parameters as a part of the test code. \n",
    "\n",
    "\n",
    "[Top of Page](#title_ID)"
   ]
  },
  {
   "cell_type": "markdown",
   "metadata": {},
   "source": [
    "<a id=\"data_descr\"></a>\n",
    "# Data Description\n",
    "\n",
    "Data used for unit tests is created on the fly within the test itself, and is typically an array in the expected format of JWST data with added metadata needed to run through the pipeline. \n",
    "\n",
    "\n",
    "[Top of Page](#title_ID)"
   ]
  },
  {
   "cell_type": "markdown",
   "metadata": {},
   "source": [
    "<a id=\"imports\"></a>\n",
    "# Imports\n",
    "\n",
    "* tempfile for creating temporary output products\n",
    "* pytest for unit test functions\n",
    "* jwst for the JWST Pipeline\n",
    "* IPython.display for display pytest reports\n",
    "\n",
    "[Top of Page](#title_ID)"
   ]
  },
  {
   "cell_type": "code",
   "execution_count": 1,
   "metadata": {
    "execution": {
     "iopub.execute_input": "2021-02-01T03:32:40.546402Z",
     "iopub.status.busy": "2021-02-01T03:32:40.546104Z",
     "iopub.status.idle": "2021-02-01T03:32:40.664460Z",
     "shell.execute_reply": "2021-02-01T03:32:40.664730Z"
    }
   },
   "outputs": [],
   "source": [
    "import tempfile\n",
    "import os\n",
    "import pytest\n",
    "import jwst\n",
    "from IPython.display import IFrame"
   ]
  },
  {
   "cell_type": "markdown",
   "metadata": {},
   "source": [
    "<a id=\"functions\"></a>\n",
    "# Convenience Functions\n",
    "\n",
    "Here we define any convenience functions to help with running the unit tests. \n",
    "\n",
    "[Top of Page](#title_ID)"
   ]
  },
  {
   "cell_type": "code",
   "execution_count": 2,
   "metadata": {
    "execution": {
     "iopub.execute_input": "2021-02-01T03:32:40.667586Z",
     "iopub.status.busy": "2021-02-01T03:32:40.667280Z",
     "iopub.status.idle": "2021-02-01T03:32:40.669147Z",
     "shell.execute_reply": "2021-02-01T03:32:40.668876Z"
    }
   },
   "outputs": [],
   "source": [
    "def display_report(fname):\n",
    "    '''Convenience function to display pytest report.'''\n",
    "    \n",
    "    return IFrame(src=fname, width=700, height=600)"
   ]
  },
  {
   "cell_type": "markdown",
   "metadata": {},
   "source": [
    "<a id=\"testing\"></a>\n",
    "# Perform Tests\n",
    "\n",
    "Below we run the unit tests for the Assign WCS step. \n",
    "\n",
    "[Top of Page](#title_ID)"
   ]
  },
  {
   "cell_type": "code",
   "execution_count": 3,
   "metadata": {
    "execution": {
     "iopub.execute_input": "2021-02-01T03:32:40.673082Z",
     "iopub.status.busy": "2021-02-01T03:32:40.672756Z",
     "iopub.status.idle": "2021-02-01T03:33:43.858393Z",
     "shell.execute_reply": "2021-02-01T03:33:43.858068Z"
    },
    "scrolled": false
   },
   "outputs": [
    {
     "name": "stdout",
     "output_type": "stream",
     "text": [
      "\u001b[1m============================= test session starts ==============================\u001b[0m\r\n",
      "platform linux -- Python 3.9.1, pytest-6.2.2, py-1.10.0, pluggy-0.13.1 -- /data1/jenkins/workspace/Notebooks/jwst_validation_notebooks_spacetelescope/miniconda3/envs/jwst_validation_notebooks/bin/python\r\n",
      "cachedir: .pytest_cache\r\n",
      "metadata: {'Python': '3.9.1', 'Platform': 'Linux-3.10.0-1160.11.1.el7.x86_64-x86_64-with-glibc2.17', 'Packages': {'pytest': '6.2.2', 'py': '1.10.0', 'pluggy': '0.13.1'}, 'Plugins': {'metadata': '1.11.0', 'asdf': '2.7.2', 'html': '3.1.1', 'forked': '1.3.0', 'xdist': '2.2.0', 'ci-watson': '0.5'}, 'BUILD_NUMBER': '52', 'BUILD_ID': '52', 'BUILD_URL': 'https://plwishmaster.stsci.edu:8081/job/Notebooks/job/jwst_validation_notebooks_spacetelescope/52/', 'NODE_NAME': 'jwcalibdev.stsci.edu', 'JOB_NAME': 'Notebooks/jwst_validation_notebooks_spacetelescope', 'BUILD_TAG': 'jenkins-Notebooks-jwst_validation_notebooks_spacetelescope-52', 'EXECUTOR_NUMBER': '29', 'JENKINS_URL': 'https://plwishmaster.stsci.edu:8081/', 'WORKSPACE': '/data1/jenkins/workspace/Notebooks/jwst_validation_notebooks_spacetelescope', 'GIT_COMMIT': 'f6ea8bc553cb5ba6998fd20927d8e020dec1e853', 'GIT_URL': 'https://github.com/spacetelescope/jwst_validation_notebooks', 'GIT_BRANCH': 'origin/master'}\r\n",
      "rootdir: /data1/jenkins/workspace/Notebooks/jwst_validation_notebooks_spacetelescope\r\n",
      "plugins: metadata-1.11.0, asdf-2.7.2, html-3.1.1, forked-1.3.0, xdist-2.2.0, ci-watson-0.5\r\n",
      "\u001b[1mcollecting ... \u001b[0m"
     ]
    },
    {
     "name": "stdout",
     "output_type": "stream",
     "text": [
      "\u001b[1m\r",
      "collected 89 items                                                             \u001b[0m\r\n",
      "\r\n",
      "../../../miniconda3/envs/jwst_validation_notebooks/lib/python3.9/site-packages/jwst/assign_wcs/tests/test_miri.py::test_miri_mrs_12A "
     ]
    },
    {
     "name": "stdout",
     "output_type": "stream",
     "text": [
      "\u001b[32mPASSED\u001b[0m\u001b[32m [  1%]\u001b[0m\r\n",
      "../../../miniconda3/envs/jwst_validation_notebooks/lib/python3.9/site-packages/jwst/assign_wcs/tests/test_miri.py::test_miri_mrs_12B "
     ]
    },
    {
     "name": "stdout",
     "output_type": "stream",
     "text": [
      "\u001b[32mPASSED\u001b[0m\u001b[33m [  2%]\u001b[0m\r\n",
      "../../../miniconda3/envs/jwst_validation_notebooks/lib/python3.9/site-packages/jwst/assign_wcs/tests/test_miri.py::test_miri_mrs_12C "
     ]
    },
    {
     "name": "stdout",
     "output_type": "stream",
     "text": [
      "\u001b[32mPASSED\u001b[0m\u001b[33m [  3%]\u001b[0m\r\n",
      "../../../miniconda3/envs/jwst_validation_notebooks/lib/python3.9/site-packages/jwst/assign_wcs/tests/test_miri.py::test_miri_mrs_34A "
     ]
    },
    {
     "name": "stdout",
     "output_type": "stream",
     "text": [
      "\u001b[32mPASSED\u001b[0m\u001b[33m [  4%]\u001b[0m\r\n",
      "../../../miniconda3/envs/jwst_validation_notebooks/lib/python3.9/site-packages/jwst/assign_wcs/tests/test_miri.py::test_miri_mrs_34B "
     ]
    },
    {
     "name": "stdout",
     "output_type": "stream",
     "text": [
      "\u001b[32mPASSED\u001b[0m\u001b[33m [  5%]\u001b[0m\r\n",
      "../../../miniconda3/envs/jwst_validation_notebooks/lib/python3.9/site-packages/jwst/assign_wcs/tests/test_miri.py::test_miri_mrs_34C "
     ]
    },
    {
     "name": "stdout",
     "output_type": "stream",
     "text": [
      "\u001b[32mPASSED\u001b[0m\u001b[33m [  6%]\u001b[0m\r\n",
      "../../../miniconda3/envs/jwst_validation_notebooks/lib/python3.9/site-packages/jwst/assign_wcs/tests/test_nircam.py::test_nircam_wfss_available_frames "
     ]
    },
    {
     "name": "stdout",
     "output_type": "stream",
     "text": [
      "\u001b[32mPASSED\u001b[0m\u001b[33m [  7%]\u001b[0m\r\n",
      "../../../miniconda3/envs/jwst_validation_notebooks/lib/python3.9/site-packages/jwst/assign_wcs/tests/test_nircam.py::test_nircam_tso_available_frames "
     ]
    },
    {
     "name": "stdout",
     "output_type": "stream",
     "text": [
      "\u001b[32mPASSED\u001b[0m\u001b[33m [  8%]\u001b[0m\r\n",
      "../../../miniconda3/envs/jwst_validation_notebooks/lib/python3.9/site-packages/jwst/assign_wcs/tests/test_nircam.py::test_extract_tso_object_fails_without_xref_yref[F277W-xref_sci] "
     ]
    },
    {
     "name": "stdout",
     "output_type": "stream",
     "text": [
      "\u001b[32mPASSED\u001b[0m\u001b[33m [ 10%]\u001b[0m\r\n",
      "../../../miniconda3/envs/jwst_validation_notebooks/lib/python3.9/site-packages/jwst/assign_wcs/tests/test_nircam.py::test_extract_tso_object_fails_without_xref_yref[F277W-yref_sci] "
     ]
    },
    {
     "name": "stdout",
     "output_type": "stream",
     "text": [
      "\u001b[32mPASSED\u001b[0m\u001b[33m [ 11%]\u001b[0m\r\n",
      "../../../miniconda3/envs/jwst_validation_notebooks/lib/python3.9/site-packages/jwst/assign_wcs/tests/test_nircam.py::test_extract_tso_object_fails_without_xref_yref[F444W-xref_sci] "
     ]
    },
    {
     "name": "stdout",
     "output_type": "stream",
     "text": [
      "\u001b[32mPASSED\u001b[0m\u001b[33m [ 12%]\u001b[0m\r\n",
      "../../../miniconda3/envs/jwst_validation_notebooks/lib/python3.9/site-packages/jwst/assign_wcs/tests/test_nircam.py::test_extract_tso_object_fails_without_xref_yref[F444W-yref_sci] "
     ]
    },
    {
     "name": "stdout",
     "output_type": "stream",
     "text": [
      "\u001b[32mPASSED\u001b[0m\u001b[33m [ 13%]\u001b[0m\r\n",
      "../../../miniconda3/envs/jwst_validation_notebooks/lib/python3.9/site-packages/jwst/assign_wcs/tests/test_nircam.py::test_extract_tso_object_fails_without_xref_yref[F322W2-xref_sci] "
     ]
    },
    {
     "name": "stdout",
     "output_type": "stream",
     "text": [
      "\u001b[32mPASSED\u001b[0m\u001b[33m [ 14%]\u001b[0m\r\n",
      "../../../miniconda3/envs/jwst_validation_notebooks/lib/python3.9/site-packages/jwst/assign_wcs/tests/test_nircam.py::test_extract_tso_object_fails_without_xref_yref[F322W2-yref_sci] "
     ]
    },
    {
     "name": "stdout",
     "output_type": "stream",
     "text": [
      "\u001b[32mPASSED\u001b[0m\u001b[33m [ 15%]\u001b[0m\r\n",
      "../../../miniconda3/envs/jwst_validation_notebooks/lib/python3.9/site-packages/jwst/assign_wcs/tests/test_nircam.py::test_extract_tso_object_fails_without_xref_yref[F356W-xref_sci] "
     ]
    },
    {
     "name": "stdout",
     "output_type": "stream",
     "text": [
      "\u001b[32mPASSED\u001b[0m\u001b[33m [ 16%]\u001b[0m\r\n",
      "../../../miniconda3/envs/jwst_validation_notebooks/lib/python3.9/site-packages/jwst/assign_wcs/tests/test_nircam.py::test_extract_tso_object_fails_without_xref_yref[F356W-yref_sci] "
     ]
    },
    {
     "name": "stdout",
     "output_type": "stream",
     "text": [
      "\u001b[32mPASSED\u001b[0m\u001b[33m [ 17%]\u001b[0m\r\n",
      "../../../miniconda3/envs/jwst_validation_notebooks/lib/python3.9/site-packages/jwst/assign_wcs/tests/test_nircam.py::test_traverse_wfss_grisms "
     ]
    },
    {
     "name": "stdout",
     "output_type": "stream",
     "text": [
      "\u001b[32mPASSED\u001b[0m\u001b[33m [ 19%]\u001b[0m\r\n",
      "../../../miniconda3/envs/jwst_validation_notebooks/lib/python3.9/site-packages/jwst/assign_wcs/tests/test_nircam.py::test_traverse_tso_grism "
     ]
    },
    {
     "name": "stdout",
     "output_type": "stream",
     "text": [
      "\u001b[32mPASSED\u001b[0m\u001b[33m [ 20%]\u001b[0m\r\n",
      "../../../miniconda3/envs/jwst_validation_notebooks/lib/python3.9/site-packages/jwst/assign_wcs/tests/test_nircam.py::test_imaging_frames "
     ]
    },
    {
     "name": "stdout",
     "output_type": "stream",
     "text": [
      "\u001b[32mPASSED\u001b[0m\u001b[33m [ 21%]\u001b[0m\r\n",
      "../../../miniconda3/envs/jwst_validation_notebooks/lib/python3.9/site-packages/jwst/assign_wcs/tests/test_nircam.py::test_imaging_distortion "
     ]
    },
    {
     "name": "stdout",
     "output_type": "stream",
     "text": [
      "\u001b[33mXFAIL\u001b[0m\u001b[33m [ 22%]\u001b[0m\r\n",
      "../../../miniconda3/envs/jwst_validation_notebooks/lib/python3.9/site-packages/jwst/assign_wcs/tests/test_niriss.py::test_niriss_wfss_available_frames "
     ]
    },
    {
     "name": "stdout",
     "output_type": "stream",
     "text": [
      "\u001b[32mPASSED\u001b[0m\u001b[33m [ 23%]\u001b[0m\r\n",
      "../../../miniconda3/envs/jwst_validation_notebooks/lib/python3.9/site-packages/jwst/assign_wcs/tests/test_niriss.py::test_traverse_wfss_grisms "
     ]
    },
    {
     "name": "stdout",
     "output_type": "stream",
     "text": [
      "\u001b[32mPASSED\u001b[0m\u001b[33m [ 24%]\u001b[0m\r\n",
      "../../../miniconda3/envs/jwst_validation_notebooks/lib/python3.9/site-packages/jwst/assign_wcs/tests/test_niriss.py::test_fiter_rotation "
     ]
    },
    {
     "name": "stdout",
     "output_type": "stream",
     "text": [
      "\u001b[32mPASSED\u001b[0m\u001b[33m [ 25%]\u001b[0m\r\n",
      "../../../miniconda3/envs/jwst_validation_notebooks/lib/python3.9/site-packages/jwst/assign_wcs/tests/test_niriss.py::test_imaging_frames "
     ]
    },
    {
     "name": "stdout",
     "output_type": "stream",
     "text": [
      "\u001b[32mPASSED\u001b[0m\u001b[33m [ 26%]\u001b[0m\r\n",
      "../../../miniconda3/envs/jwst_validation_notebooks/lib/python3.9/site-packages/jwst/assign_wcs/tests/test_niriss.py::test_imaging_distortion "
     ]
    },
    {
     "name": "stdout",
     "output_type": "stream",
     "text": [
      "\u001b[33mXFAIL\u001b[0m\u001b[33m [ 28%]\u001b[0m\r\n",
      "../../../miniconda3/envs/jwst_validation_notebooks/lib/python3.9/site-packages/jwst/assign_wcs/tests/test_nirspec.py::test_nirspec_imaging "
     ]
    },
    {
     "name": "stdout",
     "output_type": "stream",
     "text": [
      "\u001b[32mPASSED\u001b[0m\u001b[33m [ 29%]\u001b[0m\r\n",
      "../../../miniconda3/envs/jwst_validation_notebooks/lib/python3.9/site-packages/jwst/assign_wcs/tests/test_nirspec.py::test_nirspec_ifu_against_esa "
     ]
    },
    {
     "name": "stdout",
     "output_type": "stream",
     "text": [
      "\u001b[32mPASSED\u001b[0m\u001b[33m [ 30%]\u001b[0m\r\n",
      "../../../miniconda3/envs/jwst_validation_notebooks/lib/python3.9/site-packages/jwst/assign_wcs/tests/test_nirspec.py::test_nirspec_fs_esa "
     ]
    },
    {
     "name": "stdout",
     "output_type": "stream",
     "text": [
      "\u001b[32mPASSED\u001b[0m\u001b[33m [ 31%]\u001b[0m\r\n",
      "../../../miniconda3/envs/jwst_validation_notebooks/lib/python3.9/site-packages/jwst/assign_wcs/tests/test_nirspec.py::test_correct_tilt \u001b[32mPASSED\u001b[0m\u001b[33m [ 32%]\u001b[0m\r\n",
      "../../../miniconda3/envs/jwst_validation_notebooks/lib/python3.9/site-packages/jwst/assign_wcs/tests/test_nirspec.py::test_msa_configuration_normal \u001b[32mPASSED\u001b[0m\u001b[33m [ 33%]\u001b[0m\r\n",
      "../../../miniconda3/envs/jwst_validation_notebooks/lib/python3.9/site-packages/jwst/assign_wcs/tests/test_nirspec.py::test_msa_configuration_no_background "
     ]
    },
    {
     "name": "stdout",
     "output_type": "stream",
     "text": [
      "\u001b[32mPASSED\u001b[0m\u001b[33m [ 34%]\u001b[0m\r\n",
      "../../../miniconda3/envs/jwst_validation_notebooks/lib/python3.9/site-packages/jwst/assign_wcs/tests/test_nirspec.py::test_msa_configuration_all_background \u001b[32mPASSED\u001b[0m\u001b[33m [ 35%]\u001b[0m\r\n",
      "../../../miniconda3/envs/jwst_validation_notebooks/lib/python3.9/site-packages/jwst/assign_wcs/tests/test_nirspec.py::test_msa_configuration_row_skipped \u001b[32mPASSED\u001b[0m\u001b[33m [ 37%]\u001b[0m\r\n",
      "../../../miniconda3/envs/jwst_validation_notebooks/lib/python3.9/site-packages/jwst/assign_wcs/tests/test_nirspec.py::test_msa_configuration_multiple_returns \u001b[32mPASSED\u001b[0m\u001b[33m [ 38%]\u001b[0m\r\n",
      "../../../miniconda3/envs/jwst_validation_notebooks/lib/python3.9/site-packages/jwst/assign_wcs/tests/test_nirspec.py::test_shutter_state[open_shutters0-24-x] \u001b[32mPASSED\u001b[0m\u001b[33m [ 39%]\u001b[0m\r\n",
      "../../../miniconda3/envs/jwst_validation_notebooks/lib/python3.9/site-packages/jwst/assign_wcs/tests/test_nirspec.py::test_shutter_state[open_shutters1-23-x1] \u001b[32mPASSED\u001b[0m\u001b[33m [ 40%]\u001b[0m\r\n",
      "../../../miniconda3/envs/jwst_validation_notebooks/lib/python3.9/site-packages/jwst/assign_wcs/tests/test_nirspec.py::test_shutter_state[open_shutters2-25-110x01] \u001b[32mPASSED\u001b[0m\u001b[33m [ 41%]\u001b[0m\r\n",
      "../../../miniconda3/envs/jwst_validation_notebooks/lib/python3.9/site-packages/jwst/assign_wcs/tests/test_nirspec.py::test_shutter_state[open_shutters3-28-110101x] \u001b[32mPASSED\u001b[0m\u001b[33m [ 42%]\u001b[0m\r\n",
      "../../../miniconda3/envs/jwst_validation_notebooks/lib/python3.9/site-packages/jwst/assign_wcs/tests/test_nirspec.py::test_slit_projection_on_detector "
     ]
    },
    {
     "name": "stdout",
     "output_type": "stream",
     "text": [
      "\u001b[32mPASSED\u001b[0m\u001b[33m [ 43%]\u001b[0m\r\n",
      "../../../miniconda3/envs/jwst_validation_notebooks/lib/python3.9/site-packages/jwst/assign_wcs/tests/test_nirspec.py::test_missing_msa_file "
     ]
    },
    {
     "name": "stdout",
     "output_type": "stream",
     "text": [
      "\u001b[32mPASSED\u001b[0m\u001b[33m [ 44%]\u001b[0m\r\n",
      "../../../miniconda3/envs/jwst_validation_notebooks/lib/python3.9/site-packages/jwst/assign_wcs/tests/test_nirspec.py::test_open_slits "
     ]
    },
    {
     "name": "stdout",
     "output_type": "stream",
     "text": [
      "\u001b[32mPASSED\u001b[0m\u001b[33m [ 46%]\u001b[0m\r\n",
      "../../../miniconda3/envs/jwst_validation_notebooks/lib/python3.9/site-packages/jwst/assign_wcs/tests/test_nirspec.py::test_shutter_size_on_sky "
     ]
    },
    {
     "name": "stdout",
     "output_type": "stream",
     "text": [
      "\u001b[32mPASSED\u001b[0m\u001b[33m [ 47%]\u001b[0m\r\n",
      "../../../miniconda3/envs/jwst_validation_notebooks/lib/python3.9/site-packages/jwst/assign_wcs/tests/test_nirspec.py::test_functional_fs_msa[fs] "
     ]
    },
    {
     "name": "stdout",
     "output_type": "stream",
     "text": [
      "\u001b[32mPASSED\u001b[0m\u001b[33m [ 48%]\u001b[0m\r\n",
      "../../../miniconda3/envs/jwst_validation_notebooks/lib/python3.9/site-packages/jwst/assign_wcs/tests/test_nirspec.py::test_functional_fs_msa[msa] "
     ]
    },
    {
     "name": "stdout",
     "output_type": "stream",
     "text": [
      "\u001b[32mPASSED\u001b[0m\u001b[33m [ 49%]\u001b[0m\r\n",
      "../../../miniconda3/envs/jwst_validation_notebooks/lib/python3.9/site-packages/jwst/assign_wcs/tests/test_nirspec.py::test_functional_ifu_grating "
     ]
    },
    {
     "name": "stdout",
     "output_type": "stream",
     "text": [
      "\u001b[32mPASSED\u001b[0m\u001b[33m [ 50%]\u001b[0m\r\n",
      "../../../miniconda3/envs/jwst_validation_notebooks/lib/python3.9/site-packages/jwst/assign_wcs/tests/test_nirspec.py::test_functional_ifu_prism "
     ]
    },
    {
     "name": "stdout",
     "output_type": "stream",
     "text": [
      "\u001b[32mPASSED\u001b[0m\u001b[33m [ 51%]\u001b[0m"
     ]
    },
    {
     "name": "stdout",
     "output_type": "stream",
     "text": [
      "\r\n",
      "../../../miniconda3/envs/jwst_validation_notebooks/lib/python3.9/site-packages/jwst/assign_wcs/tests/test_schemas.py::test_distortion_schema \u001b[32mPASSED\u001b[0m\u001b[33m [ 52%]\u001b[0m\r\n",
      "../../../miniconda3/envs/jwst_validation_notebooks/lib/python3.9/site-packages/jwst/assign_wcs/tests/test_schemas.py::test_distortion_strict_validation \u001b[32mPASSED\u001b[0m\u001b[33m [ 53%]\u001b[0m\r\n",
      "../../../miniconda3/envs/jwst_validation_notebooks/lib/python3.9/site-packages/jwst/assign_wcs/tests/test_schemas.py::test_distortion_schema_bad_valueerror \u001b[32mPASSED\u001b[0m\u001b[33m [ 55%]\u001b[0m\r\n",
      "../../../miniconda3/envs/jwst_validation_notebooks/lib/python3.9/site-packages/jwst/assign_wcs/tests/test_schemas.py::test_distortion_schema_bad_assertionerror \u001b[32mPASSED\u001b[0m\u001b[33m [ 56%]\u001b[0m\r\n",
      "../../../miniconda3/envs/jwst_validation_notebooks/lib/python3.9/site-packages/jwst/assign_wcs/tests/test_schemas.py::test_simplemodel_subclasses[CameraModel] \u001b[32mPASSED\u001b[0m\u001b[33m [ 57%]\u001b[0m\r\n",
      "../../../miniconda3/envs/jwst_validation_notebooks/lib/python3.9/site-packages/jwst/assign_wcs/tests/test_schemas.py::test_simplemodel_subclasses[CollimatorModel] \u001b[32mPASSED\u001b[0m\u001b[33m [ 58%]\u001b[0m\r\n",
      "../../../miniconda3/envs/jwst_validation_notebooks/lib/python3.9/site-packages/jwst/assign_wcs/tests/test_schemas.py::test_simplemodel_subclasses[DisperserModel] "
     ]
    },
    {
     "name": "stdout",
     "output_type": "stream",
     "text": [
      "\u001b[32mPASSED\u001b[0m\u001b[33m [ 59%]\u001b[0m\r\n",
      "../../../miniconda3/envs/jwst_validation_notebooks/lib/python3.9/site-packages/jwst/assign_wcs/tests/test_schemas.py::test_simplemodel_subclasses[DistortionMRSModel] \u001b[32mPASSED\u001b[0m\u001b[33m [ 60%]\u001b[0m\r\n",
      "../../../miniconda3/envs/jwst_validation_notebooks/lib/python3.9/site-packages/jwst/assign_wcs/tests/test_schemas.py::test_simplemodel_subclasses[DistortionModel] \u001b[32mPASSED\u001b[0m\u001b[33m [ 61%]\u001b[0m\r\n",
      "../../../miniconda3/envs/jwst_validation_notebooks/lib/python3.9/site-packages/jwst/assign_wcs/tests/test_schemas.py::test_simplemodel_subclasses[FOREModel] \u001b[32mPASSED\u001b[0m\u001b[33m [ 62%]\u001b[0m\r\n",
      "../../../miniconda3/envs/jwst_validation_notebooks/lib/python3.9/site-packages/jwst/assign_wcs/tests/test_schemas.py::test_simplemodel_subclasses[FPAModel] \u001b[32mPASSED\u001b[0m\u001b[33m [ 64%]\u001b[0m\r\n",
      "../../../miniconda3/envs/jwst_validation_notebooks/lib/python3.9/site-packages/jwst/assign_wcs/tests/test_schemas.py::test_simplemodel_subclasses[FilteroffsetModel] \u001b[32mPASSED\u001b[0m\u001b[33m [ 65%]\u001b[0m\r\n",
      "../../../miniconda3/envs/jwst_validation_notebooks/lib/python3.9/site-packages/jwst/assign_wcs/tests/test_schemas.py::test_simplemodel_subclasses[IFUFOREModel] \u001b[32mPASSED\u001b[0m\u001b[33m [ 66%]\u001b[0m\r\n",
      "../../../miniconda3/envs/jwst_validation_notebooks/lib/python3.9/site-packages/jwst/assign_wcs/tests/test_schemas.py::test_simplemodel_subclasses[IFUPostModel] \u001b[32mPASSED\u001b[0m\u001b[33m [ 67%]\u001b[0m\r\n",
      "../../../miniconda3/envs/jwst_validation_notebooks/lib/python3.9/site-packages/jwst/assign_wcs/tests/test_schemas.py::test_simplemodel_subclasses[IFUSlicerModel] \u001b[32mPASSED\u001b[0m\u001b[33m [ 68%]\u001b[0m\r\n",
      "../../../miniconda3/envs/jwst_validation_notebooks/lib/python3.9/site-packages/jwst/assign_wcs/tests/test_schemas.py::test_simplemodel_subclasses[MSAModel] "
     ]
    },
    {
     "name": "stdout",
     "output_type": "stream",
     "text": [
      "\u001b[32mPASSED\u001b[0m\u001b[33m [ 69%]\u001b[0m\r\n",
      "../../../miniconda3/envs/jwst_validation_notebooks/lib/python3.9/site-packages/jwst/assign_wcs/tests/test_schemas.py::test_simplemodel_subclasses[NIRCAMGrismModel] \u001b[32mPASSED\u001b[0m\u001b[33m [ 70%]\u001b[0m\r\n",
      "../../../miniconda3/envs/jwst_validation_notebooks/lib/python3.9/site-packages/jwst/assign_wcs/tests/test_schemas.py::test_simplemodel_subclasses[NIRISSGrismModel] \u001b[32mPASSED\u001b[0m\u001b[33m [ 71%]\u001b[0m\r\n",
      "../../../miniconda3/envs/jwst_validation_notebooks/lib/python3.9/site-packages/jwst/assign_wcs/tests/test_schemas.py::test_simplemodel_subclasses[OTEModel] \u001b[32mPASSED\u001b[0m\u001b[33m [ 73%]\u001b[0m\r\n",
      "../../../miniconda3/envs/jwst_validation_notebooks/lib/python3.9/site-packages/jwst/assign_wcs/tests/test_schemas.py::test_simplemodel_subclasses[ReferenceFileModel] \u001b[32mPASSED\u001b[0m\u001b[33m [ 74%]\u001b[0m\r\n",
      "../../../miniconda3/envs/jwst_validation_notebooks/lib/python3.9/site-packages/jwst/assign_wcs/tests/test_schemas.py::test_simplemodel_subclasses[RegionsModel] \u001b[32mPASSED\u001b[0m\u001b[33m [ 75%]\u001b[0m\r\n",
      "../../../miniconda3/envs/jwst_validation_notebooks/lib/python3.9/site-packages/jwst/assign_wcs/tests/test_schemas.py::test_simplemodel_subclasses[SpecwcsModel] \u001b[32mPASSED\u001b[0m\u001b[33m [ 76%]\u001b[0m\r\n",
      "../../../miniconda3/envs/jwst_validation_notebooks/lib/python3.9/site-packages/jwst/assign_wcs/tests/test_schemas.py::test_simplemodel_subclasses[WaveCorrModel] \u001b[32mPASSED\u001b[0m\u001b[33m [ 77%]\u001b[0m\r\n",
      "../../../miniconda3/envs/jwst_validation_notebooks/lib/python3.9/site-packages/jwst/assign_wcs/tests/test_schemas.py::test_simplemodel_subclasses[WavelengthrangeModel] \u001b[32mPASSED\u001b[0m\u001b[33m [ 78%]\u001b[0m\r\n",
      "../../../miniconda3/envs/jwst_validation_notebooks/lib/python3.9/site-packages/jwst/assign_wcs/tests/test_util.py::test_transform_bbox_from_shape_2d "
     ]
    },
    {
     "name": "stdout",
     "output_type": "stream",
     "text": [
      "\u001b[32mPASSED\u001b[0m\u001b[33m [ 79%]\u001b[0m\r\n",
      "../../../miniconda3/envs/jwst_validation_notebooks/lib/python3.9/site-packages/jwst/assign_wcs/tests/test_util.py::test_transform_bbox_from_shape_3d \u001b[32mPASSED\u001b[0m\u001b[33m [ 80%]\u001b[0m\r\n",
      "../../../miniconda3/envs/jwst_validation_notebooks/lib/python3.9/site-packages/jwst/assign_wcs/tests/test_util.py::test_wcs_bbox_from_shape_2d \u001b[32mPASSED\u001b[0m\u001b[33m [ 82%]\u001b[0m\r\n",
      "../../../miniconda3/envs/jwst_validation_notebooks/lib/python3.9/site-packages/jwst/assign_wcs/tests/test_util.py::test_wcs_bbox_from_shape_3d \u001b[32mPASSED\u001b[0m\u001b[33m [ 83%]\u001b[0m\r\n",
      "../../../miniconda3/envs/jwst_validation_notebooks/lib/python3.9/site-packages/jwst/assign_wcs/tests/test_util.py::test_create_grism_objects "
     ]
    },
    {
     "name": "stdout",
     "output_type": "stream",
     "text": [
      "\u001b[32mPASSED\u001b[0m\u001b[33m [ 84%]\u001b[0m\r\n",
      "../../../miniconda3/envs/jwst_validation_notebooks/lib/python3.9/site-packages/jwst/assign_wcs/tests/test_util.py::test_subarray_transform "
     ]
    },
    {
     "name": "stdout",
     "output_type": "stream",
     "text": [
      "\u001b[32mPASSED\u001b[0m\u001b[33m [ 85%]\u001b[0m\r\n",
      "../../../miniconda3/envs/jwst_validation_notebooks/lib/python3.9/site-packages/jwst/assign_wcs/tests/test_util.py::test_bounding_box_from_subarray \u001b[32mPASSED\u001b[0m\u001b[33m [ 86%]\u001b[0m\r\n",
      "../../../miniconda3/envs/jwst_validation_notebooks/lib/python3.9/site-packages/jwst/assign_wcs/tests/test_wcs.py::test_roll_angle \u001b[32mPASSED\u001b[0m\u001b[33m [ 87%]\u001b[0m\r\n",
      "../../../miniconda3/envs/jwst_validation_notebooks/lib/python3.9/site-packages/jwst/assign_wcs/tests/test_wcs.py::test_v23_to_sky \u001b[32mPASSED\u001b[0m\u001b[33m [ 88%]\u001b[0m\r\n",
      "../../../miniconda3/envs/jwst_validation_notebooks/lib/python3.9/site-packages/jwst/assign_wcs/tests/test_wcs.py::test_frame_from_model_3d "
     ]
    },
    {
     "name": "stdout",
     "output_type": "stream",
     "text": [
      "\u001b[32mPASSED\u001b[0m\u001b[33m [ 89%]\u001b[0m\r\n",
      "../../../miniconda3/envs/jwst_validation_notebooks/lib/python3.9/site-packages/jwst/assign_wcs/tests/test_wcs.py::test_frame_from_model_2d "
     ]
    },
    {
     "name": "stdout",
     "output_type": "stream",
     "text": [
      "\u001b[32mPASSED\u001b[0m\u001b[33m [ 91%]\u001b[0m\r\n",
      "../../../miniconda3/envs/jwst_validation_notebooks/lib/python3.9/site-packages/jwst/assign_wcs/tests/test_wcs.py::test_create_fitswcs "
     ]
    },
    {
     "name": "stdout",
     "output_type": "stream",
     "text": [
      "\u001b[32mPASSED\u001b[0m\u001b[33m [ 92%]\u001b[0m\r\n",
      "../../../miniconda3/envs/jwst_validation_notebooks/lib/python3.9/site-packages/jwst/assign_wcs/tests/test_wcs.py::test_sip_approx "
     ]
    },
    {
     "name": "stdout",
     "output_type": "stream",
     "text": [
      "\u001b[32mPASSED\u001b[0m\u001b[33m [ 93%]\u001b[0m"
     ]
    },
    {
     "name": "stdout",
     "output_type": "stream",
     "text": [
      "\r\n",
      "../../../miniconda3/envs/jwst_validation_notebooks/lib/python3.9/site-packages/jwst/assign_wcs/tests/test_wfss.py::test_NIRCAMForwardRowGrismDispersion \u001b[32mPASSED\u001b[0m\u001b[33m [ 94%]\u001b[0m\r\n",
      "../../../miniconda3/envs/jwst_validation_notebooks/lib/python3.9/site-packages/jwst/assign_wcs/tests/test_wfss.py::test_NIRCAMForwardColumnGrismDispersion "
     ]
    },
    {
     "name": "stdout",
     "output_type": "stream",
     "text": [
      "\u001b[32mPASSED\u001b[0m\u001b[33m [ 95%]\u001b[0m\r\n",
      "../../../miniconda3/envs/jwst_validation_notebooks/lib/python3.9/site-packages/jwst/assign_wcs/tests/test_wfss.py::test_NIRCAMBackwardDispersion \u001b[32mPASSED\u001b[0m\u001b[33m [ 96%]\u001b[0m\r\n",
      "../../../miniconda3/envs/jwst_validation_notebooks/lib/python3.9/site-packages/jwst/assign_wcs/tests/test_wfss.py::test_NIRISSBackwardDispersion "
     ]
    },
    {
     "name": "stdout",
     "output_type": "stream",
     "text": [
      "\u001b[32mPASSED\u001b[0m\u001b[33m [ 97%]\u001b[0m\r\n",
      "../../../miniconda3/envs/jwst_validation_notebooks/lib/python3.9/site-packages/jwst/assign_wcs/tests/test_wfss.py::test_NIRISSForwardRowGrismDispersion \u001b[32mPASSED\u001b[0m\u001b[33m [ 98%]\u001b[0m\r\n",
      "../../../miniconda3/envs/jwst_validation_notebooks/lib/python3.9/site-packages/jwst/assign_wcs/tests/test_wfss.py::test_NIRISSForwardColumnGrismDispersion "
     ]
    },
    {
     "name": "stdout",
     "output_type": "stream",
     "text": [
      "\u001b[32mPASSED\u001b[0m\u001b[33m [100%]\u001b[0m\r\n",
      "\r\n",
      "\u001b[33m=============================== warnings summary ===============================\u001b[0m\r\n",
      "miniconda3/envs/jwst_validation_notebooks/lib/python3.9/site-packages/jwst/assign_wcs/tests/test_miri.py::test_miri_mrs_12A\r\n",
      "miniconda3/envs/jwst_validation_notebooks/lib/python3.9/site-packages/jwst/assign_wcs/tests/test_miri.py::test_miri_mrs_12B\r\n",
      "miniconda3/envs/jwst_validation_notebooks/lib/python3.9/site-packages/jwst/assign_wcs/tests/test_miri.py::test_miri_mrs_12C\r\n",
      "miniconda3/envs/jwst_validation_notebooks/lib/python3.9/site-packages/jwst/assign_wcs/tests/test_miri.py::test_miri_mrs_34A\r\n",
      "miniconda3/envs/jwst_validation_notebooks/lib/python3.9/site-packages/jwst/assign_wcs/tests/test_miri.py::test_miri_mrs_34B\r\n",
      "miniconda3/envs/jwst_validation_notebooks/lib/python3.9/site-packages/jwst/assign_wcs/tests/test_miri.py::test_miri_mrs_34C\r\n",
      "  /data1/jenkins/workspace/Notebooks/jwst_validation_notebooks_spacetelescope/miniconda3/envs/jwst_validation_notebooks/lib/python3.9/site-packages/gwcs/selector.py:185: DeprecationWarning: `np.int` is a deprecated alias for the builtin `int`. To silence this warning, use `int` by itself. Doing this will not modify any behavior and is safe. When replacing `np.int`, you may wish to use e.g. `np.int64` or `np.int32` to specify the precision. If you wish to review your current use, check the release note link for additional information.\r\n",
      "  Deprecated in NumPy 1.20; for more details and guidance: https://numpy.org/devdocs/release/1.20.0-notes.html#deprecations\r\n",
      "    mapper = np.asanyarray(mapper, dtype=np.int)\r\n",
      "\r\n",
      "miniconda3/envs/jwst_validation_notebooks/lib/python3.9/site-packages/jwst/assign_wcs/tests/test_nircam.py::test_traverse_wfss_grisms\r\n",
      "miniconda3/envs/jwst_validation_notebooks/lib/python3.9/site-packages/jwst/assign_wcs/tests/test_nircam.py::test_traverse_tso_grism\r\n",
      "miniconda3/envs/jwst_validation_notebooks/lib/python3.9/site-packages/jwst/assign_wcs/tests/test_niriss.py::test_traverse_wfss_grisms\r\n",
      "miniconda3/envs/jwst_validation_notebooks/lib/python3.9/site-packages/jwst/assign_wcs/tests/test_niriss.py::test_fiter_rotation\r\n",
      "miniconda3/envs/jwst_validation_notebooks/lib/python3.9/site-packages/jwst/assign_wcs/tests/test_wfss.py::test_NIRCAMForwardRowGrismDispersion\r\n",
      "miniconda3/envs/jwst_validation_notebooks/lib/python3.9/site-packages/jwst/assign_wcs/tests/test_wfss.py::test_NIRCAMForwardColumnGrismDispersion\r\n",
      "miniconda3/envs/jwst_validation_notebooks/lib/python3.9/site-packages/jwst/assign_wcs/tests/test_wfss.py::test_NIRCAMBackwardDispersion\r\n",
      "miniconda3/envs/jwst_validation_notebooks/lib/python3.9/site-packages/jwst/assign_wcs/tests/test_wfss.py::test_NIRISSForwardRowGrismDispersion\r\n",
      "miniconda3/envs/jwst_validation_notebooks/lib/python3.9/site-packages/jwst/assign_wcs/tests/test_wfss.py::test_NIRISSForwardColumnGrismDispersion\r\n",
      "  /data1/jenkins/workspace/Notebooks/jwst_validation_notebooks_spacetelescope/miniconda3/envs/jwst_validation_notebooks/lib/python3.9/site-packages/astropy/modeling/math_functions.py:63: AstropyUserWarning: Models in math_functions are experimental.\r\n",
      "    warnings.warn(\"Models in math_functions are experimental.\", AstropyUserWarning)\r\n",
      "\r\n",
      "miniconda3/envs/jwst_validation_notebooks/lib/python3.9/site-packages/jwst/assign_wcs/tests/test_nirspec.py: 11 warnings\r\n",
      "  /data1/jenkins/workspace/Notebooks/jwst_validation_notebooks_spacetelescope/miniconda3/envs/jwst_validation_notebooks/lib/python3.9/site-packages/jwst/assign_wcs/nirspec.py:707: DeprecationWarning: `np.str` is a deprecated alias for the builtin `str`. To silence this warning, use `str` by itself. Doing this will not modify any behavior and is safe. If you specifically wanted the numpy scalar type, use `np.str_` here.\r\n",
      "  Deprecated in NumPy 1.20; for more details and guidance: https://numpy.org/devdocs/release/1.20.0-notes.html#deprecations\r\n",
      "    all_shutters = all_shutters.astype(np.str)\r\n",
      "\r\n",
      "miniconda3/envs/jwst_validation_notebooks/lib/python3.9/site-packages/jwst/assign_wcs/tests/test_nirspec.py::test_functional_ifu_"
     ]
    },
    {
     "name": "stdout",
     "output_type": "stream",
     "text": [
      "prism\r\n",
      "  /data1/jenkins/workspace/Notebooks/jwst_validation_notebooks_spacetelescope/miniconda3/envs/jwst_validation_notebooks/lib/python3.9/site-packages/jwst/transforms/models.py:227: DeprecationWarning: `np.float` is a deprecated alias for the builtin `float`. To silence this warning, use `float` by itself. Doing this will not modify any behavior and is safe. If you specifically wanted the numpy scalar type, use `np.float64` here.\r\n",
      "  Deprecated in NumPy 1.20; for more details and guidance: https://numpy.org/devdocs/release/1.20.0-notes.html#deprecations\r\n",
      "    self.kcoef = np.array(kcoef, dtype=np.float)\r\n",
      "\r\n",
      "miniconda3/envs/jwst_validation_notebooks/lib/python3.9/site-packages/jwst/assign_wcs/tests/test_nirspec.py::test_functional_ifu_prism\r\n",
      "  /data1/jenkins/workspace/Notebooks/jwst_validation_notebooks_spacetelescope/miniconda3/envs/jwst_validation_notebooks/lib/python3.9/site-packages/jwst/transforms/models.py:228: DeprecationWarning: `np.float` is a deprecated alias for the builtin `float`. To silence this warning, use `float` by itself. Doing this will not modify any behavior and is safe. If you specifically wanted the numpy scalar type, use `np.float64` here.\r\n",
      "  Deprecated in NumPy 1.20; for more details and guidance: https://numpy.org/devdocs/release/1.20.0-notes.html#deprecations\r\n",
      "    self.lcoef = np.array(lcoef, dtype=np.float)\r\n",
      "\r\n",
      "miniconda3/envs/jwst_validation_notebooks/lib/python3.9/site-packages/jwst/assign_wcs/tests/test_nirspec.py::test_functional_ifu_prism\r\n",
      "  /data1/jenkins/workspace/Notebooks/jwst_validation_notebooks_spacetelescope/miniconda3/envs/jwst_validation_notebooks/lib/python3.9/site-packages/jwst/transforms/models.py:229: DeprecationWarning: `np.float` is a deprecated alias for the builtin `float`. To silence this warning, use `float` by itself. Doing this will not modify any behavior and is safe. If you specifically wanted the numpy scalar type, use `np.float64` here.\r\n",
      "  Deprecated in NumPy 1.20; for more details and guidance: https://numpy.org/devdocs/release/1.20.0-notes.html#deprecations\r\n",
      "    self.tcoef = np.array(tcoef, dtype=np.float)\r\n",
      "\r\n",
      "miniconda3/envs/jwst_validation_notebooks/lib/python3.9/site-packages/jwst/assign_wcs/tests/test_wcs.py::test_v23_to_sky\r\n",
      "miniconda3/envs/jwst_validation_notebooks/lib/python3.9/site-packages/jwst/assign_wcs/tests/test_wcs.py::test_v23_to_sky\r\n",
      "miniconda3/envs/jwst_validation_notebooks/lib/python3.9/site-packages/jwst/assign_wcs/tests/test_wcs.py::test_v23_to_sky\r\n",
      "miniconda3/envs/jwst_validation_notebooks/lib/python3.9/site-packages/jwst/assign_wcs/tests/test_wcs.py::test_v23_to_sky\r\n",
      "miniconda3/envs/jwst_validation_notebooks/lib/python3.9/site-packages/jwst/assign_wcs/tests/test_wcs.py::test_v23_to_sky\r\n",
      "  /data1/jenkins/workspace/Notebooks/jwst_validation_notebooks_spacetelescope/miniconda3/envs/jwst_validation_notebooks/lib/python3.9/site-packages/jwst/transforms/models.py:610: DeprecationWarning: `np.float` is a deprecated alias for the builtin `float`. To silence this warning, use `float` by itself. Doing this will not modify any behavior and is safe. If you specifically wanted the numpy scalar type, use `np.float64` here.\r\n",
      "  Deprecated in NumPy 1.20; for more details and guidance: https://numpy.org/devdocs/release/1.20.0-notes.html#deprecations\r\n",
      "    matrix = np.zeros((3, 3), dtype=np.float)\r\n",
      "\r\n",
      "miniconda3/envs/jwst_validation_notebooks/lib/python3.9/site-packages/jwst/assign_wcs/tests/test_wcs.py::test_sip_approx\r\n",
      "  /data1/jenkins/workspace/Notebooks/jwst_validation_notebooks_spacetelescope/miniconda3/envs/jwst_validation_notebooks/lib/python3.9/site-packages/gwcs/utils.py:72: DeprecationWarning: `np.int` is a deprecated alias for the builtin `int`. To silence this warning, use `int` by itself. Doing this will not modify any behavior and is safe. When replacing `np.int`, you may wish to use e.g. `np.int64` or `np.int32` to specify the precision. If you wish to review your current use, check the release note link for additional information.\r\n",
      "  Deprecated in NumPy 1.20; for more details and guidance: https://numpy.org/devdocs/release/1.20.0-notes.html#deprecations\r\n",
      "    indx = np.asarray(np.floor(np.asarray(value) + 0.5), dtype=np.int)\r\n",
      "\r\n",
      "-- Docs: https://docs.pytest.org/en/stable/warnings.html\r\n",
      "- generated html file: file:///data1/jenkins/workspace/Notebooks/jwst_validation_notebooks_spacetelescope/jwst_validation_notebooks/regression_test/assign_wcs/tmpdir/unit_report.html -\r\n",
      "\u001b[33m============ \u001b[32m87 passed\u001b[0m, \u001b[33m\u001b[1m2 xfailed\u001b[0m, \u001b[33m\u001b[1m35 warnings\u001b[0m\u001b[33m in 60.70s (0:01:00)\u001b[0m\u001b[33m =============\u001b[0m\r\n"
     ]
    }
   ],
   "source": [
    "jwst_dir = os.path.dirname(jwst.__file__)\n",
    "wcs = os.path.join(jwst_dir, 'assign_wcs')\n",
    "associations = os.path.join(jwst_dir, 'associations')\n",
    "datamodels = os.path.join(jwst_dir, 'datamodels')\n",
    "stpipe = os.path.join(jwst_dir, 'stpipe')\n",
    "regtest = os.path.join(jwst_dir, 'regtest')\n",
    "\n",
    "with tempfile.TemporaryDirectory() as tmpdir:\n",
    "    !pytest --bigdata {wcs} -v --ignore={associations} --ignore={datamodels} --ignore={stpipe} --ignore={regtest} --html=tmpdir/unit_report.html --self-contained-html\n",
    "    report = display_report('tmpdir/unit_report.html')\n"
   ]
  },
  {
   "cell_type": "code",
   "execution_count": 4,
   "metadata": {
    "execution": {
     "iopub.execute_input": "2021-02-01T03:33:43.866143Z",
     "iopub.status.busy": "2021-02-01T03:33:43.865795Z",
     "iopub.status.idle": "2021-02-01T03:33:43.868801Z",
     "shell.execute_reply": "2021-02-01T03:33:43.868382Z"
    }
   },
   "outputs": [
    {
     "data": {
      "text/html": [
       "\n",
       "        <iframe\n",
       "            width=\"700\"\n",
       "            height=\"600\"\n",
       "            src=\"tmpdir/unit_report.html\"\n",
       "            frameborder=\"0\"\n",
       "            allowfullscreen\n",
       "        ></iframe>\n",
       "        "
      ],
      "text/plain": [
       "<IPython.lib.display.IFrame at 0x7fb0f80cc9a0>"
      ]
     },
     "execution_count": 1,
     "metadata": {},
     "output_type": "execute_result"
    }
   ],
   "source": [
    "report"
   ]
  },
  {
   "cell_type": "markdown",
   "metadata": {},
   "source": [
    "<a id=\"about\"></a>\n",
    "## About This Notebook\n",
    "**Author:** Alicia Canipe, Staff Scientist, NIRCam\n",
    "<br>**Updated On:** 01/07/2021"
   ]
  },
  {
   "cell_type": "markdown",
   "metadata": {},
   "source": [
    "[Top of Page](#title_ID)\n",
    "<img style=\"float: right;\" src=\"./stsci_pri_combo_mark_horizonal_white_bkgd.png\" alt=\"stsci_pri_combo_mark_horizonal_white_bkgd\" width=\"200px\"/> "
   ]
  }
 ],
 "metadata": {
  "kernelspec": {
   "display_name": "Python 3",
   "language": "python",
   "name": "python3"
  },
  "language_info": {
   "codemirror_mode": {
    "name": "ipython",
    "version": 3
   },
   "file_extension": ".py",
   "mimetype": "text/x-python",
   "name": "python",
   "nbconvert_exporter": "python",
   "pygments_lexer": "ipython3",
   "version": "3.9.1"
  }
 },
 "nbformat": 4,
 "nbformat_minor": 1
}
