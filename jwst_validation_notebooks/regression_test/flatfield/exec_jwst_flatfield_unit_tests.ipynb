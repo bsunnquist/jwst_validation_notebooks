{
 "cells": [
  {
   "cell_type": "markdown",
   "metadata": {},
   "source": [
    "<a id=\"title_ID\"></a>\n",
    "# JWST calwebb_image2 and calwebb_spec2, flatfield unit tests\n",
    "\n",
    "<span style=\"color:red\"> **Instruments Affected**</span>: NIRCam, NIRISS, NIRSpec, MIRI, FGS\n",
    "\n",
    "### Table of Contents\n",
    "\n",
    "<div style=\"text-align: left\"> \n",
    "    \n",
    "<br> [Introduction](#intro)\n",
    "<br> [JWST Unit Tests](#unit)\n",
    "<br> [Defining Terms](#terms)\n",
    "<br> [Test Description](#description)\n",
    "<br> [Data Description](#data_descr)\n",
    "<br> [Imports](#imports)\n",
    "<br> [Convenience Functions](#functions)\n",
    "<br> [Perform Tests](#testing) \n",
    "<br> [About This Notebook](#about)\n",
    "<br>    \n",
    "\n",
    "</div>"
   ]
  },
  {
   "cell_type": "markdown",
   "metadata": {},
   "source": [
    "<a id=\"intro\"></a>\n",
    "# Introduction\n",
    "\n",
    "This is the validation notebook that displays the unit tests for the Flat Field step in calwebb_image2 and calwebb_spec2. This notebook runs and displays the unit tests that are performed as a part of the normal software continuous integration process. For more information on the pipeline visit the links below. \n",
    "\n",
    "* Pipeline description: https://jwst-pipeline.readthedocs.io/en/latest/jwst/flatfield/index.html\n",
    "\n",
    "* Pipeline code: https://github.com/spacetelescope/jwst/tree/master/jwst/\n",
    "\n",
    "[Top of Page](#title_ID)"
   ]
  },
  {
   "cell_type": "markdown",
   "metadata": {},
   "source": [
    "<a id=\"unit\"></a>\n",
    "# JWST Unit Tests\n",
    "\n",
    "JWST unit tests are located in the \"tests\" folder for each pipeline step within the [GitHub repository](https://github.com/spacetelescope/jwst/tree/master/jwst/), e.g., ```jwst/flatfield/tests```.\n",
    "\n",
    "* Unit test README: https://github.com/spacetelescope/jwst#unit-tests\n",
    "\n",
    "\n",
    "[Top of Page](#title_ID)"
   ]
  },
  {
   "cell_type": "markdown",
   "metadata": {},
   "source": [
    "<a id=\"terms\"></a>\n",
    "# Defining Terms\n",
    "\n",
    "These are terms or acronymns used in this notebook that may not be known a general audience.\n",
    "\n",
    "* JWST: James Webb Space Telescope\n",
    "\n",
    "* NIRCam: Near-Infrared Camera\n",
    "\n",
    "\n",
    "[Top of Page](#title_ID)"
   ]
  },
  {
   "cell_type": "markdown",
   "metadata": {},
   "source": [
    "<a id=\"description\"></a>\n",
    "# Test Description\n",
    "\n",
    "Unit testing is a software testing method by which individual units of source code are tested to determine whether they are working sufficiently well. Unit tests do not require a separate data file; the test creates the necessary test data and parameters as a part of the test code. \n",
    "\n",
    "\n",
    "[Top of Page](#title_ID)"
   ]
  },
  {
   "cell_type": "markdown",
   "metadata": {},
   "source": [
    "<a id=\"data_descr\"></a>\n",
    "# Data Description\n",
    "\n",
    "Data used for unit tests is created on the fly within the test itself, and is typically an array in the expected format of JWST data with added metadata needed to run through the pipeline. \n",
    "\n",
    "\n",
    "[Top of Page](#title_ID)"
   ]
  },
  {
   "cell_type": "markdown",
   "metadata": {},
   "source": [
    "<a id=\"imports\"></a>\n",
    "# Imports\n",
    "\n",
    "* tempfile for creating temporary output products\n",
    "* pytest for unit test functions\n",
    "* jwst for the JWST Pipeline\n",
    "* IPython.display for display pytest reports\n",
    "\n",
    "[Top of Page](#title_ID)"
   ]
  },
  {
   "cell_type": "code",
   "execution_count": 1,
   "metadata": {
    "execution": {
     "iopub.execute_input": "2021-02-01T03:35:50.279416Z",
     "iopub.status.busy": "2021-02-01T03:35:50.279095Z",
     "iopub.status.idle": "2021-02-01T03:35:50.405170Z",
     "shell.execute_reply": "2021-02-01T03:35:50.404740Z"
    }
   },
   "outputs": [],
   "source": [
    "import tempfile\n",
    "import os\n",
    "import pytest\n",
    "import jwst\n",
    "from IPython.display import IFrame"
   ]
  },
  {
   "cell_type": "markdown",
   "metadata": {},
   "source": [
    "<a id=\"functions\"></a>\n",
    "# Convenience Functions\n",
    "\n",
    "Here we define any convenience functions to help with running the unit tests. \n",
    "\n",
    "[Top of Page](#title_ID)"
   ]
  },
  {
   "cell_type": "code",
   "execution_count": 2,
   "metadata": {
    "execution": {
     "iopub.execute_input": "2021-02-01T03:35:50.408126Z",
     "iopub.status.busy": "2021-02-01T03:35:50.407808Z",
     "iopub.status.idle": "2021-02-01T03:35:50.409379Z",
     "shell.execute_reply": "2021-02-01T03:35:50.409628Z"
    }
   },
   "outputs": [],
   "source": [
    "def display_report(fname):\n",
    "    '''Convenience function to display pytest report.'''\n",
    "    \n",
    "    return IFrame(src=fname, width=700, height=600)"
   ]
  },
  {
   "cell_type": "markdown",
   "metadata": {},
   "source": [
    "<a id=\"testing\"></a>\n",
    "# Perform Tests\n",
    "\n",
    "Below we run the unit tests for the Flat Field step. \n",
    "\n",
    "[Top of Page](#title_ID)"
   ]
  },
  {
   "cell_type": "code",
   "execution_count": 3,
   "metadata": {
    "execution": {
     "iopub.execute_input": "2021-02-01T03:35:50.413788Z",
     "iopub.status.busy": "2021-02-01T03:35:50.413478Z",
     "iopub.status.idle": "2021-02-01T03:36:01.066127Z",
     "shell.execute_reply": "2021-02-01T03:36:01.066398Z"
    },
    "scrolled": false
   },
   "outputs": [
    {
     "name": "stdout",
     "output_type": "stream",
     "text": [
      "\u001b[1m============================= test session starts ==============================\u001b[0m\r\n",
      "platform linux -- Python 3.9.1, pytest-6.2.2, py-1.10.0, pluggy-0.13.1 -- /data1/jenkins/workspace/Notebooks/jwst_validation_notebooks_spacetelescope/miniconda3/envs/jwst_validation_notebooks/bin/python\r\n",
      "cachedir: .pytest_cache\r\n",
      "metadata: {'Python': '3.9.1', 'Platform': 'Linux-3.10.0-1160.11.1.el7.x86_64-x86_64-with-glibc2.17', 'Packages': {'pytest': '6.2.2', 'py': '1.10.0', 'pluggy': '0.13.1'}, 'Plugins': {'metadata': '1.11.0', 'asdf': '2.7.2', 'html': '3.1.1', 'forked': '1.3.0', 'xdist': '2.2.0', 'ci-watson': '0.5'}, 'BUILD_NUMBER': '52', 'BUILD_ID': '52', 'BUILD_URL': 'https://plwishmaster.stsci.edu:8081/job/Notebooks/job/jwst_validation_notebooks_spacetelescope/52/', 'NODE_NAME': 'jwcalibdev.stsci.edu', 'JOB_NAME': 'Notebooks/jwst_validation_notebooks_spacetelescope', 'BUILD_TAG': 'jenkins-Notebooks-jwst_validation_notebooks_spacetelescope-52', 'EXECUTOR_NUMBER': '29', 'JENKINS_URL': 'https://plwishmaster.stsci.edu:8081/', 'WORKSPACE': '/data1/jenkins/workspace/Notebooks/jwst_validation_notebooks_spacetelescope', 'GIT_COMMIT': 'f6ea8bc553cb5ba6998fd20927d8e020dec1e853', 'GIT_URL': 'https://github.com/spacetelescope/jwst_validation_notebooks', 'GIT_BRANCH': 'origin/master'}\r\n",
      "rootdir: /data1/jenkins/workspace/Notebooks/jwst_validation_notebooks_spacetelescope\r\n",
      "plugins: metadata-1.11.0, asdf-2.7.2, html-3.1.1, forked-1.3.0, xdist-2.2.0, ci-watson-0.5\r\n",
      "\u001b[1mcollecting ... \u001b[0m"
     ]
    },
    {
     "name": "stdout",
     "output_type": "stream",
     "text": [
      "\u001b[1m\r",
      "collecting 86 items                                                            \u001b[0m"
     ]
    },
    {
     "name": "stdout",
     "output_type": "stream",
     "text": [
      "\u001b[1m\r",
      "collected 92 items                                                             \u001b[0m\r\n",
      "\r\n",
      "../../../miniconda3/envs/jwst_validation_notebooks/lib/python3.9/site-packages/jwst/flatfield/tests/test_clean_wl.py::test_clean_wl_1 \u001b[32mPASSED\u001b[0m\u001b[32m [  1%]\u001b[0m\r\n",
      "../../../miniconda3/envs/jwst_validation_notebooks/lib/python3.9/site-packages/jwst/flatfield/tests/test_clean_wl.py::test_clean_wl_2 \u001b[32mPASSED\u001b[0m\u001b[32m [  2%]\u001b[0m\r\n",
      "../../../miniconda3/envs/jwst_validation_notebooks/lib/python3.9/site-packages/jwst/flatfield/tests/test_flatfield.py::test_flatfield_step_interface[NIRCAM-NRC_IMAGE] \u001b[33mSKIPPED\u001b[0m\u001b[32m [  3%]\u001b[0m\r\n",
      "../../../miniconda3/envs/jwst_validation_notebooks/lib/python3.9/site-packages/jwst/flatfield/tests/test_flatfield.py::test_flatfield_step_interface[NIRCAM-NRC_WFSS] \u001b[33mSKIPPED\u001b[0m\u001b[32m [  4%]\u001b[0m\r\n",
      "../../../miniconda3/envs/jwst_validation_notebooks/lib/python3.9/site-packages/jwst/flatfield/tests/test_flatfield.py::test_flatfield_step_interface[MIRI-MIR_IMAGE] \u001b[33mSKIPPED\u001b[0m\u001b[32m [  5%]\u001b[0m\r\n",
      "../../../miniconda3/envs/jwst_validation_notebooks/lib/python3.9/site-packages/jwst/flatfield/tests/test_flatfield.py::test_flatfield_step_interface[MIRI-MIR_LRS-FIXEDSLIT] \u001b[33mSKIPPED\u001b[0m\u001b[32m [  6%]\u001b[0m\r\n",
      "../../../miniconda3/envs/jwst_validation_notebooks/lib/python3.9/site-packages/jwst/flatfield/tests/test_flatfield.py::test_flatfield_step_interface[MIRI-MIR_LRS-SLITLESS] \u001b[33mSKIPPED\u001b[0m\u001b[32m [  7%]\u001b[0m\r\n",
      "../../../miniconda3/envs/jwst_validation_notebooks/lib/python3.9/site-packages/jwst/flatfield/tests/test_flatfield.py::test_flatfield_step_interface[MIRI-MIR_MRS] \u001b[33mSKIPPED\u001b[0m\u001b[32m [  8%]\u001b[0m\r\n",
      "../../../miniconda3/envs/jwst_validation_notebooks/lib/python3.9/site-packages/jwst/flatfield/tests/test_flatfield.py::test_flatfield_step_interface[NIRISS-NIS_IMAGE] \u001b[33mSKIPPED\u001b[0m\u001b[32m [  9%]\u001b[0m\r\n",
      "../../../miniconda3/envs/jwst_validation_notebooks/lib/python3.9/site-packages/jwst/flatfield/tests/test_flatfield.py::test_flatfield_step_interface[NIRISS-NIS_WFSS] \u001b[33mSKIPPED\u001b[0m\u001b[32m [ 10%]\u001b[0m\r\n",
      "../../../miniconda3/envs/jwst_validation_notebooks/lib/python3.9/site-packages/jwst/flatfield/tests/test_flatfield.py::test_flatfield_step_interface[NIRISS-NIS_SOSS] \u001b[33mSKIPPED\u001b[0m\u001b[32m [ 11%]\u001b[0m\r\n",
      "../../../miniconda3/envs/jwst_validation_notebooks/lib/python3.9/site-packages/jwst/flatfield/tests/test_flatfield.py::test_flatfield_step_interface[NIRISS-NIS_AMI] \u001b[33mSKIPPED\u001b[0m\u001b[32m [ 13%]\u001b[0m\r\n",
      "../../../miniconda3/envs/jwst_validation_notebooks/lib/python3.9/site-packages/jwst/flatfield/tests/test_flatfield.py::test_flatfield_step_interface[FGS-FGS_IMAGE] \u001b[33mSKIPPED\u001b[0m\u001b[32m [ 14%]\u001b[0m\r\n",
      "../../../miniconda3/envs/jwst_validation_notebooks/lib/python3.9/site-packages/jwst/flatfield/tests/test_flatfield.py::test_flatfield_step_interface[NIRSPEC-NRS_CONFIRM] \u001b[33mSKIPPED\u001b[0m\u001b[32m [ 15%]\u001b[0m\r\n",
      "../../../miniconda3/envs/jwst_validation_notebooks/lib/python3.9/site-packages/jwst/flatfield/tests/test_flatfield.py::test_flatfield_step_interface[NIRSPEC-NRS_FOCUS] \u001b[33mSKIPPED\u001b[0m\u001b[32m [ 16%]\u001b[0m\r\n",
      "../../../miniconda3/envs/jwst_validation_notebooks/lib/python3.9/site-packages/jwst/flatfield/tests/test_flatfield.py::test_flatfield_step_interface[NIRSPEC-NRS_IMAGE] \u001b[33mSKIPPED\u001b[0m\u001b[32m [ 17%]\u001b[0m\r\n",
      "../../../miniconda3/envs/jwst_validation_notebooks/lib/python3.9/site-packages/jwst/flatfield/tests/test_flatfield.py::test_flatfield_step_interface[NIRSPEC-NRS_MIMF] \u001b[33mSKIPPED\u001b[0m\u001b[32m [ 18%]\u001b[0m\r\n",
      "../../../miniconda3/envs/jwst_validation_notebooks/lib/python3.9/site-packages/jwst/flatfield/tests/test_flatfield.py::test_flatfield_step_interface[NIRSPEC-NRS_MSATA] \u001b[33mSKIPPED\u001b[0m\u001b[32m [ 19%]\u001b[0m\r\n",
      "../../../miniconda3/envs/jwst_validation_notebooks/lib/python3.9/site-packages/jwst/flatfield/tests/test_flatfield.py::test_flatfield_step_interface[NIRSPEC-NRS_TACONFIRM] \u001b[33mSKIPPED\u001b[0m\u001b[32m [ 20%]\u001b[0m\r\n",
      "../../../miniconda3/envs/jwst_validation_notebooks/lib/python3.9/site-packages/jwst/flatfield/tests/test_flatfield.py::test_flatfield_step_interface[NIRSPEC-NRS_TACQ] \u001b[33mSKIPPED\u001b[0m\u001b[32m [ 21%]\u001b[0m\r\n",
      "../../../miniconda3/envs/jwst_validation_notebooks/lib/python3.9/site-packages/jwst/flatfield/tests/test_flatfield.py::test_flatfield_step_interface[NIRSPEC-NRS_TASLIT] \u001b[33mSKIPPED\u001b[0m\u001b[32m [ 22%]\u001b[0m\r\n",
      "../../../miniconda3/envs/jwst_validation_notebooks/lib/python3.9/site-packages/jwst/flatfield/tests/test_flatfield.py::test_flatfield_step_interface[NIRSPEC-NRS_WATA] \u001b[33mSKIPPED\u001b[0m\u001b[32m [ 23%]\u001b[0m\r\n",
      "../../../miniconda3/envs/jwst_validation_notebooks/lib/python3.9/site-packages/jwst/flatfield/tests/test_flatfield.py::test_nirspec_flatfield_step_interface[ANY] "
     ]
    },
    {
     "name": "stdout",
     "output_type": "stream",
     "text": [
      "\u001b[32mPASSED\u001b[0m\u001b[32m [ 25%]\u001b[0m\r\n",
      "../../../miniconda3/envs/jwst_validation_notebooks/lib/python3.9/site-packages/jwst/flatfield/tests/test_flatfield.py::test_nirspec_flatfield_step_interface[FGS_ACQ1] "
     ]
    },
    {
     "name": "stdout",
     "output_type": "stream",
     "text": [
      "\u001b[32mPASSED\u001b[0m\u001b[32m [ 26%]\u001b[0m\r\n",
      "../../../miniconda3/envs/jwst_validation_notebooks/lib/python3.9/site-packages/jwst/flatfield/tests/test_flatfield.py::test_nirspec_flatfield_step_interface[FGS_ACQ2] "
     ]
    },
    {
     "name": "stdout",
     "output_type": "stream",
     "text": [
      "\u001b[32mPASSED\u001b[0m\u001b[32m [ 27%]\u001b[0m\r\n",
      "../../../miniconda3/envs/jwst_validation_notebooks/lib/python3.9/site-packages/jwst/flatfield/tests/test_flatfield.py::test_nirspec_flatfield_step_interface[FGS_DARK] "
     ]
    },
    {
     "name": "stdout",
     "output_type": "stream",
     "text": [
      "\u001b[32mPASSED\u001b[0m\u001b[32m [ 28%]\u001b[0m\r\n",
      "../../../miniconda3/envs/jwst_validation_notebooks/lib/python3.9/site-packages/jwst/flatfield/tests/test_flatfield.py::test_nirspec_flatfield_step_interface[FGS_FINEGUIDE] "
     ]
    },
    {
     "name": "stdout",
     "output_type": "stream",
     "text": [
      "\u001b[32mPASSED\u001b[0m\u001b[32m [ 29%]\u001b[0m\r\n",
      "../../../miniconda3/envs/jwst_validation_notebooks/lib/python3.9/site-packages/jwst/flatfield/tests/test_flatfield.py::test_nirspec_flatfield_step_interface[FGS_FOCUS] "
     ]
    },
    {
     "name": "stdout",
     "output_type": "stream",
     "text": [
      "\u001b[32mPASSED\u001b[0m\u001b[32m [ 30%]\u001b[0m\r\n",
      "../../../miniconda3/envs/jwst_validation_notebooks/lib/python3.9/site-packages/jwst/flatfield/tests/test_flatfield.py::test_nirspec_flatfield_step_interface[FGS_ID-IMAGE] "
     ]
    },
    {
     "name": "stdout",
     "output_type": "stream",
     "text": [
      "\u001b[32mPASSED\u001b[0m\u001b[32m [ 31%]\u001b[0m\r\n",
      "../../../miniconda3/envs/jwst_validation_notebooks/lib/python3.9/site-packages/jwst/flatfield/tests/test_flatfield.py::test_nirspec_flatfield_step_interface[FGS_ID-STACK] "
     ]
    },
    {
     "name": "stdout",
     "output_type": "stream",
     "text": [
      "\u001b[32mPASSED\u001b[0m\u001b[32m [ 32%]\u001b[0m\r\n",
      "../../../miniconda3/envs/jwst_validation_notebooks/lib/python3.9/site-packages/jwst/flatfield/tests/test_flatfield.py::test_nirspec_flatfield_step_interface[FGS_IMAGE] "
     ]
    },
    {
     "name": "stdout",
     "output_type": "stream",
     "text": [
      "\u001b[32mPASSED\u001b[0m\u001b[32m [ 33%]\u001b[0m\r\n",
      "../../../miniconda3/envs/jwst_validation_notebooks/lib/python3.9/site-packages/jwst/flatfield/tests/test_flatfield.py::test_nirspec_flatfield_step_interface[FGS_INTFLAT] "
     ]
    },
    {
     "name": "stdout",
     "output_type": "stream",
     "text": [
      "\u001b[32mPASSED\u001b[0m\u001b[32m [ 34%]\u001b[0m\r\n",
      "../../../miniconda3/envs/jwst_validation_notebooks/lib/python3.9/site-packages/jwst/flatfield/tests/test_flatfield.py::test_nirspec_flatfield_step_interface[FGS_SKYFLAT] "
     ]
    },
    {
     "name": "stdout",
     "output_type": "stream",
     "text": [
      "\u001b[32mPASSED\u001b[0m\u001b[32m [ 35%]\u001b[0m\r\n",
      "../../../miniconda3/envs/jwst_validation_notebooks/lib/python3.9/site-packages/jwst/flatfield/tests/test_flatfield.py::test_nirspec_flatfield_step_interface[FGS_TRACK] "
     ]
    },
    {
     "name": "stdout",
     "output_type": "stream",
     "text": [
      "\u001b[32mPASSED\u001b[0m\u001b[32m [ 36%]\u001b[0m\r\n",
      "../../../miniconda3/envs/jwst_validation_notebooks/lib/python3.9/site-packages/jwst/flatfield/tests/test_flatfield.py::test_nirspec_flatfield_step_interface[MIR_4QPM] "
     ]
    },
    {
     "name": "stdout",
     "output_type": "stream",
     "text": [
      "\u001b[32mPASSED\u001b[0m\u001b[32m [ 38%]\u001b[0m\r\n",
      "../../../miniconda3/envs/jwst_validation_notebooks/lib/python3.9/site-packages/jwst/flatfield/tests/test_flatfield.py::test_nirspec_flatfield_step_interface[MIR_CORONCAL] "
     ]
    },
    {
     "name": "stdout",
     "output_type": "stream",
     "text": [
      "\u001b[32mPASSED\u001b[0m\u001b[32m [ 39%]\u001b[0m\r\n",
      "../../../miniconda3/envs/jwst_validation_notebooks/lib/python3.9/site-packages/jwst/flatfield/tests/test_flatfield.py::test_nirspec_flatfield_step_interface[MIR_DARKALL] "
     ]
    },
    {
     "name": "stdout",
     "output_type": "stream",
     "text": [
      "\u001b[32mPASSED\u001b[0m\u001b[32m [ 40%]\u001b[0m\r\n",
      "../../../miniconda3/envs/jwst_validation_notebooks/lib/python3.9/site-packages/jwst/flatfield/tests/test_flatfield.py::test_nirspec_flatfield_step_interface[MIR_DARKIMG] "
     ]
    },
    {
     "name": "stdout",
     "output_type": "stream",
     "text": [
      "\u001b[32mPASSED\u001b[0m\u001b[32m [ 41%]\u001b[0m\r\n",
      "../../../miniconda3/envs/jwst_validation_notebooks/lib/python3.9/site-packages/jwst/flatfield/tests/test_flatfield.py::test_nirspec_flatfield_step_interface[MIR_DARKMRS] "
     ]
    },
    {
     "name": "stdout",
     "output_type": "stream",
     "text": [
      "\u001b[32mPASSED\u001b[0m\u001b[32m [ 42%]\u001b[0m\r\n",
      "../../../miniconda3/envs/jwst_validation_notebooks/lib/python3.9/site-packages/jwst/flatfield/tests/test_flatfield.py::test_nirspec_flatfield_step_interface[MIR_FLATIMAGE] "
     ]
    },
    {
     "name": "stdout",
     "output_type": "stream",
     "text": [
      "\u001b[32mPASSED\u001b[0m\u001b[32m [ 43%]\u001b[0m\r\n",
      "../../../miniconda3/envs/jwst_validation_notebooks/lib/python3.9/site-packages/jwst/flatfield/tests/test_flatfield.py::test_nirspec_flatfield_step_interface[MIR_FLATIMAGE-EXT] "
     ]
    },
    {
     "name": "stdout",
     "output_type": "stream",
     "text": [
      "\u001b[32mPASSED\u001b[0m\u001b[32m [ 44%]\u001b[0m\r\n",
      "../../../miniconda3/envs/jwst_validation_notebooks/lib/python3.9/site-packages/jwst/flatfield/tests/test_flatfield.py::test_nirspec_flatfield_step_interface[MIR_FLATMRS] "
     ]
    },
    {
     "name": "stdout",
     "output_type": "stream",
     "text": [
      "\u001b[32mPASSED\u001b[0m\u001b[32m [ 45%]\u001b[0m\r\n",
      "../../../miniconda3/envs/jwst_validation_notebooks/lib/python3.9/site-packages/jwst/flatfield/tests/test_flatfield.py::test_nirspec_flatfield_step_interface[MIR_FLATMRS-EXT] "
     ]
    },
    {
     "name": "stdout",
     "output_type": "stream",
     "text": [
      "\u001b[32mPASSED\u001b[0m\u001b[32m [ 46%]\u001b[0m\r\n",
      "../../../miniconda3/envs/jwst_validation_notebooks/lib/python3.9/site-packages/jwst/flatfield/tests/test_flatfield.py::test_nirspec_flatfield_step_interface[MIR_IMAGE] "
     ]
    },
    {
     "name": "stdout",
     "output_type": "stream",
     "text": [
      "\u001b[32mPASSED\u001b[0m\u001b[32m [ 47%]\u001b[0m\r\n",
      "../../../miniconda3/envs/jwst_validation_notebooks/lib/python3.9/site-packages/jwst/flatfield/tests/test_flatfield.py::test_nirspec_flatfield_step_interface[MIR_LRS-FIXEDSLIT] "
     ]
    },
    {
     "name": "stdout",
     "output_type": "stream",
     "text": [
      "\u001b[32mPASSED\u001b[0m\u001b[32m [ 48%]\u001b[0m\r\n",
      "../../../miniconda3/envs/jwst_validation_notebooks/lib/python3.9/site-packages/jwst/flatfield/tests/test_flatfield.py::test_nirspec_flatfield_step_interface[MIR_LRS-SLITLESS] "
     ]
    },
    {
     "name": "stdout",
     "output_type": "stream",
     "text": [
      "\u001b[32mPASSED\u001b[0m\u001b[32m [ 50%]\u001b[0m\r\n",
      "../../../miniconda3/envs/jwst_validation_notebooks/lib/python3.9/site-packages/jwst/flatfield/tests/test_flatfield.py::test_nirspec_flatfield_step_interface[MIR_LYOT] "
     ]
    },
    {
     "name": "stdout",
     "output_type": "stream",
     "text": [
      "\u001b[32mPASSED\u001b[0m\u001b[32m [ 51%]\u001b[0m\r\n",
      "../../../miniconda3/envs/jwst_validation_notebooks/lib/python3.9/site-packages/jwst/flatfield/tests/test_flatfield.py::test_nirspec_flatfield_step_interface[MIR_MRS] "
     ]
    },
    {
     "name": "stdout",
     "output_type": "stream",
     "text": [
      "\u001b[32mPASSED\u001b[0m\u001b[32m [ 52%]\u001b[0m\r\n",
      "../../../miniconda3/envs/jwst_validation_notebooks/lib/python3.9/site-packages/jwst/flatfield/tests/test_flatfield.py::test_nirspec_flatfield_step_interface[MIR_TACONFIRM] "
     ]
    },
    {
     "name": "stdout",
     "output_type": "stream",
     "text": [
      "\u001b[32mPASSED\u001b[0m\u001b[32m [ 53%]\u001b[0m\r\n",
      "../../../miniconda3/envs/jwst_validation_notebooks/lib/python3.9/site-packages/jwst/flatfield/tests/test_flatfield.py::test_nirspec_flatfield_step_interface[MIR_TACQ] "
     ]
    },
    {
     "name": "stdout",
     "output_type": "stream",
     "text": [
      "\u001b[32mPASSED\u001b[0m\u001b[32m [ 54%]\u001b[0m\r\n",
      "../../../miniconda3/envs/jwst_validation_notebooks/lib/python3.9/site-packages/jwst/flatfield/tests/test_flatfield.py::test_nirspec_flatfield_step_interface[N/A] "
     ]
    },
    {
     "name": "stdout",
     "output_type": "stream",
     "text": [
      "\u001b[32mPASSED\u001b[0m\u001b[32m [ 55%]\u001b[0m\r\n",
      "../../../miniconda3/envs/jwst_validation_notebooks/lib/python3.9/site-packages/jwst/flatfield/tests/test_flatfield.py::test_nirspec_flatfield_step_interface[NIS_AMI] "
     ]
    },
    {
     "name": "stdout",
     "output_type": "stream",
     "text": [
      "\u001b[32mPASSED\u001b[0m\u001b[32m [ 56%]\u001b[0m\r\n",
      "../../../miniconda3/envs/jwst_validation_notebooks/lib/python3.9/site-packages/jwst/flatfield/tests/test_flatfield.py::test_nirspec_flatfield_step_interface[NIS_DARK] "
     ]
    },
    {
     "name": "stdout",
     "output_type": "stream",
     "text": [
      "\u001b[32mPASSED\u001b[0m\u001b[32m [ 57%]\u001b[0m\r\n",
      "../../../miniconda3/envs/jwst_validation_notebooks/lib/python3.9/site-packages/jwst/flatfield/tests/test_flatfield.py::test_nirspec_flatfield_step_interface[NIS_EXTCAL] "
     ]
    },
    {
     "name": "stdout",
     "output_type": "stream",
     "text": [
      "\u001b[32mPASSED\u001b[0m\u001b[32m [ 58%]\u001b[0m\r\n",
      "../../../miniconda3/envs/jwst_validation_notebooks/lib/python3.9/site-packages/jwst/flatfield/tests/test_flatfield.py::test_nirspec_flatfield_step_interface[NIS_FOCUS] "
     ]
    },
    {
     "name": "stdout",
     "output_type": "stream",
     "text": [
      "\u001b[32mPASSED\u001b[0m\u001b[32m [ 59%]\u001b[0m\r\n",
      "../../../miniconda3/envs/jwst_validation_notebooks/lib/python3.9/site-packages/jwst/flatfield/tests/test_flatfield.py::test_nirspec_flatfield_step_interface[NIS_IMAGE] "
     ]
    },
    {
     "name": "stdout",
     "output_type": "stream",
     "text": [
      "\u001b[32mPASSED\u001b[0m\u001b[32m [ 60%]\u001b[0m\r\n",
      "../../../miniconda3/envs/jwst_validation_notebooks/lib/python3.9/site-packages/jwst/flatfield/tests/test_flatfield.py::test_nirspec_flatfield_step_interface[NIS_LAMP] "
     ]
    },
    {
     "name": "stdout",
     "output_type": "stream",
     "text": [
      "\u001b[32mPASSED\u001b[0m\u001b[32m [ 61%]\u001b[0m\r\n",
      "../../../miniconda3/envs/jwst_validation_notebooks/lib/python3.9/site-packages/jwst/flatfield/tests/test_flatfield.py::test_nirspec_flatfield_step_interface[NIS_SOSS] "
     ]
    },
    {
     "name": "stdout",
     "output_type": "stream",
     "text": [
      "\u001b[32mPASSED\u001b[0m\u001b[32m [ 63%]\u001b[0m\r\n",
      "../../../miniconda3/envs/jwst_validation_notebooks/lib/python3.9/site-packages/jwst/flatfield/tests/test_flatfield.py::test_nirspec_flatfield_step_interface[NIS_TACONFIRM] "
     ]
    },
    {
     "name": "stdout",
     "output_type": "stream",
     "text": [
      "\u001b[32mPASSED\u001b[0m\u001b[32m [ 64%]\u001b[0m\r\n",
      "../../../miniconda3/envs/jwst_validation_notebooks/lib/python3.9/site-packages/jwst/flatfield/tests/test_flatfield.py::test_nirspec_flatfield_step_interface[NIS_TACQ] "
     ]
    },
    {
     "name": "stdout",
     "output_type": "stream",
     "text": [
      "\u001b[32mPASSED\u001b[0m\u001b[32m [ 65%]\u001b[0m\r\n",
      "../../../miniconda3/envs/jwst_validation_notebooks/lib/python3.9/site-packages/jwst/flatfield/tests/test_flatfield.py::test_nirspec_flatfield_step_interface[NIS_WFSS] "
     ]
    },
    {
     "name": "stdout",
     "output_type": "stream",
     "text": [
      "\u001b[32mPASSED\u001b[0m\u001b[32m [ 66%]\u001b[0m\r\n",
      "../../../miniconda3/envs/jwst_validation_notebooks/lib/python3.9/site-packages/jwst/flatfield/tests/test_flatfield.py::test_nirspec_flatfield_step_interface[NRC_CORON] "
     ]
    },
    {
     "name": "stdout",
     "output_type": "stream",
     "text": [
      "\u001b[32mPASSED\u001b[0m\u001b[32m [ 67%]\u001b[0m\r\n",
      "../../../miniconda3/envs/jwst_validation_notebooks/lib/python3.9/site-packages/jwst/flatfield/tests/test_flatfield.py::test_nirspec_flatfield_step_interface[NRC_DARK] "
     ]
    },
    {
     "name": "stdout",
     "output_type": "stream",
     "text": [
      "\u001b[32mPASSED\u001b[0m\u001b[32m [ 68%]\u001b[0m\r\n",
      "../../../miniconda3/envs/jwst_validation_notebooks/lib/python3.9/site-packages/jwst/flatfield/tests/test_flatfield.py::test_nirspec_flatfield_step_interface[NRC_FLAT] "
     ]
    },
    {
     "name": "stdout",
     "output_type": "stream",
     "text": [
      "\u001b[32mPASSED\u001b[0m\u001b[32m [ 69%]\u001b[0m\r\n",
      "../../../miniconda3/envs/jwst_validation_notebooks/lib/python3.9/site-packages/jwst/flatfield/tests/test_flatfield.py::test_nirspec_flatfield_step_interface[NRC_FOCUS] "
     ]
    },
    {
     "name": "stdout",
     "output_type": "stream",
     "text": [
      "\u001b[32mPASSED\u001b[0m\u001b[32m [ 70%]\u001b[0m\r\n",
      "../../../miniconda3/envs/jwst_validation_notebooks/lib/python3.9/site-packages/jwst/flatfield/tests/test_flatfield.py::test_nirspec_flatfield_step_interface[NRC_GRISM] "
     ]
    },
    {
     "name": "stdout",
     "output_type": "stream",
     "text": [
      "\u001b[32mPASSED\u001b[0m\u001b[32m [ 71%]\u001b[0m\r\n",
      "../../../miniconda3/envs/jwst_validation_notebooks/lib/python3.9/site-packages/jwst/flatfield/tests/test_flatfield.py::test_nirspec_flatfield_step_interface[NRC_IMAGE] "
     ]
    },
    {
     "name": "stdout",
     "output_type": "stream",
     "text": [
      "\u001b[32mPASSED\u001b[0m\u001b[32m [ 72%]\u001b[0m\r\n",
      "../../../miniconda3/envs/jwst_validation_notebooks/lib/python3.9/site-packages/jwst/flatfield/tests/test_flatfield.py::test_nirspec_flatfield_step_interface[NRC_LED] "
     ]
    },
    {
     "name": "stdout",
     "output_type": "stream",
     "text": [
      "\u001b[32mPASSED\u001b[0m\u001b[32m [ 73%]\u001b[0m\r\n",
      "../../../miniconda3/envs/jwst_validation_notebooks/lib/python3.9/site-packages/jwst/flatfield/tests/test_flatfield.py::test_nirspec_flatfield_step_interface[NRC_TACONFIRM] "
     ]
    },
    {
     "name": "stdout",
     "output_type": "stream",
     "text": [
      "\u001b[32mPASSED\u001b[0m\u001b[32m [ 75%]\u001b[0m\r\n",
      "../../../miniconda3/envs/jwst_validation_notebooks/lib/python3.9/site-packages/jwst/flatfield/tests/test_flatfield.py::test_nirspec_flatfield_step_interface[NRC_TACQ] "
     ]
    },
    {
     "name": "stdout",
     "output_type": "stream",
     "text": [
      "\u001b[32mPASSED\u001b[0m\u001b[32m [ 76%]\u001b[0m\r\n",
      "../../../miniconda3/envs/jwst_validation_notebooks/lib/python3.9/site-packages/jwst/flatfield/tests/test_flatfield.py::test_nirspec_flatfield_step_interface[NRC_TSGRISM] "
     ]
    },
    {
     "name": "stdout",
     "output_type": "stream",
     "text": [
      "\u001b[32mPASSED\u001b[0m\u001b[32m [ 77%]\u001b[0m\r\n",
      "../../../miniconda3/envs/jwst_validation_notebooks/lib/python3.9/site-packages/jwst/flatfield/tests/test_flatfield.py::test_nirspec_flatfield_step_interface[NRC_TSIMAGE] "
     ]
    },
    {
     "name": "stdout",
     "output_type": "stream",
     "text": [
      "\u001b[32mPASSED\u001b[0m\u001b[32m [ 78%]\u001b[0m\r\n",
      "../../../miniconda3/envs/jwst_validation_notebooks/lib/python3.9/site-packages/jwst/flatfield/tests/test_flatfield.py::test_nirspec_flatfield_step_interface[NRC_WFSC] "
     ]
    },
    {
     "name": "stdout",
     "output_type": "stream",
     "text": [
      "\u001b[32mPASSED\u001b[0m\u001b[32m [ 79%]\u001b[0m\r\n",
      "../../../miniconda3/envs/jwst_validation_notebooks/lib/python3.9/site-packages/jwst/flatfield/tests/test_flatfield.py::test_nirspec_flatfield_step_interface[NRC_WFSS] "
     ]
    },
    {
     "name": "stdout",
     "output_type": "stream",
     "text": [
      "\u001b[32mPASSED\u001b[0m\u001b[32m [ 80%]\u001b[0m\r\n",
      "../../../miniconda3/envs/jwst_validation_notebooks/lib/python3.9/site-packages/jwst/flatfield/tests/test_flatfield.py::test_nirspec_flatfield_step_interface[NRS_AUTOFLAT] "
     ]
    },
    {
     "name": "stdout",
     "output_type": "stream",
     "text": [
      "\u001b[32mPASSED\u001b[0m\u001b[32m [ 81%]\u001b[0m\r\n",
      "../../../miniconda3/envs/jwst_validation_notebooks/lib/python3.9/site-packages/jwst/flatfield/tests/test_flatfield.py::test_nirspec_flatfield_step_interface[NRS_CONFIRM] "
     ]
    },
    {
     "name": "stdout",
     "output_type": "stream",
     "text": [
      "\u001b[32mPASSED\u001b[0m\u001b[32m [ 82%]\u001b[0m\r\n",
      "../../../miniconda3/envs/jwst_validation_notebooks/lib/python3.9/site-packages/jwst/flatfield/tests/test_flatfield.py::test_nirspec_flatfield_step_interface[NRS_DARK] "
     ]
    },
    {
     "name": "stdout",
     "output_type": "stream",
     "text": [
      "\u001b[32mPASSED\u001b[0m\u001b[33m [ 83%]\u001b[0m\r\n",
      "../../../miniconda3/envs/jwst_validation_notebooks/lib/python3.9/site-packages/jwst/flatfield/tests/test_flatfield.py::test_nirspec_flatfield_step_interface[NRS_FOCUS] "
     ]
    },
    {
     "name": "stdout",
     "output_type": "stream",
     "text": [
      "\u001b[32mPASSED\u001b[0m\u001b[33m [ 84%]\u001b[0m\r\n",
      "../../../miniconda3/envs/jwst_validation_notebooks/lib/python3.9/site-packages/jwst/flatfield/tests/test_flatfield.py::test_nirspec_flatfield_step_interface[NRS_IMAGE] "
     ]
    },
    {
     "name": "stdout",
     "output_type": "stream",
     "text": [
      "\u001b[32mPASSED\u001b[0m\u001b[33m [ 85%]\u001b[0m\r\n",
      "../../../miniconda3/envs/jwst_validation_notebooks/lib/python3.9/site-packages/jwst/flatfield/tests/test_flatfield.py::test_nirspec_flatfield_step_interface[NRS_MIMF] "
     ]
    },
    {
     "name": "stdout",
     "output_type": "stream",
     "text": [
      "\u001b[32mPASSED\u001b[0m\u001b[33m [ 86%]\u001b[0m\r\n",
      "../../../miniconda3/envs/jwst_validation_notebooks/lib/python3.9/site-packages/jwst/flatfield/tests/test_flatfield.py::test_nirspec_flatfield_step_interface[NRS_MSATA] "
     ]
    },
    {
     "name": "stdout",
     "output_type": "stream",
     "text": [
      "\u001b[32mPASSED\u001b[0m\u001b[33m [ 88%]\u001b[0m\r\n",
      "../../../miniconda3/envs/jwst_validation_notebooks/lib/python3.9/site-packages/jwst/flatfield/tests/test_flatfield.py::test_nirspec_flatfield_step_interface[NRS_TACONFIRM] "
     ]
    },
    {
     "name": "stdout",
     "output_type": "stream",
     "text": [
      "\u001b[32mPASSED\u001b[0m\u001b[33m [ 89%]\u001b[0m\r\n",
      "../../../miniconda3/envs/jwst_validation_notebooks/lib/python3.9/site-packages/jwst/flatfield/tests/test_flatfield.py::test_nirspec_flatfield_step_interface[NRS_TACQ] "
     ]
    },
    {
     "name": "stdout",
     "output_type": "stream",
     "text": [
      "\u001b[32mPASSED\u001b[0m\u001b[33m [ 90%]\u001b[0m\r\n",
      "../../../miniconda3/envs/jwst_validation_notebooks/lib/python3.9/site-packages/jwst/flatfield/tests/test_flatfield.py::test_nirspec_flatfield_step_interface[NRS_TASLIT] "
     ]
    },
    {
     "name": "stdout",
     "output_type": "stream",
     "text": [
      "\u001b[32mPASSED\u001b[0m\u001b[33m [ 91%]\u001b[0m\r\n",
      "../../../miniconda3/envs/jwst_validation_notebooks/lib/python3.9/site-packages/jwst/flatfield/tests/test_flatfield.py::test_nirspec_flatfield_step_interface[NRS_VERIFY] "
     ]
    },
    {
     "name": "stdout",
     "output_type": "stream",
     "text": [
      "\u001b[32mPASSED\u001b[0m\u001b[33m [ 92%]\u001b[0m\r\n",
      "../../../miniconda3/envs/jwst_validation_notebooks/lib/python3.9/site-packages/jwst/flatfield/tests/test_flatfield.py::test_nirspec_flatfield_step_interface[NRS_WATA] "
     ]
    },
    {
     "name": "stdout",
     "output_type": "stream",
     "text": [
      "\u001b[32mPASSED\u001b[0m\u001b[33m [ 93%]\u001b[0m\r\n",
      "../../../miniconda3/envs/jwst_validation_notebooks/lib/python3.9/site-packages/jwst/flatfield/tests/test_g_average.py::test_g_average \u001b[32mPASSED\u001b[0m\u001b[33m [ 94%]\u001b[0m\r\n",
      "../../../miniconda3/envs/jwst_validation_notebooks/lib/python3.9/site-packages/jwst/flatfield/tests/test_interpolate_flat.py::test_interpolate_flat_1 \u001b[32mPASSED\u001b[0m\u001b[33m [ 95%]\u001b[0m\r\n",
      "../../../miniconda3/envs/jwst_validation_notebooks/lib/python3.9/site-packages/jwst/flatfield/tests/test_interpolate_flat.py::test_interpolate_flat_2 \u001b[32mPASSED\u001b[0m\u001b[33m [ 96%]\u001b[0m\r\n",
      "../../../miniconda3/envs/jwst_validation_notebooks/lib/python3.9/site-packages/jwst/flatfield/tests/test_interpolate_flat.py::test_interpolate_flat_3 \u001b[32mPASSED\u001b[0m\u001b[33m [ 97%]\u001b[0m\r\n",
      "../../../miniconda3/envs/jwst_validation_notebooks/lib/python3.9/site-packages/jwst/flatfield/tests/test_interpolate_flat.py::test_interpolate_flat_4 \u001b[32mPASSED\u001b[0m\u001b[33m [ 98%]\u001b[0m\r\n",
      "../../../miniconda3/envs/jwst_validation_notebooks/lib/python3.9/site-packages/jwst/flatfield/tests/test_wl_interpolate.py::test_wl_interpolate \u001b[32mPASSED\u001b[0m\u001b[33m [100%]\u001b[0m"
     ]
    },
    {
     "name": "stdout",
     "output_type": "stream",
     "text": [
      "\r\n",
      "\r\n",
      "\u001b[33m=============================== warnings summary ===============================\u001b[0m\r\n",
      "miniconda3/envs/jwst_validation_notebooks/lib/python3.9/site-packages/jwst/flatfield/tests/test_flatfield.py::test_nirspec_flatfield_step_interface[NRS_CONFIRM]\r\n",
      "miniconda3/envs/jwst_validation_notebooks/lib/python3.9/site-packages/jwst/flatfield/tests/test_flatfield.py::test_nirspec_flatfield_step_interface[NRS_FOCUS]\r\n",
      "miniconda3/envs/jwst_validation_notebooks/lib/python3.9/site-packages/jwst/flatfield/tests/test_flatfield.py::test_nirspec_flatfield_step_interface[NRS_IMAGE]\r\n",
      "miniconda3/envs/jwst_validation_notebooks/lib/python3.9/site-packages/jwst/flatfield/tests/test_flatfield.py::test_nirspec_flatfield_step_interface[NRS_MIMF]\r\n",
      "miniconda3/envs/jwst_validation_notebooks/lib/python3.9/site-packages/jwst/flatfield/tests/test_flatfield.py::test_nirspec_flatfield_step_interface[NRS_MSATA]\r\n",
      "miniconda3/envs/jwst_validation_notebooks/lib/python3.9/site-packages/jwst/flatfield/tests/test_flatfield.py::test_nirspec_flatfield_step_interface[NRS_TACONFIRM]\r\n",
      "miniconda3/envs/jwst_validation_notebooks/lib/python3.9/site-packages/jwst/flatfield/tests/test_flatfield.py::test_nirspec_flatfield_step_interface[NRS_TACQ]\r\n",
      "miniconda3/envs/jwst_validation_notebooks/lib/python3.9/site-packages/jwst/flatfield/tests/test_flatfield.py::test_nirspec_flatfield_step_interface[NRS_TASLIT]\r\n",
      "miniconda3/envs/jwst_validation_notebooks/lib/python3.9/site-packages/jwst/flatfield/tests/test_flatfield.py::test_nirspec_flatfield_step_interface[NRS_WATA]\r\n",
      "  /data1/jenkins/workspace/Notebooks/jwst_validation_notebooks_spacetelescope/miniconda3/envs/jwst_validation_notebooks/lib/python3.9/site-packages/jwst/flatfield/flat_field.py:221: DeprecationWarning: `np.bool` is a deprecated alias for the builtin `bool`. To silence this warning, use `bool` by itself. Doing this will not modify any behavior and is safe. If you specifically wanted the numpy scalar type, use `np.bool_` here.\r\n",
      "  Deprecated in NumPy 1.20; for more details and guidance: https://numpy.org/devdocs/release/1.20.0-notes.html#deprecations\r\n",
      "    flag_nonsci = np.bitwise_and(science.dq, dqflags.pixel['NON_SCIENCE']).astype(np.bool)\r\n",
      "\r\n",
      "-- Docs: https://docs.pytest.org/en/stable/warnings.html\r\n",
      "- generated html file: file:///data1/jenkins/workspace/Notebooks/jwst_validation_notebooks_spacetelescope/jwst_validation_notebooks/regression_test/flatfield/tmpdir/unit_report.html -\r\n",
      "\u001b[33m================== \u001b[32m72 passed\u001b[0m, \u001b[33m\u001b[1m20 skipped\u001b[0m, \u001b[33m\u001b[1m9 warnings\u001b[0m\u001b[33m in 9.59s\u001b[0m\u001b[33m ==================\u001b[0m\r\n"
     ]
    }
   ],
   "source": [
    "jwst_dir = os.path.dirname(jwst.__file__)\n",
    "flat = os.path.join(jwst_dir, 'flatfield')\n",
    "associations = os.path.join(jwst_dir, 'associations')\n",
    "datamodels = os.path.join(jwst_dir, 'datamodels')\n",
    "stpipe = os.path.join(jwst_dir, 'stpipe')\n",
    "regtest = os.path.join(jwst_dir, 'regtest')\n",
    "\n",
    "with tempfile.TemporaryDirectory() as tmpdir:\n",
    "    !pytest --bigdata {flat} -v --ignore={associations} --ignore={datamodels} --ignore={stpipe} --ignore={regtest} --html=tmpdir/unit_report.html --self-contained-html\n",
    "    report = display_report('tmpdir/unit_report.html')\n"
   ]
  },
  {
   "cell_type": "code",
   "execution_count": 4,
   "metadata": {
    "execution": {
     "iopub.execute_input": "2021-02-01T03:36:01.074327Z",
     "iopub.status.busy": "2021-02-01T03:36:01.074023Z",
     "iopub.status.idle": "2021-02-01T03:36:01.076395Z",
     "shell.execute_reply": "2021-02-01T03:36:01.076107Z"
    }
   },
   "outputs": [
    {
     "data": {
      "text/html": [
       "\n",
       "        <iframe\n",
       "            width=\"700\"\n",
       "            height=\"600\"\n",
       "            src=\"tmpdir/unit_report.html\"\n",
       "            frameborder=\"0\"\n",
       "            allowfullscreen\n",
       "        ></iframe>\n",
       "        "
      ],
      "text/plain": [
       "<IPython.lib.display.IFrame at 0x7f5bc80610a0>"
      ]
     },
     "execution_count": 1,
     "metadata": {},
     "output_type": "execute_result"
    }
   ],
   "source": [
    "report"
   ]
  },
  {
   "cell_type": "markdown",
   "metadata": {},
   "source": [
    "<a id=\"about\"></a>\n",
    "## About This Notebook\n",
    "**Author:** Alicia Canipe, Staff Scientist, NIRCam\n",
    "<br>**Updated On:** 01/07/2021"
   ]
  },
  {
   "cell_type": "markdown",
   "metadata": {},
   "source": [
    "[Top of Page](#title_ID)\n",
    "<img style=\"float: right;\" src=\"./stsci_pri_combo_mark_horizonal_white_bkgd.png\" alt=\"stsci_pri_combo_mark_horizonal_white_bkgd\" width=\"200px\"/> "
   ]
  }
 ],
 "metadata": {
  "kernelspec": {
   "display_name": "Python 3",
   "language": "python",
   "name": "python3"
  },
  "language_info": {
   "codemirror_mode": {
    "name": "ipython",
    "version": 3
   },
   "file_extension": ".py",
   "mimetype": "text/x-python",
   "name": "python",
   "nbconvert_exporter": "python",
   "pygments_lexer": "ipython3",
   "version": "3.9.1"
  }
 },
 "nbformat": 4,
 "nbformat_minor": 1
}
