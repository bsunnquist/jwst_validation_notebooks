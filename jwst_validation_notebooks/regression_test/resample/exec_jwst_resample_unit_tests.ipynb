{
 "cells": [
  {
   "cell_type": "markdown",
   "metadata": {},
   "source": [
    "<a id=\"title_ID\"></a>\n",
    "# JWST calwebb_image2 and calwebb_spec2, resample unit tests\n",
    "\n",
    "<span style=\"color:red\"> **Instruments Affected**</span>: NIRCam, NIRISS, NIRSpec, MIRI, FGS\n",
    "\n",
    "### Table of Contents\n",
    "\n",
    "<div style=\"text-align: left\"> \n",
    "    \n",
    "<br> [Introduction](#intro)\n",
    "<br> [JWST Unit Tests](#unit)\n",
    "<br> [Defining Terms](#terms)\n",
    "<br> [Test Description](#description)\n",
    "<br> [Data Description](#data_descr)\n",
    "<br> [Imports](#imports)\n",
    "<br> [Convenience Functions](#functions)\n",
    "<br> [Perform Tests](#testing) \n",
    "<br> [About This Notebook](#about)\n",
    "<br>    \n",
    "\n",
    "</div>"
   ]
  },
  {
   "cell_type": "markdown",
   "metadata": {},
   "source": [
    "<a id=\"intro\"></a>\n",
    "# Introduction\n",
    "\n",
    "This is the validation notebook that displays the unit tests for the Resample step in calwebb_image2 and calwebb_spec2. This notebook runs and displays the unit tests that are performed as a part of the normal software continuous integration process. For more information on the pipeline visit the links below. \n",
    "\n",
    "* Pipeline description: https://jwst-pipeline.readthedocs.io/en/latest/jwst/resample/index.html\n",
    "\n",
    "* Pipeline code: https://github.com/spacetelescope/jwst/tree/master/jwst/\n",
    "\n",
    "[Top of Page](#title_ID)"
   ]
  },
  {
   "cell_type": "markdown",
   "metadata": {},
   "source": [
    "<a id=\"unit\"></a>\n",
    "# JWST Unit Tests\n",
    "\n",
    "JWST unit tests are located in the \"tests\" folder for each pipeline step within the [GitHub repository](https://github.com/spacetelescope/jwst/tree/master/jwst/), e.g., ```jwst/resample/tests```.\n",
    "\n",
    "* Unit test README: https://github.com/spacetelescope/jwst#unit-tests\n",
    "\n",
    "\n",
    "[Top of Page](#title_ID)"
   ]
  },
  {
   "cell_type": "markdown",
   "metadata": {},
   "source": [
    "<a id=\"terms\"></a>\n",
    "# Defining Terms\n",
    "\n",
    "These are terms or acronymns used in this notebook that may not be known a general audience.\n",
    "\n",
    "* JWST: James Webb Space Telescope\n",
    "\n",
    "* NIRCam: Near-Infrared Camera\n",
    "\n",
    "\n",
    "[Top of Page](#title_ID)"
   ]
  },
  {
   "cell_type": "markdown",
   "metadata": {},
   "source": [
    "<a id=\"description\"></a>\n",
    "# Test Description\n",
    "\n",
    "Unit testing is a software testing method by which individual units of source code are tested to determine whether they are working sufficiently well. Unit tests do not require a separate data file; the test creates the necessary test data and parameters as a part of the test code. \n",
    "\n",
    "\n",
    "[Top of Page](#title_ID)"
   ]
  },
  {
   "cell_type": "markdown",
   "metadata": {},
   "source": [
    "<a id=\"data_descr\"></a>\n",
    "# Data Description\n",
    "\n",
    "Data used for unit tests is created on the fly within the test itself, and is typically an array in the expected format of JWST data with added metadata needed to run through the pipeline. \n",
    "\n",
    "\n",
    "[Top of Page](#title_ID)"
   ]
  },
  {
   "cell_type": "markdown",
   "metadata": {},
   "source": [
    "<a id=\"imports\"></a>\n",
    "# Imports\n",
    "\n",
    "* tempfile for creating temporary output products\n",
    "* pytest for unit test functions\n",
    "* jwst for the JWST Pipeline\n",
    "* IPython.display for display pytest reports\n",
    "\n",
    "[Top of Page](#title_ID)"
   ]
  },
  {
   "cell_type": "code",
   "execution_count": 1,
   "metadata": {
    "execution": {
     "iopub.execute_input": "2021-02-05T05:27:05.458710Z",
     "iopub.status.busy": "2021-02-05T05:27:05.458402Z",
     "iopub.status.idle": "2021-02-05T05:27:05.579791Z",
     "shell.execute_reply": "2021-02-05T05:27:05.579401Z"
    }
   },
   "outputs": [],
   "source": [
    "import tempfile\n",
    "import os\n",
    "import pytest\n",
    "import jwst\n",
    "from IPython.display import IFrame\n",
    "from IPython.core.display import HTML"
   ]
  },
  {
   "cell_type": "markdown",
   "metadata": {},
   "source": [
    "<a id=\"functions\"></a>\n",
    "# Convenience Functions\n",
    "\n",
    "Here we define any convenience functions to help with running the unit tests. \n",
    "\n",
    "[Top of Page](#title_ID)"
   ]
  },
  {
   "cell_type": "code",
   "execution_count": null,
   "metadata": {},
   "outputs": [],
   "source": []
  },
  {
   "cell_type": "markdown",
   "metadata": {},
   "source": [
    "<a id=\"testing\"></a>\n",
    "# Perform Tests\n",
    "\n",
    "Below we run the unit tests for the Resample step. \n",
    "\n",
    "[Top of Page](#title_ID)"
   ]
  },
  {
   "cell_type": "code",
   "execution_count": 2,
   "metadata": {
    "execution": {
     "iopub.execute_input": "2021-02-05T05:27:05.585297Z",
     "iopub.status.busy": "2021-02-05T05:27:05.584947Z",
     "iopub.status.idle": "2021-02-05T05:27:14.656535Z",
     "shell.execute_reply": "2021-02-05T05:27:14.656201Z"
    },
    "scrolled": false
   },
   "outputs": [
    {
     "name": "stdout",
     "output_type": "stream",
     "text": [
      "Testing JWST Pipeline 0.18.3\n"
     ]
    },
    {
     "name": "stdout",
     "output_type": "stream",
     "text": [
      "\u001b[1m============================= test session starts ==============================\u001b[0m\r\n",
      "platform linux -- Python 3.8.6, pytest-6.2.2, py-1.10.0, pluggy-0.13.1 -- /data1/jenkins/workspace/Notebooks/jwst_validation_notebooks_spacetelescope/miniconda3/envs/jwst_validation_notebooks/bin/python\r\n",
      "cachedir: .pytest_cache\r\n",
      "metadata: {'Python': '3.8.6', 'Platform': 'Linux-3.10.0-1160.11.1.el7.x86_64-x86_64-with-glibc2.10', 'Packages': {'pytest': '6.2.2', 'py': '1.10.0', 'pluggy': '0.13.1'}, 'Plugins': {'asdf': '2.7.2', 'metadata': '1.11.0', 'html': '3.1.1', 'forked': '1.3.0', 'xdist': '2.2.0', 'ci-watson': '0.5'}, 'BUILD_NUMBER': '54', 'BUILD_ID': '54', 'BUILD_URL': 'https://plwishmaster.stsci.edu:8081/job/Notebooks/job/jwst_validation_notebooks_spacetelescope/54/', 'NODE_NAME': 'jwcalibdev.stsci.edu', 'JOB_NAME': 'Notebooks/jwst_validation_notebooks_spacetelescope', 'BUILD_TAG': 'jenkins-Notebooks-jwst_validation_notebooks_spacetelescope-54', 'EXECUTOR_NUMBER': '6', 'JENKINS_URL': 'https://plwishmaster.stsci.edu:8081/', 'WORKSPACE': '/data1/jenkins/workspace/Notebooks/jwst_validation_notebooks_spacetelescope', 'GIT_COMMIT': '982ffa050d1a2e53178cb0e028c6398565adc0b2', 'GIT_URL': 'https://github.com/spacetelescope/jwst_validation_notebooks', 'GIT_BRANCH': 'origin/master'}\r\n",
      "rootdir: /data1/jenkins/workspace/Notebooks/jwst_validation_notebooks_spacetelescope\r\n",
      "plugins: asdf-2.7.2, metadata-1.11.0, html-3.1.1, forked-1.3.0, xdist-2.2.0, ci-watson-0.5\r\n",
      "\u001b[1mcollecting ... \u001b[0m"
     ]
    },
    {
     "name": "stdout",
     "output_type": "stream",
     "text": [
      "\u001b[1m\r",
      "collected 19 items                                                             \u001b[0m\r\n",
      "\r\n",
      "../../../miniconda3/envs/jwst_validation_notebooks/lib/python3.8/site-packages/jwst/resample/tests/test_interface.py::test_multi_integration_input[ResampleSpecStep] "
     ]
    },
    {
     "name": "stdout",
     "output_type": "stream",
     "text": [
      "\u001b[32mPASSED\u001b[0m\u001b[32m [  5%]\u001b[0m\r\n",
      "../../../miniconda3/envs/jwst_validation_notebooks/lib/python3.8/site-packages/jwst/resample/tests/test_interface.py::test_multi_integration_input[ResampleStep] "
     ]
    },
    {
     "name": "stdout",
     "output_type": "stream",
     "text": [
      "\u001b[32mPASSED\u001b[0m\u001b[32m [ 10%]\u001b[0m\r\n",
      "../../../miniconda3/envs/jwst_validation_notebooks/lib/python3.8/site-packages/jwst/resample/tests/test_resample_step.py::test_nirspec_wcs_roundtrip "
     ]
    },
    {
     "name": "stdout",
     "output_type": "stream",
     "text": [
      "\u001b[32mPASSED\u001b[0m\u001b[32m [ 15%]\u001b[0m\r\n",
      "../../../miniconda3/envs/jwst_validation_notebooks/lib/python3.8/site-packages/jwst/resample/tests/test_resample_step.py::test_miri_wcs_roundtrip "
     ]
    },
    {
     "name": "stdout",
     "output_type": "stream",
     "text": [
      "\u001b[32mPASSED\u001b[0m\u001b[33m [ 21%]\u001b[0m\r\n",
      "../../../miniconda3/envs/jwst_validation_notebooks/lib/python3.8/site-packages/jwst/resample/tests/test_resample_step.py::test_pixel_scale_ratio_spec[0.5] "
     ]
    },
    {
     "name": "stdout",
     "output_type": "stream",
     "text": [
      "\u001b[32mPASSED\u001b[0m\u001b[33m [ 26%]\u001b[0m\r\n",
      "../../../miniconda3/envs/jwst_validation_notebooks/lib/python3.8/site-packages/jwst/resample/tests/test_resample_step.py::test_pixel_scale_ratio_spec[0.7] "
     ]
    },
    {
     "name": "stdout",
     "output_type": "stream",
     "text": [
      "\u001b[32mPASSED\u001b[0m\u001b[33m [ 31%]\u001b[0m"
     ]
    },
    {
     "name": "stdout",
     "output_type": "stream",
     "text": [
      "\r\n",
      "../../../miniconda3/envs/jwst_validation_notebooks/lib/python3.8/site-packages/jwst/resample/tests/test_resample_step.py::test_pixel_scale_ratio_spec[1.0] "
     ]
    },
    {
     "name": "stdout",
     "output_type": "stream",
     "text": [
      "\u001b[32mPASSED\u001b[0m\u001b[33m [ 36%]\u001b[0m\r\n",
      "../../../miniconda3/envs/jwst_validation_notebooks/lib/python3.8/site-packages/jwst/resample/tests/test_resample_step.py::test_pixel_scale_ratio_imaging[0.5] "
     ]
    },
    {
     "name": "stdout",
     "output_type": "stream",
     "text": [
      "\u001b[32mPASSED\u001b[0m\u001b[33m [ 42%]\u001b[0m\r\n",
      "../../../miniconda3/envs/jwst_validation_notebooks/lib/python3.8/site-packages/jwst/resample/tests/test_resample_step.py::test_pixel_scale_ratio_imaging[0.7] "
     ]
    },
    {
     "name": "stdout",
     "output_type": "stream",
     "text": [
      "\u001b[32mPASSED\u001b[0m\u001b[33m [ 47%]\u001b[0m\r\n",
      "../../../miniconda3/envs/jwst_validation_notebooks/lib/python3.8/site-packages/jwst/resample/tests/test_resample_step.py::test_pixel_scale_ratio_imaging[1.0] "
     ]
    },
    {
     "name": "stdout",
     "output_type": "stream",
     "text": [
      "\u001b[32mPASSED\u001b[0m\u001b[33m [ 52%]\u001b[0m\r\n",
      "../../../miniconda3/envs/jwst_validation_notebooks/lib/python3.8/site-packages/jwst/resample/tests/test_resample_step.py::test_sip_coeffs_do_not_propagate "
     ]
    },
    {
     "name": "stdout",
     "output_type": "stream",
     "text": [
      "\u001b[32mPASSED\u001b[0m\u001b[33m [ 57%]\u001b[0m\r\n",
      "../../../miniconda3/envs/jwst_validation_notebooks/lib/python3.8/site-packages/jwst/resample/tests/test_utils.py::test_build_mask[dq0-0-expected0] \u001b[32mPASSED\u001b[0m\u001b[33m [ 63%]\u001b[0m\r\n",
      "../../../miniconda3/envs/jwst_validation_notebooks/lib/python3.8/site-packages/jwst/resample/tests/test_utils.py::test_build_mask[dq1-5-expected1] \u001b[32mPASSED\u001b[0m\u001b[33m [ 68%]\u001b[0m\r\n",
      "../../../miniconda3/envs/jwst_validation_notebooks/lib/python3.8/site-packages/jwst/resample/tests/test_utils.py::test_build_mask[dq2-1, 4-expected2] \u001b[32mPASSED\u001b[0m\u001b[33m [ 73%]\u001b[0m\r\n",
      "../../../miniconda3/envs/jwst_validation_notebooks/lib/python3.8/site-packages/jwst/resample/tests/test_utils.py::test_build_mask[dq3-~1, 4-expected3] \u001b[32mPASSED\u001b[0m\u001b[33m [ 78%]\u001b[0m\r\n",
      "../../../miniconda3/envs/jwst_validation_notebooks/lib/python3.8/site-packages/jwst/resample/tests/test_utils.py::test_build_mask[dq4-DO_NOT_USE, JUMP_DET-expected4] \u001b[32mPASSED\u001b[0m\u001b[33m [ 84%]\u001b[0m\r\n",
      "../../../miniconda3/envs/jwst_validation_notebooks/lib/python3.8/site-packages/jwst/resample/tests/test_utils.py::test_build_mask[dq5-~DO_NOT_USE, JUMP_DET-expected5] \u001b[32mPASSED\u001b[0m\u001b[33m [ 89%]\u001b[0m\r\n",
      "../../../miniconda3/envs/jwst_validation_notebooks/lib/python3.8/site-packages/jwst/resample/tests/test_utils.py::test_build_mask[dq6-None-expected6] \u001b[32mPASSED\u001b[0m\u001b[33m [ 94%]\u001b[0m\r\n",
      "../../../miniconda3/envs/jwst_validation_notebooks/lib/python3.8/site-packages/jwst/resample/tests/test_utils.py::test_find_dispersion_axis \u001b[32mPASSED\u001b[0m\u001b[33m [100%]\u001b[0m"
     ]
    },
    {
     "name": "stdout",
     "output_type": "stream",
     "text": [
      "\r\n",
      "\r\n",
      "\u001b[33m=============================== warnings summary ===============================\u001b[0m\r\n",
      "miniconda3/envs/jwst_validation_notebooks/lib/python3.8/site-packages/jwst/resample/tests/test_resample_step.py::test_nirspec_wcs_roundtrip\r\n",
      "miniconda3/envs/jwst_validation_notebooks/lib/python3.8/site-packages/jwst/resample/tests/test_resample_step.py::test_nirspec_wcs_roundtrip\r\n",
      "  /data1/jenkins/workspace/Notebooks/jwst_validation_notebooks_spacetelescope/miniconda3/envs/jwst_validation_notebooks/lib/python3.8/site-packages/jwst/transforms/models.py:227: DeprecationWarning: `np.float` is a deprecated alias for the builtin `float`. To silence this warning, use `float` by itself. Doing this will not modify any behavior and is safe. If you specifically wanted the numpy scalar type, use `np.float64` here.\r\n",
      "  Deprecated in NumPy 1.20; for more details and guidance: https://numpy.org/devdocs/release/1.20.0-notes.html#deprecations\r\n",
      "    self.kcoef = np.array(kcoef, dtype=np.float)\r\n",
      "\r\n",
      "miniconda3/envs/jwst_validation_notebooks/lib/python3.8/site-packages/jwst/resample/tests/test_resample_step.py::test_nirspec_wcs_roundtrip\r\n",
      "miniconda3/envs/jwst_validation_notebooks/lib/python3.8/site-packages/jwst/resample/tests/test_resample_step.py::test_nirspec_wcs_roundtrip\r\n",
      "  /data1/jenkins/workspace/Notebooks/jwst_validation_notebooks_spacetelescope/miniconda3/envs/jwst_validation_notebooks/lib/python3.8/site-packages/jwst/transforms/models.py:228: DeprecationWarning: `np.float` is a deprecated alias for the builtin `float`. To silence this warning, use `float` by itself. Doing this will not modify any behavior and is safe. If you specifically wanted the numpy scalar type, use `np.float64` here.\r\n",
      "  Deprecated in NumPy 1.20; for more details and guidance: https://numpy.org/devdocs/release/1.20.0-notes.html#deprecations\r\n",
      "    self.lcoef = np.array(lcoef, dtype=np.float)\r\n",
      "\r\n",
      "miniconda3/envs/jwst_validation_notebooks/lib/python3.8/site-packages/jwst/resample/tests/test_resample_step.py::test_nirspec_wcs_roundtrip\r\n",
      "miniconda3/envs/jwst_validation_notebooks/lib/python3.8/site-packages/jwst/resample/tests/test_resample_step.py::test_nirspec_wcs_roundtrip\r\n",
      "  /data1/jenkins/workspace/Notebooks/jwst_validation_notebooks_spacetelescope/miniconda3/envs/jwst_validation_notebooks/lib/python3.8/site-packages/jwst/transforms/models.py:229: DeprecationWarning: `np.float` is a deprecated alias for the builtin `float`. To silence this warning, use `float` by itself. Doing this will not modify any behavior and is safe. If you specifically wanted the numpy scalar type, use `np.float64` here.\r\n",
      "  Deprecated in NumPy 1.20; for more details and guidance: https://numpy.org/devdocs/release/1.20.0-notes.html#deprecations\r\n",
      "    self.tcoef = np.array(tcoef, dtype=np.float)\r\n",
      "\r\n",
      "miniconda3/envs/jwst_validation_notebooks/lib/python3.8/site-packages/jwst/resample/tests/test_resample_step.py: 17 warnings\r\n",
      "  /data1/jenkins/workspace/Notebooks/jwst_validation_notebooks_spacetelescope/miniconda3/envs/jwst_validation_notebooks/lib/python3.8/site-packages/gwcs/utils.py:72: DeprecationWarning: `np.int` is a deprecated alias for the builtin `int`. To silence this warning, use `int` by itself. Doing this will not modify any behavior and is safe. When replacing `np.int`, you may wish to use e.g. `np.int64` or `np.int32` to specify the precision. If you wish to review your current use, check the release note link for additional information.\r\n",
      "  Deprecated in NumPy 1.20; for more details and guidance: https://numpy.org/devdocs/release/1.20.0-notes.html#deprecations\r\n",
      "    indx = np.asarray(np.floor(np.asarray(value) + 0.5), dtype=np.int)\r\n",
      "\r\n",
      "miniconda3/envs/jwst_validation_notebooks/lib/python3.8/site-packages/jwst/resample/tests/test_resample_step.py::test_nirspec_wcs_roundtrip\r\n",
      "miniconda3/envs/jwst_validation_notebooks/lib/python3.8/site-packages/jwst/resample/tests/test_resample_step.py::test_nirspec_wcs_roundtrip\r\n",
      "  /data1/jenkins/workspace/Notebooks/jwst_validation_notebooks_spacetelescope/miniconda3/envs/jwst_validation_notebooks/lib/python3.8/site-packages/gwcs/geometry.py:203: RuntimeWarning: invalid value encountered in remainder\r\n",
      "    lon = np.mod(lon, 360.0 * u.deg if nquant else 360.0)\r\n",
      "\r\n",
      "-- Docs: https://docs.pytest.org/en/stable/warnings.html\r\n",
      "- generated html file: file:///data1/jenkins/workspace/Notebooks/jwst_validation_notebooks_spacetelescope/tmp/tmpa01y_kt8/regtest_report.html -\r\n",
      "\u001b[33m======================= \u001b[32m19 passed\u001b[0m, \u001b[33m\u001b[1m25 warnings\u001b[0m\u001b[33m in 7.93s\u001b[0m\u001b[33m ========================\u001b[0m\r\n"
     ]
    }
   ],
   "source": [
    "print(\"Testing JWST Pipeline {}\".format(jwst.__version__))\n",
    "\n",
    "jwst_dir = os.path.dirname(jwst.__file__)\n",
    "resample = os.path.join(jwst_dir, 'resample')\n",
    "associations = os.path.join(jwst_dir, 'associations')\n",
    "datamodels = os.path.join(jwst_dir, 'datamodels')\n",
    "stpipe = os.path.join(jwst_dir, 'stpipe')\n",
    "regtest = os.path.join(jwst_dir, 'regtest')\n",
    "\n",
    "with tempfile.TemporaryDirectory() as tmpdir:\n",
    "    outdir = os.path.join(tmpdir, 'regtest_report.html')\n",
    "    !pytest --bigdata {resample} -v --ignore={associations} --ignore={datamodels} --ignore={stpipe} --ignore={regtest} --html={outdir} --self-contained-html\n",
    "    with open(os.path.join(tmpdir, \"regtest_report.html\")) as report_file:\n",
    "        html_report = \"\".join(report_file.readlines())"
   ]
  },
  {
   "cell_type": "code",
   "execution_count": 1,
   "metadata": {
    "execution": {
     "iopub.execute_input": "2021-02-05T05:27:14.659618Z",
     "iopub.status.busy": "2021-02-05T05:27:14.659325Z",
     "iopub.status.idle": "2021-02-05T05:27:14.714752Z",
     "shell.execute_reply": "2021-02-05T05:27:14.714110Z"
    }
   },
   "outputs": [
    {
     "ename": "NameError",
     "evalue": "name 'report' is not defined",
     "output_type": "error",
     "traceback": [
      "\u001b[0;31m---------------------------------------------------------------------------\u001b[0m",
      "\u001b[0;31mNameError\u001b[0m                                 Traceback (most recent call last)",
      "\u001b[0;32m<ipython-input-1-07d3306fc65e>\u001b[0m in \u001b[0;36m<module>\u001b[0;34m\u001b[0m\n\u001b[0;32m----> 1\u001b[0;31m \u001b[0mreport\u001b[0m\u001b[0;34m\u001b[0m\u001b[0;34m\u001b[0m\u001b[0m\n\u001b[0m",
      "\u001b[0;31mNameError\u001b[0m: name 'report' is not defined"
     ]
    }
   ],
   "source": [
    "report"
   ]
  },
  {
   "cell_type": "markdown",
   "metadata": {},
   "source": [
    "<a id=\"about\"></a>\n",
    "## About This Notebook\n",
    "**Author:** Alicia Canipe, Staff Scientist, NIRCam\n",
    "<br>**Updated On:** 01/07/2021"
   ]
  },
  {
   "cell_type": "markdown",
   "metadata": {},
   "source": [
    "[Top of Page](#title_ID)\n",
    "<img style=\"float: right;\" src=\"./stsci_pri_combo_mark_horizonal_white_bkgd.png\" alt=\"stsci_pri_combo_mark_horizonal_white_bkgd\" width=\"200px\"/> "
   ]
  }
 ],
 "metadata": {
  "kernelspec": {
   "display_name": "Python 3",
   "language": "python",
   "name": "python3"
  },
  "language_info": {
   "codemirror_mode": {
    "name": "ipython",
    "version": 3
   },
   "file_extension": ".py",
   "mimetype": "text/x-python",
   "name": "python",
   "nbconvert_exporter": "python",
   "pygments_lexer": "ipython3",
   "version": "3.8.6"
  }
 },
 "nbformat": 4,
 "nbformat_minor": 1
}
