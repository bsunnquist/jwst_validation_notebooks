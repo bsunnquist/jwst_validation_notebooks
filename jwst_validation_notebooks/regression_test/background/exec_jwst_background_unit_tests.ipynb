{
 "cells": [
  {
   "cell_type": "markdown",
   "metadata": {},
   "source": [
    "<a id=\"title_ID\"></a>\n",
    "# JWST calwebb_image2, background unit tests\n",
    "\n",
    "<span style=\"color:red\"> **Instruments Affected**</span>: NIRCam, NIRISS, NIRSpec, MIRI, FGS\n",
    "\n",
    "### Table of Contents\n",
    "\n",
    "<div style=\"text-align: left\"> \n",
    "    \n",
    "<br> [Introduction](#intro)\n",
    "<br> [JWST Unit Tests](#unit)\n",
    "<br> [Defining Terms](#terms)\n",
    "<br> [Test Description](#description)\n",
    "<br> [Data Description](#data_descr)\n",
    "<br> [Imports](#imports)\n",
    "<br> [Convenience Functions](#functions)\n",
    "<br> [Perform Tests](#testing) \n",
    "<br> [About This Notebook](#about)\n",
    "<br>    \n",
    "\n",
    "</div>"
   ]
  },
  {
   "cell_type": "markdown",
   "metadata": {},
   "source": [
    "<a id=\"intro\"></a>\n",
    "# Introduction\n",
    "\n",
    "This is the validation notebook that displays the unit tests for the Background step in calwebb_image2. This notebook runs and displays the unit tests that are performed as a part of the normal software continuous integration process. For more information on the pipeline visit the links below. \n",
    "\n",
    "* Pipeline description: https://jwst-pipeline.readthedocs.io/en/latest/jwst/background/index.html\n",
    "\n",
    "* Pipeline code: https://github.com/spacetelescope/jwst/tree/master/jwst/\n",
    "\n",
    "[Top of Page](#title_ID)"
   ]
  },
  {
   "cell_type": "markdown",
   "metadata": {},
   "source": [
    "<a id=\"unit\"></a>\n",
    "# JWST Unit Tests\n",
    "\n",
    "JWST unit tests are located in the \"tests\" folder for each pipeline step within the [GitHub repository](https://github.com/spacetelescope/jwst/tree/master/jwst/), e.g., ```jwst/background/tests```.\n",
    "\n",
    "* Unit test README: https://github.com/spacetelescope/jwst#unit-tests\n",
    "\n",
    "\n",
    "[Top of Page](#title_ID)"
   ]
  },
  {
   "cell_type": "markdown",
   "metadata": {},
   "source": [
    "<a id=\"terms\"></a>\n",
    "# Defining Terms\n",
    "\n",
    "These are terms or acronymns used in this notebook that may not be known a general audience.\n",
    "\n",
    "* JWST: James Webb Space Telescope\n",
    "\n",
    "* NIRCam: Near-Infrared Camera\n",
    "\n",
    "\n",
    "[Top of Page](#title_ID)"
   ]
  },
  {
   "cell_type": "markdown",
   "metadata": {},
   "source": [
    "<a id=\"description\"></a>\n",
    "# Test Description\n",
    "\n",
    "Unit testing is a software testing method by which individual units of source code are tested to determine whether they are working sufficiently well. Unit tests do not require a separate data file; the test creates the necessary test data and parameters as a part of the test code. \n",
    "\n",
    "\n",
    "[Top of Page](#title_ID)"
   ]
  },
  {
   "cell_type": "markdown",
   "metadata": {},
   "source": [
    "<a id=\"data_descr\"></a>\n",
    "# Data Description\n",
    "\n",
    "Data used for unit tests is created on the fly within the test itself, and is typically an array in the expected format of JWST data with added metadata needed to run through the pipeline. \n",
    "\n",
    "\n",
    "[Top of Page](#title_ID)"
   ]
  },
  {
   "cell_type": "markdown",
   "metadata": {},
   "source": [
    "<a id=\"imports\"></a>\n",
    "# Imports\n",
    "\n",
    "* tempfile for creating temporary output products\n",
    "* pytest for unit test functions\n",
    "* jwst for the JWST Pipeline\n",
    "* IPython.display for display pytest reports\n",
    "\n",
    "[Top of Page](#title_ID)"
   ]
  },
  {
   "cell_type": "code",
   "execution_count": 1,
   "metadata": {
    "execution": {
     "iopub.execute_input": "2021-02-01T03:33:45.143257Z",
     "iopub.status.busy": "2021-02-01T03:33:45.142954Z",
     "iopub.status.idle": "2021-02-01T03:33:45.262189Z",
     "shell.execute_reply": "2021-02-01T03:33:45.261867Z"
    }
   },
   "outputs": [],
   "source": [
    "import tempfile\n",
    "import os\n",
    "import pytest\n",
    "import jwst\n",
    "from IPython.display import IFrame"
   ]
  },
  {
   "cell_type": "markdown",
   "metadata": {},
   "source": [
    "<a id=\"functions\"></a>\n",
    "# Convenience Functions\n",
    "\n",
    "Here we define any convenience functions to help with running the unit tests. \n",
    "\n",
    "[Top of Page](#title_ID)"
   ]
  },
  {
   "cell_type": "code",
   "execution_count": 2,
   "metadata": {
    "execution": {
     "iopub.execute_input": "2021-02-01T03:33:45.264831Z",
     "iopub.status.busy": "2021-02-01T03:33:45.264521Z",
     "iopub.status.idle": "2021-02-01T03:33:45.266389Z",
     "shell.execute_reply": "2021-02-01T03:33:45.266067Z"
    }
   },
   "outputs": [],
   "source": [
    "def display_report(fname):\n",
    "    '''Convenience function to display pytest report.'''\n",
    "    \n",
    "    return IFrame(src=fname, width=700, height=600)"
   ]
  },
  {
   "cell_type": "markdown",
   "metadata": {},
   "source": [
    "<a id=\"testing\"></a>\n",
    "# Perform Tests\n",
    "\n",
    "Below we run the unit tests for the Background step. \n",
    "\n",
    "[Top of Page](#title_ID)"
   ]
  },
  {
   "cell_type": "code",
   "execution_count": 3,
   "metadata": {
    "execution": {
     "iopub.execute_input": "2021-02-01T03:33:45.270366Z",
     "iopub.status.busy": "2021-02-01T03:33:45.270064Z",
     "iopub.status.idle": "2021-02-01T03:35:49.383950Z",
     "shell.execute_reply": "2021-02-01T03:35:49.383588Z"
    },
    "scrolled": false
   },
   "outputs": [
    {
     "name": "stdout",
     "output_type": "stream",
     "text": [
      "\u001b[1m============================= test session starts ==============================\u001b[0m\r\n",
      "platform linux -- Python 3.9.1, pytest-6.2.2, py-1.10.0, pluggy-0.13.1 -- /data1/jenkins/workspace/Notebooks/jwst_validation_notebooks_spacetelescope/miniconda3/envs/jwst_validation_notebooks/bin/python\r\n",
      "cachedir: .pytest_cache\r\n",
      "metadata: {'Python': '3.9.1', 'Platform': 'Linux-3.10.0-1160.11.1.el7.x86_64-x86_64-with-glibc2.17', 'Packages': {'pytest': '6.2.2', 'py': '1.10.0', 'pluggy': '0.13.1'}, 'Plugins': {'metadata': '1.11.0', 'asdf': '2.7.2', 'html': '3.1.1', 'forked': '1.3.0', 'xdist': '2.2.0', 'ci-watson': '0.5'}, 'BUILD_NUMBER': '52', 'BUILD_ID': '52', 'BUILD_URL': 'https://plwishmaster.stsci.edu:8081/job/Notebooks/job/jwst_validation_notebooks_spacetelescope/52/', 'NODE_NAME': 'jwcalibdev.stsci.edu', 'JOB_NAME': 'Notebooks/jwst_validation_notebooks_spacetelescope', 'BUILD_TAG': 'jenkins-Notebooks-jwst_validation_notebooks_spacetelescope-52', 'EXECUTOR_NUMBER': '29', 'JENKINS_URL': 'https://plwishmaster.stsci.edu:8081/', 'WORKSPACE': '/data1/jenkins/workspace/Notebooks/jwst_validation_notebooks_spacetelescope', 'GIT_COMMIT': 'f6ea8bc553cb5ba6998fd20927d8e020dec1e853', 'GIT_URL': 'https://github.com/spacetelescope/jwst_validation_notebooks', 'GIT_BRANCH': 'origin/master'}\r\n",
      "rootdir: /data1/jenkins/workspace/Notebooks/jwst_validation_notebooks_spacetelescope\r\n",
      "plugins: metadata-1.11.0, asdf-2.7.2, html-3.1.1, forked-1.3.0, xdist-2.2.0, ci-watson-0.5\r\n",
      "\u001b[1mcollecting ... \u001b[0m"
     ]
    },
    {
     "name": "stdout",
     "output_type": "stream",
     "text": [
      "\u001b[1m\r",
      "collecting 53 items                                                            \u001b[0m\u001b[1m\r",
      "collected 53 items                                                             \u001b[0m\r\n",
      "\r\n",
      "../../../miniconda3/envs/jwst_validation_notebooks/lib/python3.9/site-packages/jwst/background/tests/test_background.py::test_nirspec_gwa "
     ]
    },
    {
     "name": "stdout",
     "output_type": "stream",
     "text": [
      "\u001b[32mPASSED\u001b[0m\u001b[32m [  1%]\u001b[0m\r\n",
      "../../../miniconda3/envs/jwst_validation_notebooks/lib/python3.9/site-packages/jwst/background/tests/test_background.py::test_nirspec_gwa_xtilt "
     ]
    },
    {
     "name": "stdout",
     "output_type": "stream",
     "text": [
      "\u001b[32mPASSED\u001b[0m\u001b[32m [  3%]\u001b[0m\r\n",
      "../../../miniconda3/envs/jwst_validation_notebooks/lib/python3.9/site-packages/jwst/background/tests/test_background.py::test_nirspec_gwa_ytitl "
     ]
    },
    {
     "name": "stdout",
     "output_type": "stream",
     "text": [
      "\u001b[32mPASSED\u001b[0m\u001b[32m [  5%]\u001b[0m\r\n",
      "../../../miniconda3/envs/jwst_validation_notebooks/lib/python3.9/site-packages/jwst/background/tests/test_background.py::test_nrc_wfss_background[NRCALONG-F250M-GRISMC] "
     ]
    },
    {
     "name": "stdout",
     "output_type": "stream",
     "text": [
      "\u001b[32mPASSED\u001b[0m\u001b[32m [  7%]\u001b[0m\r\n",
      "../../../miniconda3/envs/jwst_validation_notebooks/lib/python3.9/site-packages/jwst/background/tests/test_background.py::test_nrc_wfss_background[NRCALONG-F250M-GRISMR] "
     ]
    },
    {
     "name": "stdout",
     "output_type": "stream",
     "text": [
      "\u001b[32mPASSED\u001b[0m\u001b[33m [  9%]\u001b[0m\r\n",
      "../../../miniconda3/envs/jwst_validation_notebooks/lib/python3.9/site-packages/jwst/background/tests/test_background.py::test_nrc_wfss_background[NRCALONG-F277W-GRISMC] "
     ]
    },
    {
     "name": "stdout",
     "output_type": "stream",
     "text": [
      "\u001b[32mPASSED\u001b[0m\u001b[33m [ 11%]\u001b[0m\r\n",
      "../../../miniconda3/envs/jwst_validation_notebooks/lib/python3.9/site-packages/jwst/background/tests/test_background.py::test_nrc_wfss_background[NRCALONG-F277W-GRISMR] "
     ]
    },
    {
     "name": "stdout",
     "output_type": "stream",
     "text": [
      "\u001b[32mPASSED\u001b[0m\u001b[33m [ 13%]\u001b[0m\r\n",
      "../../../miniconda3/envs/jwst_validation_notebooks/lib/python3.9/site-packages/jwst/background/tests/test_background.py::test_nrc_wfss_background[NRCALONG-F335M-GRISMC] "
     ]
    },
    {
     "name": "stdout",
     "output_type": "stream",
     "text": [
      "\u001b[32mPASSED\u001b[0m\u001b[33m [ 15%]\u001b[0m\r\n",
      "../../../miniconda3/envs/jwst_validation_notebooks/lib/python3.9/site-packages/jwst/background/tests/test_background.py::test_nrc_wfss_background[NRCALONG-F335M-GRISMR] "
     ]
    },
    {
     "name": "stdout",
     "output_type": "stream",
     "text": [
      "\u001b[32mPASSED\u001b[0m\u001b[33m [ 16%]\u001b[0m\r\n",
      "../../../miniconda3/envs/jwst_validation_notebooks/lib/python3.9/site-packages/jwst/background/tests/test_background.py::test_nrc_wfss_background[NRCALONG-F356W0-GRISMC] "
     ]
    },
    {
     "name": "stdout",
     "output_type": "stream",
     "text": [
      "\u001b[32mPASSED\u001b[0m\u001b[33m [ 18%]\u001b[0m\r\n",
      "../../../miniconda3/envs/jwst_validation_notebooks/lib/python3.9/site-packages/jwst/background/tests/test_background.py::test_nrc_wfss_background[NRCALONG-F356W0-GRISMR] "
     ]
    },
    {
     "name": "stdout",
     "output_type": "stream",
     "text": [
      "\u001b[32mPASSED\u001b[0m\u001b[33m [ 20%]\u001b[0m\r\n",
      "../../../miniconda3/envs/jwst_validation_notebooks/lib/python3.9/site-packages/jwst/background/tests/test_background.py::test_nrc_wfss_background[NRCALONG-F460M-GRISMC] "
     ]
    },
    {
     "name": "stdout",
     "output_type": "stream",
     "text": [
      "\u001b[32mPASSED\u001b[0m\u001b[33m [ 22%]\u001b[0m"
     ]
    },
    {
     "name": "stdout",
     "output_type": "stream",
     "text": [
      "\r\n",
      "../../../miniconda3/envs/jwst_validation_notebooks/lib/python3.9/site-packages/jwst/background/tests/test_background.py::test_nrc_wfss_background[NRCALONG-F460M-GRISMR] "
     ]
    },
    {
     "name": "stdout",
     "output_type": "stream",
     "text": [
      "\u001b[32mPASSED\u001b[0m\u001b[33m [ 24%]\u001b[0m"
     ]
    },
    {
     "name": "stdout",
     "output_type": "stream",
     "text": [
      "\r\n",
      "../../../miniconda3/envs/jwst_validation_notebooks/lib/python3.9/site-packages/jwst/background/tests/test_background.py::test_nrc_wfss_background[NRCALONG-F356W1-GRISMC] "
     ]
    },
    {
     "name": "stdout",
     "output_type": "stream",
     "text": [
      "\u001b[32mPASSED\u001b[0m\u001b[33m [ 26%]\u001b[0m\r\n",
      "../../../miniconda3/envs/jwst_validation_notebooks/lib/python3.9/site-packages/jwst/background/tests/test_background.py::test_nrc_wfss_background[NRCALONG-F356W1-GRISMR] "
     ]
    },
    {
     "name": "stdout",
     "output_type": "stream",
     "text": [
      "\u001b[32mPASSED\u001b[0m\u001b[33m [ 28%]\u001b[0m\r\n",
      "../../../miniconda3/envs/jwst_validation_notebooks/lib/python3.9/site-packages/jwst/background/tests/test_background.py::test_nrc_wfss_background[NRCALONG-F410M-GRISMC] "
     ]
    },
    {
     "name": "stdout",
     "output_type": "stream",
     "text": [
      "\u001b[32mPASSED\u001b[0m\u001b[33m [ 30%]\u001b[0m\r\n",
      "../../../miniconda3/envs/jwst_validation_notebooks/lib/python3.9/site-packages/jwst/background/tests/test_background.py::test_nrc_wfss_background[NRCALONG-F410M-GRISMR] "
     ]
    },
    {
     "name": "stdout",
     "output_type": "stream",
     "text": [
      "\u001b[32mPASSED\u001b[0m\u001b[33m [ 32%]\u001b[0m\r\n",
      "../../../miniconda3/envs/jwst_validation_notebooks/lib/python3.9/site-packages/jwst/background/tests/test_background.py::test_nrc_wfss_background[NRCALONG-F430M-GRISMC] "
     ]
    },
    {
     "name": "stdout",
     "output_type": "stream",
     "text": [
      "\u001b[32mPASSED\u001b[0m\u001b[33m [ 33%]\u001b[0m\r\n",
      "../../../miniconda3/envs/jwst_validation_notebooks/lib/python3.9/site-packages/jwst/background/tests/test_background.py::test_nrc_wfss_background[NRCALONG-F430M-GRISMR] "
     ]
    },
    {
     "name": "stdout",
     "output_type": "stream",
     "text": [
      "\u001b[32mPASSED\u001b[0m\u001b[33m [ 35%]\u001b[0m\r\n",
      "../../../miniconda3/envs/jwst_validation_notebooks/lib/python3.9/site-packages/jwst/background/tests/test_background.py::test_nrc_wfss_background[NRCALONG-F444W-GRISMC] "
     ]
    },
    {
     "name": "stdout",
     "output_type": "stream",
     "text": [
      "\u001b[32mPASSED\u001b[0m\u001b[33m [ 37%]\u001b[0m\r\n",
      "../../../miniconda3/envs/jwst_validation_notebooks/lib/python3.9/site-packages/jwst/background/tests/test_background.py::test_nrc_wfss_background[NRCALONG-F444W-GRISMR] "
     ]
    },
    {
     "name": "stdout",
     "output_type": "stream",
     "text": [
      "\u001b[32mPASSED\u001b[0m\u001b[33m [ 39%]\u001b[0m\r\n",
      "../../../miniconda3/envs/jwst_validation_notebooks/lib/python3.9/site-packages/jwst/background/tests/test_background.py::test_nrc_wfss_background[NRCBLONG-F250M-GRISMC] "
     ]
    },
    {
     "name": "stdout",
     "output_type": "stream",
     "text": [
      "\u001b[32mPASSED\u001b[0m\u001b[33m [ 41%]\u001b[0m\r\n",
      "../../../miniconda3/envs/jwst_validation_notebooks/lib/python3.9/site-packages/jwst/background/tests/test_background.py::test_nrc_wfss_background[NRCBLONG-F250M-GRISMR] "
     ]
    },
    {
     "name": "stdout",
     "output_type": "stream",
     "text": [
      "\u001b[32mPASSED\u001b[0m\u001b[33m [ 43%]\u001b[0m\r\n",
      "../../../miniconda3/envs/jwst_validation_notebooks/lib/python3.9/site-packages/jwst/background/tests/test_background.py::test_nrc_wfss_background[NRCBLONG-F277W-GRISMC] "
     ]
    },
    {
     "name": "stdout",
     "output_type": "stream",
     "text": [
      "\u001b[32mPASSED\u001b[0m\u001b[33m [ 45%]\u001b[0m\r\n",
      "../../../miniconda3/envs/jwst_validation_notebooks/lib/python3.9/site-packages/jwst/background/tests/test_background.py::test_nrc_wfss_background[NRCBLONG-F277W-GRISMR] "
     ]
    },
    {
     "name": "stdout",
     "output_type": "stream",
     "text": [
      "\u001b[32mPASSED\u001b[0m\u001b[33m [ 47%]\u001b[0m"
     ]
    },
    {
     "name": "stdout",
     "output_type": "stream",
     "text": [
      "\r\n",
      "../../../miniconda3/envs/jwst_validation_notebooks/lib/python3.9/site-packages/jwst/background/tests/test_background.py::test_nrc_wfss_background[NRCBLONG-F335M-GRISMC] "
     ]
    },
    {
     "name": "stdout",
     "output_type": "stream",
     "text": [
      "\u001b[32mPASSED\u001b[0m\u001b[33m [ 49%]\u001b[0m\r\n",
      "../../../miniconda3/envs/jwst_validation_notebooks/lib/python3.9/site-packages/jwst/background/tests/test_background.py::test_nrc_wfss_background[NRCBLONG-F335M-GRISMR] "
     ]
    },
    {
     "name": "stdout",
     "output_type": "stream",
     "text": [
      "\u001b[32mPASSED\u001b[0m\u001b[33m [ 50%]\u001b[0m\r\n",
      "../../../miniconda3/envs/jwst_validation_notebooks/lib/python3.9/site-packages/jwst/background/tests/test_background.py::test_nrc_wfss_background[NRCBLONG-F356W0-GRISMC] "
     ]
    },
    {
     "name": "stdout",
     "output_type": "stream",
     "text": [
      "\u001b[32mPASSED\u001b[0m\u001b[33m [ 52%]\u001b[0m\r\n",
      "../../../miniconda3/envs/jwst_validation_notebooks/lib/python3.9/site-packages/jwst/background/tests/test_background.py::test_nrc_wfss_background[NRCBLONG-F356W0-GRISMR] "
     ]
    },
    {
     "name": "stdout",
     "output_type": "stream",
     "text": [
      "\u001b[32mPASSED\u001b[0m\u001b[33m [ 54%]\u001b[0m\r\n",
      "../../../miniconda3/envs/jwst_validation_notebooks/lib/python3.9/site-packages/jwst/background/tests/test_background.py::test_nrc_wfss_background[NRCBLONG-F460M-GRISMC] "
     ]
    },
    {
     "name": "stdout",
     "output_type": "stream",
     "text": [
      "\u001b[32mPASSED\u001b[0m\u001b[33m [ 56%]\u001b[0m\r\n",
      "../../../miniconda3/envs/jwst_validation_notebooks/lib/python3.9/site-packages/jwst/background/tests/test_background.py::test_nrc_wfss_background[NRCBLONG-F460M-GRISMR] "
     ]
    },
    {
     "name": "stdout",
     "output_type": "stream",
     "text": [
      "\u001b[32mPASSED\u001b[0m\u001b[33m [ 58%]\u001b[0m\r\n",
      "../../../miniconda3/envs/jwst_validation_notebooks/lib/python3.9/site-packages/jwst/background/tests/test_background.py::test_nrc_wfss_background[NRCBLONG-F356W1-GRISMC] "
     ]
    },
    {
     "name": "stdout",
     "output_type": "stream",
     "text": [
      "\u001b[32mPASSED\u001b[0m\u001b[33m [ 60%]\u001b[0m\r\n",
      "../../../miniconda3/envs/jwst_validation_notebooks/lib/python3.9/site-packages/jwst/background/tests/test_background.py::test_nrc_wfss_background[NRCBLONG-F356W1-GRISMR] "
     ]
    },
    {
     "name": "stdout",
     "output_type": "stream",
     "text": [
      "\u001b[32mPASSED\u001b[0m\u001b[33m [ 62%]\u001b[0m\r\n",
      "../../../miniconda3/envs/jwst_validation_notebooks/lib/python3.9/site-packages/jwst/background/tests/test_background.py::test_nrc_wfss_background[NRCBLONG-F410M-GRISMC] "
     ]
    },
    {
     "name": "stdout",
     "output_type": "stream",
     "text": [
      "\u001b[32mPASSED\u001b[0m\u001b[33m [ 64%]\u001b[0m\r\n",
      "../../../miniconda3/envs/jwst_validation_notebooks/lib/python3.9/site-packages/jwst/background/tests/test_background.py::test_nrc_wfss_background[NRCBLONG-F410M-GRISMR] "
     ]
    },
    {
     "name": "stdout",
     "output_type": "stream",
     "text": [
      "\u001b[32mPASSED\u001b[0m\u001b[33m [ 66%]\u001b[0m\r\n",
      "../../../miniconda3/envs/jwst_validation_notebooks/lib/python3.9/site-packages/jwst/background/tests/test_background.py::test_nrc_wfss_background[NRCBLONG-F430M-GRISMC] "
     ]
    },
    {
     "name": "stdout",
     "output_type": "stream",
     "text": [
      "\u001b[32mPASSED\u001b[0m\u001b[33m [ 67%]\u001b[0m\r\n",
      "../../../miniconda3/envs/jwst_validation_notebooks/lib/python3.9/site-packages/jwst/background/tests/test_background.py::test_nrc_wfss_background[NRCBLONG-F430M-GRISMR] "
     ]
    },
    {
     "name": "stdout",
     "output_type": "stream",
     "text": [
      "\u001b[32mPASSED\u001b[0m\u001b[33m [ 69%]\u001b[0m\r\n",
      "../../../miniconda3/envs/jwst_validation_notebooks/lib/python3.9/site-packages/jwst/background/tests/test_background.py::test_nrc_wfss_background[NRCBLONG-F444W-GRISMC] "
     ]
    },
    {
     "name": "stdout",
     "output_type": "stream",
     "text": [
      "\u001b[32mPASSED\u001b[0m\u001b[33m [ 71%]\u001b[0m\r\n",
      "../../../miniconda3/envs/jwst_validation_notebooks/lib/python3.9/site-packages/jwst/background/tests/test_background.py::test_nrc_wfss_background[NRCBLONG-F444W-GRISMR] "
     ]
    },
    {
     "name": "stdout",
     "output_type": "stream",
     "text": [
      "\u001b[32mPASSED\u001b[0m\u001b[33m [ 73%]\u001b[0m\r\n",
      "../../../miniconda3/envs/jwst_validation_notebooks/lib/python3.9/site-packages/jwst/background/tests/test_background.py::test_nis_wfss_background[F090W-GR150C] "
     ]
    },
    {
     "name": "stdout",
     "output_type": "stream",
     "text": [
      "\u001b[32mPASSED\u001b[0m\u001b[33m [ 75%]\u001b[0m\r\n",
      "../../../miniconda3/envs/jwst_validation_notebooks/lib/python3.9/site-packages/jwst/background/tests/test_background.py::test_nis_wfss_background[F090W-GR150R] "
     ]
    },
    {
     "name": "stdout",
     "output_type": "stream",
     "text": [
      "\u001b[32mPASSED\u001b[0m\u001b[33m [ 77%]\u001b[0m\r\n",
      "../../../miniconda3/envs/jwst_validation_notebooks/lib/python3.9/site-packages/jwst/background/tests/test_background.py::test_nis_wfss_background[F115W-GR150C] "
     ]
    },
    {
     "name": "stdout",
     "output_type": "stream",
     "text": [
      "\u001b[32mPASSED\u001b[0m\u001b[33m [ 79%]\u001b[0m\r\n",
      "../../../miniconda3/envs/jwst_validation_notebooks/lib/python3.9/site-packages/jwst/background/tests/test_background.py::test_nis_wfss_background[F115W-GR150R] "
     ]
    },
    {
     "name": "stdout",
     "output_type": "stream",
     "text": [
      "\u001b[32mPASSED\u001b[0m\u001b[33m [ 81%]\u001b[0m\r\n",
      "../../../miniconda3/envs/jwst_validation_notebooks/lib/python3.9/site-packages/jwst/background/tests/test_background.py::test_nis_wfss_background[F140M-GR150C] "
     ]
    },
    {
     "name": "stdout",
     "output_type": "stream",
     "text": [
      "\u001b[32mPASSED\u001b[0m\u001b[33m [ 83%]\u001b[0m\r\n",
      "../../../miniconda3/envs/jwst_validation_notebooks/lib/python3.9/site-packages/jwst/background/tests/test_background.py::test_nis_wfss_background[F140M-GR150R] "
     ]
    },
    {
     "name": "stdout",
     "output_type": "stream",
     "text": [
      "\u001b[32mPASSED\u001b[0m\u001b[33m [ 84%]\u001b[0m\r\n",
      "../../../miniconda3/envs/jwst_validation_notebooks/lib/python3.9/site-packages/jwst/background/tests/test_background.py::test_nis_wfss_background[F150W-GR150C] "
     ]
    },
    {
     "name": "stdout",
     "output_type": "stream",
     "text": [
      "\u001b[32mPASSED\u001b[0m\u001b[33m [ 86%]\u001b[0m\r\n",
      "../../../miniconda3/envs/jwst_validation_notebooks/lib/python3.9/site-packages/jwst/background/tests/test_background.py::test_nis_wfss_background[F150W-GR150R] "
     ]
    },
    {
     "name": "stdout",
     "output_type": "stream",
     "text": [
      "\u001b[32mPASSED\u001b[0m\u001b[33m [ 88%]\u001b[0m\r\n",
      "../../../miniconda3/envs/jwst_validation_notebooks/lib/python3.9/site-packages/jwst/background/tests/test_background.py::test_nis_wfss_background[F158M-GR150C] "
     ]
    },
    {
     "name": "stdout",
     "output_type": "stream",
     "text": [
      "\u001b[32mPASSED\u001b[0m\u001b[33m [ 90%]\u001b[0m\r\n",
      "../../../miniconda3/envs/jwst_validation_notebooks/lib/python3.9/site-packages/jwst/background/tests/test_background.py::test_nis_wfss_background[F158M-GR150R] "
     ]
    },
    {
     "name": "stdout",
     "output_type": "stream",
     "text": [
      "\u001b[32mPASSED\u001b[0m\u001b[33m [ 92%]\u001b[0m\r\n",
      "../../../miniconda3/envs/jwst_validation_notebooks/lib/python3.9/site-packages/jwst/background/tests/test_background.py::test_nis_wfss_background[F200W-GR150C] "
     ]
    },
    {
     "name": "stdout",
     "output_type": "stream",
     "text": [
      "\u001b[32mPASSED\u001b[0m\u001b[33m [ 94%]\u001b[0m\r\n",
      "../../../miniconda3/envs/jwst_validation_notebooks/lib/python3.9/site-packages/jwst/background/tests/test_background.py::test_nis_wfss_background[F200W-GR150R] "
     ]
    },
    {
     "name": "stdout",
     "output_type": "stream",
     "text": [
      "\u001b[32mPASSED\u001b[0m\u001b[33m [ 96%]\u001b[0m\r\n",
      "../../../miniconda3/envs/jwst_validation_notebooks/lib/python3.9/site-packages/jwst/background/tests/test_background.py::test_robust_mean "
     ]
    },
    {
     "name": "stdout",
     "output_type": "stream",
     "text": [
      "\u001b[32mPASSED\u001b[0m\u001b[33m [ 98%]\u001b[0m\r\n",
      "../../../miniconda3/envs/jwst_validation_notebooks/lib/python3.9/site-packages/jwst/background/tests/test_background.py::test_no_Nan "
     ]
    },
    {
     "name": "stdout",
     "output_type": "stream",
     "text": [
      "\u001b[32mPASSED\u001b[0m\u001b[33m [100%]\u001b[0m\r\n",
      "\r\n",
      "\u001b[33m=============================== warnings summary ===============================\u001b[0m\r\n",
      "miniconda3/envs/jwst_validation_notebooks/lib/python3.9/site-packages/jwst/background/tests/test_background.py: 48 warnings\r\n",
      "  /data1/jenkins/workspace/Notebooks/jwst_validation_notebooks_spacetelescope/miniconda3/envs/jwst_validation_notebooks/lib/python3.9/site-packages/jwst/background/background_sub.py:226: DeprecationWarning: `np.bool` is a deprecated alias for the builtin `bool`. To silence this warning, use `bool` by itself. Doing this will not modify any behavior and is safe. If you specifically wanted the numpy scalar type, use `np.bool_` here.\r\n",
      "  Deprecated in NumPy 1.20; for more details and guidance: https://numpy.org/devdocs/release/1.20.0-notes.html#deprecations\r\n",
      "    bkg_mask = np.ones(shape, dtype=np.bool)\r\n",
      "\r\n",
      "miniconda3/envs/jwst_validation_notebooks/lib/python3.9/site-packages/jwst/background/tests/test_background.py: 36 warnings\r\n",
      "  /data1/jenkins/workspace/Notebooks/jwst_validation_notebooks_spacetelescope/miniconda3/envs/jwst_validation_notebooks/lib/python3.9/site-packages/astropy/modeling/math_functions.py:63: AstropyUserWarning: Models in math_functions are experimental.\r\n",
      "    warnings.warn(\"Models in math_functions are experimental.\", AstropyUserWarning)\r\n",
      "\r\n",
      "miniconda3/envs/jwst_validation_notebooks/lib/python3.9/site-packages/jwst/background/tests/test_background.py: 97 warnings\r\n",
      "  /data1/jenkins/workspace/Notebooks/jwst_validation_notebooks_spacetelescope/miniconda3/envs/jwst_validation_notebooks/lib/python3.9/site-packages/jwst/background/background_sub.py:273: DeprecationWarning: `np.float` is a deprecated alias for the builtin `float`. To silence this warning, use `float` by itself. Doing this will not modify any behavior and is safe. If you specifically wanted the numpy scalar type, use `np.float64` here.\r\n",
      "  Deprecated in NumPy 1.20; for more details and guidance: https://numpy.org/devdocs/release/1.20.0-notes.html#deprecations\r\n",
      "    mean_value = x[mask].mean(dtype=np.float)\r\n",
      "\r\n",
      "-- Docs: https://docs.pytest.org/en/stable/warnings.html\r\n",
      "- generated html file: file:///data1/jenkins/workspace/Notebooks/jwst_validation_notebooks_spacetelescope/jwst_validation_notebooks/regression_test/background/tmpdir/unit_report.html -\r\n",
      "\u001b[33m================= \u001b[32m53 passed\u001b[0m, \u001b[33m\u001b[1m181 warnings\u001b[0m\u001b[33m in 122.63s (0:02:02)\u001b[0m\u001b[33m =================\u001b[0m\r\n"
     ]
    }
   ],
   "source": [
    "jwst_dir = os.path.dirname(jwst.__file__)\n",
    "bkg = os.path.join(jwst_dir, 'background')\n",
    "associations = os.path.join(jwst_dir, 'associations')\n",
    "datamodels = os.path.join(jwst_dir, 'datamodels')\n",
    "stpipe = os.path.join(jwst_dir, 'stpipe')\n",
    "regtest = os.path.join(jwst_dir, 'regtest')\n",
    "\n",
    "with tempfile.TemporaryDirectory() as tmpdir:\n",
    "    !pytest {bkg} -v --ignore={associations} --ignore={datamodels} --ignore={stpipe} --ignore={regtest} --html=tmpdir/unit_report.html --self-contained-html\n",
    "    report = display_report('tmpdir/unit_report.html')\n"
   ]
  },
  {
   "cell_type": "code",
   "execution_count": 4,
   "metadata": {
    "execution": {
     "iopub.execute_input": "2021-02-01T03:35:49.391044Z",
     "iopub.status.busy": "2021-02-01T03:35:49.390711Z",
     "iopub.status.idle": "2021-02-01T03:35:49.392644Z",
     "shell.execute_reply": "2021-02-01T03:35:49.392320Z"
    }
   },
   "outputs": [
    {
     "data": {
      "text/html": [
       "\n",
       "        <iframe\n",
       "            width=\"700\"\n",
       "            height=\"600\"\n",
       "            src=\"tmpdir/unit_report.html\"\n",
       "            frameborder=\"0\"\n",
       "            allowfullscreen\n",
       "        ></iframe>\n",
       "        "
      ],
      "text/plain": [
       "<IPython.lib.display.IFrame at 0x7f2bb02d4130>"
      ]
     },
     "execution_count": 1,
     "metadata": {},
     "output_type": "execute_result"
    }
   ],
   "source": [
    "report"
   ]
  },
  {
   "cell_type": "markdown",
   "metadata": {},
   "source": [
    "<a id=\"about\"></a>\n",
    "## About This Notebook\n",
    "**Author:** Alicia Canipe, Staff Scientist, NIRCam\n",
    "<br>**Updated On:** 01/07/2021"
   ]
  },
  {
   "cell_type": "markdown",
   "metadata": {},
   "source": [
    "[Top of Page](#title_ID)\n",
    "<img style=\"float: right;\" src=\"./stsci_pri_combo_mark_horizonal_white_bkgd.png\" alt=\"stsci_pri_combo_mark_horizonal_white_bkgd\" width=\"200px\"/> "
   ]
  }
 ],
 "metadata": {
  "kernelspec": {
   "display_name": "Python 3",
   "language": "python",
   "name": "python3"
  },
  "language_info": {
   "codemirror_mode": {
    "name": "ipython",
    "version": 3
   },
   "file_extension": ".py",
   "mimetype": "text/x-python",
   "name": "python",
   "nbconvert_exporter": "python",
   "pygments_lexer": "ipython3",
   "version": "3.9.1"
  }
 },
 "nbformat": 4,
 "nbformat_minor": 1
}
