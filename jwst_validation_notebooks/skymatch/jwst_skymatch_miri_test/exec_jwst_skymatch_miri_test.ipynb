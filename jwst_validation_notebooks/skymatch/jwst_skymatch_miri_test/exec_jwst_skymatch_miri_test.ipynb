{
 "cells": [
  {
   "cell_type": "markdown",
   "metadata": {},
   "source": [
    "<a id=\"title_ID\"></a>\n",
    "# Testing skymatch step with MIRI simulated data\n",
    "<span style=\"color:red\"> **Instruments Affected**</span>: FGS, MIRI, NIRCam, NIRISS, NIRSpec \n",
    "\n",
    "Tested on MIRI Simulated data\n",
    "\n",
    "### Table of Contents\n",
    "<div style=\"text-align: left\"> \n",
    "\n",
    "<br>  [Introduction](#intro_ID) <br> [Imports](#imports_ID) <br> [Set up association files](#associations_ID) <br> [Insert outliers](#outliers_ID) <br> [Run Pipeline](#pipeline_ID) \n",
    "\n",
    "\n",
    "</div>"
   ]
  },
  {
   "cell_type": "markdown",
   "metadata": {},
   "source": [
    "<a id=\"intro_ID\"></a>\n",
    "## Introduction\n",
    "\n",
    "This notebook processes level 2 images through the calwebb_image3 skymatch step and examines outputs for different sky method parameters.\n",
    "\n",
    "1) Set up data path and image list file.\n",
    "\n",
    "2) Set up association files.\n",
    "\n",
    "3) Modify average backgrould level of input images.\n",
    "\n",
    "4) Run skymatch step on images.\n",
    "\n",
    "5) Run skymatch for each skymethod parameter (local, global, match, global+match). \n",
    "\n",
    "6) Testing other parameters (nclip, usigma, lsigma, lower, upper, skystat). \n",
    "\n",
    "\n",
    "These steps are set up with simulated MIRI F560W data of the LMC astrometric field.\n",
    "\n",
    "The pipeline documentation can be found here: https://jwst-pipeline.readthedocs.io/en/latest/jwst/skymatch/README.html\n",
    "\n",
    "The pipeline code is available on GitHub: https://github.com/spacetelescope/jwst\n",
    "\n",
    "Author: T. Temim"
   ]
  },
  {
   "cell_type": "markdown",
   "metadata": {},
   "source": [
    "<a id=\"imports_ID\"></a>\n",
    "### Set up import statements\n",
    "\n",
    "The following packages are needed to run this notebook:\n",
    "* jwst to run the pipeline \n",
    "* matplotlib to plot\n",
    "* ci_watson to retrieve data from artifactory\n"
   ]
  },
  {
   "cell_type": "code",
   "execution_count": 1,
   "metadata": {
    "execution": {
     "iopub.execute_input": "2021-02-07T10:50:15.188406Z",
     "iopub.status.busy": "2021-02-07T10:50:15.188036Z",
     "iopub.status.idle": "2021-02-07T10:50:16.116387Z",
     "shell.execute_reply": "2021-02-07T10:50:16.115941Z"
    }
   },
   "outputs": [],
   "source": [
    "import pytest\n",
    "from astropy.io import fits\n",
    "import numpy as np\n",
    "import matplotlib\n",
    "import matplotlib.pyplot as plt\n",
    "%matplotlib inline\n",
    "import jwst\n",
    "import json\n",
    "from jwst.skymatch import skymatch\n",
    "from jwst.skymatch.skyimage import SkyImage\n",
    "from jwst.associations.lib.rules_level3_base import DMS_Level3_Base\n",
    "from jwst.associations import asn_from_list\n",
    "from jwst import datamodels\n",
    "from matplotlib import rcParams\n",
    "from ci_watson.artifactory_helpers import get_bigdata"
   ]
  },
  {
   "cell_type": "code",
   "execution_count": 2,
   "metadata": {
    "execution": {
     "iopub.execute_input": "2021-02-07T10:50:16.119269Z",
     "iopub.status.busy": "2021-02-07T10:50:16.118955Z",
     "iopub.status.idle": "2021-02-07T10:50:16.120594Z",
     "shell.execute_reply": "2021-02-07T10:50:16.120850Z"
    }
   },
   "outputs": [],
   "source": [
    "import os\n",
    "os.environ['CRDS_CONTEXT']='jwst_0619.pmap'"
   ]
  },
  {
   "cell_type": "markdown",
   "metadata": {},
   "source": [
    "### Print pipeline version number"
   ]
  },
  {
   "cell_type": "code",
   "execution_count": 3,
   "metadata": {
    "execution": {
     "iopub.execute_input": "2021-02-07T10:50:16.124608Z",
     "iopub.status.busy": "2021-02-07T10:50:16.124299Z",
     "iopub.status.idle": "2021-02-07T10:50:16.126758Z",
     "shell.execute_reply": "2021-02-07T10:50:16.126495Z"
    }
   },
   "outputs": [
    {
     "data": {
      "text/plain": [
       "'0.18.3'"
      ]
     },
     "execution_count": 1,
     "metadata": {},
     "output_type": "execute_result"
    }
   ],
   "source": [
    "jwst.__version__ "
   ]
  },
  {
   "cell_type": "markdown",
   "metadata": {},
   "source": [
    "### Retrieve data from Artifactory"
   ]
  },
  {
   "cell_type": "code",
   "execution_count": 4,
   "metadata": {
    "execution": {
     "iopub.execute_input": "2021-02-07T10:50:16.129673Z",
     "iopub.status.busy": "2021-02-07T10:50:16.129367Z",
     "iopub.status.idle": "2021-02-07T10:50:17.242144Z",
     "shell.execute_reply": "2021-02-07T10:50:17.241786Z"
    }
   },
   "outputs": [],
   "source": [
    "input_file1 = get_bigdata('jwst_validation_notebooks',\n",
    "                     'validation_data',\n",
    "                     'outlier_detection',\n",
    "                     'outlier_detection_miri_test', \n",
    "                     'det_image_seq1_MIRIMAGE_F560Wexp1_cal.fits')\n",
    "input_file2 = get_bigdata('jwst_validation_notebooks',\n",
    "                     'validation_data',\n",
    "                     'outlier_detection',\n",
    "                     'outlier_detection_miri_test', \n",
    "                     'det_image_seq2_MIRIMAGE_F560Wexp1_cal.fits')\n",
    "input_file3 = get_bigdata('jwst_validation_notebooks',\n",
    "                     'validation_data',\n",
    "                     'outlier_detection',\n",
    "                     'outlier_detection_miri_test', \n",
    "                     'det_image_seq3_MIRIMAGE_F560Wexp1_cal.fits')\n",
    "input_file4 = get_bigdata('jwst_validation_notebooks',\n",
    "                     'validation_data',\n",
    "                     'outlier_detection',\n",
    "                     'outlier_detection_miri_test', \n",
    "                     'det_image_seq4_MIRIMAGE_F560Wexp1_cal.fits')"
   ]
  },
  {
   "cell_type": "code",
   "execution_count": 5,
   "metadata": {
    "execution": {
     "iopub.execute_input": "2021-02-07T10:50:17.245749Z",
     "iopub.status.busy": "2021-02-07T10:50:17.245447Z",
     "iopub.status.idle": "2021-02-07T10:50:17.247275Z",
     "shell.execute_reply": "2021-02-07T10:50:17.246949Z"
    }
   },
   "outputs": [],
   "source": [
    "input_files=[]\n",
    "input_files=[input_file1,input_file2,input_file3,input_file4]\n",
    "\n",
    "imlist1=['det_image_seq1_MIRIMAGE_F560Wexp1_cal.fits','det_image_seq2_MIRIMAGE_F560Wexp1_cal.fits','det_image_seq3_MIRIMAGE_F560Wexp1_cal.fits','det_image_seq4_MIRIMAGE_F560Wexp1_cal.fits']"
   ]
  },
  {
   "cell_type": "markdown",
   "metadata": {},
   "source": [
    "<a id=\"associations_ID\"></a>\n",
    "### Set up association files\n",
    "The level three pipeline relies on an association file to specify which files are to be combined and provide the output file name.\n",
    "\n",
    "[Top of Page](#title_ID)"
   ]
  },
  {
   "cell_type": "code",
   "execution_count": 6,
   "metadata": {
    "execution": {
     "iopub.execute_input": "2021-02-07T10:50:17.251806Z",
     "iopub.status.busy": "2021-02-07T10:50:17.251494Z",
     "iopub.status.idle": "2021-02-07T10:50:17.258429Z",
     "shell.execute_reply": "2021-02-07T10:50:17.258179Z"
    }
   },
   "outputs": [],
   "source": [
    "# use asn_from_list to create association table\n",
    "cal_list=imlist1\n",
    "asn = asn_from_list.asn_from_list(cal_list, rule=DMS_Level3_Base, product_name='skymatch_combined.fits')\n",
    "\n",
    "# use this if you need to add non'science' exposure types\n",
    "#asn['products'][0]['members'][1]['exptype'] = 'background'\n",
    "#asn['products'][0]['members'][2]['exptype'] = 'sourcecat'\n",
    "\n",
    "# dump association table to a .json file for use in image3\n",
    "with open('skymatch_asnfile.json', 'w') as fp:\n",
    "    fp.write(asn.dump()[1])\n",
    "\n",
    "skymatch_json_file='skymatch_asnfile.json'\n",
    "    \n",
    "json_file = skymatch_json_file\n",
    "file_list = []\n",
    "file_list2 = []\n",
    "with open(json_file) as json_data:\n",
    "    d = json.load(json_data)\n",
    "    members = d['products'][0]['members']\n",
    "    for item in np.arange(0,len(members)):\n",
    "        file_list.append(members[item]['expname'])\n",
    "        file_list2.append(members[item]['expname'][:-5]+\"_skymatch.fits\")\n",
    "\n",
    "    \n",
    "asn2 = asn_from_list.asn_from_list(file_list2, rule=DMS_Level3_Base, product_name=d['products'][0]['name'])\n",
    "\n",
    "# use this if you need to add non'science' exposure types\n",
    "#asn['products'][0]['members'][1]['exptype'] = 'background'\n",
    "#asn['products'][0]['members'][2]['exptype'] = 'sourcecat'\n",
    "\n",
    "# dump association table to a .json file for use in image3\n",
    "with open('skymatch_asnfile2.json', 'w') as fp:\n",
    "    fp.write(asn2.dump()[1])\n",
    "    \n",
    "skymatch_json_file2='skymatch_asnfile2.json'"
   ]
  },
  {
   "cell_type": "markdown",
   "metadata": {},
   "source": [
    "### Modify average background level of input images"
   ]
  },
  {
   "cell_type": "code",
   "execution_count": 7,
   "metadata": {
    "execution": {
     "iopub.execute_input": "2021-02-07T10:50:17.260642Z",
     "iopub.status.busy": "2021-02-07T10:50:17.260347Z",
     "iopub.status.idle": "2021-02-07T10:50:17.262117Z",
     "shell.execute_reply": "2021-02-07T10:50:17.261782Z"
    }
   },
   "outputs": [],
   "source": [
    "infile01_1 = input_files[0]\n",
    "infile01_2 = input_files[1]\n",
    "infile02_1 = input_files[2]\n",
    "infile02_2 = input_files[3]"
   ]
  },
  {
   "cell_type": "code",
   "execution_count": 8,
   "metadata": {
    "execution": {
     "iopub.execute_input": "2021-02-07T10:50:17.269251Z",
     "iopub.status.busy": "2021-02-07T10:50:17.268474Z",
     "iopub.status.idle": "2021-02-07T10:50:18.243001Z",
     "shell.execute_reply": "2021-02-07T10:50:18.243301Z"
    }
   },
   "outputs": [],
   "source": [
    "img01_1 = datamodels.open(infile01_1)\n",
    "img01_2 = datamodels.open(infile01_2)\n",
    "img02_1 = datamodels.open(infile02_1)\n",
    "img02_2 = datamodels.open(infile02_2)"
   ]
  },
  {
   "cell_type": "code",
   "execution_count": 9,
   "metadata": {
    "execution": {
     "iopub.execute_input": "2021-02-07T10:50:18.247975Z",
     "iopub.status.busy": "2021-02-07T10:50:18.247632Z",
     "iopub.status.idle": "2021-02-07T10:50:18.265385Z",
     "shell.execute_reply": "2021-02-07T10:50:18.265040Z"
    }
   },
   "outputs": [],
   "source": [
    "data01_1 = img01_1.data\n",
    "data01_2 = img01_2.data\n",
    "data02_1 = img02_1.data\n",
    "data02_2 = img02_2.data\n",
    "\n",
    "data01_1[data01_1<=0.3]=np.nan\n",
    "data01_2[data01_2<=0.3]=np.nan\n",
    "data02_1[data02_1<=0.3]=np.nan\n",
    "data02_2[data02_2<=0.3]=np.nan\n",
    "\n",
    "data01_1_orig = np.copy(img01_1.data)\n",
    "data01_2_orig = np.copy(img01_2.data)\n",
    "data02_1_orig = np.copy(img02_1.data)\n",
    "data02_2_orig = np.copy(img02_2.data)"
   ]
  },
  {
   "cell_type": "code",
   "execution_count": 10,
   "metadata": {
    "execution": {
     "iopub.execute_input": "2021-02-07T10:50:18.269179Z",
     "iopub.status.busy": "2021-02-07T10:50:18.268874Z",
     "iopub.status.idle": "2021-02-07T10:50:18.296446Z",
     "shell.execute_reply": "2021-02-07T10:50:18.296082Z"
    }
   },
   "outputs": [
    {
     "name": "stdout",
     "output_type": "stream",
     "text": [
      "Mean: 0.93090874 0.1817127\n",
      "Mean: 0.9362799 0.17500266\n",
      "Mean: 0.9330347 0.17194116\n",
      "Mean: 0.93216574 0.16481434\n"
     ]
    }
   ],
   "source": [
    "# check mean values of background \n",
    "print('Mean:', np.mean(data01_1_orig[data01_1_orig<=4.0]),np.std(data01_1_orig[data01_1_orig<=4.0]))\n",
    "print('Mean:', np.mean(data01_2_orig[data01_2_orig<=4.0]),np.std(data01_2_orig[data01_2_orig<=4.0]))\n",
    "print('Mean:', np.mean(data02_1_orig[data02_1_orig<=4.0]),np.std(data02_1_orig[data02_1_orig<=4.0]))\n",
    "print('Mean:', np.mean(data02_2_orig[data02_2_orig<=4.0]),np.std(data02_2_orig[data02_2_orig<=4.0]))"
   ]
  },
  {
   "cell_type": "code",
   "execution_count": 11,
   "metadata": {
    "execution": {
     "iopub.execute_input": "2021-02-07T10:50:18.300550Z",
     "iopub.status.busy": "2021-02-07T10:50:18.300241Z",
     "iopub.status.idle": "2021-02-07T10:50:18.546594Z",
     "shell.execute_reply": "2021-02-07T10:50:18.547205Z"
    }
   },
   "outputs": [],
   "source": [
    "# creating a background image with specified mean and gaussian noise with sigma = 1.0\n",
    "bkg_img_noise_neg2 = np.random.normal(-2,2*0.2,data01_1.shape)\n",
    "bkg_img_noise_2 = np.random.normal(2,2*0.2,data01_1.shape)\n",
    "bkg_img_noise_3 = np.random.normal(3,3*0.2,data01_1.shape)\n",
    "bkg_img_noise_4 = np.random.normal(4,4*0.2,data01_1.shape)\n",
    "bkg_img_noise_5 = np.random.normal(5,5*0.2,data01_1.shape)\n",
    "bkg_img_noise_7 = np.random.normal(7,7*0.2,data01_1.shape)"
   ]
  },
  {
   "cell_type": "code",
   "execution_count": 12,
   "metadata": {
    "execution": {
     "iopub.execute_input": "2021-02-07T10:50:18.551156Z",
     "iopub.status.busy": "2021-02-07T10:50:18.550583Z",
     "iopub.status.idle": "2021-02-07T10:50:18.572452Z",
     "shell.execute_reply": "2021-02-07T10:50:18.571949Z"
    }
   },
   "outputs": [],
   "source": [
    "# adding the new background with specified mean and gaussian noise (above) to image\n",
    "img01_1.data=bkg_img_noise_2\n",
    "img01_2.data=bkg_img_noise_3\n",
    "img02_1.data=bkg_img_noise_5\n",
    "img02_2.data=bkg_img_noise_2"
   ]
  },
  {
   "cell_type": "code",
   "execution_count": 13,
   "metadata": {
    "execution": {
     "iopub.execute_input": "2021-02-07T10:50:18.576272Z",
     "iopub.status.busy": "2021-02-07T10:50:18.575763Z",
     "iopub.status.idle": "2021-02-07T10:50:18.604886Z",
     "shell.execute_reply": "2021-02-07T10:50:18.605247Z"
    }
   },
   "outputs": [
    {
     "name": "stdout",
     "output_type": "stream",
     "text": [
      "2.000058 0.39982894\n",
      "3.00098 0.6006874\n",
      "4.9982834 0.9992509\n",
      "2.000058 0.39982894\n"
     ]
    }
   ],
   "source": [
    "# checking the mean and standard deviations of the new background values\n",
    "print(np.nanmean(img01_1.data),np.nanstd(img01_1.data))\n",
    "print(np.nanmean(img01_2.data),np.nanstd(img01_2.data))\n",
    "print(np.nanmean(img02_1.data),np.nanstd(img02_1.data))\n",
    "print(np.nanmean(img02_2.data),np.nanstd(img02_2.data))"
   ]
  },
  {
   "cell_type": "code",
   "execution_count": 14,
   "metadata": {
    "execution": {
     "iopub.execute_input": "2021-02-07T10:50:18.625544Z",
     "iopub.status.busy": "2021-02-07T10:50:18.620462Z",
     "iopub.status.idle": "2021-02-07T10:50:19.019150Z",
     "shell.execute_reply": "2021-02-07T10:50:19.019403Z"
    }
   },
   "outputs": [
    {
     "data": {
      "text/plain": [
       "'det_image_seq4_MIRIMAGE_F560Wexp1_cal_skymatch.fits'"
      ]
     },
     "execution_count": 1,
     "metadata": {},
     "output_type": "execute_result"
    }
   ],
   "source": [
    "img01_1.save(file_list2[0],overwrite=True)\n",
    "img01_2.save(file_list2[1],overwrite=True)\n",
    "img02_1.save(file_list2[2],overwrite=True)\n",
    "img02_2.save(file_list2[3],overwrite=True)"
   ]
  },
  {
   "cell_type": "markdown",
   "metadata": {},
   "source": [
    "<a id=\"pipeline_ID\"></a>\n",
    "## Run Pipeline steps\n",
    "\n",
    "Run the pipeline on the data for different sets of parameters\n",
    "\n",
    "## 1. Run skymatch step on images"
   ]
  },
  {
   "cell_type": "code",
   "execution_count": 15,
   "metadata": {
    "execution": {
     "iopub.execute_input": "2021-02-07T10:50:19.025762Z",
     "iopub.status.busy": "2021-02-07T10:50:19.022411Z",
     "iopub.status.idle": "2021-02-07T10:50:21.252340Z",
     "shell.execute_reply": "2021-02-07T10:50:21.252681Z"
    }
   },
   "outputs": [
    {
     "name": "stderr",
     "output_type": "stream",
     "text": [
      "2021-02-07 05:50:19,856 - CRDS - ERROR -  Error determining best reference for 'pars-skymatchstep'  =   Unknown reference type 'pars-skymatchstep'\n"
     ]
    },
    {
     "name": "stderr",
     "output_type": "stream",
     "text": [
      "2021-02-07 05:50:19,859 - stpipe.SkyMatchStep - INFO - SkyMatchStep instance created.\n"
     ]
    },
    {
     "name": "stderr",
     "output_type": "stream",
     "text": [
      "2021-02-07 05:50:20,000 - stpipe.SkyMatchStep - INFO - Step SkyMatchStep running with args ('skymatch_asnfile2.json',).\n"
     ]
    },
    {
     "name": "stderr",
     "output_type": "stream",
     "text": [
      "2021-02-07 05:50:20,002 - stpipe.SkyMatchStep - INFO - Step SkyMatchStep parameters are: {'pre_hooks': [], 'post_hooks': [], 'output_file': '/data1/jenkins/workspace/Notebooks/jwst_validation_notebooks_spacetelescope/jwst_validation_notebooks/skymatch/jwst_skymatch_miri_test/MIRI', 'output_dir': None, 'output_ext': '.fits', 'output_use_model': False, 'output_use_index': True, 'save_results': True, 'skip': False, 'suffix': None, 'search_output_file': True, 'input_dir': '', 'skymethod': 'local', 'match_down': True, 'subtract': False, 'stepsize': None, 'skystat': 'mode', 'dqbits': '0', 'lower': None, 'upper': None, 'nclip': 5, 'lsigma': 4.0, 'usigma': 4.0, 'binwidth': 0.1}\n"
     ]
    },
    {
     "name": "stderr",
     "output_type": "stream",
     "text": [
      "2021-02-07 05:50:20,336 - stpipe.SkyMatchStep - INFO -  \n"
     ]
    },
    {
     "name": "stderr",
     "output_type": "stream",
     "text": [
      "2021-02-07 05:50:20,337 - stpipe.SkyMatchStep - INFO - ***** jwst.skymatch.skymatch.match() started on 2021-02-07 05:50:20.336767\n"
     ]
    },
    {
     "name": "stderr",
     "output_type": "stream",
     "text": [
      "2021-02-07 05:50:20,338 - stpipe.SkyMatchStep - INFO -  \n"
     ]
    },
    {
     "name": "stderr",
     "output_type": "stream",
     "text": [
      "2021-02-07 05:50:20,338 - stpipe.SkyMatchStep - INFO - Sky computation method: 'local'\n"
     ]
    },
    {
     "name": "stderr",
     "output_type": "stream",
     "text": [
      "2021-02-07 05:50:20,339 - stpipe.SkyMatchStep - INFO - Sky subtraction from image data: OFF\n"
     ]
    },
    {
     "name": "stderr",
     "output_type": "stream",
     "text": [
      "2021-02-07 05:50:20,339 - stpipe.SkyMatchStep - INFO -  \n"
     ]
    },
    {
     "name": "stderr",
     "output_type": "stream",
     "text": [
      "2021-02-07 05:50:20,339 - stpipe.SkyMatchStep - INFO - ----  Sky values computed per image and/or image groups.\n"
     ]
    },
    {
     "name": "stderr",
     "output_type": "stream",
     "text": [
      "2021-02-07 05:50:20,416 - stpipe.SkyMatchStep - INFO -    *  Image ID=det_image_seq1_MIRIMAGE_F560Wexp1_cal_skymatch.fits. Sky background: 1.96287\n"
     ]
    },
    {
     "name": "stderr",
     "output_type": "stream",
     "text": [
      "2021-02-07 05:50:20,417 - stpipe.SkyMatchStep - INFO -    *  Image ID=det_image_seq2_MIRIMAGE_F560Wexp1_cal_skymatch.fits. Sky background: 2.98375\n"
     ]
    },
    {
     "name": "stderr",
     "output_type": "stream",
     "text": [
      "2021-02-07 05:50:20,417 - stpipe.SkyMatchStep - INFO -    *  Image ID=det_image_seq3_MIRIMAGE_F560Wexp1_cal_skymatch.fits. Sky background: 4.93045\n"
     ]
    },
    {
     "name": "stderr",
     "output_type": "stream",
     "text": [
      "2021-02-07 05:50:20,417 - stpipe.SkyMatchStep - INFO -    *  Image ID=det_image_seq4_MIRIMAGE_F560Wexp1_cal_skymatch.fits. Sky background: 1.96287\n"
     ]
    },
    {
     "name": "stderr",
     "output_type": "stream",
     "text": [
      "2021-02-07 05:50:20,418 - stpipe.SkyMatchStep - INFO -  \n"
     ]
    },
    {
     "name": "stderr",
     "output_type": "stream",
     "text": [
      "2021-02-07 05:50:20,418 - stpipe.SkyMatchStep - INFO - ***** jwst.skymatch.skymatch.match() ended on 2021-02-07 05:50:20.418119\n"
     ]
    },
    {
     "name": "stderr",
     "output_type": "stream",
     "text": [
      "2021-02-07 05:50:20,418 - stpipe.SkyMatchStep - INFO - ***** jwst.skymatch.skymatch.match() TOTAL RUN TIME: 0:00:00.081352\n"
     ]
    },
    {
     "name": "stderr",
     "output_type": "stream",
     "text": [
      "2021-02-07 05:50:20,419 - stpipe.SkyMatchStep - INFO -  \n"
     ]
    },
    {
     "name": "stderr",
     "output_type": "stream",
     "text": [
      "2021-02-07 05:50:20,627 - stpipe.SkyMatchStep - INFO - Saved model in MIRI_0_skymatchstep.fits\n"
     ]
    },
    {
     "name": "stderr",
     "output_type": "stream",
     "text": [
      "2021-02-07 05:50:20,858 - stpipe.SkyMatchStep - INFO - Saved model in MIRI_1_skymatchstep.fits\n"
     ]
    },
    {
     "name": "stderr",
     "output_type": "stream",
     "text": [
      "2021-02-07 05:50:21,052 - stpipe.SkyMatchStep - INFO - Saved model in MIRI_2_skymatchstep.fits\n"
     ]
    },
    {
     "name": "stderr",
     "output_type": "stream",
     "text": [
      "2021-02-07 05:50:21,247 - stpipe.SkyMatchStep - INFO - Saved model in MIRI_3_skymatchstep.fits\n"
     ]
    },
    {
     "name": "stderr",
     "output_type": "stream",
     "text": [
      "2021-02-07 05:50:21,248 - stpipe.SkyMatchStep - INFO - Step SkyMatchStep done\n"
     ]
    },
    {
     "data": {
      "text/plain": [
       "<ModelContainer>"
      ]
     },
     "execution_count": 1,
     "metadata": {},
     "output_type": "execute_result"
    }
   ],
   "source": [
    "# skymatch, local, subtract= False, all 8 images used\n",
    "jwst.skymatch.skymatch_step.SkyMatchStep.call(skymatch_json_file2, skymethod='local', subtract=False,output_file='MIRI',save_results=True)"
   ]
  },
  {
   "cell_type": "code",
   "execution_count": 16,
   "metadata": {
    "execution": {
     "iopub.execute_input": "2021-02-07T10:50:21.259915Z",
     "iopub.status.busy": "2021-02-07T10:50:21.257865Z",
     "iopub.status.idle": "2021-02-07T10:50:21.820612Z",
     "shell.execute_reply": "2021-02-07T10:50:21.820966Z"
    }
   },
   "outputs": [
    {
     "name": "stdout",
     "output_type": "stream",
     "text": [
      "Mean: original, new (local)\n",
      "Mean: 2.000058 , 2.000058\n",
      "Mean: 3.00098 , 3.00098\n",
      "Mean: 4.9982834 , 4.9982834\n",
      "Mean: 2.000058 , 2.000058\n"
     ]
    }
   ],
   "source": [
    "img01_1_new = datamodels.open('MIRI_0_skymatchstep.fits')\n",
    "img01_2_new = datamodels.open('MIRI_1_skymatchstep.fits')\n",
    "img02_1_new = datamodels.open('MIRI_2_skymatchstep.fits')\n",
    "img02_2_new = datamodels.open('MIRI_3_skymatchstep.fits')\n",
    "\n",
    "print('Mean: original, new (local)')\n",
    "print('Mean:',np.mean(img01_1.data),',', np.mean(img01_1_new.data))\n",
    "print('Mean:',np.mean(img01_2.data),',', np.mean(img01_2_new.data))\n",
    "print('Mean:',np.mean(img02_1.data),',', np.mean(img02_1_new.data))\n",
    "print('Mean:',np.mean(img02_2.data),',', np.mean(img02_2_new.data))"
   ]
  },
  {
   "cell_type": "code",
   "execution_count": 17,
   "metadata": {
    "execution": {
     "iopub.execute_input": "2021-02-07T10:50:21.833251Z",
     "iopub.status.busy": "2021-02-07T10:50:21.828008Z",
     "iopub.status.idle": "2021-02-07T10:50:23.526144Z",
     "shell.execute_reply": "2021-02-07T10:50:23.525850Z"
    }
   },
   "outputs": [
    {
     "name": "stderr",
     "output_type": "stream",
     "text": [
      "2021-02-07 05:50:22,179 - CRDS - ERROR -  Error determining best reference for 'pars-skymatchstep'  =   Unknown reference type 'pars-skymatchstep'\n"
     ]
    },
    {
     "name": "stderr",
     "output_type": "stream",
     "text": [
      "2021-02-07 05:50:22,181 - stpipe.SkyMatchStep - INFO - SkyMatchStep instance created.\n"
     ]
    },
    {
     "name": "stderr",
     "output_type": "stream",
     "text": [
      "2021-02-07 05:50:22,281 - stpipe.SkyMatchStep - INFO - Step SkyMatchStep running with args ('skymatch_asnfile2.json',).\n"
     ]
    },
    {
     "name": "stderr",
     "output_type": "stream",
     "text": [
      "2021-02-07 05:50:22,283 - stpipe.SkyMatchStep - INFO - Step SkyMatchStep parameters are: {'pre_hooks': [], 'post_hooks': [], 'output_file': '/data1/jenkins/workspace/Notebooks/jwst_validation_notebooks_spacetelescope/jwst_validation_notebooks/skymatch/jwst_skymatch_miri_test/MIRI', 'output_dir': None, 'output_ext': '.fits', 'output_use_model': False, 'output_use_index': True, 'save_results': True, 'skip': False, 'suffix': None, 'search_output_file': True, 'input_dir': '', 'skymethod': 'local', 'match_down': True, 'subtract': True, 'stepsize': None, 'skystat': 'mode', 'dqbits': '0', 'lower': None, 'upper': None, 'nclip': 5, 'lsigma': 4.0, 'usigma': 4.0, 'binwidth': 0.1}\n"
     ]
    },
    {
     "name": "stderr",
     "output_type": "stream",
     "text": [
      "2021-02-07 05:50:22,607 - stpipe.SkyMatchStep - INFO -  \n"
     ]
    },
    {
     "name": "stderr",
     "output_type": "stream",
     "text": [
      "2021-02-07 05:50:22,608 - stpipe.SkyMatchStep - INFO - ***** jwst.skymatch.skymatch.match() started on 2021-02-07 05:50:22.607876\n"
     ]
    },
    {
     "name": "stderr",
     "output_type": "stream",
     "text": [
      "2021-02-07 05:50:22,609 - stpipe.SkyMatchStep - INFO -  \n"
     ]
    },
    {
     "name": "stderr",
     "output_type": "stream",
     "text": [
      "2021-02-07 05:50:22,609 - stpipe.SkyMatchStep - INFO - Sky computation method: 'local'\n"
     ]
    },
    {
     "name": "stderr",
     "output_type": "stream",
     "text": [
      "2021-02-07 05:50:22,610 - stpipe.SkyMatchStep - INFO - Sky subtraction from image data: ON\n"
     ]
    },
    {
     "name": "stderr",
     "output_type": "stream",
     "text": [
      "2021-02-07 05:50:22,610 - stpipe.SkyMatchStep - INFO -  \n"
     ]
    },
    {
     "name": "stderr",
     "output_type": "stream",
     "text": [
      "2021-02-07 05:50:22,611 - stpipe.SkyMatchStep - INFO - ----  Sky values computed per image and/or image groups.\n"
     ]
    },
    {
     "name": "stderr",
     "output_type": "stream",
     "text": [
      "2021-02-07 05:50:22,692 - stpipe.SkyMatchStep - INFO -    *  Image ID=det_image_seq1_MIRIMAGE_F560Wexp1_cal_skymatch.fits. Sky background: 1.96287 (old=0, delta=1.96287)\n"
     ]
    },
    {
     "name": "stderr",
     "output_type": "stream",
     "text": [
      "2021-02-07 05:50:22,694 - stpipe.SkyMatchStep - INFO -    *  Image ID=det_image_seq2_MIRIMAGE_F560Wexp1_cal_skymatch.fits. Sky background: 2.98375 (old=0, delta=2.98375)\n"
     ]
    },
    {
     "name": "stderr",
     "output_type": "stream",
     "text": [
      "2021-02-07 05:50:22,696 - stpipe.SkyMatchStep - INFO -    *  Image ID=det_image_seq3_MIRIMAGE_F560Wexp1_cal_skymatch.fits. Sky background: 4.93045 (old=0, delta=4.93045)\n"
     ]
    },
    {
     "name": "stderr",
     "output_type": "stream",
     "text": [
      "2021-02-07 05:50:22,698 - stpipe.SkyMatchStep - INFO -    *  Image ID=det_image_seq4_MIRIMAGE_F560Wexp1_cal_skymatch.fits. Sky background: 1.96287 (old=0, delta=1.96287)\n"
     ]
    },
    {
     "name": "stderr",
     "output_type": "stream",
     "text": [
      "2021-02-07 05:50:22,698 - stpipe.SkyMatchStep - INFO -  \n"
     ]
    },
    {
     "name": "stderr",
     "output_type": "stream",
     "text": [
      "2021-02-07 05:50:22,699 - stpipe.SkyMatchStep - INFO - ***** jwst.skymatch.skymatch.match() ended on 2021-02-07 05:50:22.698652\n"
     ]
    },
    {
     "name": "stderr",
     "output_type": "stream",
     "text": [
      "2021-02-07 05:50:22,699 - stpipe.SkyMatchStep - INFO - ***** jwst.skymatch.skymatch.match() TOTAL RUN TIME: 0:00:00.090776\n"
     ]
    },
    {
     "name": "stderr",
     "output_type": "stream",
     "text": [
      "2021-02-07 05:50:22,699 - stpipe.SkyMatchStep - INFO -  \n"
     ]
    },
    {
     "name": "stderr",
     "output_type": "stream",
     "text": [
      "2021-02-07 05:50:22,905 - stpipe.SkyMatchStep - INFO - Saved model in MIRI_0_skymatchstep.fits\n"
     ]
    },
    {
     "name": "stderr",
     "output_type": "stream",
     "text": [
      "2021-02-07 05:50:23,134 - stpipe.SkyMatchStep - INFO - Saved model in MIRI_1_skymatchstep.fits\n"
     ]
    },
    {
     "name": "stderr",
     "output_type": "stream",
     "text": [
      "2021-02-07 05:50:23,327 - stpipe.SkyMatchStep - INFO - Saved model in MIRI_2_skymatchstep.fits\n"
     ]
    },
    {
     "name": "stderr",
     "output_type": "stream",
     "text": [
      "2021-02-07 05:50:23,520 - stpipe.SkyMatchStep - INFO - Saved model in MIRI_3_skymatchstep.fits\n"
     ]
    },
    {
     "name": "stderr",
     "output_type": "stream",
     "text": [
      "2021-02-07 05:50:23,521 - stpipe.SkyMatchStep - INFO - Step SkyMatchStep done\n"
     ]
    },
    {
     "data": {
      "text/plain": [
       "<ModelContainer>"
      ]
     },
     "execution_count": 1,
     "metadata": {},
     "output_type": "execute_result"
    }
   ],
   "source": [
    "# skymatch, local, subtract = True, all 8 images used\n",
    "jwst.skymatch.skymatch_step.SkyMatchStep.call(skymatch_json_file2, skymethod='local', subtract=True,output_file='MIRI',save_results=True)"
   ]
  },
  {
   "cell_type": "code",
   "execution_count": 18,
   "metadata": {
    "execution": {
     "iopub.execute_input": "2021-02-07T10:50:23.531616Z",
     "iopub.status.busy": "2021-02-07T10:50:23.531307Z",
     "iopub.status.idle": "2021-02-07T10:50:24.141175Z",
     "shell.execute_reply": "2021-02-07T10:50:24.141429Z"
    }
   },
   "outputs": [
    {
     "name": "stdout",
     "output_type": "stream",
     "text": [
      "Mean: original, new (local)\n",
      "Mean: 2.000058 , 0.03718605\n",
      "Mean: 3.00098 , 0.01722711\n",
      "Mean: 4.9982834 , 0.06783574\n",
      "Mean: 2.000058 , 0.03718605\n"
     ]
    }
   ],
   "source": [
    "img01_1_new = datamodels.open('MIRI_0_skymatchstep.fits')\n",
    "img01_2_new = datamodels.open('MIRI_1_skymatchstep.fits')\n",
    "img02_1_new = datamodels.open('MIRI_2_skymatchstep.fits')\n",
    "img02_2_new = datamodels.open('MIRI_3_skymatchstep.fits')\n",
    "\n",
    "print('Mean: original, new (local)')\n",
    "print('Mean:',np.mean(img01_1.data),',', np.mean(img01_1_new.data))\n",
    "print('Mean:',np.mean(img01_2.data),',', np.mean(img01_2_new.data))\n",
    "print('Mean:',np.mean(img02_1.data),',', np.mean(img02_1_new.data))\n",
    "print('Mean:',np.mean(img02_2.data),',', np.mean(img02_2_new.data))"
   ]
  },
  {
   "cell_type": "markdown",
   "metadata": {},
   "source": [
    "## 2. Run skymatch for each skymethod parameter (local, global, match, global+match)"
   ]
  },
  {
   "cell_type": "markdown",
   "metadata": {},
   "source": [
    "### 2.1 skymethod = 'local'"
   ]
  },
  {
   "cell_type": "code",
   "execution_count": 19,
   "metadata": {
    "execution": {
     "iopub.execute_input": "2021-02-07T10:50:24.148706Z",
     "iopub.status.busy": "2021-02-07T10:50:24.148408Z",
     "iopub.status.idle": "2021-02-07T10:50:25.753755Z",
     "shell.execute_reply": "2021-02-07T10:50:25.753405Z"
    }
   },
   "outputs": [
    {
     "name": "stderr",
     "output_type": "stream",
     "text": [
      "2021-02-07 05:50:24,505 - CRDS - ERROR -  Error determining best reference for 'pars-skymatchstep'  =   Unknown reference type 'pars-skymatchstep'\n"
     ]
    },
    {
     "name": "stderr",
     "output_type": "stream",
     "text": [
      "2021-02-07 05:50:24,507 - stpipe.SkyMatchStep - INFO - SkyMatchStep instance created.\n"
     ]
    },
    {
     "name": "stderr",
     "output_type": "stream",
     "text": [
      "2021-02-07 05:50:24,624 - stpipe.SkyMatchStep - INFO - Step SkyMatchStep running with args ('skymatch_asnfile2.json',).\n"
     ]
    },
    {
     "name": "stderr",
     "output_type": "stream",
     "text": [
      "2021-02-07 05:50:24,626 - stpipe.SkyMatchStep - INFO - Step SkyMatchStep parameters are: {'pre_hooks': [], 'post_hooks': [], 'output_file': '/data1/jenkins/workspace/Notebooks/jwst_validation_notebooks_spacetelescope/jwst_validation_notebooks/skymatch/jwst_skymatch_miri_test/MIRI', 'output_dir': None, 'output_ext': '.fits', 'output_use_model': False, 'output_use_index': True, 'save_results': True, 'skip': False, 'suffix': None, 'search_output_file': True, 'input_dir': '', 'skymethod': 'local', 'match_down': True, 'subtract': False, 'stepsize': None, 'skystat': 'mode', 'dqbits': '0', 'lower': None, 'upper': None, 'nclip': 5, 'lsigma': 4.0, 'usigma': 4.0, 'binwidth': 0.1}\n"
     ]
    },
    {
     "name": "stderr",
     "output_type": "stream",
     "text": [
      "2021-02-07 05:50:24,945 - stpipe.SkyMatchStep - INFO -  \n"
     ]
    },
    {
     "name": "stderr",
     "output_type": "stream",
     "text": [
      "2021-02-07 05:50:24,946 - stpipe.SkyMatchStep - INFO - ***** jwst.skymatch.skymatch.match() started on 2021-02-07 05:50:24.945436\n"
     ]
    },
    {
     "name": "stderr",
     "output_type": "stream",
     "text": [
      "2021-02-07 05:50:24,946 - stpipe.SkyMatchStep - INFO -  \n"
     ]
    },
    {
     "name": "stderr",
     "output_type": "stream",
     "text": [
      "2021-02-07 05:50:24,947 - stpipe.SkyMatchStep - INFO - Sky computation method: 'local'\n"
     ]
    },
    {
     "name": "stderr",
     "output_type": "stream",
     "text": [
      "2021-02-07 05:50:24,947 - stpipe.SkyMatchStep - INFO - Sky subtraction from image data: OFF\n"
     ]
    },
    {
     "name": "stderr",
     "output_type": "stream",
     "text": [
      "2021-02-07 05:50:24,947 - stpipe.SkyMatchStep - INFO -  \n"
     ]
    },
    {
     "name": "stderr",
     "output_type": "stream",
     "text": [
      "2021-02-07 05:50:24,948 - stpipe.SkyMatchStep - INFO - ----  Sky values computed per image and/or image groups.\n"
     ]
    },
    {
     "name": "stderr",
     "output_type": "stream",
     "text": [
      "2021-02-07 05:50:25,024 - stpipe.SkyMatchStep - INFO -    *  Image ID=det_image_seq1_MIRIMAGE_F560Wexp1_cal_skymatch.fits. Sky background: 1.96287\n"
     ]
    },
    {
     "name": "stderr",
     "output_type": "stream",
     "text": [
      "2021-02-07 05:50:25,025 - stpipe.SkyMatchStep - INFO -    *  Image ID=det_image_seq2_MIRIMAGE_F560Wexp1_cal_skymatch.fits. Sky background: 2.98375\n"
     ]
    },
    {
     "name": "stderr",
     "output_type": "stream",
     "text": [
      "2021-02-07 05:50:25,025 - stpipe.SkyMatchStep - INFO -    *  Image ID=det_image_seq3_MIRIMAGE_F560Wexp1_cal_skymatch.fits. Sky background: 4.93045\n"
     ]
    },
    {
     "name": "stderr",
     "output_type": "stream",
     "text": [
      "2021-02-07 05:50:25,026 - stpipe.SkyMatchStep - INFO -    *  Image ID=det_image_seq4_MIRIMAGE_F560Wexp1_cal_skymatch.fits. Sky background: 1.96287\n"
     ]
    },
    {
     "name": "stderr",
     "output_type": "stream",
     "text": [
      "2021-02-07 05:50:25,026 - stpipe.SkyMatchStep - INFO -  \n"
     ]
    },
    {
     "name": "stderr",
     "output_type": "stream",
     "text": [
      "2021-02-07 05:50:25,027 - stpipe.SkyMatchStep - INFO - ***** jwst.skymatch.skymatch.match() ended on 2021-02-07 05:50:25.026749\n"
     ]
    },
    {
     "name": "stderr",
     "output_type": "stream",
     "text": [
      "2021-02-07 05:50:25,027 - stpipe.SkyMatchStep - INFO - ***** jwst.skymatch.skymatch.match() TOTAL RUN TIME: 0:00:00.081313\n"
     ]
    },
    {
     "name": "stderr",
     "output_type": "stream",
     "text": [
      "2021-02-07 05:50:25,027 - stpipe.SkyMatchStep - INFO -  \n"
     ]
    },
    {
     "name": "stderr",
     "output_type": "stream",
     "text": [
      "2021-02-07 05:50:25,214 - stpipe.SkyMatchStep - INFO - Saved model in MIRI_0_skymatchstep.fits\n"
     ]
    },
    {
     "name": "stderr",
     "output_type": "stream",
     "text": [
      "2021-02-07 05:50:25,401 - stpipe.SkyMatchStep - INFO - Saved model in MIRI_1_skymatchstep.fits\n"
     ]
    },
    {
     "name": "stderr",
     "output_type": "stream",
     "text": [
      "2021-02-07 05:50:25,580 - stpipe.SkyMatchStep - INFO - Saved model in MIRI_2_skymatchstep.fits\n"
     ]
    },
    {
     "name": "stderr",
     "output_type": "stream",
     "text": [
      "2021-02-07 05:50:25,748 - stpipe.SkyMatchStep - INFO - Saved model in MIRI_3_skymatchstep.fits\n"
     ]
    },
    {
     "name": "stderr",
     "output_type": "stream",
     "text": [
      "2021-02-07 05:50:25,749 - stpipe.SkyMatchStep - INFO - Step SkyMatchStep done\n"
     ]
    },
    {
     "data": {
      "text/plain": [
       "<ModelContainer>"
      ]
     },
     "execution_count": 1,
     "metadata": {},
     "output_type": "execute_result"
    }
   ],
   "source": [
    "# skymatch, local\n",
    "jwst.skymatch.skymatch_step.SkyMatchStep.call(skymatch_json_file2, skymethod='local', subtract=False,output_file='MIRI',save_results=True)"
   ]
  },
  {
   "cell_type": "code",
   "execution_count": 20,
   "metadata": {
    "execution": {
     "iopub.execute_input": "2021-02-07T10:50:25.758469Z",
     "iopub.status.busy": "2021-02-07T10:50:25.757081Z",
     "iopub.status.idle": "2021-02-07T10:50:26.366014Z",
     "shell.execute_reply": "2021-02-07T10:50:26.366273Z"
    }
   },
   "outputs": [
    {
     "name": "stdout",
     "output_type": "stream",
     "text": [
      "Mean: original, new (local)\n",
      "Mean: 2.000058 , 2.000058\n",
      "Mean: 3.00098 , 3.00098\n",
      "Mean: 4.9982834 , 4.9982834\n",
      "Mean: 2.000058 , 2.000058\n"
     ]
    }
   ],
   "source": [
    "img01_1_new = datamodels.open('MIRI_0_skymatchstep.fits')\n",
    "img01_2_new = datamodels.open('MIRI_1_skymatchstep.fits')\n",
    "img02_1_new = datamodels.open('MIRI_2_skymatchstep.fits')\n",
    "img02_2_new = datamodels.open('MIRI_3_skymatchstep.fits')\n",
    "\n",
    "print('Mean: original, new (local)')\n",
    "print('Mean:',np.mean(img01_1.data),',', np.mean(img01_1_new.data))\n",
    "print('Mean:',np.mean(img01_2.data),',', np.mean(img01_2_new.data))\n",
    "print('Mean:',np.mean(img02_1.data),',', np.mean(img02_1_new.data))\n",
    "print('Mean:',np.mean(img02_2.data),',', np.mean(img02_2_new.data))"
   ]
  },
  {
   "cell_type": "markdown",
   "metadata": {},
   "source": [
    "### ** Check that the original and output (new) sky values match for individual images (but not necessarily the same for all images)"
   ]
  },
  {
   "cell_type": "markdown",
   "metadata": {},
   "source": [
    "##### Notes: ‘local’: compute sky background values of each input image or group of images (members of the same “exposure”). A single sky value is computed for each group of images."
   ]
  },
  {
   "cell_type": "markdown",
   "metadata": {},
   "source": [
    "### 2.2 skymethod = 'global'"
   ]
  },
  {
   "cell_type": "code",
   "execution_count": 21,
   "metadata": {
    "execution": {
     "iopub.execute_input": "2021-02-07T10:50:26.378489Z",
     "iopub.status.busy": "2021-02-07T10:50:26.373338Z",
     "iopub.status.idle": "2021-02-07T10:50:27.979423Z",
     "shell.execute_reply": "2021-02-07T10:50:27.979071Z"
    }
   },
   "outputs": [
    {
     "name": "stderr",
     "output_type": "stream",
     "text": [
      "2021-02-07 05:50:26,723 - CRDS - ERROR -  Error determining best reference for 'pars-skymatchstep'  =   Unknown reference type 'pars-skymatchstep'\n"
     ]
    },
    {
     "name": "stderr",
     "output_type": "stream",
     "text": [
      "2021-02-07 05:50:26,725 - stpipe.SkyMatchStep - INFO - SkyMatchStep instance created.\n"
     ]
    },
    {
     "name": "stderr",
     "output_type": "stream",
     "text": [
      "2021-02-07 05:50:26,855 - stpipe.SkyMatchStep - INFO - Step SkyMatchStep running with args ('skymatch_asnfile2.json',).\n"
     ]
    },
    {
     "name": "stderr",
     "output_type": "stream",
     "text": [
      "2021-02-07 05:50:26,857 - stpipe.SkyMatchStep - INFO - Step SkyMatchStep parameters are: {'pre_hooks': [], 'post_hooks': [], 'output_file': '/data1/jenkins/workspace/Notebooks/jwst_validation_notebooks_spacetelescope/jwst_validation_notebooks/skymatch/jwst_skymatch_miri_test/MIRI', 'output_dir': None, 'output_ext': '.fits', 'output_use_model': False, 'output_use_index': True, 'save_results': True, 'skip': False, 'suffix': None, 'search_output_file': True, 'input_dir': '', 'skymethod': 'global', 'match_down': True, 'subtract': True, 'stepsize': None, 'skystat': 'mode', 'dqbits': '0', 'lower': None, 'upper': None, 'nclip': 5, 'lsigma': 4.0, 'usigma': 4.0, 'binwidth': 0.1}\n"
     ]
    },
    {
     "name": "stderr",
     "output_type": "stream",
     "text": [
      "2021-02-07 05:50:27,173 - stpipe.SkyMatchStep - INFO -  \n"
     ]
    },
    {
     "name": "stderr",
     "output_type": "stream",
     "text": [
      "2021-02-07 05:50:27,174 - stpipe.SkyMatchStep - INFO - ***** jwst.skymatch.skymatch.match() started on 2021-02-07 05:50:27.173848\n"
     ]
    },
    {
     "name": "stderr",
     "output_type": "stream",
     "text": [
      "2021-02-07 05:50:27,175 - stpipe.SkyMatchStep - INFO -  \n"
     ]
    },
    {
     "name": "stderr",
     "output_type": "stream",
     "text": [
      "2021-02-07 05:50:27,175 - stpipe.SkyMatchStep - INFO - Sky computation method: 'global'\n"
     ]
    },
    {
     "name": "stderr",
     "output_type": "stream",
     "text": [
      "2021-02-07 05:50:27,175 - stpipe.SkyMatchStep - INFO - Sky subtraction from image data: ON\n"
     ]
    },
    {
     "name": "stderr",
     "output_type": "stream",
     "text": [
      "2021-02-07 05:50:27,176 - stpipe.SkyMatchStep - INFO -  \n"
     ]
    },
    {
     "name": "stderr",
     "output_type": "stream",
     "text": [
      "2021-02-07 05:50:27,176 - stpipe.SkyMatchStep - INFO - ----  Computing \"global\" sky - smallest sky value across *all* input images.\n"
     ]
    },
    {
     "name": "stderr",
     "output_type": "stream",
     "text": [
      "2021-02-07 05:50:27,251 - stpipe.SkyMatchStep - INFO -  \n"
     ]
    },
    {
     "name": "stderr",
     "output_type": "stream",
     "text": [
      "2021-02-07 05:50:27,251 - stpipe.SkyMatchStep - INFO -    \"Global\" sky value correction: 1.9628715047274778 [not converted]\n"
     ]
    },
    {
     "name": "stderr",
     "output_type": "stream",
     "text": [
      "2021-02-07 05:50:27,253 - stpipe.SkyMatchStep - INFO -    *  Image ID=det_image_seq1_MIRIMAGE_F560Wexp1_cal_skymatch.fits. Sky background: 1.96287 (old=0, delta=1.96287)\n"
     ]
    },
    {
     "name": "stderr",
     "output_type": "stream",
     "text": [
      "2021-02-07 05:50:27,254 - stpipe.SkyMatchStep - INFO -    *  Image ID=det_image_seq2_MIRIMAGE_F560Wexp1_cal_skymatch.fits. Sky background: 1.96287 (old=0, delta=1.96287)\n"
     ]
    },
    {
     "name": "stderr",
     "output_type": "stream",
     "text": [
      "2021-02-07 05:50:27,256 - stpipe.SkyMatchStep - INFO -    *  Image ID=det_image_seq3_MIRIMAGE_F560Wexp1_cal_skymatch.fits. Sky background: 1.96287 (old=0, delta=1.96287)\n"
     ]
    },
    {
     "name": "stderr",
     "output_type": "stream",
     "text": [
      "2021-02-07 05:50:27,257 - stpipe.SkyMatchStep - INFO -    *  Image ID=det_image_seq4_MIRIMAGE_F560Wexp1_cal_skymatch.fits. Sky background: 1.96287 (old=0, delta=1.96287)\n"
     ]
    },
    {
     "name": "stderr",
     "output_type": "stream",
     "text": [
      "2021-02-07 05:50:27,258 - stpipe.SkyMatchStep - INFO -  \n"
     ]
    },
    {
     "name": "stderr",
     "output_type": "stream",
     "text": [
      "2021-02-07 05:50:27,258 - stpipe.SkyMatchStep - INFO - ***** jwst.skymatch.skymatch.match() ended on 2021-02-07 05:50:27.258133\n"
     ]
    },
    {
     "name": "stderr",
     "output_type": "stream",
     "text": [
      "2021-02-07 05:50:27,258 - stpipe.SkyMatchStep - INFO - ***** jwst.skymatch.skymatch.match() TOTAL RUN TIME: 0:00:00.084285\n"
     ]
    },
    {
     "name": "stderr",
     "output_type": "stream",
     "text": [
      "2021-02-07 05:50:27,259 - stpipe.SkyMatchStep - INFO -  \n"
     ]
    },
    {
     "name": "stderr",
     "output_type": "stream",
     "text": [
      "2021-02-07 05:50:27,433 - stpipe.SkyMatchStep - INFO - Saved model in MIRI_0_skymatchstep.fits\n"
     ]
    },
    {
     "name": "stderr",
     "output_type": "stream",
     "text": [
      "2021-02-07 05:50:27,623 - stpipe.SkyMatchStep - INFO - Saved model in MIRI_1_skymatchstep.fits\n"
     ]
    },
    {
     "name": "stderr",
     "output_type": "stream",
     "text": [
      "2021-02-07 05:50:27,799 - stpipe.SkyMatchStep - INFO - Saved model in MIRI_2_skymatchstep.fits\n"
     ]
    },
    {
     "name": "stderr",
     "output_type": "stream",
     "text": [
      "2021-02-07 05:50:27,974 - stpipe.SkyMatchStep - INFO - Saved model in MIRI_3_skymatchstep.fits\n"
     ]
    },
    {
     "name": "stderr",
     "output_type": "stream",
     "text": [
      "2021-02-07 05:50:27,975 - stpipe.SkyMatchStep - INFO - Step SkyMatchStep done\n"
     ]
    },
    {
     "data": {
      "text/plain": [
       "<ModelContainer>"
      ]
     },
     "execution_count": 1,
     "metadata": {},
     "output_type": "execute_result"
    }
   ],
   "source": [
    "# skymatch, global, subtract = True\n",
    "jwst.skymatch.skymatch_step.SkyMatchStep.call(skymatch_json_file2, skymethod='global', subtract=True,output_file='MIRI',save_results=True)"
   ]
  },
  {
   "cell_type": "code",
   "execution_count": 22,
   "metadata": {
    "execution": {
     "iopub.execute_input": "2021-02-07T10:50:27.986341Z",
     "iopub.status.busy": "2021-02-07T10:50:27.986037Z",
     "iopub.status.idle": "2021-02-07T10:50:28.378285Z",
     "shell.execute_reply": "2021-02-07T10:50:28.378630Z"
    }
   },
   "outputs": [
    {
     "name": "stdout",
     "output_type": "stream",
     "text": [
      "Mean: original, new (global)\n",
      "Mean: 2.000058 , 0.03718605\n",
      "Mean: 3.00098 , 1.0381093\n",
      "Mean: 4.9982834 , 3.0354137\n",
      "Mean: 2.000058 , 0.03718605\n"
     ]
    }
   ],
   "source": [
    "img01_1_new = datamodels.open('MIRI_0_skymatchstep.fits')\n",
    "img01_2_new = datamodels.open('MIRI_1_skymatchstep.fits')\n",
    "img02_1_new = datamodels.open('MIRI_2_skymatchstep.fits')\n",
    "img02_2_new = datamodels.open('MIRI_3_skymatchstep.fits')\n",
    "\n",
    "print('Mean: original, new (global)')\n",
    "print('Mean:',np.mean(img01_1.data),',', np.mean(img01_1_new.data))\n",
    "print('Mean:',np.mean(img01_2.data),',', np.mean(img01_2_new.data))\n",
    "print('Mean:',np.mean(img02_1.data),',', np.mean(img02_1_new.data))\n",
    "print('Mean:',np.mean(img02_2.data),',', np.mean(img02_2_new.data))"
   ]
  },
  {
   "cell_type": "markdown",
   "metadata": {},
   "source": [
    "### ** Check that the output (new) sky values are equal to the original sky value minus the lowest original sky value "
   ]
  },
  {
   "cell_type": "markdown",
   "metadata": {},
   "source": [
    "##### Notes: ‘global’: compute a common sky value for all input image and groups of images. In this setting match will compute sky values for each input image/group, find the minimum sky value, and then it will set (and/or subtract) sky value of each input image to this minimum value. This method may be useful when input images have been already matched. The 'global' method computes the minimum sky value across all input images and/or groups. That sky value is then considered to be the background in all input images."
   ]
  },
  {
   "cell_type": "markdown",
   "metadata": {},
   "source": [
    "### 2.3 skymethod = 'match', match_down=True"
   ]
  },
  {
   "cell_type": "code",
   "execution_count": 23,
   "metadata": {
    "execution": {
     "iopub.execute_input": "2021-02-07T10:50:28.385929Z",
     "iopub.status.busy": "2021-02-07T10:50:28.385607Z",
     "iopub.status.idle": "2021-02-07T10:50:31.658825Z",
     "shell.execute_reply": "2021-02-07T10:50:31.658526Z"
    }
   },
   "outputs": [
    {
     "name": "stderr",
     "output_type": "stream",
     "text": [
      "2021-02-07 05:50:28,934 - CRDS - ERROR -  Error determining best reference for 'pars-skymatchstep'  =   Unknown reference type 'pars-skymatchstep'\n"
     ]
    },
    {
     "name": "stderr",
     "output_type": "stream",
     "text": [
      "2021-02-07 05:50:28,936 - stpipe.SkyMatchStep - INFO - SkyMatchStep instance created.\n"
     ]
    },
    {
     "name": "stderr",
     "output_type": "stream",
     "text": [
      "2021-02-07 05:50:29,051 - stpipe.SkyMatchStep - INFO - Step SkyMatchStep running with args ('skymatch_asnfile2.json',).\n"
     ]
    },
    {
     "name": "stderr",
     "output_type": "stream",
     "text": [
      "2021-02-07 05:50:29,053 - stpipe.SkyMatchStep - INFO - Step SkyMatchStep parameters are: {'pre_hooks': [], 'post_hooks': [], 'output_file': '/data1/jenkins/workspace/Notebooks/jwst_validation_notebooks_spacetelescope/jwst_validation_notebooks/skymatch/jwst_skymatch_miri_test/MIRI', 'output_dir': None, 'output_ext': '.fits', 'output_use_model': False, 'output_use_index': True, 'save_results': True, 'skip': False, 'suffix': None, 'search_output_file': True, 'input_dir': '', 'skymethod': 'match', 'match_down': True, 'subtract': True, 'stepsize': None, 'skystat': 'mode', 'dqbits': '0', 'lower': None, 'upper': None, 'nclip': 5, 'lsigma': 4.0, 'usigma': 4.0, 'binwidth': 0.1}\n"
     ]
    },
    {
     "name": "stderr",
     "output_type": "stream",
     "text": [
      "2021-02-07 05:50:29,381 - stpipe.SkyMatchStep - INFO -  \n"
     ]
    },
    {
     "name": "stderr",
     "output_type": "stream",
     "text": [
      "2021-02-07 05:50:29,382 - stpipe.SkyMatchStep - INFO - ***** jwst.skymatch.skymatch.match() started on 2021-02-07 05:50:29.381428\n"
     ]
    },
    {
     "name": "stderr",
     "output_type": "stream",
     "text": [
      "2021-02-07 05:50:29,382 - stpipe.SkyMatchStep - INFO -  \n"
     ]
    },
    {
     "name": "stderr",
     "output_type": "stream",
     "text": [
      "2021-02-07 05:50:29,383 - stpipe.SkyMatchStep - INFO - Sky computation method: 'match'\n"
     ]
    },
    {
     "name": "stderr",
     "output_type": "stream",
     "text": [
      "2021-02-07 05:50:29,383 - stpipe.SkyMatchStep - INFO - Sky matching direction: DOWN\n"
     ]
    },
    {
     "name": "stderr",
     "output_type": "stream",
     "text": [
      "2021-02-07 05:50:29,383 - stpipe.SkyMatchStep - INFO - Sky subtraction from image data: ON\n"
     ]
    },
    {
     "name": "stderr",
     "output_type": "stream",
     "text": [
      "2021-02-07 05:50:29,384 - stpipe.SkyMatchStep - INFO -  \n"
     ]
    },
    {
     "name": "stderr",
     "output_type": "stream",
     "text": [
      "2021-02-07 05:50:29,384 - stpipe.SkyMatchStep - INFO - ----  Computing differences in sky values in overlapping regions.\n"
     ]
    },
    {
     "name": "stderr",
     "output_type": "stream",
     "text": [
      "2021-02-07 05:50:30,900 - stpipe.SkyMatchStep - INFO -    *  Image ID=det_image_seq1_MIRIMAGE_F560Wexp1_cal_skymatch.fits. Sky background: 0.0115136 (old=0, delta=0.0115136)\n"
     ]
    },
    {
     "name": "stderr",
     "output_type": "stream",
     "text": [
      "2021-02-07 05:50:30,902 - stpipe.SkyMatchStep - INFO -    *  Image ID=det_image_seq2_MIRIMAGE_F560Wexp1_cal_skymatch.fits. Sky background: 1.02197 (old=0, delta=1.02197)\n"
     ]
    },
    {
     "name": "stderr",
     "output_type": "stream",
     "text": [
      "2021-02-07 05:50:30,904 - stpipe.SkyMatchStep - INFO -    *  Image ID=det_image_seq3_MIRIMAGE_F560Wexp1_cal_skymatch.fits. Sky background: 2.96353 (old=0, delta=2.96353)\n"
     ]
    },
    {
     "name": "stderr",
     "output_type": "stream",
     "text": [
      "2021-02-07 05:50:30,906 - stpipe.SkyMatchStep - INFO -    *  Image ID=det_image_seq4_MIRIMAGE_F560Wexp1_cal_skymatch.fits. Sky background: 0 (old=0, delta=0)\n"
     ]
    },
    {
     "name": "stderr",
     "output_type": "stream",
     "text": [
      "2021-02-07 05:50:30,906 - stpipe.SkyMatchStep - INFO -  \n"
     ]
    },
    {
     "name": "stderr",
     "output_type": "stream",
     "text": [
      "2021-02-07 05:50:30,906 - stpipe.SkyMatchStep - INFO - ***** jwst.skymatch.skymatch.match() ended on 2021-02-07 05:50:30.906428\n"
     ]
    },
    {
     "name": "stderr",
     "output_type": "stream",
     "text": [
      "2021-02-07 05:50:30,907 - stpipe.SkyMatchStep - INFO - ***** jwst.skymatch.skymatch.match() TOTAL RUN TIME: 0:00:01.525000\n"
     ]
    },
    {
     "name": "stderr",
     "output_type": "stream",
     "text": [
      "2021-02-07 05:50:30,907 - stpipe.SkyMatchStep - INFO -  \n"
     ]
    },
    {
     "name": "stderr",
     "output_type": "stream",
     "text": [
      "2021-02-07 05:50:31,103 - stpipe.SkyMatchStep - INFO - Saved model in MIRI_0_skymatchstep.fits\n"
     ]
    },
    {
     "name": "stderr",
     "output_type": "stream",
     "text": [
      "2021-02-07 05:50:31,274 - stpipe.SkyMatchStep - INFO - Saved model in MIRI_1_skymatchstep.fits\n"
     ]
    },
    {
     "name": "stderr",
     "output_type": "stream",
     "text": [
      "2021-02-07 05:50:31,461 - stpipe.SkyMatchStep - INFO - Saved model in MIRI_2_skymatchstep.fits\n"
     ]
    },
    {
     "name": "stderr",
     "output_type": "stream",
     "text": [
      "2021-02-07 05:50:31,653 - stpipe.SkyMatchStep - INFO - Saved model in MIRI_3_skymatchstep.fits\n"
     ]
    },
    {
     "name": "stderr",
     "output_type": "stream",
     "text": [
      "2021-02-07 05:50:31,654 - stpipe.SkyMatchStep - INFO - Step SkyMatchStep done\n"
     ]
    },
    {
     "data": {
      "text/plain": [
       "<ModelContainer>"
      ]
     },
     "execution_count": 1,
     "metadata": {},
     "output_type": "execute_result"
    }
   ],
   "source": [
    "# skymatch, match down, subtract = True\n",
    "jwst.skymatch.skymatch_step.SkyMatchStep.call(skymatch_json_file2, skymethod='match', match_down=True,subtract=True,output_file='MIRI',save_results=True)"
   ]
  },
  {
   "cell_type": "code",
   "execution_count": 24,
   "metadata": {
    "execution": {
     "iopub.execute_input": "2021-02-07T10:50:31.662408Z",
     "iopub.status.busy": "2021-02-07T10:50:31.662102Z",
     "iopub.status.idle": "2021-02-07T10:50:32.217787Z",
     "shell.execute_reply": "2021-02-07T10:50:32.217435Z"
    }
   },
   "outputs": [
    {
     "name": "stdout",
     "output_type": "stream",
     "text": [
      "Mean: original, new (match down)\n",
      "Mean: 2.000058 , 1.9885439\n",
      "Mean: 3.00098 , 1.979009\n",
      "Mean: 4.9982834 , 2.0347555\n",
      "Mean: 2.000058 , 2.000058\n"
     ]
    }
   ],
   "source": [
    "img01_1_new = datamodels.open('MIRI_0_skymatchstep.fits')\n",
    "img01_2_new = datamodels.open('MIRI_1_skymatchstep.fits')\n",
    "img02_1_new = datamodels.open('MIRI_2_skymatchstep.fits')\n",
    "img02_2_new = datamodels.open('MIRI_3_skymatchstep.fits')\n",
    "\n",
    "print('Mean: original, new (match down)')\n",
    "print('Mean:',np.mean(img01_1.data),',', np.mean(img01_1_new.data))\n",
    "print('Mean:',np.mean(img01_2.data),',', np.mean(img01_2_new.data))\n",
    "print('Mean:',np.mean(img02_1.data),',', np.mean(img02_1_new.data))\n",
    "print('Mean:',np.mean(img02_2.data),',', np.mean(img02_2_new.data))"
   ]
  },
  {
   "cell_type": "markdown",
   "metadata": {},
   "source": [
    "### ** Check that all output (new) sky values are equal to the lowest original sky value "
   ]
  },
  {
   "cell_type": "markdown",
   "metadata": {},
   "source": [
    "##### Notes: ‘match’: compute differences in sky values between images and/or groups in (pair-wise) common sky regions. In this case computed sky values will be relative (delta) to the sky computed in one of the input images whose sky value will be set to (reported to be) 0. This case matches to the lowest sky value."
   ]
  },
  {
   "cell_type": "markdown",
   "metadata": {},
   "source": [
    "### 2.4 skymethod = 'match', match_down=False"
   ]
  },
  {
   "cell_type": "code",
   "execution_count": 25,
   "metadata": {
    "execution": {
     "iopub.execute_input": "2021-02-07T10:50:32.225093Z",
     "iopub.status.busy": "2021-02-07T10:50:32.224771Z",
     "iopub.status.idle": "2021-02-07T10:50:35.331253Z",
     "shell.execute_reply": "2021-02-07T10:50:35.330956Z"
    }
   },
   "outputs": [
    {
     "name": "stderr",
     "output_type": "stream",
     "text": [
      "2021-02-07 05:50:32,576 - CRDS - ERROR -  Error determining best reference for 'pars-skymatchstep'  =   Unknown reference type 'pars-skymatchstep'\n"
     ]
    },
    {
     "name": "stderr",
     "output_type": "stream",
     "text": [
      "2021-02-07 05:50:32,578 - stpipe.SkyMatchStep - INFO - SkyMatchStep instance created.\n"
     ]
    },
    {
     "name": "stderr",
     "output_type": "stream",
     "text": [
      "2021-02-07 05:50:32,709 - stpipe.SkyMatchStep - INFO - Step SkyMatchStep running with args ('skymatch_asnfile2.json',).\n"
     ]
    },
    {
     "name": "stderr",
     "output_type": "stream",
     "text": [
      "2021-02-07 05:50:32,710 - stpipe.SkyMatchStep - INFO - Step SkyMatchStep parameters are: {'pre_hooks': [], 'post_hooks': [], 'output_file': '/data1/jenkins/workspace/Notebooks/jwst_validation_notebooks_spacetelescope/jwst_validation_notebooks/skymatch/jwst_skymatch_miri_test/MIRI', 'output_dir': None, 'output_ext': '.fits', 'output_use_model': False, 'output_use_index': True, 'save_results': True, 'skip': False, 'suffix': None, 'search_output_file': True, 'input_dir': '', 'skymethod': 'match', 'match_down': False, 'subtract': True, 'stepsize': None, 'skystat': 'mode', 'dqbits': '0', 'lower': None, 'upper': None, 'nclip': 5, 'lsigma': 4.0, 'usigma': 4.0, 'binwidth': 0.1}\n"
     ]
    },
    {
     "name": "stderr",
     "output_type": "stream",
     "text": [
      "2021-02-07 05:50:33,048 - stpipe.SkyMatchStep - INFO -  \n"
     ]
    },
    {
     "name": "stderr",
     "output_type": "stream",
     "text": [
      "2021-02-07 05:50:33,050 - stpipe.SkyMatchStep - INFO - ***** jwst.skymatch.skymatch.match() started on 2021-02-07 05:50:33.048685\n"
     ]
    },
    {
     "name": "stderr",
     "output_type": "stream",
     "text": [
      "2021-02-07 05:50:33,050 - stpipe.SkyMatchStep - INFO -  \n"
     ]
    },
    {
     "name": "stderr",
     "output_type": "stream",
     "text": [
      "2021-02-07 05:50:33,050 - stpipe.SkyMatchStep - INFO - Sky computation method: 'match'\n"
     ]
    },
    {
     "name": "stderr",
     "output_type": "stream",
     "text": [
      "2021-02-07 05:50:33,051 - stpipe.SkyMatchStep - INFO - Sky matching direction: UP\n"
     ]
    },
    {
     "name": "stderr",
     "output_type": "stream",
     "text": [
      "2021-02-07 05:50:33,051 - stpipe.SkyMatchStep - INFO - Sky subtraction from image data: ON\n"
     ]
    },
    {
     "name": "stderr",
     "output_type": "stream",
     "text": [
      "2021-02-07 05:50:33,051 - stpipe.SkyMatchStep - INFO -  \n"
     ]
    },
    {
     "name": "stderr",
     "output_type": "stream",
     "text": [
      "2021-02-07 05:50:33,052 - stpipe.SkyMatchStep - INFO - ----  Computing differences in sky values in overlapping regions.\n"
     ]
    },
    {
     "name": "stderr",
     "output_type": "stream",
     "text": [
      "2021-02-07 05:50:34,582 - stpipe.SkyMatchStep - INFO -    *  Image ID=det_image_seq1_MIRIMAGE_F560Wexp1_cal_skymatch.fits. Sky background: -2.95202 (old=0, delta=-2.95202)\n"
     ]
    },
    {
     "name": "stderr",
     "output_type": "stream",
     "text": [
      "2021-02-07 05:50:34,585 - stpipe.SkyMatchStep - INFO -    *  Image ID=det_image_seq2_MIRIMAGE_F560Wexp1_cal_skymatch.fits. Sky background: -1.94156 (old=0, delta=-1.94156)\n"
     ]
    },
    {
     "name": "stderr",
     "output_type": "stream",
     "text": [
      "2021-02-07 05:50:34,586 - stpipe.SkyMatchStep - INFO -    *  Image ID=det_image_seq3_MIRIMAGE_F560Wexp1_cal_skymatch.fits. Sky background: 0 (old=0, delta=0)\n"
     ]
    },
    {
     "name": "stderr",
     "output_type": "stream",
     "text": [
      "2021-02-07 05:50:34,588 - stpipe.SkyMatchStep - INFO -    *  Image ID=det_image_seq4_MIRIMAGE_F560Wexp1_cal_skymatch.fits. Sky background: -2.96353 (old=0, delta=-2.96353)\n"
     ]
    },
    {
     "name": "stderr",
     "output_type": "stream",
     "text": [
      "2021-02-07 05:50:34,588 - stpipe.SkyMatchStep - INFO -  \n"
     ]
    },
    {
     "name": "stderr",
     "output_type": "stream",
     "text": [
      "2021-02-07 05:50:34,589 - stpipe.SkyMatchStep - INFO - ***** jwst.skymatch.skymatch.match() ended on 2021-02-07 05:50:34.588707\n"
     ]
    },
    {
     "name": "stderr",
     "output_type": "stream",
     "text": [
      "2021-02-07 05:50:34,589 - stpipe.SkyMatchStep - INFO - ***** jwst.skymatch.skymatch.match() TOTAL RUN TIME: 0:00:01.540022\n"
     ]
    },
    {
     "name": "stderr",
     "output_type": "stream",
     "text": [
      "2021-02-07 05:50:34,589 - stpipe.SkyMatchStep - INFO -  \n"
     ]
    },
    {
     "name": "stderr",
     "output_type": "stream",
     "text": [
      "2021-02-07 05:50:34,786 - stpipe.SkyMatchStep - INFO - Saved model in MIRI_0_skymatchstep.fits\n"
     ]
    },
    {
     "name": "stderr",
     "output_type": "stream",
     "text": [
      "2021-02-07 05:50:34,960 - stpipe.SkyMatchStep - INFO - Saved model in MIRI_1_skymatchstep.fits\n"
     ]
    },
    {
     "name": "stderr",
     "output_type": "stream",
     "text": [
      "2021-02-07 05:50:35,150 - stpipe.SkyMatchStep - INFO - Saved model in MIRI_2_skymatchstep.fits\n"
     ]
    },
    {
     "name": "stderr",
     "output_type": "stream",
     "text": [
      "2021-02-07 05:50:35,324 - stpipe.SkyMatchStep - INFO - Saved model in MIRI_3_skymatchstep.fits\n"
     ]
    },
    {
     "name": "stderr",
     "output_type": "stream",
     "text": [
      "2021-02-07 05:50:35,325 - stpipe.SkyMatchStep - INFO - Step SkyMatchStep done\n"
     ]
    },
    {
     "data": {
      "text/plain": [
       "<ModelContainer>"
      ]
     },
     "execution_count": 1,
     "metadata": {},
     "output_type": "execute_result"
    }
   ],
   "source": [
    "# skymatch, match up, subtract = True\n",
    "jwst.skymatch.skymatch_step.SkyMatchStep.call(skymatch_json_file2, skymethod='match', match_down=False,subtract=True,output_file='MIRI',save_results=True)"
   ]
  },
  {
   "cell_type": "code",
   "execution_count": 26,
   "metadata": {
    "execution": {
     "iopub.execute_input": "2021-02-07T10:50:35.335536Z",
     "iopub.status.busy": "2021-02-07T10:50:35.335228Z",
     "iopub.status.idle": "2021-02-07T10:50:35.912238Z",
     "shell.execute_reply": "2021-02-07T10:50:35.912590Z"
    }
   },
   "outputs": [
    {
     "name": "stdout",
     "output_type": "stream",
     "text": [
      "Mean: original, new (match up)\n",
      "Mean: 2.000058 , 4.9520736\n",
      "Mean: 3.00098 , 4.9425383\n",
      "Mean: 4.9982834 , 4.9982834\n",
      "Mean: 2.000058 , 4.9635873\n"
     ]
    }
   ],
   "source": [
    "img01_1_new = datamodels.open('MIRI_0_skymatchstep.fits')\n",
    "img01_2_new = datamodels.open('MIRI_1_skymatchstep.fits')\n",
    "img02_1_new = datamodels.open('MIRI_2_skymatchstep.fits')\n",
    "img02_2_new = datamodels.open('MIRI_3_skymatchstep.fits')\n",
    "\n",
    "print('Mean: original, new (match up)')\n",
    "print('Mean:',np.mean(img01_1.data),',', np.mean(img01_1_new.data))\n",
    "print('Mean:',np.mean(img01_2.data),',', np.mean(img01_2_new.data))\n",
    "print('Mean:',np.mean(img02_1.data),',', np.mean(img02_1_new.data))\n",
    "print('Mean:',np.mean(img02_2.data),',', np.mean(img02_2_new.data))"
   ]
  },
  {
   "cell_type": "markdown",
   "metadata": {},
   "source": [
    "### ** Check that all output (new) sky values are equal to the highest original sky value "
   ]
  },
  {
   "cell_type": "markdown",
   "metadata": {},
   "source": [
    "##### Notes: ‘match’: compute differences in sky values between images and/or groups in (pair-wise) common sky regions. In this case computed sky values will be relative (delta) to the sky computed in one of the input images whose sky value will be set to (reported to be) 0. This case matches to the highest sky value."
   ]
  },
  {
   "cell_type": "markdown",
   "metadata": {},
   "source": [
    "### 2.5 skymethod = 'global+match'"
   ]
  },
  {
   "cell_type": "code",
   "execution_count": 27,
   "metadata": {
    "execution": {
     "iopub.execute_input": "2021-02-07T10:50:35.920095Z",
     "iopub.status.busy": "2021-02-07T10:50:35.919774Z",
     "iopub.status.idle": "2021-02-07T10:50:39.114970Z",
     "shell.execute_reply": "2021-02-07T10:50:39.114663Z"
    }
   },
   "outputs": [
    {
     "name": "stderr",
     "output_type": "stream",
     "text": [
      "2021-02-07 05:50:36,279 - CRDS - ERROR -  Error determining best reference for 'pars-skymatchstep'  =   Unknown reference type 'pars-skymatchstep'\n"
     ]
    },
    {
     "name": "stderr",
     "output_type": "stream",
     "text": [
      "2021-02-07 05:50:36,281 - stpipe.SkyMatchStep - INFO - SkyMatchStep instance created.\n"
     ]
    },
    {
     "name": "stderr",
     "output_type": "stream",
     "text": [
      "2021-02-07 05:50:36,410 - stpipe.SkyMatchStep - INFO - Step SkyMatchStep running with args ('skymatch_asnfile2.json',).\n"
     ]
    },
    {
     "name": "stderr",
     "output_type": "stream",
     "text": [
      "2021-02-07 05:50:36,412 - stpipe.SkyMatchStep - INFO - Step SkyMatchStep parameters are: {'pre_hooks': [], 'post_hooks': [], 'output_file': '/data1/jenkins/workspace/Notebooks/jwst_validation_notebooks_spacetelescope/jwst_validation_notebooks/skymatch/jwst_skymatch_miri_test/MIRI', 'output_dir': None, 'output_ext': '.fits', 'output_use_model': False, 'output_use_index': True, 'save_results': True, 'skip': False, 'suffix': None, 'search_output_file': True, 'input_dir': '', 'skymethod': 'global+match', 'match_down': True, 'subtract': True, 'stepsize': None, 'skystat': 'mode', 'dqbits': '0', 'lower': None, 'upper': None, 'nclip': 5, 'lsigma': 4.0, 'usigma': 4.0, 'binwidth': 0.1}\n"
     ]
    },
    {
     "name": "stderr",
     "output_type": "stream",
     "text": [
      "2021-02-07 05:50:36,737 - stpipe.SkyMatchStep - INFO -  \n"
     ]
    },
    {
     "name": "stderr",
     "output_type": "stream",
     "text": [
      "2021-02-07 05:50:36,738 - stpipe.SkyMatchStep - INFO - ***** jwst.skymatch.skymatch.match() started on 2021-02-07 05:50:36.737112\n"
     ]
    },
    {
     "name": "stderr",
     "output_type": "stream",
     "text": [
      "2021-02-07 05:50:36,738 - stpipe.SkyMatchStep - INFO -  \n"
     ]
    },
    {
     "name": "stderr",
     "output_type": "stream",
     "text": [
      "2021-02-07 05:50:36,739 - stpipe.SkyMatchStep - INFO - Sky computation method: 'global+match'\n"
     ]
    },
    {
     "name": "stderr",
     "output_type": "stream",
     "text": [
      "2021-02-07 05:50:36,739 - stpipe.SkyMatchStep - INFO - Sky matching direction: DOWN\n"
     ]
    },
    {
     "name": "stderr",
     "output_type": "stream",
     "text": [
      "2021-02-07 05:50:36,739 - stpipe.SkyMatchStep - INFO - Sky subtraction from image data: ON\n"
     ]
    },
    {
     "name": "stderr",
     "output_type": "stream",
     "text": [
      "2021-02-07 05:50:36,740 - stpipe.SkyMatchStep - INFO -  \n"
     ]
    },
    {
     "name": "stderr",
     "output_type": "stream",
     "text": [
      "2021-02-07 05:50:36,740 - stpipe.SkyMatchStep - INFO - ----  Computing differences in sky values in overlapping regions.\n"
     ]
    },
    {
     "name": "stderr",
     "output_type": "stream",
     "text": [
      "2021-02-07 05:50:38,255 - stpipe.SkyMatchStep - INFO -    *  Image ID=det_image_seq1_MIRIMAGE_F560Wexp1_cal_skymatch.fits. Sky background: 0.0115136 (old=0, delta=0.0115136)\n"
     ]
    },
    {
     "name": "stderr",
     "output_type": "stream",
     "text": [
      "2021-02-07 05:50:38,257 - stpipe.SkyMatchStep - INFO -    *  Image ID=det_image_seq2_MIRIMAGE_F560Wexp1_cal_skymatch.fits. Sky background: 1.02197 (old=0, delta=1.02197)\n"
     ]
    },
    {
     "name": "stderr",
     "output_type": "stream",
     "text": [
      "2021-02-07 05:50:38,259 - stpipe.SkyMatchStep - INFO -    *  Image ID=det_image_seq3_MIRIMAGE_F560Wexp1_cal_skymatch.fits. Sky background: 2.96353 (old=0, delta=2.96353)\n"
     ]
    },
    {
     "name": "stderr",
     "output_type": "stream",
     "text": [
      "2021-02-07 05:50:38,260 - stpipe.SkyMatchStep - INFO -    *  Image ID=det_image_seq4_MIRIMAGE_F560Wexp1_cal_skymatch.fits. Sky background: 0 (old=0, delta=0)\n"
     ]
    },
    {
     "name": "stderr",
     "output_type": "stream",
     "text": [
      "2021-02-07 05:50:38,261 - stpipe.SkyMatchStep - INFO -  \n"
     ]
    },
    {
     "name": "stderr",
     "output_type": "stream",
     "text": [
      "2021-02-07 05:50:38,261 - stpipe.SkyMatchStep - INFO - ----  Computing \"global\" sky - smallest sky value across *all* input images.\n"
     ]
    },
    {
     "name": "stderr",
     "output_type": "stream",
     "text": [
      "2021-02-07 05:50:38,334 - stpipe.SkyMatchStep - INFO -  \n"
     ]
    },
    {
     "name": "stderr",
     "output_type": "stream",
     "text": [
      "2021-02-07 05:50:38,335 - stpipe.SkyMatchStep - INFO -    \"Global\" sky value correction: 1.951358175945098 [not converted]\n"
     ]
    },
    {
     "name": "stderr",
     "output_type": "stream",
     "text": [
      "2021-02-07 05:50:38,335 - stpipe.SkyMatchStep - INFO -  \n"
     ]
    },
    {
     "name": "stderr",
     "output_type": "stream",
     "text": [
      "2021-02-07 05:50:38,335 - stpipe.SkyMatchStep - INFO - ----  Final (match+global) sky for:\n"
     ]
    },
    {
     "name": "stderr",
     "output_type": "stream",
     "text": [
      "2021-02-07 05:50:38,337 - stpipe.SkyMatchStep - INFO -    *  Image ID=det_image_seq1_MIRIMAGE_F560Wexp1_cal_skymatch.fits. Sky background: 1.96287 (old=0.0115136, delta=1.95136)\n"
     ]
    },
    {
     "name": "stderr",
     "output_type": "stream",
     "text": [
      "2021-02-07 05:50:38,338 - stpipe.SkyMatchStep - INFO -    *  Image ID=det_image_seq2_MIRIMAGE_F560Wexp1_cal_skymatch.fits. Sky background: 2.97333 (old=1.02197, delta=1.95136)\n"
     ]
    },
    {
     "name": "stderr",
     "output_type": "stream",
     "text": [
      "2021-02-07 05:50:38,340 - stpipe.SkyMatchStep - INFO -    *  Image ID=det_image_seq3_MIRIMAGE_F560Wexp1_cal_skymatch.fits. Sky background: 4.91489 (old=2.96353, delta=1.95136)\n"
     ]
    },
    {
     "name": "stderr",
     "output_type": "stream",
     "text": [
      "2021-02-07 05:50:38,341 - stpipe.SkyMatchStep - INFO -    *  Image ID=det_image_seq4_MIRIMAGE_F560Wexp1_cal_skymatch.fits. Sky background: 1.95136 (old=0, delta=1.95136)\n"
     ]
    },
    {
     "name": "stderr",
     "output_type": "stream",
     "text": [
      "2021-02-07 05:50:38,342 - stpipe.SkyMatchStep - INFO -  \n"
     ]
    },
    {
     "name": "stderr",
     "output_type": "stream",
     "text": [
      "2021-02-07 05:50:38,342 - stpipe.SkyMatchStep - INFO - ***** jwst.skymatch.skymatch.match() ended on 2021-02-07 05:50:38.342031\n"
     ]
    },
    {
     "name": "stderr",
     "output_type": "stream",
     "text": [
      "2021-02-07 05:50:38,342 - stpipe.SkyMatchStep - INFO - ***** jwst.skymatch.skymatch.match() TOTAL RUN TIME: 0:00:01.604919\n"
     ]
    },
    {
     "name": "stderr",
     "output_type": "stream",
     "text": [
      "2021-02-07 05:50:38,343 - stpipe.SkyMatchStep - INFO -  \n"
     ]
    },
    {
     "name": "stderr",
     "output_type": "stream",
     "text": [
      "2021-02-07 05:50:38,560 - stpipe.SkyMatchStep - INFO - Saved model in MIRI_0_skymatchstep.fits\n"
     ]
    },
    {
     "name": "stderr",
     "output_type": "stream",
     "text": [
      "2021-02-07 05:50:38,738 - stpipe.SkyMatchStep - INFO - Saved model in MIRI_1_skymatchstep.fits\n"
     ]
    },
    {
     "name": "stderr",
     "output_type": "stream",
     "text": [
      "2021-02-07 05:50:38,925 - stpipe.SkyMatchStep - INFO - Saved model in MIRI_2_skymatchstep.fits\n"
     ]
    },
    {
     "name": "stderr",
     "output_type": "stream",
     "text": [
      "2021-02-07 05:50:39,109 - stpipe.SkyMatchStep - INFO - Saved model in MIRI_3_skymatchstep.fits\n"
     ]
    },
    {
     "name": "stderr",
     "output_type": "stream",
     "text": [
      "2021-02-07 05:50:39,110 - stpipe.SkyMatchStep - INFO - Step SkyMatchStep done\n"
     ]
    },
    {
     "data": {
      "text/plain": [
       "<ModelContainer>"
      ]
     },
     "execution_count": 1,
     "metadata": {},
     "output_type": "execute_result"
    }
   ],
   "source": [
    "# skymatch, global+match, subtract = True\n",
    "jwst.skymatch.skymatch_step.SkyMatchStep.call(skymatch_json_file2, skymethod='global+match', match_down=True,subtract=True,output_file='MIRI',save_results=True)"
   ]
  },
  {
   "cell_type": "code",
   "execution_count": 28,
   "metadata": {
    "execution": {
     "iopub.execute_input": "2021-02-07T10:50:39.118544Z",
     "iopub.status.busy": "2021-02-07T10:50:39.118228Z",
     "iopub.status.idle": "2021-02-07T10:50:39.652028Z",
     "shell.execute_reply": "2021-02-07T10:50:39.652551Z"
    }
   },
   "outputs": [
    {
     "name": "stdout",
     "output_type": "stream",
     "text": [
      "Mean: original, new (global+match)\n",
      "Mean: 2.000058 , 0.037185874\n",
      "Mean: 3.00098 , 0.027650656\n",
      "Mean: 4.9982834 , 0.08339688\n",
      "Mean: 2.000058 , 0.04869941\n"
     ]
    }
   ],
   "source": [
    "img01_1_new = datamodels.open('MIRI_0_skymatchstep.fits')\n",
    "img01_2_new = datamodels.open('MIRI_1_skymatchstep.fits')\n",
    "img02_1_new = datamodels.open('MIRI_2_skymatchstep.fits')\n",
    "img02_2_new = datamodels.open('MIRI_3_skymatchstep.fits')\n",
    "\n",
    "print('Mean: original, new (global+match)')\n",
    "print('Mean:',np.mean(img01_1.data),',', np.mean(img01_1_new.data))\n",
    "print('Mean:',np.mean(img01_2.data),',', np.mean(img01_2_new.data))\n",
    "print('Mean:',np.mean(img02_1.data),',', np.mean(img02_1_new.data))\n",
    "print('Mean:',np.mean(img02_2.data),',', np.mean(img02_2_new.data))"
   ]
  },
  {
   "cell_type": "markdown",
   "metadata": {},
   "source": [
    "### ** Check that all output (new) sky values are around zero (within a standard deviation)"
   ]
  },
  {
   "cell_type": "markdown",
   "metadata": {
    "collapsed": true
   },
   "source": [
    "##### Notes: ‘global+match’: first use ‘match’ method to equalize sky values between images and then find a minimum “global” sky value in all input images.\n"
   ]
  }
 ],
 "metadata": {
  "anaconda-cloud": {},
  "kernelspec": {
   "display_name": "Python 3",
   "language": "python",
   "name": "python3"
  },
  "language_info": {
   "codemirror_mode": {
    "name": "ipython",
    "version": 3
   },
   "file_extension": ".py",
   "mimetype": "text/x-python",
   "name": "python",
   "nbconvert_exporter": "python",
   "pygments_lexer": "ipython3",
   "version": "3.8.6"
  }
 },
 "nbformat": 4,
 "nbformat_minor": 2
}
