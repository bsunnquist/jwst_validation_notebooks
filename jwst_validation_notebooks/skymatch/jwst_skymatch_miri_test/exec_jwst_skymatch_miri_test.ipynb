{
 "cells": [
  {
   "cell_type": "markdown",
   "metadata": {},
   "source": [
    "<a id=\"title_ID\"></a>\n",
    "# Testing skymatch step with MIRI simulated data\n",
    "<span style=\"color:red\"> **Instruments Affected**</span>: FGS, MIRI, NIRCam, NIRISS, NIRSpec \n",
    "\n",
    "Tested on MIRI Simulated data\n",
    "\n",
    "### Table of Contents\n",
    "<div style=\"text-align: left\"> \n",
    "\n",
    "<br>  [Introduction](#intro_ID) <br> [Imports](#imports_ID) <br> [Set up association files](#associations_ID) <br> [Insert outliers](#outliers_ID) <br> [Run Pipeline](#pipeline_ID) \n",
    "\n",
    "\n",
    "</div>"
   ]
  },
  {
   "cell_type": "markdown",
   "metadata": {},
   "source": [
    "<a id=\"intro_ID\"></a>\n",
    "## Introduction\n",
    "\n",
    "This notebook processes level 2 images through the calwebb_image3 skymatch step and examines outputs for different sky method parameters.\n",
    "\n",
    "1) Set up data path and image list file.\n",
    "\n",
    "2) Set up association files.\n",
    "\n",
    "3) Modify average backgrould level of input images.\n",
    "\n",
    "4) Run skymatch step on images.\n",
    "\n",
    "5) Run skymatch for each skymethod parameter (local, global, match, global+match). \n",
    "\n",
    "6) Testing other parameters (nclip, usigma, lsigma, lower, upper, skystat). \n",
    "\n",
    "\n",
    "These steps are set up with simulated MIRI F560W data of the LMC astrometric field.\n",
    "\n",
    "The pipeline documentation can be found here: https://jwst-pipeline.readthedocs.io/en/latest/jwst/skymatch/README.html\n",
    "\n",
    "The pipeline code is available on GitHub: https://github.com/spacetelescope/jwst\n",
    "\n",
    "Author: T. Temim"
   ]
  },
  {
   "cell_type": "markdown",
   "metadata": {},
   "source": [
    "<a id=\"imports_ID\"></a>\n",
    "### Set up import statements\n",
    "\n",
    "The following packages are needed to run this notebook:\n",
    "* jwst to run the pipeline \n",
    "* matplotlib to plot\n",
    "* ci_watson to retrieve data from artifactory\n"
   ]
  },
  {
   "cell_type": "code",
   "execution_count": 1,
   "metadata": {
    "execution": {
     "iopub.execute_input": "2021-02-05T05:28:53.778069Z",
     "iopub.status.busy": "2021-02-05T05:28:53.777753Z",
     "iopub.status.idle": "2021-02-05T05:28:54.660676Z",
     "shell.execute_reply": "2021-02-05T05:28:54.660171Z"
    }
   },
   "outputs": [],
   "source": [
    "import pytest\n",
    "from astropy.io import fits\n",
    "import numpy as np\n",
    "import matplotlib\n",
    "import matplotlib.pyplot as plt\n",
    "%matplotlib inline\n",
    "import jwst\n",
    "import json\n",
    "from jwst.skymatch import skymatch\n",
    "from jwst.skymatch.skyimage import SkyImage\n",
    "from jwst.associations.lib.rules_level3_base import DMS_Level3_Base\n",
    "from jwst.associations import asn_from_list\n",
    "from jwst import datamodels\n",
    "from matplotlib import rcParams\n",
    "from ci_watson.artifactory_helpers import get_bigdata"
   ]
  },
  {
   "cell_type": "code",
   "execution_count": 2,
   "metadata": {
    "execution": {
     "iopub.execute_input": "2021-02-05T05:28:54.663207Z",
     "iopub.status.busy": "2021-02-05T05:28:54.662911Z",
     "iopub.status.idle": "2021-02-05T05:28:54.664612Z",
     "shell.execute_reply": "2021-02-05T05:28:54.664304Z"
    }
   },
   "outputs": [],
   "source": [
    "import os\n",
    "os.environ['CRDS_CONTEXT']='jwst_0619.pmap'"
   ]
  },
  {
   "cell_type": "markdown",
   "metadata": {},
   "source": [
    "### Print pipeline version number"
   ]
  },
  {
   "cell_type": "code",
   "execution_count": 3,
   "metadata": {
    "execution": {
     "iopub.execute_input": "2021-02-05T05:28:54.667998Z",
     "iopub.status.busy": "2021-02-05T05:28:54.667696Z",
     "iopub.status.idle": "2021-02-05T05:28:54.670059Z",
     "shell.execute_reply": "2021-02-05T05:28:54.669785Z"
    }
   },
   "outputs": [
    {
     "data": {
      "text/plain": [
       "'0.18.3'"
      ]
     },
     "execution_count": 1,
     "metadata": {},
     "output_type": "execute_result"
    }
   ],
   "source": [
    "jwst.__version__ "
   ]
  },
  {
   "cell_type": "markdown",
   "metadata": {},
   "source": [
    "### Retrieve data from Artifactory"
   ]
  },
  {
   "cell_type": "code",
   "execution_count": 4,
   "metadata": {
    "execution": {
     "iopub.execute_input": "2021-02-05T05:28:54.672522Z",
     "iopub.status.busy": "2021-02-05T05:28:54.672223Z",
     "iopub.status.idle": "2021-02-05T05:28:55.880122Z",
     "shell.execute_reply": "2021-02-05T05:28:55.879778Z"
    }
   },
   "outputs": [],
   "source": [
    "input_file1 = get_bigdata('jwst_validation_notebooks',\n",
    "                     'validation_data',\n",
    "                     'outlier_detection',\n",
    "                     'outlier_detection_miri_test', \n",
    "                     'det_image_seq1_MIRIMAGE_F560Wexp1_cal.fits')\n",
    "input_file2 = get_bigdata('jwst_validation_notebooks',\n",
    "                     'validation_data',\n",
    "                     'outlier_detection',\n",
    "                     'outlier_detection_miri_test', \n",
    "                     'det_image_seq2_MIRIMAGE_F560Wexp1_cal.fits')\n",
    "input_file3 = get_bigdata('jwst_validation_notebooks',\n",
    "                     'validation_data',\n",
    "                     'outlier_detection',\n",
    "                     'outlier_detection_miri_test', \n",
    "                     'det_image_seq3_MIRIMAGE_F560Wexp1_cal.fits')\n",
    "input_file4 = get_bigdata('jwst_validation_notebooks',\n",
    "                     'validation_data',\n",
    "                     'outlier_detection',\n",
    "                     'outlier_detection_miri_test', \n",
    "                     'det_image_seq4_MIRIMAGE_F560Wexp1_cal.fits')"
   ]
  },
  {
   "cell_type": "code",
   "execution_count": 5,
   "metadata": {
    "execution": {
     "iopub.execute_input": "2021-02-05T05:28:55.883098Z",
     "iopub.status.busy": "2021-02-05T05:28:55.882780Z",
     "iopub.status.idle": "2021-02-05T05:28:55.884381Z",
     "shell.execute_reply": "2021-02-05T05:28:55.884056Z"
    }
   },
   "outputs": [],
   "source": [
    "input_files=[]\n",
    "input_files=[input_file1,input_file2,input_file3,input_file4]\n",
    "\n",
    "imlist1=['det_image_seq1_MIRIMAGE_F560Wexp1_cal.fits','det_image_seq2_MIRIMAGE_F560Wexp1_cal.fits','det_image_seq3_MIRIMAGE_F560Wexp1_cal.fits','det_image_seq4_MIRIMAGE_F560Wexp1_cal.fits']"
   ]
  },
  {
   "cell_type": "markdown",
   "metadata": {},
   "source": [
    "<a id=\"associations_ID\"></a>\n",
    "### Set up association files\n",
    "The level three pipeline relies on an association file to specify which files are to be combined and provide the output file name.\n",
    "\n",
    "[Top of Page](#title_ID)"
   ]
  },
  {
   "cell_type": "code",
   "execution_count": 6,
   "metadata": {
    "execution": {
     "iopub.execute_input": "2021-02-05T05:28:55.888539Z",
     "iopub.status.busy": "2021-02-05T05:28:55.888230Z",
     "iopub.status.idle": "2021-02-05T05:28:55.893584Z",
     "shell.execute_reply": "2021-02-05T05:28:55.893321Z"
    }
   },
   "outputs": [],
   "source": [
    "# use asn_from_list to create association table\n",
    "cal_list=imlist1\n",
    "asn = asn_from_list.asn_from_list(cal_list, rule=DMS_Level3_Base, product_name='skymatch_combined.fits')\n",
    "\n",
    "# use this if you need to add non'science' exposure types\n",
    "#asn['products'][0]['members'][1]['exptype'] = 'background'\n",
    "#asn['products'][0]['members'][2]['exptype'] = 'sourcecat'\n",
    "\n",
    "# dump association table to a .json file for use in image3\n",
    "with open('skymatch_asnfile.json', 'w') as fp:\n",
    "    fp.write(asn.dump()[1])\n",
    "\n",
    "skymatch_json_file='skymatch_asnfile.json'\n",
    "    \n",
    "json_file = skymatch_json_file\n",
    "file_list = []\n",
    "file_list2 = []\n",
    "with open(json_file) as json_data:\n",
    "    d = json.load(json_data)\n",
    "    members = d['products'][0]['members']\n",
    "    for item in np.arange(0,len(members)):\n",
    "        file_list.append(members[item]['expname'])\n",
    "        file_list2.append(members[item]['expname'][:-5]+\"_skymatch.fits\")\n",
    "\n",
    "    \n",
    "asn2 = asn_from_list.asn_from_list(file_list2, rule=DMS_Level3_Base, product_name=d['products'][0]['name'])\n",
    "\n",
    "# use this if you need to add non'science' exposure types\n",
    "#asn['products'][0]['members'][1]['exptype'] = 'background'\n",
    "#asn['products'][0]['members'][2]['exptype'] = 'sourcecat'\n",
    "\n",
    "# dump association table to a .json file for use in image3\n",
    "with open('skymatch_asnfile2.json', 'w') as fp:\n",
    "    fp.write(asn2.dump()[1])\n",
    "    \n",
    "skymatch_json_file2='skymatch_asnfile2.json'"
   ]
  },
  {
   "cell_type": "markdown",
   "metadata": {},
   "source": [
    "### Modify average background level of input images"
   ]
  },
  {
   "cell_type": "code",
   "execution_count": 7,
   "metadata": {
    "execution": {
     "iopub.execute_input": "2021-02-05T05:28:55.895876Z",
     "iopub.status.busy": "2021-02-05T05:28:55.895570Z",
     "iopub.status.idle": "2021-02-05T05:28:55.897211Z",
     "shell.execute_reply": "2021-02-05T05:28:55.896894Z"
    }
   },
   "outputs": [],
   "source": [
    "infile01_1 = input_files[0]\n",
    "infile01_2 = input_files[1]\n",
    "infile02_1 = input_files[2]\n",
    "infile02_2 = input_files[3]"
   ]
  },
  {
   "cell_type": "code",
   "execution_count": 8,
   "metadata": {
    "execution": {
     "iopub.execute_input": "2021-02-05T05:28:55.903550Z",
     "iopub.status.busy": "2021-02-05T05:28:55.899478Z",
     "iopub.status.idle": "2021-02-05T05:28:56.844131Z",
     "shell.execute_reply": "2021-02-05T05:28:56.843770Z"
    }
   },
   "outputs": [],
   "source": [
    "img01_1 = datamodels.open(infile01_1)\n",
    "img01_2 = datamodels.open(infile01_2)\n",
    "img02_1 = datamodels.open(infile02_1)\n",
    "img02_2 = datamodels.open(infile02_2)"
   ]
  },
  {
   "cell_type": "code",
   "execution_count": 9,
   "metadata": {
    "execution": {
     "iopub.execute_input": "2021-02-05T05:28:56.847858Z",
     "iopub.status.busy": "2021-02-05T05:28:56.847548Z",
     "iopub.status.idle": "2021-02-05T05:28:56.863306Z",
     "shell.execute_reply": "2021-02-05T05:28:56.862932Z"
    }
   },
   "outputs": [],
   "source": [
    "data01_1 = img01_1.data\n",
    "data01_2 = img01_2.data\n",
    "data02_1 = img02_1.data\n",
    "data02_2 = img02_2.data\n",
    "\n",
    "data01_1[data01_1<=0.3]=np.nan\n",
    "data01_2[data01_2<=0.3]=np.nan\n",
    "data02_1[data02_1<=0.3]=np.nan\n",
    "data02_2[data02_2<=0.3]=np.nan\n",
    "\n",
    "data01_1_orig = np.copy(img01_1.data)\n",
    "data01_2_orig = np.copy(img01_2.data)\n",
    "data02_1_orig = np.copy(img02_1.data)\n",
    "data02_2_orig = np.copy(img02_2.data)"
   ]
  },
  {
   "cell_type": "code",
   "execution_count": 10,
   "metadata": {
    "execution": {
     "iopub.execute_input": "2021-02-05T05:28:56.866612Z",
     "iopub.status.busy": "2021-02-05T05:28:56.866298Z",
     "iopub.status.idle": "2021-02-05T05:28:56.891685Z",
     "shell.execute_reply": "2021-02-05T05:28:56.891354Z"
    }
   },
   "outputs": [
    {
     "name": "stdout",
     "output_type": "stream",
     "text": [
      "Mean: 0.93090874 0.1817127\n",
      "Mean: 0.9362799 0.17500266\n",
      "Mean: 0.9330347 0.17194116\n",
      "Mean: 0.93216574 0.16481434\n"
     ]
    }
   ],
   "source": [
    "# check mean values of background \n",
    "print('Mean:', np.mean(data01_1_orig[data01_1_orig<=4.0]),np.std(data01_1_orig[data01_1_orig<=4.0]))\n",
    "print('Mean:', np.mean(data01_2_orig[data01_2_orig<=4.0]),np.std(data01_2_orig[data01_2_orig<=4.0]))\n",
    "print('Mean:', np.mean(data02_1_orig[data02_1_orig<=4.0]),np.std(data02_1_orig[data02_1_orig<=4.0]))\n",
    "print('Mean:', np.mean(data02_2_orig[data02_2_orig<=4.0]),np.std(data02_2_orig[data02_2_orig<=4.0]))"
   ]
  },
  {
   "cell_type": "code",
   "execution_count": 11,
   "metadata": {
    "execution": {
     "iopub.execute_input": "2021-02-05T05:28:56.895339Z",
     "iopub.status.busy": "2021-02-05T05:28:56.895041Z",
     "iopub.status.idle": "2021-02-05T05:28:57.129564Z",
     "shell.execute_reply": "2021-02-05T05:28:57.129224Z"
    }
   },
   "outputs": [],
   "source": [
    "# creating a background image with specified mean and gaussian noise with sigma = 1.0\n",
    "bkg_img_noise_neg2 = np.random.normal(-2,2*0.2,data01_1.shape)\n",
    "bkg_img_noise_2 = np.random.normal(2,2*0.2,data01_1.shape)\n",
    "bkg_img_noise_3 = np.random.normal(3,3*0.2,data01_1.shape)\n",
    "bkg_img_noise_4 = np.random.normal(4,4*0.2,data01_1.shape)\n",
    "bkg_img_noise_5 = np.random.normal(5,5*0.2,data01_1.shape)\n",
    "bkg_img_noise_7 = np.random.normal(7,7*0.2,data01_1.shape)"
   ]
  },
  {
   "cell_type": "code",
   "execution_count": 12,
   "metadata": {
    "execution": {
     "iopub.execute_input": "2021-02-05T05:28:57.132358Z",
     "iopub.status.busy": "2021-02-05T05:28:57.132057Z",
     "iopub.status.idle": "2021-02-05T05:28:57.149342Z",
     "shell.execute_reply": "2021-02-05T05:28:57.149082Z"
    }
   },
   "outputs": [],
   "source": [
    "# adding the new background with specified mean and gaussian noise (above) to image\n",
    "img01_1.data=bkg_img_noise_2\n",
    "img01_2.data=bkg_img_noise_3\n",
    "img02_1.data=bkg_img_noise_5\n",
    "img02_2.data=bkg_img_noise_2"
   ]
  },
  {
   "cell_type": "code",
   "execution_count": 13,
   "metadata": {
    "execution": {
     "iopub.execute_input": "2021-02-05T05:28:57.152055Z",
     "iopub.status.busy": "2021-02-05T05:28:57.151754Z",
     "iopub.status.idle": "2021-02-05T05:28:57.178741Z",
     "shell.execute_reply": "2021-02-05T05:28:57.178456Z"
    }
   },
   "outputs": [
    {
     "name": "stdout",
     "output_type": "stream",
     "text": [
      "1.9999938 0.40031654\n",
      "3.0004578 0.6002336\n",
      "5.00085 0.9998523\n",
      "1.9999938 0.40031654\n"
     ]
    }
   ],
   "source": [
    "# checking the mean and standard deviations of the new background values\n",
    "print(np.nanmean(img01_1.data),np.nanstd(img01_1.data))\n",
    "print(np.nanmean(img01_2.data),np.nanstd(img01_2.data))\n",
    "print(np.nanmean(img02_1.data),np.nanstd(img02_1.data))\n",
    "print(np.nanmean(img02_2.data),np.nanstd(img02_2.data))"
   ]
  },
  {
   "cell_type": "code",
   "execution_count": 14,
   "metadata": {
    "execution": {
     "iopub.execute_input": "2021-02-05T05:28:57.200991Z",
     "iopub.status.busy": "2021-02-05T05:28:57.192363Z",
     "iopub.status.idle": "2021-02-05T05:28:57.580529Z",
     "shell.execute_reply": "2021-02-05T05:28:57.580177Z"
    }
   },
   "outputs": [
    {
     "data": {
      "text/plain": [
       "'det_image_seq4_MIRIMAGE_F560Wexp1_cal_skymatch.fits'"
      ]
     },
     "execution_count": 1,
     "metadata": {},
     "output_type": "execute_result"
    }
   ],
   "source": [
    "img01_1.save(file_list2[0],overwrite=True)\n",
    "img01_2.save(file_list2[1],overwrite=True)\n",
    "img02_1.save(file_list2[2],overwrite=True)\n",
    "img02_2.save(file_list2[3],overwrite=True)"
   ]
  },
  {
   "cell_type": "markdown",
   "metadata": {},
   "source": [
    "<a id=\"pipeline_ID\"></a>\n",
    "## Run Pipeline steps\n",
    "\n",
    "Run the pipeline on the data for different sets of parameters\n",
    "\n",
    "## 1. Run skymatch step on images"
   ]
  },
  {
   "cell_type": "code",
   "execution_count": 15,
   "metadata": {
    "execution": {
     "iopub.execute_input": "2021-02-05T05:28:57.585883Z",
     "iopub.status.busy": "2021-02-05T05:28:57.583147Z",
     "iopub.status.idle": "2021-02-05T05:28:59.647820Z",
     "shell.execute_reply": "2021-02-05T05:28:59.648153Z"
    }
   },
   "outputs": [
    {
     "name": "stderr",
     "output_type": "stream",
     "text": [
      "2021-02-05 00:28:58,195 - CRDS - ERROR -  Error determining best reference for 'pars-skymatchstep'  =   Unknown reference type 'pars-skymatchstep'\n"
     ]
    },
    {
     "name": "stderr",
     "output_type": "stream",
     "text": [
      "2021-02-05 00:28:58,199 - stpipe.SkyMatchStep - INFO - SkyMatchStep instance created.\n"
     ]
    },
    {
     "name": "stderr",
     "output_type": "stream",
     "text": [
      "2021-02-05 00:28:58,358 - stpipe.SkyMatchStep - INFO - Step SkyMatchStep running with args ('skymatch_asnfile2.json',).\n"
     ]
    },
    {
     "name": "stderr",
     "output_type": "stream",
     "text": [
      "2021-02-05 00:28:58,360 - stpipe.SkyMatchStep - INFO - Step SkyMatchStep parameters are: {'pre_hooks': [], 'post_hooks': [], 'output_file': '/data1/jenkins/workspace/Notebooks/jwst_validation_notebooks_spacetelescope/jwst_validation_notebooks/skymatch/jwst_skymatch_miri_test/MIRI', 'output_dir': None, 'output_ext': '.fits', 'output_use_model': False, 'output_use_index': True, 'save_results': True, 'skip': False, 'suffix': None, 'search_output_file': True, 'input_dir': '', 'skymethod': 'local', 'match_down': True, 'subtract': False, 'stepsize': None, 'skystat': 'mode', 'dqbits': '0', 'lower': None, 'upper': None, 'nclip': 5, 'lsigma': 4.0, 'usigma': 4.0, 'binwidth': 0.1}\n"
     ]
    },
    {
     "name": "stderr",
     "output_type": "stream",
     "text": [
      "2021-02-05 00:28:58,712 - stpipe.SkyMatchStep - INFO -  \n"
     ]
    },
    {
     "name": "stderr",
     "output_type": "stream",
     "text": [
      "2021-02-05 00:28:58,713 - stpipe.SkyMatchStep - INFO - ***** jwst.skymatch.skymatch.match() started on 2021-02-05 00:28:58.712931\n"
     ]
    },
    {
     "name": "stderr",
     "output_type": "stream",
     "text": [
      "2021-02-05 00:28:58,714 - stpipe.SkyMatchStep - INFO -  \n"
     ]
    },
    {
     "name": "stderr",
     "output_type": "stream",
     "text": [
      "2021-02-05 00:28:58,714 - stpipe.SkyMatchStep - INFO - Sky computation method: 'local'\n"
     ]
    },
    {
     "name": "stderr",
     "output_type": "stream",
     "text": [
      "2021-02-05 00:28:58,714 - stpipe.SkyMatchStep - INFO - Sky subtraction from image data: OFF\n"
     ]
    },
    {
     "name": "stderr",
     "output_type": "stream",
     "text": [
      "2021-02-05 00:28:58,714 - stpipe.SkyMatchStep - INFO -  \n"
     ]
    },
    {
     "name": "stderr",
     "output_type": "stream",
     "text": [
      "2021-02-05 00:28:58,715 - stpipe.SkyMatchStep - INFO - ----  Sky values computed per image and/or image groups.\n"
     ]
    },
    {
     "name": "stderr",
     "output_type": "stream",
     "text": [
      "2021-02-05 00:28:58,792 - stpipe.SkyMatchStep - INFO -    *  Image ID=det_image_seq1_MIRIMAGE_F560Wexp1_cal_skymatch.fits. Sky background: 1.96283\n"
     ]
    },
    {
     "name": "stderr",
     "output_type": "stream",
     "text": [
      "2021-02-05 00:28:58,793 - stpipe.SkyMatchStep - INFO -    *  Image ID=det_image_seq2_MIRIMAGE_F560Wexp1_cal_skymatch.fits. Sky background: 2.93115\n"
     ]
    },
    {
     "name": "stderr",
     "output_type": "stream",
     "text": [
      "2021-02-05 00:28:58,793 - stpipe.SkyMatchStep - INFO -    *  Image ID=det_image_seq3_MIRIMAGE_F560Wexp1_cal_skymatch.fits. Sky background: 4.99104\n"
     ]
    },
    {
     "name": "stderr",
     "output_type": "stream",
     "text": [
      "2021-02-05 00:28:58,794 - stpipe.SkyMatchStep - INFO -    *  Image ID=det_image_seq4_MIRIMAGE_F560Wexp1_cal_skymatch.fits. Sky background: 1.96283\n"
     ]
    },
    {
     "name": "stderr",
     "output_type": "stream",
     "text": [
      "2021-02-05 00:28:58,794 - stpipe.SkyMatchStep - INFO -  \n"
     ]
    },
    {
     "name": "stderr",
     "output_type": "stream",
     "text": [
      "2021-02-05 00:28:58,794 - stpipe.SkyMatchStep - INFO - ***** jwst.skymatch.skymatch.match() ended on 2021-02-05 00:28:58.794309\n"
     ]
    },
    {
     "name": "stderr",
     "output_type": "stream",
     "text": [
      "2021-02-05 00:28:58,794 - stpipe.SkyMatchStep - INFO - ***** jwst.skymatch.skymatch.match() TOTAL RUN TIME: 0:00:00.081378\n"
     ]
    },
    {
     "name": "stderr",
     "output_type": "stream",
     "text": [
      "2021-02-05 00:28:58,795 - stpipe.SkyMatchStep - INFO -  \n"
     ]
    },
    {
     "name": "stderr",
     "output_type": "stream",
     "text": [
      "2021-02-05 00:28:59,008 - stpipe.SkyMatchStep - INFO - Saved model in MIRI_0_skymatchstep.fits\n"
     ]
    },
    {
     "name": "stderr",
     "output_type": "stream",
     "text": [
      "2021-02-05 00:28:59,251 - stpipe.SkyMatchStep - INFO - Saved model in MIRI_1_skymatchstep.fits\n"
     ]
    },
    {
     "name": "stderr",
     "output_type": "stream",
     "text": [
      "2021-02-05 00:28:59,447 - stpipe.SkyMatchStep - INFO - Saved model in MIRI_2_skymatchstep.fits\n"
     ]
    },
    {
     "name": "stderr",
     "output_type": "stream",
     "text": [
      "2021-02-05 00:28:59,643 - stpipe.SkyMatchStep - INFO - Saved model in MIRI_3_skymatchstep.fits\n"
     ]
    },
    {
     "name": "stderr",
     "output_type": "stream",
     "text": [
      "2021-02-05 00:28:59,644 - stpipe.SkyMatchStep - INFO - Step SkyMatchStep done\n"
     ]
    },
    {
     "data": {
      "text/plain": [
       "<ModelContainer>"
      ]
     },
     "execution_count": 1,
     "metadata": {},
     "output_type": "execute_result"
    }
   ],
   "source": [
    "# skymatch, local, subtract= False, all 8 images used\n",
    "jwst.skymatch.skymatch_step.SkyMatchStep.call(skymatch_json_file2, skymethod='local', subtract=False,output_file='MIRI',save_results=True)"
   ]
  },
  {
   "cell_type": "code",
   "execution_count": 16,
   "metadata": {
    "execution": {
     "iopub.execute_input": "2021-02-05T05:28:59.653095Z",
     "iopub.status.busy": "2021-02-05T05:28:59.651657Z",
     "iopub.status.idle": "2021-02-05T05:29:00.276303Z",
     "shell.execute_reply": "2021-02-05T05:29:00.276022Z"
    }
   },
   "outputs": [
    {
     "name": "stdout",
     "output_type": "stream",
     "text": [
      "Mean: original, new (local)\n",
      "Mean: 1.9999938 , 1.9999938\n",
      "Mean: 3.0004578 , 3.0004578\n",
      "Mean: 5.00085 , 5.00085\n",
      "Mean: 1.9999938 , 1.9999938\n"
     ]
    }
   ],
   "source": [
    "img01_1_new = datamodels.open('MIRI_0_skymatchstep.fits')\n",
    "img01_2_new = datamodels.open('MIRI_1_skymatchstep.fits')\n",
    "img02_1_new = datamodels.open('MIRI_2_skymatchstep.fits')\n",
    "img02_2_new = datamodels.open('MIRI_3_skymatchstep.fits')\n",
    "\n",
    "print('Mean: original, new (local)')\n",
    "print('Mean:',np.mean(img01_1.data),',', np.mean(img01_1_new.data))\n",
    "print('Mean:',np.mean(img01_2.data),',', np.mean(img01_2_new.data))\n",
    "print('Mean:',np.mean(img02_1.data),',', np.mean(img02_1_new.data))\n",
    "print('Mean:',np.mean(img02_2.data),',', np.mean(img02_2_new.data))"
   ]
  },
  {
   "cell_type": "code",
   "execution_count": 17,
   "metadata": {
    "execution": {
     "iopub.execute_input": "2021-02-05T05:29:00.284299Z",
     "iopub.status.busy": "2021-02-05T05:29:00.283995Z",
     "iopub.status.idle": "2021-02-05T05:29:02.073751Z",
     "shell.execute_reply": "2021-02-05T05:29:02.074006Z"
    }
   },
   "outputs": [
    {
     "name": "stderr",
     "output_type": "stream",
     "text": [
      "2021-02-05 00:29:00,642 - CRDS - ERROR -  Error determining best reference for 'pars-skymatchstep'  =   Unknown reference type 'pars-skymatchstep'\n"
     ]
    },
    {
     "name": "stderr",
     "output_type": "stream",
     "text": [
      "2021-02-05 00:29:00,644 - stpipe.SkyMatchStep - INFO - SkyMatchStep instance created.\n"
     ]
    },
    {
     "name": "stderr",
     "output_type": "stream",
     "text": [
      "2021-02-05 00:29:00,803 - stpipe.SkyMatchStep - INFO - Step SkyMatchStep running with args ('skymatch_asnfile2.json',).\n"
     ]
    },
    {
     "name": "stderr",
     "output_type": "stream",
     "text": [
      "2021-02-05 00:29:00,805 - stpipe.SkyMatchStep - INFO - Step SkyMatchStep parameters are: {'pre_hooks': [], 'post_hooks': [], 'output_file': '/data1/jenkins/workspace/Notebooks/jwst_validation_notebooks_spacetelescope/jwst_validation_notebooks/skymatch/jwst_skymatch_miri_test/MIRI', 'output_dir': None, 'output_ext': '.fits', 'output_use_model': False, 'output_use_index': True, 'save_results': True, 'skip': False, 'suffix': None, 'search_output_file': True, 'input_dir': '', 'skymethod': 'local', 'match_down': True, 'subtract': True, 'stepsize': None, 'skystat': 'mode', 'dqbits': '0', 'lower': None, 'upper': None, 'nclip': 5, 'lsigma': 4.0, 'usigma': 4.0, 'binwidth': 0.1}\n"
     ]
    },
    {
     "name": "stderr",
     "output_type": "stream",
     "text": [
      "2021-02-05 00:29:01,135 - stpipe.SkyMatchStep - INFO -  \n"
     ]
    },
    {
     "name": "stderr",
     "output_type": "stream",
     "text": [
      "2021-02-05 00:29:01,136 - stpipe.SkyMatchStep - INFO - ***** jwst.skymatch.skymatch.match() started on 2021-02-05 00:29:01.135252\n"
     ]
    },
    {
     "name": "stderr",
     "output_type": "stream",
     "text": [
      "2021-02-05 00:29:01,136 - stpipe.SkyMatchStep - INFO -  \n"
     ]
    },
    {
     "name": "stderr",
     "output_type": "stream",
     "text": [
      "2021-02-05 00:29:01,136 - stpipe.SkyMatchStep - INFO - Sky computation method: 'local'\n"
     ]
    },
    {
     "name": "stderr",
     "output_type": "stream",
     "text": [
      "2021-02-05 00:29:01,136 - stpipe.SkyMatchStep - INFO - Sky subtraction from image data: ON\n"
     ]
    },
    {
     "name": "stderr",
     "output_type": "stream",
     "text": [
      "2021-02-05 00:29:01,137 - stpipe.SkyMatchStep - INFO -  \n"
     ]
    },
    {
     "name": "stderr",
     "output_type": "stream",
     "text": [
      "2021-02-05 00:29:01,137 - stpipe.SkyMatchStep - INFO - ----  Sky values computed per image and/or image groups.\n"
     ]
    },
    {
     "name": "stderr",
     "output_type": "stream",
     "text": [
      "2021-02-05 00:29:01,216 - stpipe.SkyMatchStep - INFO -    *  Image ID=det_image_seq1_MIRIMAGE_F560Wexp1_cal_skymatch.fits. Sky background: 1.96283 (old=0, delta=1.96283)\n"
     ]
    },
    {
     "name": "stderr",
     "output_type": "stream",
     "text": [
      "2021-02-05 00:29:01,218 - stpipe.SkyMatchStep - INFO -    *  Image ID=det_image_seq2_MIRIMAGE_F560Wexp1_cal_skymatch.fits. Sky background: 2.93115 (old=0, delta=2.93115)\n"
     ]
    },
    {
     "name": "stderr",
     "output_type": "stream",
     "text": [
      "2021-02-05 00:29:01,219 - stpipe.SkyMatchStep - INFO -    *  Image ID=det_image_seq3_MIRIMAGE_F560Wexp1_cal_skymatch.fits. Sky background: 4.99104 (old=0, delta=4.99104)\n"
     ]
    },
    {
     "name": "stderr",
     "output_type": "stream",
     "text": [
      "2021-02-05 00:29:01,221 - stpipe.SkyMatchStep - INFO -    *  Image ID=det_image_seq4_MIRIMAGE_F560Wexp1_cal_skymatch.fits. Sky background: 1.96283 (old=0, delta=1.96283)\n"
     ]
    },
    {
     "name": "stderr",
     "output_type": "stream",
     "text": [
      "2021-02-05 00:29:01,221 - stpipe.SkyMatchStep - INFO -  \n"
     ]
    },
    {
     "name": "stderr",
     "output_type": "stream",
     "text": [
      "2021-02-05 00:29:01,221 - stpipe.SkyMatchStep - INFO - ***** jwst.skymatch.skymatch.match() ended on 2021-02-05 00:29:01.221606\n"
     ]
    },
    {
     "name": "stderr",
     "output_type": "stream",
     "text": [
      "2021-02-05 00:29:01,222 - stpipe.SkyMatchStep - INFO - ***** jwst.skymatch.skymatch.match() TOTAL RUN TIME: 0:00:00.086354\n"
     ]
    },
    {
     "name": "stderr",
     "output_type": "stream",
     "text": [
      "2021-02-05 00:29:01,222 - stpipe.SkyMatchStep - INFO -  \n"
     ]
    },
    {
     "name": "stderr",
     "output_type": "stream",
     "text": [
      "2021-02-05 00:29:01,430 - stpipe.SkyMatchStep - INFO - Saved model in MIRI_0_skymatchstep.fits\n"
     ]
    },
    {
     "name": "stderr",
     "output_type": "stream",
     "text": [
      "2021-02-05 00:29:01,673 - stpipe.SkyMatchStep - INFO - Saved model in MIRI_1_skymatchstep.fits\n"
     ]
    },
    {
     "name": "stderr",
     "output_type": "stream",
     "text": [
      "2021-02-05 00:29:01,876 - stpipe.SkyMatchStep - INFO - Saved model in MIRI_2_skymatchstep.fits\n"
     ]
    },
    {
     "name": "stderr",
     "output_type": "stream",
     "text": [
      "2021-02-05 00:29:02,069 - stpipe.SkyMatchStep - INFO - Saved model in MIRI_3_skymatchstep.fits\n"
     ]
    },
    {
     "name": "stderr",
     "output_type": "stream",
     "text": [
      "2021-02-05 00:29:02,069 - stpipe.SkyMatchStep - INFO - Step SkyMatchStep done\n"
     ]
    },
    {
     "data": {
      "text/plain": [
       "<ModelContainer>"
      ]
     },
     "execution_count": 1,
     "metadata": {},
     "output_type": "execute_result"
    }
   ],
   "source": [
    "# skymatch, local, subtract = True, all 8 images used\n",
    "jwst.skymatch.skymatch_step.SkyMatchStep.call(skymatch_json_file2, skymethod='local', subtract=True,output_file='MIRI',save_results=True)"
   ]
  },
  {
   "cell_type": "code",
   "execution_count": 18,
   "metadata": {
    "execution": {
     "iopub.execute_input": "2021-02-05T05:29:02.078909Z",
     "iopub.status.busy": "2021-02-05T05:29:02.077441Z",
     "iopub.status.idle": "2021-02-05T05:29:02.730486Z",
     "shell.execute_reply": "2021-02-05T05:29:02.730832Z"
    }
   },
   "outputs": [
    {
     "name": "stdout",
     "output_type": "stream",
     "text": [
      "Mean: original, new (local)\n",
      "Mean: 1.9999938 , 0.037163988\n",
      "Mean: 3.0004578 , 0.069312066\n",
      "Mean: 5.00085 , 0.009813451\n",
      "Mean: 1.9999938 , 0.037163988\n"
     ]
    }
   ],
   "source": [
    "img01_1_new = datamodels.open('MIRI_0_skymatchstep.fits')\n",
    "img01_2_new = datamodels.open('MIRI_1_skymatchstep.fits')\n",
    "img02_1_new = datamodels.open('MIRI_2_skymatchstep.fits')\n",
    "img02_2_new = datamodels.open('MIRI_3_skymatchstep.fits')\n",
    "\n",
    "print('Mean: original, new (local)')\n",
    "print('Mean:',np.mean(img01_1.data),',', np.mean(img01_1_new.data))\n",
    "print('Mean:',np.mean(img01_2.data),',', np.mean(img01_2_new.data))\n",
    "print('Mean:',np.mean(img02_1.data),',', np.mean(img02_1_new.data))\n",
    "print('Mean:',np.mean(img02_2.data),',', np.mean(img02_2_new.data))"
   ]
  },
  {
   "cell_type": "markdown",
   "metadata": {},
   "source": [
    "## 2. Run skymatch for each skymethod parameter (local, global, match, global+match)"
   ]
  },
  {
   "cell_type": "markdown",
   "metadata": {},
   "source": [
    "### 2.1 skymethod = 'local'"
   ]
  },
  {
   "cell_type": "code",
   "execution_count": 19,
   "metadata": {
    "execution": {
     "iopub.execute_input": "2021-02-05T05:29:02.738840Z",
     "iopub.status.busy": "2021-02-05T05:29:02.738537Z",
     "iopub.status.idle": "2021-02-05T05:29:04.483179Z",
     "shell.execute_reply": "2021-02-05T05:29:04.482890Z"
    }
   },
   "outputs": [
    {
     "name": "stderr",
     "output_type": "stream",
     "text": [
      "2021-02-05 00:29:03,117 - CRDS - ERROR -  Error determining best reference for 'pars-skymatchstep'  =   Unknown reference type 'pars-skymatchstep'\n"
     ]
    },
    {
     "name": "stderr",
     "output_type": "stream",
     "text": [
      "2021-02-05 00:29:03,119 - stpipe.SkyMatchStep - INFO - SkyMatchStep instance created.\n"
     ]
    },
    {
     "name": "stderr",
     "output_type": "stream",
     "text": [
      "2021-02-05 00:29:03,296 - stpipe.SkyMatchStep - INFO - Step SkyMatchStep running with args ('skymatch_asnfile2.json',).\n"
     ]
    },
    {
     "name": "stderr",
     "output_type": "stream",
     "text": [
      "2021-02-05 00:29:03,297 - stpipe.SkyMatchStep - INFO - Step SkyMatchStep parameters are: {'pre_hooks': [], 'post_hooks': [], 'output_file': '/data1/jenkins/workspace/Notebooks/jwst_validation_notebooks_spacetelescope/jwst_validation_notebooks/skymatch/jwst_skymatch_miri_test/MIRI', 'output_dir': None, 'output_ext': '.fits', 'output_use_model': False, 'output_use_index': True, 'save_results': True, 'skip': False, 'suffix': None, 'search_output_file': True, 'input_dir': '', 'skymethod': 'local', 'match_down': True, 'subtract': False, 'stepsize': None, 'skystat': 'mode', 'dqbits': '0', 'lower': None, 'upper': None, 'nclip': 5, 'lsigma': 4.0, 'usigma': 4.0, 'binwidth': 0.1}\n"
     ]
    },
    {
     "name": "stderr",
     "output_type": "stream",
     "text": [
      "2021-02-05 00:29:03,639 - stpipe.SkyMatchStep - INFO -  \n"
     ]
    },
    {
     "name": "stderr",
     "output_type": "stream",
     "text": [
      "2021-02-05 00:29:03,640 - stpipe.SkyMatchStep - INFO - ***** jwst.skymatch.skymatch.match() started on 2021-02-05 00:29:03.639400\n"
     ]
    },
    {
     "name": "stderr",
     "output_type": "stream",
     "text": [
      "2021-02-05 00:29:03,640 - stpipe.SkyMatchStep - INFO -  \n"
     ]
    },
    {
     "name": "stderr",
     "output_type": "stream",
     "text": [
      "2021-02-05 00:29:03,640 - stpipe.SkyMatchStep - INFO - Sky computation method: 'local'\n"
     ]
    },
    {
     "name": "stderr",
     "output_type": "stream",
     "text": [
      "2021-02-05 00:29:03,641 - stpipe.SkyMatchStep - INFO - Sky subtraction from image data: OFF\n"
     ]
    },
    {
     "name": "stderr",
     "output_type": "stream",
     "text": [
      "2021-02-05 00:29:03,641 - stpipe.SkyMatchStep - INFO -  \n"
     ]
    },
    {
     "name": "stderr",
     "output_type": "stream",
     "text": [
      "2021-02-05 00:29:03,641 - stpipe.SkyMatchStep - INFO - ----  Sky values computed per image and/or image groups.\n"
     ]
    },
    {
     "name": "stderr",
     "output_type": "stream",
     "text": [
      "2021-02-05 00:29:03,718 - stpipe.SkyMatchStep - INFO -    *  Image ID=det_image_seq1_MIRIMAGE_F560Wexp1_cal_skymatch.fits. Sky background: 1.96283\n"
     ]
    },
    {
     "name": "stderr",
     "output_type": "stream",
     "text": [
      "2021-02-05 00:29:03,719 - stpipe.SkyMatchStep - INFO -    *  Image ID=det_image_seq2_MIRIMAGE_F560Wexp1_cal_skymatch.fits. Sky background: 2.93115\n"
     ]
    },
    {
     "name": "stderr",
     "output_type": "stream",
     "text": [
      "2021-02-05 00:29:03,719 - stpipe.SkyMatchStep - INFO -    *  Image ID=det_image_seq3_MIRIMAGE_F560Wexp1_cal_skymatch.fits. Sky background: 4.99104\n"
     ]
    },
    {
     "name": "stderr",
     "output_type": "stream",
     "text": [
      "2021-02-05 00:29:03,719 - stpipe.SkyMatchStep - INFO -    *  Image ID=det_image_seq4_MIRIMAGE_F560Wexp1_cal_skymatch.fits. Sky background: 1.96283\n"
     ]
    },
    {
     "name": "stderr",
     "output_type": "stream",
     "text": [
      "2021-02-05 00:29:03,720 - stpipe.SkyMatchStep - INFO -  \n"
     ]
    },
    {
     "name": "stderr",
     "output_type": "stream",
     "text": [
      "2021-02-05 00:29:03,720 - stpipe.SkyMatchStep - INFO - ***** jwst.skymatch.skymatch.match() ended on 2021-02-05 00:29:03.720217\n"
     ]
    },
    {
     "name": "stderr",
     "output_type": "stream",
     "text": [
      "2021-02-05 00:29:03,720 - stpipe.SkyMatchStep - INFO - ***** jwst.skymatch.skymatch.match() TOTAL RUN TIME: 0:00:00.080817\n"
     ]
    },
    {
     "name": "stderr",
     "output_type": "stream",
     "text": [
      "2021-02-05 00:29:03,721 - stpipe.SkyMatchStep - INFO -  \n"
     ]
    },
    {
     "name": "stderr",
     "output_type": "stream",
     "text": [
      "2021-02-05 00:29:03,907 - stpipe.SkyMatchStep - INFO - Saved model in MIRI_0_skymatchstep.fits\n"
     ]
    },
    {
     "name": "stderr",
     "output_type": "stream",
     "text": [
      "2021-02-05 00:29:04,092 - stpipe.SkyMatchStep - INFO - Saved model in MIRI_1_skymatchstep.fits\n"
     ]
    },
    {
     "name": "stderr",
     "output_type": "stream",
     "text": [
      "2021-02-05 00:29:04,297 - stpipe.SkyMatchStep - INFO - Saved model in MIRI_2_skymatchstep.fits\n"
     ]
    },
    {
     "name": "stderr",
     "output_type": "stream",
     "text": [
      "2021-02-05 00:29:04,478 - stpipe.SkyMatchStep - INFO - Saved model in MIRI_3_skymatchstep.fits\n"
     ]
    },
    {
     "name": "stderr",
     "output_type": "stream",
     "text": [
      "2021-02-05 00:29:04,479 - stpipe.SkyMatchStep - INFO - Step SkyMatchStep done\n"
     ]
    },
    {
     "data": {
      "text/plain": [
       "<ModelContainer>"
      ]
     },
     "execution_count": 1,
     "metadata": {},
     "output_type": "execute_result"
    }
   ],
   "source": [
    "# skymatch, local\n",
    "jwst.skymatch.skymatch_step.SkyMatchStep.call(skymatch_json_file2, skymethod='local', subtract=False,output_file='MIRI',save_results=True)"
   ]
  },
  {
   "cell_type": "code",
   "execution_count": 20,
   "metadata": {
    "execution": {
     "iopub.execute_input": "2021-02-05T05:29:04.486976Z",
     "iopub.status.busy": "2021-02-05T05:29:04.486648Z",
     "iopub.status.idle": "2021-02-05T05:29:05.127040Z",
     "shell.execute_reply": "2021-02-05T05:29:05.127299Z"
    }
   },
   "outputs": [
    {
     "name": "stdout",
     "output_type": "stream",
     "text": [
      "Mean: original, new (local)\n",
      "Mean: 1.9999938 , 1.9999938\n",
      "Mean: 3.0004578 , 3.0004578\n",
      "Mean: 5.00085 , 5.00085\n",
      "Mean: 1.9999938 , 1.9999938\n"
     ]
    }
   ],
   "source": [
    "img01_1_new = datamodels.open('MIRI_0_skymatchstep.fits')\n",
    "img01_2_new = datamodels.open('MIRI_1_skymatchstep.fits')\n",
    "img02_1_new = datamodels.open('MIRI_2_skymatchstep.fits')\n",
    "img02_2_new = datamodels.open('MIRI_3_skymatchstep.fits')\n",
    "\n",
    "print('Mean: original, new (local)')\n",
    "print('Mean:',np.mean(img01_1.data),',', np.mean(img01_1_new.data))\n",
    "print('Mean:',np.mean(img01_2.data),',', np.mean(img01_2_new.data))\n",
    "print('Mean:',np.mean(img02_1.data),',', np.mean(img02_1_new.data))\n",
    "print('Mean:',np.mean(img02_2.data),',', np.mean(img02_2_new.data))"
   ]
  },
  {
   "cell_type": "markdown",
   "metadata": {},
   "source": [
    "### ** Check that the original and output (new) sky values match for individual images (but not necessarily the same for all images)"
   ]
  },
  {
   "cell_type": "markdown",
   "metadata": {},
   "source": [
    "##### Notes: ‘local’: compute sky background values of each input image or group of images (members of the same “exposure”). A single sky value is computed for each group of images."
   ]
  },
  {
   "cell_type": "markdown",
   "metadata": {},
   "source": [
    "### 2.2 skymethod = 'global'"
   ]
  },
  {
   "cell_type": "code",
   "execution_count": 21,
   "metadata": {
    "execution": {
     "iopub.execute_input": "2021-02-05T05:29:05.135020Z",
     "iopub.status.busy": "2021-02-05T05:29:05.134717Z",
     "iopub.status.idle": "2021-02-05T05:29:06.881081Z",
     "shell.execute_reply": "2021-02-05T05:29:06.880725Z"
    }
   },
   "outputs": [
    {
     "name": "stderr",
     "output_type": "stream",
     "text": [
      "2021-02-05 00:29:05,505 - CRDS - ERROR -  Error determining best reference for 'pars-skymatchstep'  =   Unknown reference type 'pars-skymatchstep'\n"
     ]
    },
    {
     "name": "stderr",
     "output_type": "stream",
     "text": [
      "2021-02-05 00:29:05,507 - stpipe.SkyMatchStep - INFO - SkyMatchStep instance created.\n"
     ]
    },
    {
     "name": "stderr",
     "output_type": "stream",
     "text": [
      "2021-02-05 00:29:05,694 - stpipe.SkyMatchStep - INFO - Step SkyMatchStep running with args ('skymatch_asnfile2.json',).\n"
     ]
    },
    {
     "name": "stderr",
     "output_type": "stream",
     "text": [
      "2021-02-05 00:29:05,695 - stpipe.SkyMatchStep - INFO - Step SkyMatchStep parameters are: {'pre_hooks': [], 'post_hooks': [], 'output_file': '/data1/jenkins/workspace/Notebooks/jwst_validation_notebooks_spacetelescope/jwst_validation_notebooks/skymatch/jwst_skymatch_miri_test/MIRI', 'output_dir': None, 'output_ext': '.fits', 'output_use_model': False, 'output_use_index': True, 'save_results': True, 'skip': False, 'suffix': None, 'search_output_file': True, 'input_dir': '', 'skymethod': 'global', 'match_down': True, 'subtract': True, 'stepsize': None, 'skystat': 'mode', 'dqbits': '0', 'lower': None, 'upper': None, 'nclip': 5, 'lsigma': 4.0, 'usigma': 4.0, 'binwidth': 0.1}\n"
     ]
    },
    {
     "name": "stderr",
     "output_type": "stream",
     "text": [
      "2021-02-05 00:29:06,024 - stpipe.SkyMatchStep - INFO -  \n"
     ]
    },
    {
     "name": "stderr",
     "output_type": "stream",
     "text": [
      "2021-02-05 00:29:06,025 - stpipe.SkyMatchStep - INFO - ***** jwst.skymatch.skymatch.match() started on 2021-02-05 00:29:06.024256\n"
     ]
    },
    {
     "name": "stderr",
     "output_type": "stream",
     "text": [
      "2021-02-05 00:29:06,025 - stpipe.SkyMatchStep - INFO -  \n"
     ]
    },
    {
     "name": "stderr",
     "output_type": "stream",
     "text": [
      "2021-02-05 00:29:06,025 - stpipe.SkyMatchStep - INFO - Sky computation method: 'global'\n"
     ]
    },
    {
     "name": "stderr",
     "output_type": "stream",
     "text": [
      "2021-02-05 00:29:06,026 - stpipe.SkyMatchStep - INFO - Sky subtraction from image data: ON\n"
     ]
    },
    {
     "name": "stderr",
     "output_type": "stream",
     "text": [
      "2021-02-05 00:29:06,026 - stpipe.SkyMatchStep - INFO -  \n"
     ]
    },
    {
     "name": "stderr",
     "output_type": "stream",
     "text": [
      "2021-02-05 00:29:06,026 - stpipe.SkyMatchStep - INFO - ----  Computing \"global\" sky - smallest sky value across *all* input images.\n"
     ]
    },
    {
     "name": "stderr",
     "output_type": "stream",
     "text": [
      "2021-02-05 00:29:06,102 - stpipe.SkyMatchStep - INFO -  \n"
     ]
    },
    {
     "name": "stderr",
     "output_type": "stream",
     "text": [
      "2021-02-05 00:29:06,103 - stpipe.SkyMatchStep - INFO -    \"Global\" sky value correction: 1.9628295345318363 [not converted]\n"
     ]
    },
    {
     "name": "stderr",
     "output_type": "stream",
     "text": [
      "2021-02-05 00:29:06,105 - stpipe.SkyMatchStep - INFO -    *  Image ID=det_image_seq1_MIRIMAGE_F560Wexp1_cal_skymatch.fits. Sky background: 1.96283 (old=0, delta=1.96283)\n"
     ]
    },
    {
     "name": "stderr",
     "output_type": "stream",
     "text": [
      "2021-02-05 00:29:06,106 - stpipe.SkyMatchStep - INFO -    *  Image ID=det_image_seq2_MIRIMAGE_F560Wexp1_cal_skymatch.fits. Sky background: 1.96283 (old=0, delta=1.96283)\n"
     ]
    },
    {
     "name": "stderr",
     "output_type": "stream",
     "text": [
      "2021-02-05 00:29:06,108 - stpipe.SkyMatchStep - INFO -    *  Image ID=det_image_seq3_MIRIMAGE_F560Wexp1_cal_skymatch.fits. Sky background: 1.96283 (old=0, delta=1.96283)\n"
     ]
    },
    {
     "name": "stderr",
     "output_type": "stream",
     "text": [
      "2021-02-05 00:29:06,109 - stpipe.SkyMatchStep - INFO -    *  Image ID=det_image_seq4_MIRIMAGE_F560Wexp1_cal_skymatch.fits. Sky background: 1.96283 (old=0, delta=1.96283)\n"
     ]
    },
    {
     "name": "stderr",
     "output_type": "stream",
     "text": [
      "2021-02-05 00:29:06,109 - stpipe.SkyMatchStep - INFO -  \n"
     ]
    },
    {
     "name": "stderr",
     "output_type": "stream",
     "text": [
      "2021-02-05 00:29:06,110 - stpipe.SkyMatchStep - INFO - ***** jwst.skymatch.skymatch.match() ended on 2021-02-05 00:29:06.109852\n"
     ]
    },
    {
     "name": "stderr",
     "output_type": "stream",
     "text": [
      "2021-02-05 00:29:06,110 - stpipe.SkyMatchStep - INFO - ***** jwst.skymatch.skymatch.match() TOTAL RUN TIME: 0:00:00.085596\n"
     ]
    },
    {
     "name": "stderr",
     "output_type": "stream",
     "text": [
      "2021-02-05 00:29:06,110 - stpipe.SkyMatchStep - INFO -  \n"
     ]
    },
    {
     "name": "stderr",
     "output_type": "stream",
     "text": [
      "2021-02-05 00:29:06,296 - stpipe.SkyMatchStep - INFO - Saved model in MIRI_0_skymatchstep.fits\n"
     ]
    },
    {
     "name": "stderr",
     "output_type": "stream",
     "text": [
      "2021-02-05 00:29:06,490 - stpipe.SkyMatchStep - INFO - Saved model in MIRI_1_skymatchstep.fits\n"
     ]
    },
    {
     "name": "stderr",
     "output_type": "stream",
     "text": [
      "2021-02-05 00:29:06,681 - stpipe.SkyMatchStep - INFO - Saved model in MIRI_2_skymatchstep.fits\n"
     ]
    },
    {
     "name": "stderr",
     "output_type": "stream",
     "text": [
      "2021-02-05 00:29:06,874 - stpipe.SkyMatchStep - INFO - Saved model in MIRI_3_skymatchstep.fits\n"
     ]
    },
    {
     "name": "stderr",
     "output_type": "stream",
     "text": [
      "2021-02-05 00:29:06,876 - stpipe.SkyMatchStep - INFO - Step SkyMatchStep done\n"
     ]
    },
    {
     "data": {
      "text/plain": [
       "<ModelContainer>"
      ]
     },
     "execution_count": 1,
     "metadata": {},
     "output_type": "execute_result"
    }
   ],
   "source": [
    "# skymatch, global, subtract = True\n",
    "jwst.skymatch.skymatch_step.SkyMatchStep.call(skymatch_json_file2, skymethod='global', subtract=True,output_file='MIRI',save_results=True)"
   ]
  },
  {
   "cell_type": "code",
   "execution_count": 22,
   "metadata": {
    "execution": {
     "iopub.execute_input": "2021-02-05T05:29:06.886822Z",
     "iopub.status.busy": "2021-02-05T05:29:06.884756Z",
     "iopub.status.idle": "2021-02-05T05:29:07.288509Z",
     "shell.execute_reply": "2021-02-05T05:29:07.288233Z"
    }
   },
   "outputs": [
    {
     "name": "stdout",
     "output_type": "stream",
     "text": [
      "Mean: original, new (global)\n",
      "Mean: 1.9999938 , 0.037163988\n",
      "Mean: 3.0004578 , 1.037628\n",
      "Mean: 5.00085 , 3.0380204\n",
      "Mean: 1.9999938 , 0.037163988\n"
     ]
    }
   ],
   "source": [
    "img01_1_new = datamodels.open('MIRI_0_skymatchstep.fits')\n",
    "img01_2_new = datamodels.open('MIRI_1_skymatchstep.fits')\n",
    "img02_1_new = datamodels.open('MIRI_2_skymatchstep.fits')\n",
    "img02_2_new = datamodels.open('MIRI_3_skymatchstep.fits')\n",
    "\n",
    "print('Mean: original, new (global)')\n",
    "print('Mean:',np.mean(img01_1.data),',', np.mean(img01_1_new.data))\n",
    "print('Mean:',np.mean(img01_2.data),',', np.mean(img01_2_new.data))\n",
    "print('Mean:',np.mean(img02_1.data),',', np.mean(img02_1_new.data))\n",
    "print('Mean:',np.mean(img02_2.data),',', np.mean(img02_2_new.data))"
   ]
  },
  {
   "cell_type": "markdown",
   "metadata": {},
   "source": [
    "### ** Check that the output (new) sky values are equal to the original sky value minus the lowest original sky value "
   ]
  },
  {
   "cell_type": "markdown",
   "metadata": {},
   "source": [
    "##### Notes: ‘global’: compute a common sky value for all input image and groups of images. In this setting match will compute sky values for each input image/group, find the minimum sky value, and then it will set (and/or subtract) sky value of each input image to this minimum value. This method may be useful when input images have been already matched. The 'global' method computes the minimum sky value across all input images and/or groups. That sky value is then considered to be the background in all input images."
   ]
  },
  {
   "cell_type": "markdown",
   "metadata": {},
   "source": [
    "### 2.3 skymethod = 'match', match_down=True"
   ]
  },
  {
   "cell_type": "code",
   "execution_count": 23,
   "metadata": {
    "execution": {
     "iopub.execute_input": "2021-02-05T05:29:07.304494Z",
     "iopub.status.busy": "2021-02-05T05:29:07.304202Z",
     "iopub.status.idle": "2021-02-05T05:29:10.693121Z",
     "shell.execute_reply": "2021-02-05T05:29:10.693446Z"
    }
   },
   "outputs": [
    {
     "name": "stderr",
     "output_type": "stream",
     "text": [
      "2021-02-05 00:29:07,944 - CRDS - ERROR -  Error determining best reference for 'pars-skymatchstep'  =   Unknown reference type 'pars-skymatchstep'\n"
     ]
    },
    {
     "name": "stderr",
     "output_type": "stream",
     "text": [
      "2021-02-05 00:29:07,946 - stpipe.SkyMatchStep - INFO - SkyMatchStep instance created.\n"
     ]
    },
    {
     "name": "stderr",
     "output_type": "stream",
     "text": [
      "2021-02-05 00:29:08,097 - stpipe.SkyMatchStep - INFO - Step SkyMatchStep running with args ('skymatch_asnfile2.json',).\n"
     ]
    },
    {
     "name": "stderr",
     "output_type": "stream",
     "text": [
      "2021-02-05 00:29:08,099 - stpipe.SkyMatchStep - INFO - Step SkyMatchStep parameters are: {'pre_hooks': [], 'post_hooks': [], 'output_file': '/data1/jenkins/workspace/Notebooks/jwst_validation_notebooks_spacetelescope/jwst_validation_notebooks/skymatch/jwst_skymatch_miri_test/MIRI', 'output_dir': None, 'output_ext': '.fits', 'output_use_model': False, 'output_use_index': True, 'save_results': True, 'skip': False, 'suffix': None, 'search_output_file': True, 'input_dir': '', 'skymethod': 'match', 'match_down': True, 'subtract': True, 'stepsize': None, 'skystat': 'mode', 'dqbits': '0', 'lower': None, 'upper': None, 'nclip': 5, 'lsigma': 4.0, 'usigma': 4.0, 'binwidth': 0.1}\n"
     ]
    },
    {
     "name": "stderr",
     "output_type": "stream",
     "text": [
      "2021-02-05 00:29:08,443 - stpipe.SkyMatchStep - INFO -  \n"
     ]
    },
    {
     "name": "stderr",
     "output_type": "stream",
     "text": [
      "2021-02-05 00:29:08,444 - stpipe.SkyMatchStep - INFO - ***** jwst.skymatch.skymatch.match() started on 2021-02-05 00:29:08.443408\n"
     ]
    },
    {
     "name": "stderr",
     "output_type": "stream",
     "text": [
      "2021-02-05 00:29:08,444 - stpipe.SkyMatchStep - INFO -  \n"
     ]
    },
    {
     "name": "stderr",
     "output_type": "stream",
     "text": [
      "2021-02-05 00:29:08,444 - stpipe.SkyMatchStep - INFO - Sky computation method: 'match'\n"
     ]
    },
    {
     "name": "stderr",
     "output_type": "stream",
     "text": [
      "2021-02-05 00:29:08,445 - stpipe.SkyMatchStep - INFO - Sky matching direction: DOWN\n"
     ]
    },
    {
     "name": "stderr",
     "output_type": "stream",
     "text": [
      "2021-02-05 00:29:08,445 - stpipe.SkyMatchStep - INFO - Sky subtraction from image data: ON\n"
     ]
    },
    {
     "name": "stderr",
     "output_type": "stream",
     "text": [
      "2021-02-05 00:29:08,445 - stpipe.SkyMatchStep - INFO -  \n"
     ]
    },
    {
     "name": "stderr",
     "output_type": "stream",
     "text": [
      "2021-02-05 00:29:08,446 - stpipe.SkyMatchStep - INFO - ----  Computing differences in sky values in overlapping regions.\n"
     ]
    },
    {
     "name": "stderr",
     "output_type": "stream",
     "text": [
      "2021-02-05 00:29:09,942 - stpipe.SkyMatchStep - INFO -    *  Image ID=det_image_seq1_MIRIMAGE_F560Wexp1_cal_skymatch.fits. Sky background: 0 (old=0, delta=0)\n"
     ]
    },
    {
     "name": "stderr",
     "output_type": "stream",
     "text": [
      "2021-02-05 00:29:09,944 - stpipe.SkyMatchStep - INFO -    *  Image ID=det_image_seq2_MIRIMAGE_F560Wexp1_cal_skymatch.fits. Sky background: 0.964105 (old=0, delta=0.964105)\n"
     ]
    },
    {
     "name": "stderr",
     "output_type": "stream",
     "text": [
      "2021-02-05 00:29:09,946 - stpipe.SkyMatchStep - INFO -    *  Image ID=det_image_seq3_MIRIMAGE_F560Wexp1_cal_skymatch.fits. Sky background: 3.00531 (old=0, delta=3.00531)\n"
     ]
    },
    {
     "name": "stderr",
     "output_type": "stream",
     "text": [
      "2021-02-05 00:29:09,947 - stpipe.SkyMatchStep - INFO -    *  Image ID=det_image_seq4_MIRIMAGE_F560Wexp1_cal_skymatch.fits. Sky background: 0.0298278 (old=0, delta=0.0298278)\n"
     ]
    },
    {
     "name": "stderr",
     "output_type": "stream",
     "text": [
      "2021-02-05 00:29:09,948 - stpipe.SkyMatchStep - INFO -  \n"
     ]
    },
    {
     "name": "stderr",
     "output_type": "stream",
     "text": [
      "2021-02-05 00:29:09,948 - stpipe.SkyMatchStep - INFO - ***** jwst.skymatch.skymatch.match() ended on 2021-02-05 00:29:09.948304\n"
     ]
    },
    {
     "name": "stderr",
     "output_type": "stream",
     "text": [
      "2021-02-05 00:29:09,948 - stpipe.SkyMatchStep - INFO - ***** jwst.skymatch.skymatch.match() TOTAL RUN TIME: 0:00:01.504896\n"
     ]
    },
    {
     "name": "stderr",
     "output_type": "stream",
     "text": [
      "2021-02-05 00:29:09,949 - stpipe.SkyMatchStep - INFO -  \n"
     ]
    },
    {
     "name": "stderr",
     "output_type": "stream",
     "text": [
      "2021-02-05 00:29:10,137 - stpipe.SkyMatchStep - INFO - Saved model in MIRI_0_skymatchstep.fits\n"
     ]
    },
    {
     "name": "stderr",
     "output_type": "stream",
     "text": [
      "2021-02-05 00:29:10,317 - stpipe.SkyMatchStep - INFO - Saved model in MIRI_1_skymatchstep.fits\n"
     ]
    },
    {
     "name": "stderr",
     "output_type": "stream",
     "text": [
      "2021-02-05 00:29:10,506 - stpipe.SkyMatchStep - INFO - Saved model in MIRI_2_skymatchstep.fits\n"
     ]
    },
    {
     "name": "stderr",
     "output_type": "stream",
     "text": [
      "2021-02-05 00:29:10,688 - stpipe.SkyMatchStep - INFO - Saved model in MIRI_3_skymatchstep.fits\n"
     ]
    },
    {
     "name": "stderr",
     "output_type": "stream",
     "text": [
      "2021-02-05 00:29:10,689 - stpipe.SkyMatchStep - INFO - Step SkyMatchStep done\n"
     ]
    },
    {
     "data": {
      "text/plain": [
       "<ModelContainer>"
      ]
     },
     "execution_count": 1,
     "metadata": {},
     "output_type": "execute_result"
    }
   ],
   "source": [
    "# skymatch, match down, subtract = True\n",
    "jwst.skymatch.skymatch_step.SkyMatchStep.call(skymatch_json_file2, skymethod='match', match_down=True,subtract=True,output_file='MIRI',save_results=True)"
   ]
  },
  {
   "cell_type": "code",
   "execution_count": 24,
   "metadata": {
    "execution": {
     "iopub.execute_input": "2021-02-05T05:29:10.699837Z",
     "iopub.status.busy": "2021-02-05T05:29:10.698618Z",
     "iopub.status.idle": "2021-02-05T05:29:11.274034Z",
     "shell.execute_reply": "2021-02-05T05:29:11.273733Z"
    }
   },
   "outputs": [
    {
     "name": "stdout",
     "output_type": "stream",
     "text": [
      "Mean: original, new (match down)\n",
      "Mean: 1.9999938 , 1.9999938\n",
      "Mean: 3.0004578 , 2.036353\n",
      "Mean: 5.00085 , 1.9955364\n",
      "Mean: 1.9999938 , 1.9701658\n"
     ]
    }
   ],
   "source": [
    "img01_1_new = datamodels.open('MIRI_0_skymatchstep.fits')\n",
    "img01_2_new = datamodels.open('MIRI_1_skymatchstep.fits')\n",
    "img02_1_new = datamodels.open('MIRI_2_skymatchstep.fits')\n",
    "img02_2_new = datamodels.open('MIRI_3_skymatchstep.fits')\n",
    "\n",
    "print('Mean: original, new (match down)')\n",
    "print('Mean:',np.mean(img01_1.data),',', np.mean(img01_1_new.data))\n",
    "print('Mean:',np.mean(img01_2.data),',', np.mean(img01_2_new.data))\n",
    "print('Mean:',np.mean(img02_1.data),',', np.mean(img02_1_new.data))\n",
    "print('Mean:',np.mean(img02_2.data),',', np.mean(img02_2_new.data))"
   ]
  },
  {
   "cell_type": "markdown",
   "metadata": {},
   "source": [
    "### ** Check that all output (new) sky values are equal to the lowest original sky value "
   ]
  },
  {
   "cell_type": "markdown",
   "metadata": {},
   "source": [
    "##### Notes: ‘match’: compute differences in sky values between images and/or groups in (pair-wise) common sky regions. In this case computed sky values will be relative (delta) to the sky computed in one of the input images whose sky value will be set to (reported to be) 0. This case matches to the lowest sky value."
   ]
  },
  {
   "cell_type": "markdown",
   "metadata": {},
   "source": [
    "### 2.4 skymethod = 'match', match_down=False"
   ]
  },
  {
   "cell_type": "code",
   "execution_count": 25,
   "metadata": {
    "execution": {
     "iopub.execute_input": "2021-02-05T05:29:11.286927Z",
     "iopub.status.busy": "2021-02-05T05:29:11.281954Z",
     "iopub.status.idle": "2021-02-05T05:29:14.405876Z",
     "shell.execute_reply": "2021-02-05T05:29:14.405583Z"
    }
   },
   "outputs": [
    {
     "name": "stderr",
     "output_type": "stream",
     "text": [
      "2021-02-05 00:29:11,641 - CRDS - ERROR -  Error determining best reference for 'pars-skymatchstep'  =   Unknown reference type 'pars-skymatchstep'\n"
     ]
    },
    {
     "name": "stderr",
     "output_type": "stream",
     "text": [
      "2021-02-05 00:29:11,643 - stpipe.SkyMatchStep - INFO - SkyMatchStep instance created.\n"
     ]
    },
    {
     "name": "stderr",
     "output_type": "stream",
     "text": [
      "2021-02-05 00:29:11,802 - stpipe.SkyMatchStep - INFO - Step SkyMatchStep running with args ('skymatch_asnfile2.json',).\n"
     ]
    },
    {
     "name": "stderr",
     "output_type": "stream",
     "text": [
      "2021-02-05 00:29:11,804 - stpipe.SkyMatchStep - INFO - Step SkyMatchStep parameters are: {'pre_hooks': [], 'post_hooks': [], 'output_file': '/data1/jenkins/workspace/Notebooks/jwst_validation_notebooks_spacetelescope/jwst_validation_notebooks/skymatch/jwst_skymatch_miri_test/MIRI', 'output_dir': None, 'output_ext': '.fits', 'output_use_model': False, 'output_use_index': True, 'save_results': True, 'skip': False, 'suffix': None, 'search_output_file': True, 'input_dir': '', 'skymethod': 'match', 'match_down': False, 'subtract': True, 'stepsize': None, 'skystat': 'mode', 'dqbits': '0', 'lower': None, 'upper': None, 'nclip': 5, 'lsigma': 4.0, 'usigma': 4.0, 'binwidth': 0.1}\n"
     ]
    },
    {
     "name": "stderr",
     "output_type": "stream",
     "text": [
      "2021-02-05 00:29:12,143 - stpipe.SkyMatchStep - INFO -  \n"
     ]
    },
    {
     "name": "stderr",
     "output_type": "stream",
     "text": [
      "2021-02-05 00:29:12,143 - stpipe.SkyMatchStep - INFO - ***** jwst.skymatch.skymatch.match() started on 2021-02-05 00:29:12.143155\n"
     ]
    },
    {
     "name": "stderr",
     "output_type": "stream",
     "text": [
      "2021-02-05 00:29:12,144 - stpipe.SkyMatchStep - INFO -  \n"
     ]
    },
    {
     "name": "stderr",
     "output_type": "stream",
     "text": [
      "2021-02-05 00:29:12,144 - stpipe.SkyMatchStep - INFO - Sky computation method: 'match'\n"
     ]
    },
    {
     "name": "stderr",
     "output_type": "stream",
     "text": [
      "2021-02-05 00:29:12,144 - stpipe.SkyMatchStep - INFO - Sky matching direction: UP\n"
     ]
    },
    {
     "name": "stderr",
     "output_type": "stream",
     "text": [
      "2021-02-05 00:29:12,145 - stpipe.SkyMatchStep - INFO - Sky subtraction from image data: ON\n"
     ]
    },
    {
     "name": "stderr",
     "output_type": "stream",
     "text": [
      "2021-02-05 00:29:12,145 - stpipe.SkyMatchStep - INFO -  \n"
     ]
    },
    {
     "name": "stderr",
     "output_type": "stream",
     "text": [
      "2021-02-05 00:29:12,145 - stpipe.SkyMatchStep - INFO - ----  Computing differences in sky values in overlapping regions.\n"
     ]
    },
    {
     "name": "stderr",
     "output_type": "stream",
     "text": [
      "2021-02-05 00:29:13,647 - stpipe.SkyMatchStep - INFO -    *  Image ID=det_image_seq1_MIRIMAGE_F560Wexp1_cal_skymatch.fits. Sky background: -3.00531 (old=0, delta=-3.00531)\n"
     ]
    },
    {
     "name": "stderr",
     "output_type": "stream",
     "text": [
      "2021-02-05 00:29:13,650 - stpipe.SkyMatchStep - INFO -    *  Image ID=det_image_seq2_MIRIMAGE_F560Wexp1_cal_skymatch.fits. Sky background: -2.04121 (old=0, delta=-2.04121)\n"
     ]
    },
    {
     "name": "stderr",
     "output_type": "stream",
     "text": [
      "2021-02-05 00:29:13,651 - stpipe.SkyMatchStep - INFO -    *  Image ID=det_image_seq3_MIRIMAGE_F560Wexp1_cal_skymatch.fits. Sky background: 0 (old=0, delta=0)\n"
     ]
    },
    {
     "name": "stderr",
     "output_type": "stream",
     "text": [
      "2021-02-05 00:29:13,653 - stpipe.SkyMatchStep - INFO -    *  Image ID=det_image_seq4_MIRIMAGE_F560Wexp1_cal_skymatch.fits. Sky background: -2.97549 (old=0, delta=-2.97549)\n"
     ]
    },
    {
     "name": "stderr",
     "output_type": "stream",
     "text": [
      "2021-02-05 00:29:13,653 - stpipe.SkyMatchStep - INFO -  \n"
     ]
    },
    {
     "name": "stderr",
     "output_type": "stream",
     "text": [
      "2021-02-05 00:29:13,653 - stpipe.SkyMatchStep - INFO - ***** jwst.skymatch.skymatch.match() ended on 2021-02-05 00:29:13.653618\n"
     ]
    },
    {
     "name": "stderr",
     "output_type": "stream",
     "text": [
      "2021-02-05 00:29:13,654 - stpipe.SkyMatchStep - INFO - ***** jwst.skymatch.skymatch.match() TOTAL RUN TIME: 0:00:01.510463\n"
     ]
    },
    {
     "name": "stderr",
     "output_type": "stream",
     "text": [
      "2021-02-05 00:29:13,654 - stpipe.SkyMatchStep - INFO -  \n"
     ]
    },
    {
     "name": "stderr",
     "output_type": "stream",
     "text": [
      "2021-02-05 00:29:13,855 - stpipe.SkyMatchStep - INFO - Saved model in MIRI_0_skymatchstep.fits\n"
     ]
    },
    {
     "name": "stderr",
     "output_type": "stream",
     "text": [
      "2021-02-05 00:29:14,033 - stpipe.SkyMatchStep - INFO - Saved model in MIRI_1_skymatchstep.fits\n"
     ]
    },
    {
     "name": "stderr",
     "output_type": "stream",
     "text": [
      "2021-02-05 00:29:14,223 - stpipe.SkyMatchStep - INFO - Saved model in MIRI_2_skymatchstep.fits\n"
     ]
    },
    {
     "name": "stderr",
     "output_type": "stream",
     "text": [
      "2021-02-05 00:29:14,400 - stpipe.SkyMatchStep - INFO - Saved model in MIRI_3_skymatchstep.fits\n"
     ]
    },
    {
     "name": "stderr",
     "output_type": "stream",
     "text": [
      "2021-02-05 00:29:14,401 - stpipe.SkyMatchStep - INFO - Step SkyMatchStep done\n"
     ]
    },
    {
     "data": {
      "text/plain": [
       "<ModelContainer>"
      ]
     },
     "execution_count": 1,
     "metadata": {},
     "output_type": "execute_result"
    }
   ],
   "source": [
    "# skymatch, match up, subtract = True\n",
    "jwst.skymatch.skymatch_step.SkyMatchStep.call(skymatch_json_file2, skymethod='match', match_down=False,subtract=True,output_file='MIRI',save_results=True)"
   ]
  },
  {
   "cell_type": "code",
   "execution_count": 26,
   "metadata": {
    "execution": {
     "iopub.execute_input": "2021-02-05T05:29:14.409657Z",
     "iopub.status.busy": "2021-02-05T05:29:14.409363Z",
     "iopub.status.idle": "2021-02-05T05:29:15.014499Z",
     "shell.execute_reply": "2021-02-05T05:29:15.014148Z"
    }
   },
   "outputs": [
    {
     "name": "stdout",
     "output_type": "stream",
     "text": [
      "Mean: original, new (match up)\n",
      "Mean: 1.9999938 , 5.005307\n",
      "Mean: 3.0004578 , 5.041667\n",
      "Mean: 5.00085 , 5.00085\n",
      "Mean: 1.9999938 , 4.9754815\n"
     ]
    }
   ],
   "source": [
    "img01_1_new = datamodels.open('MIRI_0_skymatchstep.fits')\n",
    "img01_2_new = datamodels.open('MIRI_1_skymatchstep.fits')\n",
    "img02_1_new = datamodels.open('MIRI_2_skymatchstep.fits')\n",
    "img02_2_new = datamodels.open('MIRI_3_skymatchstep.fits')\n",
    "\n",
    "print('Mean: original, new (match up)')\n",
    "print('Mean:',np.mean(img01_1.data),',', np.mean(img01_1_new.data))\n",
    "print('Mean:',np.mean(img01_2.data),',', np.mean(img01_2_new.data))\n",
    "print('Mean:',np.mean(img02_1.data),',', np.mean(img02_1_new.data))\n",
    "print('Mean:',np.mean(img02_2.data),',', np.mean(img02_2_new.data))"
   ]
  },
  {
   "cell_type": "markdown",
   "metadata": {},
   "source": [
    "### ** Check that all output (new) sky values are equal to the highest original sky value "
   ]
  },
  {
   "cell_type": "markdown",
   "metadata": {},
   "source": [
    "##### Notes: ‘match’: compute differences in sky values between images and/or groups in (pair-wise) common sky regions. In this case computed sky values will be relative (delta) to the sky computed in one of the input images whose sky value will be set to (reported to be) 0. This case matches to the highest sky value."
   ]
  },
  {
   "cell_type": "markdown",
   "metadata": {},
   "source": [
    "### 2.5 skymethod = 'global+match'"
   ]
  },
  {
   "cell_type": "code",
   "execution_count": 27,
   "metadata": {
    "execution": {
     "iopub.execute_input": "2021-02-05T05:29:15.022146Z",
     "iopub.status.busy": "2021-02-05T05:29:15.021847Z",
     "iopub.status.idle": "2021-02-05T05:29:18.280071Z",
     "shell.execute_reply": "2021-02-05T05:29:18.279580Z"
    }
   },
   "outputs": [
    {
     "name": "stderr",
     "output_type": "stream",
     "text": [
      "2021-02-05 00:29:15,391 - CRDS - ERROR -  Error determining best reference for 'pars-skymatchstep'  =   Unknown reference type 'pars-skymatchstep'\n"
     ]
    },
    {
     "name": "stderr",
     "output_type": "stream",
     "text": [
      "2021-02-05 00:29:15,393 - stpipe.SkyMatchStep - INFO - SkyMatchStep instance created.\n"
     ]
    },
    {
     "name": "stderr",
     "output_type": "stream",
     "text": [
      "2021-02-05 00:29:15,562 - stpipe.SkyMatchStep - INFO - Step SkyMatchStep running with args ('skymatch_asnfile2.json',).\n"
     ]
    },
    {
     "name": "stderr",
     "output_type": "stream",
     "text": [
      "2021-02-05 00:29:15,564 - stpipe.SkyMatchStep - INFO - Step SkyMatchStep parameters are: {'pre_hooks': [], 'post_hooks': [], 'output_file': '/data1/jenkins/workspace/Notebooks/jwst_validation_notebooks_spacetelescope/jwst_validation_notebooks/skymatch/jwst_skymatch_miri_test/MIRI', 'output_dir': None, 'output_ext': '.fits', 'output_use_model': False, 'output_use_index': True, 'save_results': True, 'skip': False, 'suffix': None, 'search_output_file': True, 'input_dir': '', 'skymethod': 'global+match', 'match_down': True, 'subtract': True, 'stepsize': None, 'skystat': 'mode', 'dqbits': '0', 'lower': None, 'upper': None, 'nclip': 5, 'lsigma': 4.0, 'usigma': 4.0, 'binwidth': 0.1}\n"
     ]
    },
    {
     "name": "stderr",
     "output_type": "stream",
     "text": [
      "2021-02-05 00:29:15,908 - stpipe.SkyMatchStep - INFO -  \n"
     ]
    },
    {
     "name": "stderr",
     "output_type": "stream",
     "text": [
      "2021-02-05 00:29:15,909 - stpipe.SkyMatchStep - INFO - ***** jwst.skymatch.skymatch.match() started on 2021-02-05 00:29:15.908604\n"
     ]
    },
    {
     "name": "stderr",
     "output_type": "stream",
     "text": [
      "2021-02-05 00:29:15,910 - stpipe.SkyMatchStep - INFO -  \n"
     ]
    },
    {
     "name": "stderr",
     "output_type": "stream",
     "text": [
      "2021-02-05 00:29:15,911 - stpipe.SkyMatchStep - INFO - Sky computation method: 'global+match'\n"
     ]
    },
    {
     "name": "stderr",
     "output_type": "stream",
     "text": [
      "2021-02-05 00:29:15,911 - stpipe.SkyMatchStep - INFO - Sky matching direction: DOWN\n"
     ]
    },
    {
     "name": "stderr",
     "output_type": "stream",
     "text": [
      "2021-02-05 00:29:15,911 - stpipe.SkyMatchStep - INFO - Sky subtraction from image data: ON\n"
     ]
    },
    {
     "name": "stderr",
     "output_type": "stream",
     "text": [
      "2021-02-05 00:29:15,912 - stpipe.SkyMatchStep - INFO -  \n"
     ]
    },
    {
     "name": "stderr",
     "output_type": "stream",
     "text": [
      "2021-02-05 00:29:15,912 - stpipe.SkyMatchStep - INFO - ----  Computing differences in sky values in overlapping regions.\n"
     ]
    },
    {
     "name": "stderr",
     "output_type": "stream",
     "text": [
      "2021-02-05 00:29:17,409 - stpipe.SkyMatchStep - INFO -    *  Image ID=det_image_seq1_MIRIMAGE_F560Wexp1_cal_skymatch.fits. Sky background: 0 (old=0, delta=0)\n"
     ]
    },
    {
     "name": "stderr",
     "output_type": "stream",
     "text": [
      "2021-02-05 00:29:17,412 - stpipe.SkyMatchStep - INFO -    *  Image ID=det_image_seq2_MIRIMAGE_F560Wexp1_cal_skymatch.fits. Sky background: 0.964105 (old=0, delta=0.964105)\n"
     ]
    },
    {
     "name": "stderr",
     "output_type": "stream",
     "text": [
      "2021-02-05 00:29:17,413 - stpipe.SkyMatchStep - INFO -    *  Image ID=det_image_seq3_MIRIMAGE_F560Wexp1_cal_skymatch.fits. Sky background: 3.00531 (old=0, delta=3.00531)\n"
     ]
    },
    {
     "name": "stderr",
     "output_type": "stream",
     "text": [
      "2021-02-05 00:29:17,415 - stpipe.SkyMatchStep - INFO -    *  Image ID=det_image_seq4_MIRIMAGE_F560Wexp1_cal_skymatch.fits. Sky background: 0.0298278 (old=0, delta=0.0298278)\n"
     ]
    },
    {
     "name": "stderr",
     "output_type": "stream",
     "text": [
      "2021-02-05 00:29:17,415 - stpipe.SkyMatchStep - INFO -  \n"
     ]
    },
    {
     "name": "stderr",
     "output_type": "stream",
     "text": [
      "2021-02-05 00:29:17,416 - stpipe.SkyMatchStep - INFO - ----  Computing \"global\" sky - smallest sky value across *all* input images.\n"
     ]
    },
    {
     "name": "stderr",
     "output_type": "stream",
     "text": [
      "2021-02-05 00:29:17,490 - stpipe.SkyMatchStep - INFO -  \n"
     ]
    },
    {
     "name": "stderr",
     "output_type": "stream",
     "text": [
      "2021-02-05 00:29:17,491 - stpipe.SkyMatchStep - INFO -    \"Global\" sky value correction: 1.933001701356177 [not converted]\n"
     ]
    },
    {
     "name": "stderr",
     "output_type": "stream",
     "text": [
      "2021-02-05 00:29:17,491 - stpipe.SkyMatchStep - INFO -  \n"
     ]
    },
    {
     "name": "stderr",
     "output_type": "stream",
     "text": [
      "2021-02-05 00:29:17,491 - stpipe.SkyMatchStep - INFO - ----  Final (match+global) sky for:\n"
     ]
    },
    {
     "name": "stderr",
     "output_type": "stream",
     "text": [
      "2021-02-05 00:29:17,493 - stpipe.SkyMatchStep - INFO -    *  Image ID=det_image_seq1_MIRIMAGE_F560Wexp1_cal_skymatch.fits. Sky background: 1.933 (old=0, delta=1.933)\n"
     ]
    },
    {
     "name": "stderr",
     "output_type": "stream",
     "text": [
      "2021-02-05 00:29:17,494 - stpipe.SkyMatchStep - INFO -    *  Image ID=det_image_seq2_MIRIMAGE_F560Wexp1_cal_skymatch.fits. Sky background: 2.89711 (old=0.964105, delta=1.933)\n"
     ]
    },
    {
     "name": "stderr",
     "output_type": "stream",
     "text": [
      "2021-02-05 00:29:17,496 - stpipe.SkyMatchStep - INFO -    *  Image ID=det_image_seq3_MIRIMAGE_F560Wexp1_cal_skymatch.fits. Sky background: 4.93832 (old=3.00531, delta=1.933)\n"
     ]
    },
    {
     "name": "stderr",
     "output_type": "stream",
     "text": [
      "2021-02-05 00:29:17,498 - stpipe.SkyMatchStep - INFO -    *  Image ID=det_image_seq4_MIRIMAGE_F560Wexp1_cal_skymatch.fits. Sky background: 1.96283 (old=0.0298278, delta=1.933)\n"
     ]
    },
    {
     "name": "stderr",
     "output_type": "stream",
     "text": [
      "2021-02-05 00:29:17,498 - stpipe.SkyMatchStep - INFO -  \n"
     ]
    },
    {
     "name": "stderr",
     "output_type": "stream",
     "text": [
      "2021-02-05 00:29:17,498 - stpipe.SkyMatchStep - INFO - ***** jwst.skymatch.skymatch.match() ended on 2021-02-05 00:29:17.498543\n"
     ]
    },
    {
     "name": "stderr",
     "output_type": "stream",
     "text": [
      "2021-02-05 00:29:17,499 - stpipe.SkyMatchStep - INFO - ***** jwst.skymatch.skymatch.match() TOTAL RUN TIME: 0:00:01.589939\n"
     ]
    },
    {
     "name": "stderr",
     "output_type": "stream",
     "text": [
      "2021-02-05 00:29:17,499 - stpipe.SkyMatchStep - INFO -  \n"
     ]
    },
    {
     "name": "stderr",
     "output_type": "stream",
     "text": [
      "2021-02-05 00:29:17,710 - stpipe.SkyMatchStep - INFO - Saved model in MIRI_0_skymatchstep.fits\n"
     ]
    },
    {
     "name": "stderr",
     "output_type": "stream",
     "text": [
      "2021-02-05 00:29:17,890 - stpipe.SkyMatchStep - INFO - Saved model in MIRI_1_skymatchstep.fits\n"
     ]
    },
    {
     "name": "stderr",
     "output_type": "stream",
     "text": [
      "2021-02-05 00:29:18,086 - stpipe.SkyMatchStep - INFO - Saved model in MIRI_2_skymatchstep.fits\n"
     ]
    },
    {
     "name": "stderr",
     "output_type": "stream",
     "text": [
      "2021-02-05 00:29:18,274 - stpipe.SkyMatchStep - INFO - Saved model in MIRI_3_skymatchstep.fits\n"
     ]
    },
    {
     "name": "stderr",
     "output_type": "stream",
     "text": [
      "2021-02-05 00:29:18,275 - stpipe.SkyMatchStep - INFO - Step SkyMatchStep done\n"
     ]
    },
    {
     "data": {
      "text/plain": [
       "<ModelContainer>"
      ]
     },
     "execution_count": 1,
     "metadata": {},
     "output_type": "execute_result"
    }
   ],
   "source": [
    "# skymatch, global+match, subtract = True\n",
    "jwst.skymatch.skymatch_step.SkyMatchStep.call(skymatch_json_file2, skymethod='global+match', match_down=True,subtract=True,output_file='MIRI',save_results=True)"
   ]
  },
  {
   "cell_type": "code",
   "execution_count": 28,
   "metadata": {
    "execution": {
     "iopub.execute_input": "2021-02-05T05:29:18.284315Z",
     "iopub.status.busy": "2021-02-05T05:29:18.283886Z",
     "iopub.status.idle": "2021-02-05T05:29:18.887096Z",
     "shell.execute_reply": "2021-02-05T05:29:18.886730Z"
    }
   },
   "outputs": [
    {
     "name": "stdout",
     "output_type": "stream",
     "text": [
      "Mean: original, new (global+match)\n",
      "Mean: 1.9999938 , 0.06699183\n",
      "Mean: 3.0004578 , 0.10335119\n",
      "Mean: 5.00085 , 0.062534235\n",
      "Mean: 1.9999938 , 0.037163988\n"
     ]
    }
   ],
   "source": [
    "img01_1_new = datamodels.open('MIRI_0_skymatchstep.fits')\n",
    "img01_2_new = datamodels.open('MIRI_1_skymatchstep.fits')\n",
    "img02_1_new = datamodels.open('MIRI_2_skymatchstep.fits')\n",
    "img02_2_new = datamodels.open('MIRI_3_skymatchstep.fits')\n",
    "\n",
    "print('Mean: original, new (global+match)')\n",
    "print('Mean:',np.mean(img01_1.data),',', np.mean(img01_1_new.data))\n",
    "print('Mean:',np.mean(img01_2.data),',', np.mean(img01_2_new.data))\n",
    "print('Mean:',np.mean(img02_1.data),',', np.mean(img02_1_new.data))\n",
    "print('Mean:',np.mean(img02_2.data),',', np.mean(img02_2_new.data))"
   ]
  },
  {
   "cell_type": "markdown",
   "metadata": {},
   "source": [
    "### ** Check that all output (new) sky values are around zero (within a standard deviation)"
   ]
  },
  {
   "cell_type": "markdown",
   "metadata": {
    "collapsed": true
   },
   "source": [
    "##### Notes: ‘global+match’: first use ‘match’ method to equalize sky values between images and then find a minimum “global” sky value in all input images.\n"
   ]
  }
 ],
 "metadata": {
  "anaconda-cloud": {},
  "kernelspec": {
   "display_name": "Python 3",
   "language": "python",
   "name": "python3"
  },
  "language_info": {
   "codemirror_mode": {
    "name": "ipython",
    "version": 3
   },
   "file_extension": ".py",
   "mimetype": "text/x-python",
   "name": "python",
   "nbconvert_exporter": "python",
   "pygments_lexer": "ipython3",
   "version": "3.8.6"
  }
 },
 "nbformat": 4,
 "nbformat_minor": 2
}
