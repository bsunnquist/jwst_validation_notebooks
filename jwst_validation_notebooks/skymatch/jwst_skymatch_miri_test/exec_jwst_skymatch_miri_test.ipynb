{
 "cells": [
  {
   "cell_type": "markdown",
   "metadata": {},
   "source": [
    "<a id=\"title_ID\"></a>\n",
    "# Testing skymatch step with MIRI simulated data\n",
    "<span style=\"color:red\"> **Instruments Affected**</span>: FGS, MIRI, NIRCam, NIRISS, NIRSpec \n",
    "\n",
    "Tested on MIRI Simulated data\n",
    "\n",
    "### Table of Contents\n",
    "<div style=\"text-align: left\"> \n",
    "\n",
    "<br>  [Introduction](#intro_ID) <br> [Imports](#imports_ID) <br> [Set up association files](#associations_ID) <br> [Insert outliers](#outliers_ID) <br> [Run Pipeline](#pipeline_ID) \n",
    "\n",
    "\n",
    "</div>"
   ]
  },
  {
   "cell_type": "markdown",
   "metadata": {},
   "source": [
    "<a id=\"intro_ID\"></a>\n",
    "## Introduction\n",
    "\n",
    "This notebook processes level 2 images through the calwebb_image3 skymatch step and examines outputs for different sky method parameters.\n",
    "\n",
    "1) Set up data path and image list file.\n",
    "\n",
    "2) Set up association files.\n",
    "\n",
    "3) Modify average backgrould level of input images.\n",
    "\n",
    "4) Run skymatch step on images.\n",
    "\n",
    "5) Run skymatch for each skymethod parameter (local, global, match, global+match). \n",
    "\n",
    "6) Testing other parameters (nclip, usigma, lsigma, lower, upper, skystat). \n",
    "\n",
    "\n",
    "These steps are set up with simulated MIRI F560W data of the LMC astrometric field.\n",
    "\n",
    "The pipeline documentation can be found here: https://jwst-pipeline.readthedocs.io/en/latest/jwst/skymatch/README.html\n",
    "\n",
    "The pipeline code is available on GitHub: https://github.com/spacetelescope/jwst\n",
    "\n",
    "Author: T. Temim"
   ]
  },
  {
   "cell_type": "markdown",
   "metadata": {},
   "source": [
    "<a id=\"imports_ID\"></a>\n",
    "### Set up import statements\n",
    "\n",
    "The following packages are needed to run this notebook:\n",
    "* jwst to run the pipeline \n",
    "* matplotlib to plot\n",
    "* ci_watson to retrieve data from artifactory\n"
   ]
  },
  {
   "cell_type": "code",
   "execution_count": 1,
   "metadata": {
    "execution": {
     "iopub.execute_input": "2021-02-06T07:16:43.329196Z",
     "iopub.status.busy": "2021-02-06T07:16:43.328859Z",
     "iopub.status.idle": "2021-02-06T07:16:44.261870Z",
     "shell.execute_reply": "2021-02-06T07:16:44.262187Z"
    }
   },
   "outputs": [],
   "source": [
    "import pytest\n",
    "from astropy.io import fits\n",
    "import numpy as np\n",
    "import matplotlib\n",
    "import matplotlib.pyplot as plt\n",
    "%matplotlib inline\n",
    "import jwst\n",
    "import json\n",
    "from jwst.skymatch import skymatch\n",
    "from jwst.skymatch.skyimage import SkyImage\n",
    "from jwst.associations.lib.rules_level3_base import DMS_Level3_Base\n",
    "from jwst.associations import asn_from_list\n",
    "from jwst import datamodels\n",
    "from matplotlib import rcParams\n",
    "from ci_watson.artifactory_helpers import get_bigdata"
   ]
  },
  {
   "cell_type": "code",
   "execution_count": 2,
   "metadata": {
    "execution": {
     "iopub.execute_input": "2021-02-06T07:16:44.264909Z",
     "iopub.status.busy": "2021-02-06T07:16:44.264584Z",
     "iopub.status.idle": "2021-02-06T07:16:44.266195Z",
     "shell.execute_reply": "2021-02-06T07:16:44.266441Z"
    }
   },
   "outputs": [],
   "source": [
    "import os\n",
    "os.environ['CRDS_CONTEXT']='jwst_0619.pmap'"
   ]
  },
  {
   "cell_type": "markdown",
   "metadata": {},
   "source": [
    "### Print pipeline version number"
   ]
  },
  {
   "cell_type": "code",
   "execution_count": 3,
   "metadata": {
    "execution": {
     "iopub.execute_input": "2021-02-06T07:16:44.270003Z",
     "iopub.status.busy": "2021-02-06T07:16:44.269676Z",
     "iopub.status.idle": "2021-02-06T07:16:44.271723Z",
     "shell.execute_reply": "2021-02-06T07:16:44.271985Z"
    }
   },
   "outputs": [
    {
     "data": {
      "text/plain": [
       "'0.18.3'"
      ]
     },
     "execution_count": 1,
     "metadata": {},
     "output_type": "execute_result"
    }
   ],
   "source": [
    "jwst.__version__ "
   ]
  },
  {
   "cell_type": "markdown",
   "metadata": {},
   "source": [
    "### Retrieve data from Artifactory"
   ]
  },
  {
   "cell_type": "code",
   "execution_count": 4,
   "metadata": {
    "execution": {
     "iopub.execute_input": "2021-02-06T07:16:44.274802Z",
     "iopub.status.busy": "2021-02-06T07:16:44.274481Z",
     "iopub.status.idle": "2021-02-06T07:16:45.562754Z",
     "shell.execute_reply": "2021-02-06T07:16:45.562414Z"
    }
   },
   "outputs": [],
   "source": [
    "input_file1 = get_bigdata('jwst_validation_notebooks',\n",
    "                     'validation_data',\n",
    "                     'outlier_detection',\n",
    "                     'outlier_detection_miri_test', \n",
    "                     'det_image_seq1_MIRIMAGE_F560Wexp1_cal.fits')\n",
    "input_file2 = get_bigdata('jwst_validation_notebooks',\n",
    "                     'validation_data',\n",
    "                     'outlier_detection',\n",
    "                     'outlier_detection_miri_test', \n",
    "                     'det_image_seq2_MIRIMAGE_F560Wexp1_cal.fits')\n",
    "input_file3 = get_bigdata('jwst_validation_notebooks',\n",
    "                     'validation_data',\n",
    "                     'outlier_detection',\n",
    "                     'outlier_detection_miri_test', \n",
    "                     'det_image_seq3_MIRIMAGE_F560Wexp1_cal.fits')\n",
    "input_file4 = get_bigdata('jwst_validation_notebooks',\n",
    "                     'validation_data',\n",
    "                     'outlier_detection',\n",
    "                     'outlier_detection_miri_test', \n",
    "                     'det_image_seq4_MIRIMAGE_F560Wexp1_cal.fits')"
   ]
  },
  {
   "cell_type": "code",
   "execution_count": 5,
   "metadata": {
    "execution": {
     "iopub.execute_input": "2021-02-06T07:16:45.565670Z",
     "iopub.status.busy": "2021-02-06T07:16:45.565370Z",
     "iopub.status.idle": "2021-02-06T07:16:45.567207Z",
     "shell.execute_reply": "2021-02-06T07:16:45.566881Z"
    }
   },
   "outputs": [],
   "source": [
    "input_files=[]\n",
    "input_files=[input_file1,input_file2,input_file3,input_file4]\n",
    "\n",
    "imlist1=['det_image_seq1_MIRIMAGE_F560Wexp1_cal.fits','det_image_seq2_MIRIMAGE_F560Wexp1_cal.fits','det_image_seq3_MIRIMAGE_F560Wexp1_cal.fits','det_image_seq4_MIRIMAGE_F560Wexp1_cal.fits']"
   ]
  },
  {
   "cell_type": "markdown",
   "metadata": {},
   "source": [
    "<a id=\"associations_ID\"></a>\n",
    "### Set up association files\n",
    "The level three pipeline relies on an association file to specify which files are to be combined and provide the output file name.\n",
    "\n",
    "[Top of Page](#title_ID)"
   ]
  },
  {
   "cell_type": "code",
   "execution_count": 6,
   "metadata": {
    "execution": {
     "iopub.execute_input": "2021-02-06T07:16:45.571479Z",
     "iopub.status.busy": "2021-02-06T07:16:45.571172Z",
     "iopub.status.idle": "2021-02-06T07:16:45.577465Z",
     "shell.execute_reply": "2021-02-06T07:16:45.577134Z"
    }
   },
   "outputs": [],
   "source": [
    "# use asn_from_list to create association table\n",
    "cal_list=imlist1\n",
    "asn = asn_from_list.asn_from_list(cal_list, rule=DMS_Level3_Base, product_name='skymatch_combined.fits')\n",
    "\n",
    "# use this if you need to add non'science' exposure types\n",
    "#asn['products'][0]['members'][1]['exptype'] = 'background'\n",
    "#asn['products'][0]['members'][2]['exptype'] = 'sourcecat'\n",
    "\n",
    "# dump association table to a .json file for use in image3\n",
    "with open('skymatch_asnfile.json', 'w') as fp:\n",
    "    fp.write(asn.dump()[1])\n",
    "\n",
    "skymatch_json_file='skymatch_asnfile.json'\n",
    "    \n",
    "json_file = skymatch_json_file\n",
    "file_list = []\n",
    "file_list2 = []\n",
    "with open(json_file) as json_data:\n",
    "    d = json.load(json_data)\n",
    "    members = d['products'][0]['members']\n",
    "    for item in np.arange(0,len(members)):\n",
    "        file_list.append(members[item]['expname'])\n",
    "        file_list2.append(members[item]['expname'][:-5]+\"_skymatch.fits\")\n",
    "\n",
    "    \n",
    "asn2 = asn_from_list.asn_from_list(file_list2, rule=DMS_Level3_Base, product_name=d['products'][0]['name'])\n",
    "\n",
    "# use this if you need to add non'science' exposure types\n",
    "#asn['products'][0]['members'][1]['exptype'] = 'background'\n",
    "#asn['products'][0]['members'][2]['exptype'] = 'sourcecat'\n",
    "\n",
    "# dump association table to a .json file for use in image3\n",
    "with open('skymatch_asnfile2.json', 'w') as fp:\n",
    "    fp.write(asn2.dump()[1])\n",
    "    \n",
    "skymatch_json_file2='skymatch_asnfile2.json'"
   ]
  },
  {
   "cell_type": "markdown",
   "metadata": {},
   "source": [
    "### Modify average background level of input images"
   ]
  },
  {
   "cell_type": "code",
   "execution_count": 7,
   "metadata": {
    "execution": {
     "iopub.execute_input": "2021-02-06T07:16:45.579858Z",
     "iopub.status.busy": "2021-02-06T07:16:45.579536Z",
     "iopub.status.idle": "2021-02-06T07:16:45.581341Z",
     "shell.execute_reply": "2021-02-06T07:16:45.581077Z"
    }
   },
   "outputs": [],
   "source": [
    "infile01_1 = input_files[0]\n",
    "infile01_2 = input_files[1]\n",
    "infile02_1 = input_files[2]\n",
    "infile02_2 = input_files[3]"
   ]
  },
  {
   "cell_type": "code",
   "execution_count": 8,
   "metadata": {
    "execution": {
     "iopub.execute_input": "2021-02-06T07:16:45.584183Z",
     "iopub.status.busy": "2021-02-06T07:16:45.583889Z",
     "iopub.status.idle": "2021-02-06T07:16:46.451800Z",
     "shell.execute_reply": "2021-02-06T07:16:46.451390Z"
    }
   },
   "outputs": [],
   "source": [
    "img01_1 = datamodels.open(infile01_1)\n",
    "img01_2 = datamodels.open(infile01_2)\n",
    "img02_1 = datamodels.open(infile02_1)\n",
    "img02_2 = datamodels.open(infile02_2)"
   ]
  },
  {
   "cell_type": "code",
   "execution_count": 9,
   "metadata": {
    "execution": {
     "iopub.execute_input": "2021-02-06T07:16:46.455385Z",
     "iopub.status.busy": "2021-02-06T07:16:46.455071Z",
     "iopub.status.idle": "2021-02-06T07:16:46.472154Z",
     "shell.execute_reply": "2021-02-06T07:16:46.472400Z"
    }
   },
   "outputs": [],
   "source": [
    "data01_1 = img01_1.data\n",
    "data01_2 = img01_2.data\n",
    "data02_1 = img02_1.data\n",
    "data02_2 = img02_2.data\n",
    "\n",
    "data01_1[data01_1<=0.3]=np.nan\n",
    "data01_2[data01_2<=0.3]=np.nan\n",
    "data02_1[data02_1<=0.3]=np.nan\n",
    "data02_2[data02_2<=0.3]=np.nan\n",
    "\n",
    "data01_1_orig = np.copy(img01_1.data)\n",
    "data01_2_orig = np.copy(img01_2.data)\n",
    "data02_1_orig = np.copy(img02_1.data)\n",
    "data02_2_orig = np.copy(img02_2.data)"
   ]
  },
  {
   "cell_type": "code",
   "execution_count": 10,
   "metadata": {
    "execution": {
     "iopub.execute_input": "2021-02-06T07:16:46.475686Z",
     "iopub.status.busy": "2021-02-06T07:16:46.475382Z",
     "iopub.status.idle": "2021-02-06T07:16:46.503508Z",
     "shell.execute_reply": "2021-02-06T07:16:46.503187Z"
    }
   },
   "outputs": [
    {
     "name": "stdout",
     "output_type": "stream",
     "text": [
      "Mean: 0.93090874 0.1817127\n",
      "Mean: 0.9362799 0.17500266\n",
      "Mean: 0.9330347 0.17194116\n",
      "Mean: 0.93216574 0.16481434\n"
     ]
    }
   ],
   "source": [
    "# check mean values of background \n",
    "print('Mean:', np.mean(data01_1_orig[data01_1_orig<=4.0]),np.std(data01_1_orig[data01_1_orig<=4.0]))\n",
    "print('Mean:', np.mean(data01_2_orig[data01_2_orig<=4.0]),np.std(data01_2_orig[data01_2_orig<=4.0]))\n",
    "print('Mean:', np.mean(data02_1_orig[data02_1_orig<=4.0]),np.std(data02_1_orig[data02_1_orig<=4.0]))\n",
    "print('Mean:', np.mean(data02_2_orig[data02_2_orig<=4.0]),np.std(data02_2_orig[data02_2_orig<=4.0]))"
   ]
  },
  {
   "cell_type": "code",
   "execution_count": 11,
   "metadata": {
    "execution": {
     "iopub.execute_input": "2021-02-06T07:16:46.506911Z",
     "iopub.status.busy": "2021-02-06T07:16:46.506597Z",
     "iopub.status.idle": "2021-02-06T07:16:46.743878Z",
     "shell.execute_reply": "2021-02-06T07:16:46.744157Z"
    }
   },
   "outputs": [],
   "source": [
    "# creating a background image with specified mean and gaussian noise with sigma = 1.0\n",
    "bkg_img_noise_neg2 = np.random.normal(-2,2*0.2,data01_1.shape)\n",
    "bkg_img_noise_2 = np.random.normal(2,2*0.2,data01_1.shape)\n",
    "bkg_img_noise_3 = np.random.normal(3,3*0.2,data01_1.shape)\n",
    "bkg_img_noise_4 = np.random.normal(4,4*0.2,data01_1.shape)\n",
    "bkg_img_noise_5 = np.random.normal(5,5*0.2,data01_1.shape)\n",
    "bkg_img_noise_7 = np.random.normal(7,7*0.2,data01_1.shape)"
   ]
  },
  {
   "cell_type": "code",
   "execution_count": 12,
   "metadata": {
    "execution": {
     "iopub.execute_input": "2021-02-06T07:16:46.746843Z",
     "iopub.status.busy": "2021-02-06T07:16:46.746532Z",
     "iopub.status.idle": "2021-02-06T07:16:46.763932Z",
     "shell.execute_reply": "2021-02-06T07:16:46.763603Z"
    }
   },
   "outputs": [],
   "source": [
    "# adding the new background with specified mean and gaussian noise (above) to image\n",
    "img01_1.data=bkg_img_noise_2\n",
    "img01_2.data=bkg_img_noise_3\n",
    "img02_1.data=bkg_img_noise_5\n",
    "img02_2.data=bkg_img_noise_2"
   ]
  },
  {
   "cell_type": "code",
   "execution_count": 13,
   "metadata": {
    "execution": {
     "iopub.execute_input": "2021-02-06T07:16:46.766674Z",
     "iopub.status.busy": "2021-02-06T07:16:46.766374Z",
     "iopub.status.idle": "2021-02-06T07:16:46.793600Z",
     "shell.execute_reply": "2021-02-06T07:16:46.793339Z"
    }
   },
   "outputs": [
    {
     "name": "stdout",
     "output_type": "stream",
     "text": [
      "1.9996574 0.40011916\n",
      "2.9995198 0.5995317\n",
      "5.0019174 1.0002973\n",
      "1.9996574 0.40011916\n"
     ]
    }
   ],
   "source": [
    "# checking the mean and standard deviations of the new background values\n",
    "print(np.nanmean(img01_1.data),np.nanstd(img01_1.data))\n",
    "print(np.nanmean(img01_2.data),np.nanstd(img01_2.data))\n",
    "print(np.nanmean(img02_1.data),np.nanstd(img02_1.data))\n",
    "print(np.nanmean(img02_2.data),np.nanstd(img02_2.data))"
   ]
  },
  {
   "cell_type": "code",
   "execution_count": 14,
   "metadata": {
    "execution": {
     "iopub.execute_input": "2021-02-06T07:16:46.811984Z",
     "iopub.status.busy": "2021-02-06T07:16:46.806881Z",
     "iopub.status.idle": "2021-02-06T07:16:47.205796Z",
     "shell.execute_reply": "2021-02-06T07:16:47.205507Z"
    }
   },
   "outputs": [
    {
     "data": {
      "text/plain": [
       "'det_image_seq4_MIRIMAGE_F560Wexp1_cal_skymatch.fits'"
      ]
     },
     "execution_count": 1,
     "metadata": {},
     "output_type": "execute_result"
    }
   ],
   "source": [
    "img01_1.save(file_list2[0],overwrite=True)\n",
    "img01_2.save(file_list2[1],overwrite=True)\n",
    "img02_1.save(file_list2[2],overwrite=True)\n",
    "img02_2.save(file_list2[3],overwrite=True)"
   ]
  },
  {
   "cell_type": "markdown",
   "metadata": {},
   "source": [
    "<a id=\"pipeline_ID\"></a>\n",
    "## Run Pipeline steps\n",
    "\n",
    "Run the pipeline on the data for different sets of parameters\n",
    "\n",
    "## 1. Run skymatch step on images"
   ]
  },
  {
   "cell_type": "code",
   "execution_count": 15,
   "metadata": {
    "execution": {
     "iopub.execute_input": "2021-02-06T07:16:47.211139Z",
     "iopub.status.busy": "2021-02-06T07:16:47.208257Z",
     "iopub.status.idle": "2021-02-06T07:16:49.242821Z",
     "shell.execute_reply": "2021-02-06T07:16:49.243160Z"
    }
   },
   "outputs": [
    {
     "name": "stderr",
     "output_type": "stream",
     "text": [
      "2021-02-06 02:16:47,901 - CRDS - ERROR -  Error determining best reference for 'pars-skymatchstep'  =   Unknown reference type 'pars-skymatchstep'\n"
     ]
    },
    {
     "name": "stderr",
     "output_type": "stream",
     "text": [
      "2021-02-06 02:16:47,906 - stpipe.SkyMatchStep - INFO - SkyMatchStep instance created.\n"
     ]
    },
    {
     "name": "stderr",
     "output_type": "stream",
     "text": [
      "2021-02-06 02:16:47,994 - stpipe.SkyMatchStep - INFO - Step SkyMatchStep running with args ('skymatch_asnfile2.json',).\n"
     ]
    },
    {
     "name": "stderr",
     "output_type": "stream",
     "text": [
      "2021-02-06 02:16:47,996 - stpipe.SkyMatchStep - INFO - Step SkyMatchStep parameters are: {'pre_hooks': [], 'post_hooks': [], 'output_file': '/data1/jenkins/workspace/Notebooks/jwst_validation_notebooks_spacetelescope/jwst_validation_notebooks/skymatch/jwst_skymatch_miri_test/MIRI', 'output_dir': None, 'output_ext': '.fits', 'output_use_model': False, 'output_use_index': True, 'save_results': True, 'skip': False, 'suffix': None, 'search_output_file': True, 'input_dir': '', 'skymethod': 'local', 'match_down': True, 'subtract': False, 'stepsize': None, 'skystat': 'mode', 'dqbits': '0', 'lower': None, 'upper': None, 'nclip': 5, 'lsigma': 4.0, 'usigma': 4.0, 'binwidth': 0.1}\n"
     ]
    },
    {
     "name": "stderr",
     "output_type": "stream",
     "text": [
      "2021-02-06 02:16:48,335 - stpipe.SkyMatchStep - INFO -  \n"
     ]
    },
    {
     "name": "stderr",
     "output_type": "stream",
     "text": [
      "2021-02-06 02:16:48,336 - stpipe.SkyMatchStep - INFO - ***** jwst.skymatch.skymatch.match() started on 2021-02-06 02:16:48.335460\n"
     ]
    },
    {
     "name": "stderr",
     "output_type": "stream",
     "text": [
      "2021-02-06 02:16:48,337 - stpipe.SkyMatchStep - INFO -  \n"
     ]
    },
    {
     "name": "stderr",
     "output_type": "stream",
     "text": [
      "2021-02-06 02:16:48,337 - stpipe.SkyMatchStep - INFO - Sky computation method: 'local'\n"
     ]
    },
    {
     "name": "stderr",
     "output_type": "stream",
     "text": [
      "2021-02-06 02:16:48,337 - stpipe.SkyMatchStep - INFO - Sky subtraction from image data: OFF\n"
     ]
    },
    {
     "name": "stderr",
     "output_type": "stream",
     "text": [
      "2021-02-06 02:16:48,338 - stpipe.SkyMatchStep - INFO -  \n"
     ]
    },
    {
     "name": "stderr",
     "output_type": "stream",
     "text": [
      "2021-02-06 02:16:48,338 - stpipe.SkyMatchStep - INFO - ----  Sky values computed per image and/or image groups.\n"
     ]
    },
    {
     "name": "stderr",
     "output_type": "stream",
     "text": [
      "2021-02-06 02:16:48,416 - stpipe.SkyMatchStep - INFO -    *  Image ID=det_image_seq1_MIRIMAGE_F560Wexp1_cal_skymatch.fits. Sky background: 1.97402\n"
     ]
    },
    {
     "name": "stderr",
     "output_type": "stream",
     "text": [
      "2021-02-06 02:16:48,417 - stpipe.SkyMatchStep - INFO -    *  Image ID=det_image_seq2_MIRIMAGE_F560Wexp1_cal_skymatch.fits. Sky background: 2.93011\n"
     ]
    },
    {
     "name": "stderr",
     "output_type": "stream",
     "text": [
      "2021-02-06 02:16:48,417 - stpipe.SkyMatchStep - INFO -    *  Image ID=det_image_seq3_MIRIMAGE_F560Wexp1_cal_skymatch.fits. Sky background: 4.96826\n"
     ]
    },
    {
     "name": "stderr",
     "output_type": "stream",
     "text": [
      "2021-02-06 02:16:48,418 - stpipe.SkyMatchStep - INFO -    *  Image ID=det_image_seq4_MIRIMAGE_F560Wexp1_cal_skymatch.fits. Sky background: 1.97402\n"
     ]
    },
    {
     "name": "stderr",
     "output_type": "stream",
     "text": [
      "2021-02-06 02:16:48,418 - stpipe.SkyMatchStep - INFO -  \n"
     ]
    },
    {
     "name": "stderr",
     "output_type": "stream",
     "text": [
      "2021-02-06 02:16:48,418 - stpipe.SkyMatchStep - INFO - ***** jwst.skymatch.skymatch.match() ended on 2021-02-06 02:16:48.418510\n"
     ]
    },
    {
     "name": "stderr",
     "output_type": "stream",
     "text": [
      "2021-02-06 02:16:48,419 - stpipe.SkyMatchStep - INFO - ***** jwst.skymatch.skymatch.match() TOTAL RUN TIME: 0:00:00.083050\n"
     ]
    },
    {
     "name": "stderr",
     "output_type": "stream",
     "text": [
      "2021-02-06 02:16:48,419 - stpipe.SkyMatchStep - INFO -  \n"
     ]
    },
    {
     "name": "stderr",
     "output_type": "stream",
     "text": [
      "2021-02-06 02:16:48,620 - stpipe.SkyMatchStep - INFO - Saved model in MIRI_0_skymatchstep.fits\n"
     ]
    },
    {
     "name": "stderr",
     "output_type": "stream",
     "text": [
      "2021-02-06 02:16:48,852 - stpipe.SkyMatchStep - INFO - Saved model in MIRI_1_skymatchstep.fits\n"
     ]
    },
    {
     "name": "stderr",
     "output_type": "stream",
     "text": [
      "2021-02-06 02:16:49,043 - stpipe.SkyMatchStep - INFO - Saved model in MIRI_2_skymatchstep.fits\n"
     ]
    },
    {
     "name": "stderr",
     "output_type": "stream",
     "text": [
      "2021-02-06 02:16:49,238 - stpipe.SkyMatchStep - INFO - Saved model in MIRI_3_skymatchstep.fits\n"
     ]
    },
    {
     "name": "stderr",
     "output_type": "stream",
     "text": [
      "2021-02-06 02:16:49,238 - stpipe.SkyMatchStep - INFO - Step SkyMatchStep done\n"
     ]
    },
    {
     "data": {
      "text/plain": [
       "<ModelContainer>"
      ]
     },
     "execution_count": 1,
     "metadata": {},
     "output_type": "execute_result"
    }
   ],
   "source": [
    "# skymatch, local, subtract= False, all 8 images used\n",
    "jwst.skymatch.skymatch_step.SkyMatchStep.call(skymatch_json_file2, skymethod='local', subtract=False,output_file='MIRI',save_results=True)"
   ]
  },
  {
   "cell_type": "code",
   "execution_count": 16,
   "metadata": {
    "execution": {
     "iopub.execute_input": "2021-02-06T07:16:49.248626Z",
     "iopub.status.busy": "2021-02-06T07:16:49.246472Z",
     "iopub.status.idle": "2021-02-06T07:16:49.790996Z",
     "shell.execute_reply": "2021-02-06T07:16:49.790622Z"
    }
   },
   "outputs": [
    {
     "name": "stdout",
     "output_type": "stream",
     "text": [
      "Mean: original, new (local)\n",
      "Mean: 1.9996574 , 1.9996574\n",
      "Mean: 2.9995198 , 2.9995198\n",
      "Mean: 5.0019174 , 5.0019174\n",
      "Mean: 1.9996574 , 1.9996574\n"
     ]
    }
   ],
   "source": [
    "img01_1_new = datamodels.open('MIRI_0_skymatchstep.fits')\n",
    "img01_2_new = datamodels.open('MIRI_1_skymatchstep.fits')\n",
    "img02_1_new = datamodels.open('MIRI_2_skymatchstep.fits')\n",
    "img02_2_new = datamodels.open('MIRI_3_skymatchstep.fits')\n",
    "\n",
    "print('Mean: original, new (local)')\n",
    "print('Mean:',np.mean(img01_1.data),',', np.mean(img01_1_new.data))\n",
    "print('Mean:',np.mean(img01_2.data),',', np.mean(img01_2_new.data))\n",
    "print('Mean:',np.mean(img02_1.data),',', np.mean(img02_1_new.data))\n",
    "print('Mean:',np.mean(img02_2.data),',', np.mean(img02_2_new.data))"
   ]
  },
  {
   "cell_type": "code",
   "execution_count": 17,
   "metadata": {
    "execution": {
     "iopub.execute_input": "2021-02-06T07:16:49.798097Z",
     "iopub.status.busy": "2021-02-06T07:16:49.797777Z",
     "iopub.status.idle": "2021-02-06T07:16:51.515914Z",
     "shell.execute_reply": "2021-02-06T07:16:51.515543Z"
    }
   },
   "outputs": [
    {
     "name": "stderr",
     "output_type": "stream",
     "text": [
      "2021-02-06 02:16:50,159 - CRDS - ERROR -  Error determining best reference for 'pars-skymatchstep'  =   Unknown reference type 'pars-skymatchstep'\n"
     ]
    },
    {
     "name": "stderr",
     "output_type": "stream",
     "text": [
      "2021-02-06 02:16:50,161 - stpipe.SkyMatchStep - INFO - SkyMatchStep instance created.\n"
     ]
    },
    {
     "name": "stderr",
     "output_type": "stream",
     "text": [
      "2021-02-06 02:16:50,259 - stpipe.SkyMatchStep - INFO - Step SkyMatchStep running with args ('skymatch_asnfile2.json',).\n"
     ]
    },
    {
     "name": "stderr",
     "output_type": "stream",
     "text": [
      "2021-02-06 02:16:50,261 - stpipe.SkyMatchStep - INFO - Step SkyMatchStep parameters are: {'pre_hooks': [], 'post_hooks': [], 'output_file': '/data1/jenkins/workspace/Notebooks/jwst_validation_notebooks_spacetelescope/jwst_validation_notebooks/skymatch/jwst_skymatch_miri_test/MIRI', 'output_dir': None, 'output_ext': '.fits', 'output_use_model': False, 'output_use_index': True, 'save_results': True, 'skip': False, 'suffix': None, 'search_output_file': True, 'input_dir': '', 'skymethod': 'local', 'match_down': True, 'subtract': True, 'stepsize': None, 'skystat': 'mode', 'dqbits': '0', 'lower': None, 'upper': None, 'nclip': 5, 'lsigma': 4.0, 'usigma': 4.0, 'binwidth': 0.1}\n"
     ]
    },
    {
     "name": "stderr",
     "output_type": "stream",
     "text": [
      "2021-02-06 02:16:50,588 - stpipe.SkyMatchStep - INFO -  \n"
     ]
    },
    {
     "name": "stderr",
     "output_type": "stream",
     "text": [
      "2021-02-06 02:16:50,589 - stpipe.SkyMatchStep - INFO - ***** jwst.skymatch.skymatch.match() started on 2021-02-06 02:16:50.588587\n"
     ]
    },
    {
     "name": "stderr",
     "output_type": "stream",
     "text": [
      "2021-02-06 02:16:50,589 - stpipe.SkyMatchStep - INFO -  \n"
     ]
    },
    {
     "name": "stderr",
     "output_type": "stream",
     "text": [
      "2021-02-06 02:16:50,590 - stpipe.SkyMatchStep - INFO - Sky computation method: 'local'\n"
     ]
    },
    {
     "name": "stderr",
     "output_type": "stream",
     "text": [
      "2021-02-06 02:16:50,590 - stpipe.SkyMatchStep - INFO - Sky subtraction from image data: ON\n"
     ]
    },
    {
     "name": "stderr",
     "output_type": "stream",
     "text": [
      "2021-02-06 02:16:50,591 - stpipe.SkyMatchStep - INFO -  \n"
     ]
    },
    {
     "name": "stderr",
     "output_type": "stream",
     "text": [
      "2021-02-06 02:16:50,591 - stpipe.SkyMatchStep - INFO - ----  Sky values computed per image and/or image groups.\n"
     ]
    },
    {
     "name": "stderr",
     "output_type": "stream",
     "text": [
      "2021-02-06 02:16:50,671 - stpipe.SkyMatchStep - INFO -    *  Image ID=det_image_seq1_MIRIMAGE_F560Wexp1_cal_skymatch.fits. Sky background: 1.97402 (old=0, delta=1.97402)\n"
     ]
    },
    {
     "name": "stderr",
     "output_type": "stream",
     "text": [
      "2021-02-06 02:16:50,672 - stpipe.SkyMatchStep - INFO -    *  Image ID=det_image_seq2_MIRIMAGE_F560Wexp1_cal_skymatch.fits. Sky background: 2.93011 (old=0, delta=2.93011)\n"
     ]
    },
    {
     "name": "stderr",
     "output_type": "stream",
     "text": [
      "2021-02-06 02:16:50,674 - stpipe.SkyMatchStep - INFO -    *  Image ID=det_image_seq3_MIRIMAGE_F560Wexp1_cal_skymatch.fits. Sky background: 4.96826 (old=0, delta=4.96826)\n"
     ]
    },
    {
     "name": "stderr",
     "output_type": "stream",
     "text": [
      "2021-02-06 02:16:50,675 - stpipe.SkyMatchStep - INFO -    *  Image ID=det_image_seq4_MIRIMAGE_F560Wexp1_cal_skymatch.fits. Sky background: 1.97402 (old=0, delta=1.97402)\n"
     ]
    },
    {
     "name": "stderr",
     "output_type": "stream",
     "text": [
      "2021-02-06 02:16:50,676 - stpipe.SkyMatchStep - INFO -  \n"
     ]
    },
    {
     "name": "stderr",
     "output_type": "stream",
     "text": [
      "2021-02-06 02:16:50,676 - stpipe.SkyMatchStep - INFO - ***** jwst.skymatch.skymatch.match() ended on 2021-02-06 02:16:50.676163\n"
     ]
    },
    {
     "name": "stderr",
     "output_type": "stream",
     "text": [
      "2021-02-06 02:16:50,676 - stpipe.SkyMatchStep - INFO - ***** jwst.skymatch.skymatch.match() TOTAL RUN TIME: 0:00:00.087576\n"
     ]
    },
    {
     "name": "stderr",
     "output_type": "stream",
     "text": [
      "2021-02-06 02:16:50,677 - stpipe.SkyMatchStep - INFO -  \n"
     ]
    },
    {
     "name": "stderr",
     "output_type": "stream",
     "text": [
      "2021-02-06 02:16:50,881 - stpipe.SkyMatchStep - INFO - Saved model in MIRI_0_skymatchstep.fits\n"
     ]
    },
    {
     "name": "stderr",
     "output_type": "stream",
     "text": [
      "2021-02-06 02:16:51,114 - stpipe.SkyMatchStep - INFO - Saved model in MIRI_1_skymatchstep.fits\n"
     ]
    },
    {
     "name": "stderr",
     "output_type": "stream",
     "text": [
      "2021-02-06 02:16:51,311 - stpipe.SkyMatchStep - INFO - Saved model in MIRI_2_skymatchstep.fits\n"
     ]
    },
    {
     "name": "stderr",
     "output_type": "stream",
     "text": [
      "2021-02-06 02:16:51,510 - stpipe.SkyMatchStep - INFO - Saved model in MIRI_3_skymatchstep.fits\n"
     ]
    },
    {
     "name": "stderr",
     "output_type": "stream",
     "text": [
      "2021-02-06 02:16:51,511 - stpipe.SkyMatchStep - INFO - Step SkyMatchStep done\n"
     ]
    },
    {
     "data": {
      "text/plain": [
       "<ModelContainer>"
      ]
     },
     "execution_count": 1,
     "metadata": {},
     "output_type": "execute_result"
    }
   ],
   "source": [
    "# skymatch, local, subtract = True, all 8 images used\n",
    "jwst.skymatch.skymatch_step.SkyMatchStep.call(skymatch_json_file2, skymethod='local', subtract=True,output_file='MIRI',save_results=True)"
   ]
  },
  {
   "cell_type": "code",
   "execution_count": 18,
   "metadata": {
    "execution": {
     "iopub.execute_input": "2021-02-06T07:16:51.519860Z",
     "iopub.status.busy": "2021-02-06T07:16:51.519541Z",
     "iopub.status.idle": "2021-02-06T07:16:52.115608Z",
     "shell.execute_reply": "2021-02-06T07:16:52.115313Z"
    }
   },
   "outputs": [
    {
     "name": "stdout",
     "output_type": "stream",
     "text": [
      "Mean: original, new (local)\n",
      "Mean: 1.9996574 , 0.025633011\n",
      "Mean: 2.9995198 , 0.06940995\n",
      "Mean: 5.0019174 , 0.03365761\n",
      "Mean: 1.9996574 , 0.025633011\n"
     ]
    }
   ],
   "source": [
    "img01_1_new = datamodels.open('MIRI_0_skymatchstep.fits')\n",
    "img01_2_new = datamodels.open('MIRI_1_skymatchstep.fits')\n",
    "img02_1_new = datamodels.open('MIRI_2_skymatchstep.fits')\n",
    "img02_2_new = datamodels.open('MIRI_3_skymatchstep.fits')\n",
    "\n",
    "print('Mean: original, new (local)')\n",
    "print('Mean:',np.mean(img01_1.data),',', np.mean(img01_1_new.data))\n",
    "print('Mean:',np.mean(img01_2.data),',', np.mean(img01_2_new.data))\n",
    "print('Mean:',np.mean(img02_1.data),',', np.mean(img02_1_new.data))\n",
    "print('Mean:',np.mean(img02_2.data),',', np.mean(img02_2_new.data))"
   ]
  },
  {
   "cell_type": "markdown",
   "metadata": {},
   "source": [
    "## 2. Run skymatch for each skymethod parameter (local, global, match, global+match)"
   ]
  },
  {
   "cell_type": "markdown",
   "metadata": {},
   "source": [
    "### 2.1 skymethod = 'local'"
   ]
  },
  {
   "cell_type": "code",
   "execution_count": 19,
   "metadata": {
    "execution": {
     "iopub.execute_input": "2021-02-06T07:16:52.123764Z",
     "iopub.status.busy": "2021-02-06T07:16:52.123455Z",
     "iopub.status.idle": "2021-02-06T07:16:53.779184Z",
     "shell.execute_reply": "2021-02-06T07:16:53.778890Z"
    }
   },
   "outputs": [
    {
     "name": "stderr",
     "output_type": "stream",
     "text": [
      "2021-02-06 02:16:52,497 - CRDS - ERROR -  Error determining best reference for 'pars-skymatchstep'  =   Unknown reference type 'pars-skymatchstep'\n"
     ]
    },
    {
     "name": "stderr",
     "output_type": "stream",
     "text": [
      "2021-02-06 02:16:52,499 - stpipe.SkyMatchStep - INFO - SkyMatchStep instance created.\n"
     ]
    },
    {
     "name": "stderr",
     "output_type": "stream",
     "text": [
      "2021-02-06 02:16:52,626 - stpipe.SkyMatchStep - INFO - Step SkyMatchStep running with args ('skymatch_asnfile2.json',).\n"
     ]
    },
    {
     "name": "stderr",
     "output_type": "stream",
     "text": [
      "2021-02-06 02:16:52,627 - stpipe.SkyMatchStep - INFO - Step SkyMatchStep parameters are: {'pre_hooks': [], 'post_hooks': [], 'output_file': '/data1/jenkins/workspace/Notebooks/jwst_validation_notebooks_spacetelescope/jwst_validation_notebooks/skymatch/jwst_skymatch_miri_test/MIRI', 'output_dir': None, 'output_ext': '.fits', 'output_use_model': False, 'output_use_index': True, 'save_results': True, 'skip': False, 'suffix': None, 'search_output_file': True, 'input_dir': '', 'skymethod': 'local', 'match_down': True, 'subtract': False, 'stepsize': None, 'skystat': 'mode', 'dqbits': '0', 'lower': None, 'upper': None, 'nclip': 5, 'lsigma': 4.0, 'usigma': 4.0, 'binwidth': 0.1}\n"
     ]
    },
    {
     "name": "stderr",
     "output_type": "stream",
     "text": [
      "2021-02-06 02:16:52,954 - stpipe.SkyMatchStep - INFO -  \n"
     ]
    },
    {
     "name": "stderr",
     "output_type": "stream",
     "text": [
      "2021-02-06 02:16:52,955 - stpipe.SkyMatchStep - INFO - ***** jwst.skymatch.skymatch.match() started on 2021-02-06 02:16:52.954427\n"
     ]
    },
    {
     "name": "stderr",
     "output_type": "stream",
     "text": [
      "2021-02-06 02:16:52,955 - stpipe.SkyMatchStep - INFO -  \n"
     ]
    },
    {
     "name": "stderr",
     "output_type": "stream",
     "text": [
      "2021-02-06 02:16:52,956 - stpipe.SkyMatchStep - INFO - Sky computation method: 'local'\n"
     ]
    },
    {
     "name": "stderr",
     "output_type": "stream",
     "text": [
      "2021-02-06 02:16:52,956 - stpipe.SkyMatchStep - INFO - Sky subtraction from image data: OFF\n"
     ]
    },
    {
     "name": "stderr",
     "output_type": "stream",
     "text": [
      "2021-02-06 02:16:52,956 - stpipe.SkyMatchStep - INFO -  \n"
     ]
    },
    {
     "name": "stderr",
     "output_type": "stream",
     "text": [
      "2021-02-06 02:16:52,957 - stpipe.SkyMatchStep - INFO - ----  Sky values computed per image and/or image groups.\n"
     ]
    },
    {
     "name": "stderr",
     "output_type": "stream",
     "text": [
      "2021-02-06 02:16:53,035 - stpipe.SkyMatchStep - INFO -    *  Image ID=det_image_seq1_MIRIMAGE_F560Wexp1_cal_skymatch.fits. Sky background: 1.97402\n"
     ]
    },
    {
     "name": "stderr",
     "output_type": "stream",
     "text": [
      "2021-02-06 02:16:53,036 - stpipe.SkyMatchStep - INFO -    *  Image ID=det_image_seq2_MIRIMAGE_F560Wexp1_cal_skymatch.fits. Sky background: 2.93011\n"
     ]
    },
    {
     "name": "stderr",
     "output_type": "stream",
     "text": [
      "2021-02-06 02:16:53,036 - stpipe.SkyMatchStep - INFO -    *  Image ID=det_image_seq3_MIRIMAGE_F560Wexp1_cal_skymatch.fits. Sky background: 4.96826\n"
     ]
    },
    {
     "name": "stderr",
     "output_type": "stream",
     "text": [
      "2021-02-06 02:16:53,036 - stpipe.SkyMatchStep - INFO -    *  Image ID=det_image_seq4_MIRIMAGE_F560Wexp1_cal_skymatch.fits. Sky background: 1.97402\n"
     ]
    },
    {
     "name": "stderr",
     "output_type": "stream",
     "text": [
      "2021-02-06 02:16:53,037 - stpipe.SkyMatchStep - INFO -  \n"
     ]
    },
    {
     "name": "stderr",
     "output_type": "stream",
     "text": [
      "2021-02-06 02:16:53,037 - stpipe.SkyMatchStep - INFO - ***** jwst.skymatch.skymatch.match() ended on 2021-02-06 02:16:53.037134\n"
     ]
    },
    {
     "name": "stderr",
     "output_type": "stream",
     "text": [
      "2021-02-06 02:16:53,037 - stpipe.SkyMatchStep - INFO - ***** jwst.skymatch.skymatch.match() TOTAL RUN TIME: 0:00:00.082707\n"
     ]
    },
    {
     "name": "stderr",
     "output_type": "stream",
     "text": [
      "2021-02-06 02:16:53,038 - stpipe.SkyMatchStep - INFO -  \n"
     ]
    },
    {
     "name": "stderr",
     "output_type": "stream",
     "text": [
      "2021-02-06 02:16:53,223 - stpipe.SkyMatchStep - INFO - Saved model in MIRI_0_skymatchstep.fits\n"
     ]
    },
    {
     "name": "stderr",
     "output_type": "stream",
     "text": [
      "2021-02-06 02:16:53,408 - stpipe.SkyMatchStep - INFO - Saved model in MIRI_1_skymatchstep.fits\n"
     ]
    },
    {
     "name": "stderr",
     "output_type": "stream",
     "text": [
      "2021-02-06 02:16:53,595 - stpipe.SkyMatchStep - INFO - Saved model in MIRI_2_skymatchstep.fits\n"
     ]
    },
    {
     "name": "stderr",
     "output_type": "stream",
     "text": [
      "2021-02-06 02:16:53,773 - stpipe.SkyMatchStep - INFO - Saved model in MIRI_3_skymatchstep.fits\n"
     ]
    },
    {
     "name": "stderr",
     "output_type": "stream",
     "text": [
      "2021-02-06 02:16:53,774 - stpipe.SkyMatchStep - INFO - Step SkyMatchStep done\n"
     ]
    },
    {
     "data": {
      "text/plain": [
       "<ModelContainer>"
      ]
     },
     "execution_count": 1,
     "metadata": {},
     "output_type": "execute_result"
    }
   ],
   "source": [
    "# skymatch, local\n",
    "jwst.skymatch.skymatch_step.SkyMatchStep.call(skymatch_json_file2, skymethod='local', subtract=False,output_file='MIRI',save_results=True)"
   ]
  },
  {
   "cell_type": "code",
   "execution_count": 20,
   "metadata": {
    "execution": {
     "iopub.execute_input": "2021-02-06T07:16:53.782904Z",
     "iopub.status.busy": "2021-02-06T07:16:53.782582Z",
     "iopub.status.idle": "2021-02-06T07:16:54.365920Z",
     "shell.execute_reply": "2021-02-06T07:16:54.366180Z"
    }
   },
   "outputs": [
    {
     "name": "stdout",
     "output_type": "stream",
     "text": [
      "Mean: original, new (local)\n",
      "Mean: 1.9996574 , 1.9996574\n",
      "Mean: 2.9995198 , 2.9995198\n",
      "Mean: 5.0019174 , 5.0019174\n",
      "Mean: 1.9996574 , 1.9996574\n"
     ]
    }
   ],
   "source": [
    "img01_1_new = datamodels.open('MIRI_0_skymatchstep.fits')\n",
    "img01_2_new = datamodels.open('MIRI_1_skymatchstep.fits')\n",
    "img02_1_new = datamodels.open('MIRI_2_skymatchstep.fits')\n",
    "img02_2_new = datamodels.open('MIRI_3_skymatchstep.fits')\n",
    "\n",
    "print('Mean: original, new (local)')\n",
    "print('Mean:',np.mean(img01_1.data),',', np.mean(img01_1_new.data))\n",
    "print('Mean:',np.mean(img01_2.data),',', np.mean(img01_2_new.data))\n",
    "print('Mean:',np.mean(img02_1.data),',', np.mean(img02_1_new.data))\n",
    "print('Mean:',np.mean(img02_2.data),',', np.mean(img02_2_new.data))"
   ]
  },
  {
   "cell_type": "markdown",
   "metadata": {},
   "source": [
    "### ** Check that the original and output (new) sky values match for individual images (but not necessarily the same for all images)"
   ]
  },
  {
   "cell_type": "markdown",
   "metadata": {},
   "source": [
    "##### Notes: ‘local’: compute sky background values of each input image or group of images (members of the same “exposure”). A single sky value is computed for each group of images."
   ]
  },
  {
   "cell_type": "markdown",
   "metadata": {},
   "source": [
    "### 2.2 skymethod = 'global'"
   ]
  },
  {
   "cell_type": "code",
   "execution_count": 21,
   "metadata": {
    "execution": {
     "iopub.execute_input": "2021-02-06T07:16:54.374019Z",
     "iopub.status.busy": "2021-02-06T07:16:54.373709Z",
     "iopub.status.idle": "2021-02-06T07:16:56.029213Z",
     "shell.execute_reply": "2021-02-06T07:16:56.028861Z"
    }
   },
   "outputs": [
    {
     "name": "stderr",
     "output_type": "stream",
     "text": [
      "2021-02-06 02:16:54,737 - CRDS - ERROR -  Error determining best reference for 'pars-skymatchstep'  =   Unknown reference type 'pars-skymatchstep'\n"
     ]
    },
    {
     "name": "stderr",
     "output_type": "stream",
     "text": [
      "2021-02-06 02:16:54,739 - stpipe.SkyMatchStep - INFO - SkyMatchStep instance created.\n"
     ]
    },
    {
     "name": "stderr",
     "output_type": "stream",
     "text": [
      "2021-02-06 02:16:54,867 - stpipe.SkyMatchStep - INFO - Step SkyMatchStep running with args ('skymatch_asnfile2.json',).\n"
     ]
    },
    {
     "name": "stderr",
     "output_type": "stream",
     "text": [
      "2021-02-06 02:16:54,869 - stpipe.SkyMatchStep - INFO - Step SkyMatchStep parameters are: {'pre_hooks': [], 'post_hooks': [], 'output_file': '/data1/jenkins/workspace/Notebooks/jwst_validation_notebooks_spacetelescope/jwst_validation_notebooks/skymatch/jwst_skymatch_miri_test/MIRI', 'output_dir': None, 'output_ext': '.fits', 'output_use_model': False, 'output_use_index': True, 'save_results': True, 'skip': False, 'suffix': None, 'search_output_file': True, 'input_dir': '', 'skymethod': 'global', 'match_down': True, 'subtract': True, 'stepsize': None, 'skystat': 'mode', 'dqbits': '0', 'lower': None, 'upper': None, 'nclip': 5, 'lsigma': 4.0, 'usigma': 4.0, 'binwidth': 0.1}\n"
     ]
    },
    {
     "name": "stderr",
     "output_type": "stream",
     "text": [
      "2021-02-06 02:16:55,202 - stpipe.SkyMatchStep - INFO -  \n"
     ]
    },
    {
     "name": "stderr",
     "output_type": "stream",
     "text": [
      "2021-02-06 02:16:55,203 - stpipe.SkyMatchStep - INFO - ***** jwst.skymatch.skymatch.match() started on 2021-02-06 02:16:55.202167\n"
     ]
    },
    {
     "name": "stderr",
     "output_type": "stream",
     "text": [
      "2021-02-06 02:16:55,203 - stpipe.SkyMatchStep - INFO -  \n"
     ]
    },
    {
     "name": "stderr",
     "output_type": "stream",
     "text": [
      "2021-02-06 02:16:55,203 - stpipe.SkyMatchStep - INFO - Sky computation method: 'global'\n"
     ]
    },
    {
     "name": "stderr",
     "output_type": "stream",
     "text": [
      "2021-02-06 02:16:55,204 - stpipe.SkyMatchStep - INFO - Sky subtraction from image data: ON\n"
     ]
    },
    {
     "name": "stderr",
     "output_type": "stream",
     "text": [
      "2021-02-06 02:16:55,204 - stpipe.SkyMatchStep - INFO -  \n"
     ]
    },
    {
     "name": "stderr",
     "output_type": "stream",
     "text": [
      "2021-02-06 02:16:55,204 - stpipe.SkyMatchStep - INFO - ----  Computing \"global\" sky - smallest sky value across *all* input images.\n"
     ]
    },
    {
     "name": "stderr",
     "output_type": "stream",
     "text": [
      "2021-02-06 02:16:55,280 - stpipe.SkyMatchStep - INFO -  \n"
     ]
    },
    {
     "name": "stderr",
     "output_type": "stream",
     "text": [
      "2021-02-06 02:16:55,281 - stpipe.SkyMatchStep - INFO -    \"Global\" sky value correction: 1.974024010225407 [not converted]\n"
     ]
    },
    {
     "name": "stderr",
     "output_type": "stream",
     "text": [
      "2021-02-06 02:16:55,282 - stpipe.SkyMatchStep - INFO -    *  Image ID=det_image_seq1_MIRIMAGE_F560Wexp1_cal_skymatch.fits. Sky background: 1.97402 (old=0, delta=1.97402)\n"
     ]
    },
    {
     "name": "stderr",
     "output_type": "stream",
     "text": [
      "2021-02-06 02:16:55,284 - stpipe.SkyMatchStep - INFO -    *  Image ID=det_image_seq2_MIRIMAGE_F560Wexp1_cal_skymatch.fits. Sky background: 1.97402 (old=0, delta=1.97402)\n"
     ]
    },
    {
     "name": "stderr",
     "output_type": "stream",
     "text": [
      "2021-02-06 02:16:55,285 - stpipe.SkyMatchStep - INFO -    *  Image ID=det_image_seq3_MIRIMAGE_F560Wexp1_cal_skymatch.fits. Sky background: 1.97402 (old=0, delta=1.97402)\n"
     ]
    },
    {
     "name": "stderr",
     "output_type": "stream",
     "text": [
      "2021-02-06 02:16:55,287 - stpipe.SkyMatchStep - INFO -    *  Image ID=det_image_seq4_MIRIMAGE_F560Wexp1_cal_skymatch.fits. Sky background: 1.97402 (old=0, delta=1.97402)\n"
     ]
    },
    {
     "name": "stderr",
     "output_type": "stream",
     "text": [
      "2021-02-06 02:16:55,287 - stpipe.SkyMatchStep - INFO -  \n"
     ]
    },
    {
     "name": "stderr",
     "output_type": "stream",
     "text": [
      "2021-02-06 02:16:55,288 - stpipe.SkyMatchStep - INFO - ***** jwst.skymatch.skymatch.match() ended on 2021-02-06 02:16:55.287703\n"
     ]
    },
    {
     "name": "stderr",
     "output_type": "stream",
     "text": [
      "2021-02-06 02:16:55,288 - stpipe.SkyMatchStep - INFO - ***** jwst.skymatch.skymatch.match() TOTAL RUN TIME: 0:00:00.085536\n"
     ]
    },
    {
     "name": "stderr",
     "output_type": "stream",
     "text": [
      "2021-02-06 02:16:55,288 - stpipe.SkyMatchStep - INFO -  \n"
     ]
    },
    {
     "name": "stderr",
     "output_type": "stream",
     "text": [
      "2021-02-06 02:16:55,468 - stpipe.SkyMatchStep - INFO - Saved model in MIRI_0_skymatchstep.fits\n"
     ]
    },
    {
     "name": "stderr",
     "output_type": "stream",
     "text": [
      "2021-02-06 02:16:55,652 - stpipe.SkyMatchStep - INFO - Saved model in MIRI_1_skymatchstep.fits\n"
     ]
    },
    {
     "name": "stderr",
     "output_type": "stream",
     "text": [
      "2021-02-06 02:16:55,828 - stpipe.SkyMatchStep - INFO - Saved model in MIRI_2_skymatchstep.fits\n"
     ]
    },
    {
     "name": "stderr",
     "output_type": "stream",
     "text": [
      "2021-02-06 02:16:56,022 - stpipe.SkyMatchStep - INFO - Saved model in MIRI_3_skymatchstep.fits\n"
     ]
    },
    {
     "name": "stderr",
     "output_type": "stream",
     "text": [
      "2021-02-06 02:16:56,024 - stpipe.SkyMatchStep - INFO - Step SkyMatchStep done\n"
     ]
    },
    {
     "data": {
      "text/plain": [
       "<ModelContainer>"
      ]
     },
     "execution_count": 1,
     "metadata": {},
     "output_type": "execute_result"
    }
   ],
   "source": [
    "# skymatch, global, subtract = True\n",
    "jwst.skymatch.skymatch_step.SkyMatchStep.call(skymatch_json_file2, skymethod='global', subtract=True,output_file='MIRI',save_results=True)"
   ]
  },
  {
   "cell_type": "code",
   "execution_count": 22,
   "metadata": {
    "execution": {
     "iopub.execute_input": "2021-02-06T07:16:56.032894Z",
     "iopub.status.busy": "2021-02-06T07:16:56.030741Z",
     "iopub.status.idle": "2021-02-06T07:16:56.430371Z",
     "shell.execute_reply": "2021-02-06T07:16:56.430635Z"
    }
   },
   "outputs": [
    {
     "name": "stdout",
     "output_type": "stream",
     "text": [
      "Mean: original, new (global)\n",
      "Mean: 1.9996574 , 0.025633011\n",
      "Mean: 2.9995198 , 1.0254962\n",
      "Mean: 5.0019174 , 3.0278914\n",
      "Mean: 1.9996574 , 0.025633011\n"
     ]
    }
   ],
   "source": [
    "img01_1_new = datamodels.open('MIRI_0_skymatchstep.fits')\n",
    "img01_2_new = datamodels.open('MIRI_1_skymatchstep.fits')\n",
    "img02_1_new = datamodels.open('MIRI_2_skymatchstep.fits')\n",
    "img02_2_new = datamodels.open('MIRI_3_skymatchstep.fits')\n",
    "\n",
    "print('Mean: original, new (global)')\n",
    "print('Mean:',np.mean(img01_1.data),',', np.mean(img01_1_new.data))\n",
    "print('Mean:',np.mean(img01_2.data),',', np.mean(img01_2_new.data))\n",
    "print('Mean:',np.mean(img02_1.data),',', np.mean(img02_1_new.data))\n",
    "print('Mean:',np.mean(img02_2.data),',', np.mean(img02_2_new.data))"
   ]
  },
  {
   "cell_type": "markdown",
   "metadata": {},
   "source": [
    "### ** Check that the output (new) sky values are equal to the original sky value minus the lowest original sky value "
   ]
  },
  {
   "cell_type": "markdown",
   "metadata": {},
   "source": [
    "##### Notes: ‘global’: compute a common sky value for all input image and groups of images. In this setting match will compute sky values for each input image/group, find the minimum sky value, and then it will set (and/or subtract) sky value of each input image to this minimum value. This method may be useful when input images have been already matched. The 'global' method computes the minimum sky value across all input images and/or groups. That sky value is then considered to be the background in all input images."
   ]
  },
  {
   "cell_type": "markdown",
   "metadata": {},
   "source": [
    "### 2.3 skymethod = 'match', match_down=True"
   ]
  },
  {
   "cell_type": "code",
   "execution_count": 23,
   "metadata": {
    "execution": {
     "iopub.execute_input": "2021-02-06T07:16:56.438127Z",
     "iopub.status.busy": "2021-02-06T07:16:56.437806Z",
     "iopub.status.idle": "2021-02-06T07:16:59.928412Z",
     "shell.execute_reply": "2021-02-06T07:16:59.928737Z"
    }
   },
   "outputs": [
    {
     "name": "stderr",
     "output_type": "stream",
     "text": [
      "2021-02-06 02:16:57,040 - CRDS - ERROR -  Error determining best reference for 'pars-skymatchstep'  =   Unknown reference type 'pars-skymatchstep'\n"
     ]
    },
    {
     "name": "stderr",
     "output_type": "stream",
     "text": [
      "2021-02-06 02:16:57,042 - stpipe.SkyMatchStep - INFO - SkyMatchStep instance created.\n"
     ]
    },
    {
     "name": "stderr",
     "output_type": "stream",
     "text": [
      "2021-02-06 02:16:57,166 - stpipe.SkyMatchStep - INFO - Step SkyMatchStep running with args ('skymatch_asnfile2.json',).\n"
     ]
    },
    {
     "name": "stderr",
     "output_type": "stream",
     "text": [
      "2021-02-06 02:16:57,168 - stpipe.SkyMatchStep - INFO - Step SkyMatchStep parameters are: {'pre_hooks': [], 'post_hooks': [], 'output_file': '/data1/jenkins/workspace/Notebooks/jwst_validation_notebooks_spacetelescope/jwst_validation_notebooks/skymatch/jwst_skymatch_miri_test/MIRI', 'output_dir': None, 'output_ext': '.fits', 'output_use_model': False, 'output_use_index': True, 'save_results': True, 'skip': False, 'suffix': None, 'search_output_file': True, 'input_dir': '', 'skymethod': 'match', 'match_down': True, 'subtract': True, 'stepsize': None, 'skystat': 'mode', 'dqbits': '0', 'lower': None, 'upper': None, 'nclip': 5, 'lsigma': 4.0, 'usigma': 4.0, 'binwidth': 0.1}\n"
     ]
    },
    {
     "name": "stderr",
     "output_type": "stream",
     "text": [
      "2021-02-06 02:16:57,507 - stpipe.SkyMatchStep - INFO -  \n"
     ]
    },
    {
     "name": "stderr",
     "output_type": "stream",
     "text": [
      "2021-02-06 02:16:57,508 - stpipe.SkyMatchStep - INFO - ***** jwst.skymatch.skymatch.match() started on 2021-02-06 02:16:57.507217\n"
     ]
    },
    {
     "name": "stderr",
     "output_type": "stream",
     "text": [
      "2021-02-06 02:16:57,508 - stpipe.SkyMatchStep - INFO -  \n"
     ]
    },
    {
     "name": "stderr",
     "output_type": "stream",
     "text": [
      "2021-02-06 02:16:57,508 - stpipe.SkyMatchStep - INFO - Sky computation method: 'match'\n"
     ]
    },
    {
     "name": "stderr",
     "output_type": "stream",
     "text": [
      "2021-02-06 02:16:57,509 - stpipe.SkyMatchStep - INFO - Sky matching direction: DOWN\n"
     ]
    },
    {
     "name": "stderr",
     "output_type": "stream",
     "text": [
      "2021-02-06 02:16:57,509 - stpipe.SkyMatchStep - INFO - Sky subtraction from image data: ON\n"
     ]
    },
    {
     "name": "stderr",
     "output_type": "stream",
     "text": [
      "2021-02-06 02:16:57,510 - stpipe.SkyMatchStep - INFO -  \n"
     ]
    },
    {
     "name": "stderr",
     "output_type": "stream",
     "text": [
      "2021-02-06 02:16:57,510 - stpipe.SkyMatchStep - INFO - ----  Computing differences in sky values in overlapping regions.\n"
     ]
    },
    {
     "name": "stderr",
     "output_type": "stream",
     "text": [
      "2021-02-06 02:16:59,044 - stpipe.SkyMatchStep - INFO -    *  Image ID=det_image_seq1_MIRIMAGE_F560Wexp1_cal_skymatch.fits. Sky background: 0 (old=0, delta=0)\n"
     ]
    },
    {
     "name": "stderr",
     "output_type": "stream",
     "text": [
      "2021-02-06 02:16:59,048 - stpipe.SkyMatchStep - INFO -    *  Image ID=det_image_seq2_MIRIMAGE_F560Wexp1_cal_skymatch.fits. Sky background: 0.998643 (old=0, delta=0.998643)\n"
     ]
    },
    {
     "name": "stderr",
     "output_type": "stream",
     "text": [
      "2021-02-06 02:16:59,050 - stpipe.SkyMatchStep - INFO -    *  Image ID=det_image_seq3_MIRIMAGE_F560Wexp1_cal_skymatch.fits. Sky background: 2.97813 (old=0, delta=2.97813)\n"
     ]
    },
    {
     "name": "stderr",
     "output_type": "stream",
     "text": [
      "2021-02-06 02:16:59,052 - stpipe.SkyMatchStep - INFO -    *  Image ID=det_image_seq4_MIRIMAGE_F560Wexp1_cal_skymatch.fits. Sky background: 0.00978291 (old=0, delta=0.00978291)\n"
     ]
    },
    {
     "name": "stderr",
     "output_type": "stream",
     "text": [
      "2021-02-06 02:16:59,052 - stpipe.SkyMatchStep - INFO -  \n"
     ]
    },
    {
     "name": "stderr",
     "output_type": "stream",
     "text": [
      "2021-02-06 02:16:59,053 - stpipe.SkyMatchStep - INFO - ***** jwst.skymatch.skymatch.match() ended on 2021-02-06 02:16:59.052843\n"
     ]
    },
    {
     "name": "stderr",
     "output_type": "stream",
     "text": [
      "2021-02-06 02:16:59,053 - stpipe.SkyMatchStep - INFO - ***** jwst.skymatch.skymatch.match() TOTAL RUN TIME: 0:00:01.545626\n"
     ]
    },
    {
     "name": "stderr",
     "output_type": "stream",
     "text": [
      "2021-02-06 02:16:59,053 - stpipe.SkyMatchStep - INFO -  \n"
     ]
    },
    {
     "name": "stderr",
     "output_type": "stream",
     "text": [
      "2021-02-06 02:16:59,288 - stpipe.SkyMatchStep - INFO - Saved model in MIRI_0_skymatchstep.fits\n"
     ]
    },
    {
     "name": "stderr",
     "output_type": "stream",
     "text": [
      "2021-02-06 02:16:59,485 - stpipe.SkyMatchStep - INFO - Saved model in MIRI_1_skymatchstep.fits\n"
     ]
    },
    {
     "name": "stderr",
     "output_type": "stream",
     "text": [
      "2021-02-06 02:16:59,694 - stpipe.SkyMatchStep - INFO - Saved model in MIRI_2_skymatchstep.fits\n"
     ]
    },
    {
     "name": "stderr",
     "output_type": "stream",
     "text": [
      "2021-02-06 02:16:59,923 - stpipe.SkyMatchStep - INFO - Saved model in MIRI_3_skymatchstep.fits\n"
     ]
    },
    {
     "name": "stderr",
     "output_type": "stream",
     "text": [
      "2021-02-06 02:16:59,924 - stpipe.SkyMatchStep - INFO - Step SkyMatchStep done\n"
     ]
    },
    {
     "data": {
      "text/plain": [
       "<ModelContainer>"
      ]
     },
     "execution_count": 1,
     "metadata": {},
     "output_type": "execute_result"
    }
   ],
   "source": [
    "# skymatch, match down, subtract = True\n",
    "jwst.skymatch.skymatch_step.SkyMatchStep.call(skymatch_json_file2, skymethod='match', match_down=True,subtract=True,output_file='MIRI',save_results=True)"
   ]
  },
  {
   "cell_type": "code",
   "execution_count": 24,
   "metadata": {
    "execution": {
     "iopub.execute_input": "2021-02-06T07:16:59.935197Z",
     "iopub.status.busy": "2021-02-06T07:16:59.932651Z",
     "iopub.status.idle": "2021-02-06T07:17:00.737639Z",
     "shell.execute_reply": "2021-02-06T07:17:00.737339Z"
    }
   },
   "outputs": [
    {
     "name": "stdout",
     "output_type": "stream",
     "text": [
      "Mean: original, new (match down)\n",
      "Mean: 1.9996574 , 1.9996574\n",
      "Mean: 2.9995198 , 2.0008771\n",
      "Mean: 5.0019174 , 2.0237875\n",
      "Mean: 1.9996574 , 1.9898746\n"
     ]
    }
   ],
   "source": [
    "img01_1_new = datamodels.open('MIRI_0_skymatchstep.fits')\n",
    "img01_2_new = datamodels.open('MIRI_1_skymatchstep.fits')\n",
    "img02_1_new = datamodels.open('MIRI_2_skymatchstep.fits')\n",
    "img02_2_new = datamodels.open('MIRI_3_skymatchstep.fits')\n",
    "\n",
    "print('Mean: original, new (match down)')\n",
    "print('Mean:',np.mean(img01_1.data),',', np.mean(img01_1_new.data))\n",
    "print('Mean:',np.mean(img01_2.data),',', np.mean(img01_2_new.data))\n",
    "print('Mean:',np.mean(img02_1.data),',', np.mean(img02_1_new.data))\n",
    "print('Mean:',np.mean(img02_2.data),',', np.mean(img02_2_new.data))"
   ]
  },
  {
   "cell_type": "markdown",
   "metadata": {},
   "source": [
    "### ** Check that all output (new) sky values are equal to the lowest original sky value "
   ]
  },
  {
   "cell_type": "markdown",
   "metadata": {},
   "source": [
    "##### Notes: ‘match’: compute differences in sky values between images and/or groups in (pair-wise) common sky regions. In this case computed sky values will be relative (delta) to the sky computed in one of the input images whose sky value will be set to (reported to be) 0. This case matches to the lowest sky value."
   ]
  },
  {
   "cell_type": "markdown",
   "metadata": {},
   "source": [
    "### 2.4 skymethod = 'match', match_down=False"
   ]
  },
  {
   "cell_type": "code",
   "execution_count": 25,
   "metadata": {
    "execution": {
     "iopub.execute_input": "2021-02-06T07:17:00.746728Z",
     "iopub.status.busy": "2021-02-06T07:17:00.746413Z",
     "iopub.status.idle": "2021-02-06T07:17:04.129729Z",
     "shell.execute_reply": "2021-02-06T07:17:04.129381Z"
    }
   },
   "outputs": [
    {
     "name": "stderr",
     "output_type": "stream",
     "text": [
      "2021-02-06 02:17:01,129 - CRDS - ERROR -  Error determining best reference for 'pars-skymatchstep'  =   Unknown reference type 'pars-skymatchstep'\n"
     ]
    },
    {
     "name": "stderr",
     "output_type": "stream",
     "text": [
      "2021-02-06 02:17:01,131 - stpipe.SkyMatchStep - INFO - SkyMatchStep instance created.\n"
     ]
    },
    {
     "name": "stderr",
     "output_type": "stream",
     "text": [
      "2021-02-06 02:17:01,382 - stpipe.SkyMatchStep - INFO - Step SkyMatchStep running with args ('skymatch_asnfile2.json',).\n"
     ]
    },
    {
     "name": "stderr",
     "output_type": "stream",
     "text": [
      "2021-02-06 02:17:01,384 - stpipe.SkyMatchStep - INFO - Step SkyMatchStep parameters are: {'pre_hooks': [], 'post_hooks': [], 'output_file': '/data1/jenkins/workspace/Notebooks/jwst_validation_notebooks_spacetelescope/jwst_validation_notebooks/skymatch/jwst_skymatch_miri_test/MIRI', 'output_dir': None, 'output_ext': '.fits', 'output_use_model': False, 'output_use_index': True, 'save_results': True, 'skip': False, 'suffix': None, 'search_output_file': True, 'input_dir': '', 'skymethod': 'match', 'match_down': False, 'subtract': True, 'stepsize': None, 'skystat': 'mode', 'dqbits': '0', 'lower': None, 'upper': None, 'nclip': 5, 'lsigma': 4.0, 'usigma': 4.0, 'binwidth': 0.1}\n"
     ]
    },
    {
     "name": "stderr",
     "output_type": "stream",
     "text": [
      "2021-02-06 02:17:01,770 - stpipe.SkyMatchStep - INFO -  \n"
     ]
    },
    {
     "name": "stderr",
     "output_type": "stream",
     "text": [
      "2021-02-06 02:17:01,771 - stpipe.SkyMatchStep - INFO - ***** jwst.skymatch.skymatch.match() started on 2021-02-06 02:17:01.770788\n"
     ]
    },
    {
     "name": "stderr",
     "output_type": "stream",
     "text": [
      "2021-02-06 02:17:01,772 - stpipe.SkyMatchStep - INFO -  \n"
     ]
    },
    {
     "name": "stderr",
     "output_type": "stream",
     "text": [
      "2021-02-06 02:17:01,772 - stpipe.SkyMatchStep - INFO - Sky computation method: 'match'\n"
     ]
    },
    {
     "name": "stderr",
     "output_type": "stream",
     "text": [
      "2021-02-06 02:17:01,772 - stpipe.SkyMatchStep - INFO - Sky matching direction: UP\n"
     ]
    },
    {
     "name": "stderr",
     "output_type": "stream",
     "text": [
      "2021-02-06 02:17:01,772 - stpipe.SkyMatchStep - INFO - Sky subtraction from image data: ON\n"
     ]
    },
    {
     "name": "stderr",
     "output_type": "stream",
     "text": [
      "2021-02-06 02:17:01,773 - stpipe.SkyMatchStep - INFO -  \n"
     ]
    },
    {
     "name": "stderr",
     "output_type": "stream",
     "text": [
      "2021-02-06 02:17:01,773 - stpipe.SkyMatchStep - INFO - ----  Computing differences in sky values in overlapping regions.\n"
     ]
    },
    {
     "name": "stderr",
     "output_type": "stream",
     "text": [
      "2021-02-06 02:17:03,313 - stpipe.SkyMatchStep - INFO -    *  Image ID=det_image_seq1_MIRIMAGE_F560Wexp1_cal_skymatch.fits. Sky background: -2.97813 (old=0, delta=-2.97813)\n"
     ]
    },
    {
     "name": "stderr",
     "output_type": "stream",
     "text": [
      "2021-02-06 02:17:03,315 - stpipe.SkyMatchStep - INFO -    *  Image ID=det_image_seq2_MIRIMAGE_F560Wexp1_cal_skymatch.fits. Sky background: -1.97949 (old=0, delta=-1.97949)\n"
     ]
    },
    {
     "name": "stderr",
     "output_type": "stream",
     "text": [
      "2021-02-06 02:17:03,317 - stpipe.SkyMatchStep - INFO -    *  Image ID=det_image_seq3_MIRIMAGE_F560Wexp1_cal_skymatch.fits. Sky background: 0 (old=0, delta=0)\n"
     ]
    },
    {
     "name": "stderr",
     "output_type": "stream",
     "text": [
      "2021-02-06 02:17:03,319 - stpipe.SkyMatchStep - INFO -    *  Image ID=det_image_seq4_MIRIMAGE_F560Wexp1_cal_skymatch.fits. Sky background: -2.96835 (old=0, delta=-2.96835)\n"
     ]
    },
    {
     "name": "stderr",
     "output_type": "stream",
     "text": [
      "2021-02-06 02:17:03,319 - stpipe.SkyMatchStep - INFO -  \n"
     ]
    },
    {
     "name": "stderr",
     "output_type": "stream",
     "text": [
      "2021-02-06 02:17:03,319 - stpipe.SkyMatchStep - INFO - ***** jwst.skymatch.skymatch.match() ended on 2021-02-06 02:17:03.319561\n"
     ]
    },
    {
     "name": "stderr",
     "output_type": "stream",
     "text": [
      "2021-02-06 02:17:03,320 - stpipe.SkyMatchStep - INFO - ***** jwst.skymatch.skymatch.match() TOTAL RUN TIME: 0:00:01.548773\n"
     ]
    },
    {
     "name": "stderr",
     "output_type": "stream",
     "text": [
      "2021-02-06 02:17:03,320 - stpipe.SkyMatchStep - INFO -  \n"
     ]
    },
    {
     "name": "stderr",
     "output_type": "stream",
     "text": [
      "2021-02-06 02:17:03,536 - stpipe.SkyMatchStep - INFO - Saved model in MIRI_0_skymatchstep.fits\n"
     ]
    },
    {
     "name": "stderr",
     "output_type": "stream",
     "text": [
      "2021-02-06 02:17:03,724 - stpipe.SkyMatchStep - INFO - Saved model in MIRI_1_skymatchstep.fits\n"
     ]
    },
    {
     "name": "stderr",
     "output_type": "stream",
     "text": [
      "2021-02-06 02:17:03,926 - stpipe.SkyMatchStep - INFO - Saved model in MIRI_2_skymatchstep.fits\n"
     ]
    },
    {
     "name": "stderr",
     "output_type": "stream",
     "text": [
      "2021-02-06 02:17:04,124 - stpipe.SkyMatchStep - INFO - Saved model in MIRI_3_skymatchstep.fits\n"
     ]
    },
    {
     "name": "stderr",
     "output_type": "stream",
     "text": [
      "2021-02-06 02:17:04,125 - stpipe.SkyMatchStep - INFO - Step SkyMatchStep done\n"
     ]
    },
    {
     "data": {
      "text/plain": [
       "<ModelContainer>"
      ]
     },
     "execution_count": 1,
     "metadata": {},
     "output_type": "execute_result"
    }
   ],
   "source": [
    "# skymatch, match up, subtract = True\n",
    "jwst.skymatch.skymatch_step.SkyMatchStep.call(skymatch_json_file2, skymethod='match', match_down=False,subtract=True,output_file='MIRI',save_results=True)"
   ]
  },
  {
   "cell_type": "code",
   "execution_count": 26,
   "metadata": {
    "execution": {
     "iopub.execute_input": "2021-02-06T07:17:04.135228Z",
     "iopub.status.busy": "2021-02-06T07:17:04.133258Z",
     "iopub.status.idle": "2021-02-06T07:17:04.848216Z",
     "shell.execute_reply": "2021-02-06T07:17:04.847770Z"
    }
   },
   "outputs": [
    {
     "name": "stdout",
     "output_type": "stream",
     "text": [
      "Mean: original, new (match up)\n",
      "Mean: 1.9996574 , 4.977786\n",
      "Mean: 2.9995198 , 4.979005\n",
      "Mean: 5.0019174 , 5.0019174\n",
      "Mean: 1.9996574 , 4.9680033\n"
     ]
    }
   ],
   "source": [
    "img01_1_new = datamodels.open('MIRI_0_skymatchstep.fits')\n",
    "img01_2_new = datamodels.open('MIRI_1_skymatchstep.fits')\n",
    "img02_1_new = datamodels.open('MIRI_2_skymatchstep.fits')\n",
    "img02_2_new = datamodels.open('MIRI_3_skymatchstep.fits')\n",
    "\n",
    "print('Mean: original, new (match up)')\n",
    "print('Mean:',np.mean(img01_1.data),',', np.mean(img01_1_new.data))\n",
    "print('Mean:',np.mean(img01_2.data),',', np.mean(img01_2_new.data))\n",
    "print('Mean:',np.mean(img02_1.data),',', np.mean(img02_1_new.data))\n",
    "print('Mean:',np.mean(img02_2.data),',', np.mean(img02_2_new.data))"
   ]
  },
  {
   "cell_type": "markdown",
   "metadata": {},
   "source": [
    "### ** Check that all output (new) sky values are equal to the highest original sky value "
   ]
  },
  {
   "cell_type": "markdown",
   "metadata": {},
   "source": [
    "##### Notes: ‘match’: compute differences in sky values between images and/or groups in (pair-wise) common sky regions. In this case computed sky values will be relative (delta) to the sky computed in one of the input images whose sky value will be set to (reported to be) 0. This case matches to the highest sky value."
   ]
  },
  {
   "cell_type": "markdown",
   "metadata": {},
   "source": [
    "### 2.5 skymethod = 'global+match'"
   ]
  },
  {
   "cell_type": "code",
   "execution_count": 27,
   "metadata": {
    "execution": {
     "iopub.execute_input": "2021-02-06T07:17:04.863986Z",
     "iopub.status.busy": "2021-02-06T07:17:04.863667Z",
     "iopub.status.idle": "2021-02-06T07:17:08.179146Z",
     "shell.execute_reply": "2021-02-06T07:17:08.178782Z"
    }
   },
   "outputs": [
    {
     "name": "stderr",
     "output_type": "stream",
     "text": [
      "2021-02-06 02:17:05,230 - CRDS - ERROR -  Error determining best reference for 'pars-skymatchstep'  =   Unknown reference type 'pars-skymatchstep'\n"
     ]
    },
    {
     "name": "stderr",
     "output_type": "stream",
     "text": [
      "2021-02-06 02:17:05,232 - stpipe.SkyMatchStep - INFO - SkyMatchStep instance created.\n"
     ]
    },
    {
     "name": "stderr",
     "output_type": "stream",
     "text": [
      "2021-02-06 02:17:05,419 - stpipe.SkyMatchStep - INFO - Step SkyMatchStep running with args ('skymatch_asnfile2.json',).\n"
     ]
    },
    {
     "name": "stderr",
     "output_type": "stream",
     "text": [
      "2021-02-06 02:17:05,421 - stpipe.SkyMatchStep - INFO - Step SkyMatchStep parameters are: {'pre_hooks': [], 'post_hooks': [], 'output_file': '/data1/jenkins/workspace/Notebooks/jwst_validation_notebooks_spacetelescope/jwst_validation_notebooks/skymatch/jwst_skymatch_miri_test/MIRI', 'output_dir': None, 'output_ext': '.fits', 'output_use_model': False, 'output_use_index': True, 'save_results': True, 'skip': False, 'suffix': None, 'search_output_file': True, 'input_dir': '', 'skymethod': 'global+match', 'match_down': True, 'subtract': True, 'stepsize': None, 'skystat': 'mode', 'dqbits': '0', 'lower': None, 'upper': None, 'nclip': 5, 'lsigma': 4.0, 'usigma': 4.0, 'binwidth': 0.1}\n"
     ]
    },
    {
     "name": "stderr",
     "output_type": "stream",
     "text": [
      "2021-02-06 02:17:05,777 - stpipe.SkyMatchStep - INFO -  \n"
     ]
    },
    {
     "name": "stderr",
     "output_type": "stream",
     "text": [
      "2021-02-06 02:17:05,778 - stpipe.SkyMatchStep - INFO - ***** jwst.skymatch.skymatch.match() started on 2021-02-06 02:17:05.777099\n"
     ]
    },
    {
     "name": "stderr",
     "output_type": "stream",
     "text": [
      "2021-02-06 02:17:05,778 - stpipe.SkyMatchStep - INFO -  \n"
     ]
    },
    {
     "name": "stderr",
     "output_type": "stream",
     "text": [
      "2021-02-06 02:17:05,778 - stpipe.SkyMatchStep - INFO - Sky computation method: 'global+match'\n"
     ]
    },
    {
     "name": "stderr",
     "output_type": "stream",
     "text": [
      "2021-02-06 02:17:05,779 - stpipe.SkyMatchStep - INFO - Sky matching direction: DOWN\n"
     ]
    },
    {
     "name": "stderr",
     "output_type": "stream",
     "text": [
      "2021-02-06 02:17:05,779 - stpipe.SkyMatchStep - INFO - Sky subtraction from image data: ON\n"
     ]
    },
    {
     "name": "stderr",
     "output_type": "stream",
     "text": [
      "2021-02-06 02:17:05,780 - stpipe.SkyMatchStep - INFO -  \n"
     ]
    },
    {
     "name": "stderr",
     "output_type": "stream",
     "text": [
      "2021-02-06 02:17:05,780 - stpipe.SkyMatchStep - INFO - ----  Computing differences in sky values in overlapping regions.\n"
     ]
    },
    {
     "name": "stderr",
     "output_type": "stream",
     "text": [
      "2021-02-06 02:17:07,294 - stpipe.SkyMatchStep - INFO -    *  Image ID=det_image_seq1_MIRIMAGE_F560Wexp1_cal_skymatch.fits. Sky background: 0 (old=0, delta=0)\n"
     ]
    },
    {
     "name": "stderr",
     "output_type": "stream",
     "text": [
      "2021-02-06 02:17:07,296 - stpipe.SkyMatchStep - INFO -    *  Image ID=det_image_seq2_MIRIMAGE_F560Wexp1_cal_skymatch.fits. Sky background: 0.998643 (old=0, delta=0.998643)\n"
     ]
    },
    {
     "name": "stderr",
     "output_type": "stream",
     "text": [
      "2021-02-06 02:17:07,298 - stpipe.SkyMatchStep - INFO -    *  Image ID=det_image_seq3_MIRIMAGE_F560Wexp1_cal_skymatch.fits. Sky background: 2.97813 (old=0, delta=2.97813)\n"
     ]
    },
    {
     "name": "stderr",
     "output_type": "stream",
     "text": [
      "2021-02-06 02:17:07,299 - stpipe.SkyMatchStep - INFO -    *  Image ID=det_image_seq4_MIRIMAGE_F560Wexp1_cal_skymatch.fits. Sky background: 0.00978291 (old=0, delta=0.00978291)\n"
     ]
    },
    {
     "name": "stderr",
     "output_type": "stream",
     "text": [
      "2021-02-06 02:17:07,300 - stpipe.SkyMatchStep - INFO -  \n"
     ]
    },
    {
     "name": "stderr",
     "output_type": "stream",
     "text": [
      "2021-02-06 02:17:07,300 - stpipe.SkyMatchStep - INFO - ----  Computing \"global\" sky - smallest sky value across *all* input images.\n"
     ]
    },
    {
     "name": "stderr",
     "output_type": "stream",
     "text": [
      "2021-02-06 02:17:07,376 - stpipe.SkyMatchStep - INFO -  \n"
     ]
    },
    {
     "name": "stderr",
     "output_type": "stream",
     "text": [
      "2021-02-06 02:17:07,376 - stpipe.SkyMatchStep - INFO -    \"Global\" sky value correction: 1.931447606742382 [not converted]\n"
     ]
    },
    {
     "name": "stderr",
     "output_type": "stream",
     "text": [
      "2021-02-06 02:17:07,376 - stpipe.SkyMatchStep - INFO -  \n"
     ]
    },
    {
     "name": "stderr",
     "output_type": "stream",
     "text": [
      "2021-02-06 02:17:07,377 - stpipe.SkyMatchStep - INFO - ----  Final (match+global) sky for:\n"
     ]
    },
    {
     "name": "stderr",
     "output_type": "stream",
     "text": [
      "2021-02-06 02:17:07,379 - stpipe.SkyMatchStep - INFO -    *  Image ID=det_image_seq1_MIRIMAGE_F560Wexp1_cal_skymatch.fits. Sky background: 1.93145 (old=0, delta=1.93145)\n"
     ]
    },
    {
     "name": "stderr",
     "output_type": "stream",
     "text": [
      "2021-02-06 02:17:07,380 - stpipe.SkyMatchStep - INFO -    *  Image ID=det_image_seq2_MIRIMAGE_F560Wexp1_cal_skymatch.fits. Sky background: 2.93009 (old=0.998643, delta=1.93145)\n"
     ]
    },
    {
     "name": "stderr",
     "output_type": "stream",
     "text": [
      "2021-02-06 02:17:07,382 - stpipe.SkyMatchStep - INFO -    *  Image ID=det_image_seq3_MIRIMAGE_F560Wexp1_cal_skymatch.fits. Sky background: 4.90958 (old=2.97813, delta=1.93145)\n"
     ]
    },
    {
     "name": "stderr",
     "output_type": "stream",
     "text": [
      "2021-02-06 02:17:07,383 - stpipe.SkyMatchStep - INFO -    *  Image ID=det_image_seq4_MIRIMAGE_F560Wexp1_cal_skymatch.fits. Sky background: 1.94123 (old=0.00978291, delta=1.93145)\n"
     ]
    },
    {
     "name": "stderr",
     "output_type": "stream",
     "text": [
      "2021-02-06 02:17:07,384 - stpipe.SkyMatchStep - INFO -  \n"
     ]
    },
    {
     "name": "stderr",
     "output_type": "stream",
     "text": [
      "2021-02-06 02:17:07,384 - stpipe.SkyMatchStep - INFO - ***** jwst.skymatch.skymatch.match() ended on 2021-02-06 02:17:07.384220\n"
     ]
    },
    {
     "name": "stderr",
     "output_type": "stream",
     "text": [
      "2021-02-06 02:17:07,384 - stpipe.SkyMatchStep - INFO - ***** jwst.skymatch.skymatch.match() TOTAL RUN TIME: 0:00:01.607121\n"
     ]
    },
    {
     "name": "stderr",
     "output_type": "stream",
     "text": [
      "2021-02-06 02:17:07,385 - stpipe.SkyMatchStep - INFO -  \n"
     ]
    },
    {
     "name": "stderr",
     "output_type": "stream",
     "text": [
      "2021-02-06 02:17:07,598 - stpipe.SkyMatchStep - INFO - Saved model in MIRI_0_skymatchstep.fits\n"
     ]
    },
    {
     "name": "stderr",
     "output_type": "stream",
     "text": [
      "2021-02-06 02:17:07,784 - stpipe.SkyMatchStep - INFO - Saved model in MIRI_1_skymatchstep.fits\n"
     ]
    },
    {
     "name": "stderr",
     "output_type": "stream",
     "text": [
      "2021-02-06 02:17:07,980 - stpipe.SkyMatchStep - INFO - Saved model in MIRI_2_skymatchstep.fits\n"
     ]
    },
    {
     "name": "stderr",
     "output_type": "stream",
     "text": [
      "2021-02-06 02:17:08,174 - stpipe.SkyMatchStep - INFO - Saved model in MIRI_3_skymatchstep.fits\n"
     ]
    },
    {
     "name": "stderr",
     "output_type": "stream",
     "text": [
      "2021-02-06 02:17:08,174 - stpipe.SkyMatchStep - INFO - Step SkyMatchStep done\n"
     ]
    },
    {
     "data": {
      "text/plain": [
       "<ModelContainer>"
      ]
     },
     "execution_count": 1,
     "metadata": {},
     "output_type": "execute_result"
    }
   ],
   "source": [
    "# skymatch, global+match, subtract = True\n",
    "jwst.skymatch.skymatch_step.SkyMatchStep.call(skymatch_json_file2, skymethod='global+match', match_down=True,subtract=True,output_file='MIRI',save_results=True)"
   ]
  },
  {
   "cell_type": "code",
   "execution_count": 28,
   "metadata": {
    "execution": {
     "iopub.execute_input": "2021-02-06T07:17:08.185567Z",
     "iopub.status.busy": "2021-02-06T07:17:08.182501Z",
     "iopub.status.idle": "2021-02-06T07:17:08.845152Z",
     "shell.execute_reply": "2021-02-06T07:17:08.845506Z"
    }
   },
   "outputs": [
    {
     "name": "stdout",
     "output_type": "stream",
     "text": [
      "Mean: original, new (global+match)\n",
      "Mean: 1.9996574 , 0.068209454\n",
      "Mean: 2.9995198 , 0.06942941\n",
      "Mean: 5.0019174 , 0.0923392\n",
      "Mean: 1.9996574 , 0.05842648\n"
     ]
    }
   ],
   "source": [
    "img01_1_new = datamodels.open('MIRI_0_skymatchstep.fits')\n",
    "img01_2_new = datamodels.open('MIRI_1_skymatchstep.fits')\n",
    "img02_1_new = datamodels.open('MIRI_2_skymatchstep.fits')\n",
    "img02_2_new = datamodels.open('MIRI_3_skymatchstep.fits')\n",
    "\n",
    "print('Mean: original, new (global+match)')\n",
    "print('Mean:',np.mean(img01_1.data),',', np.mean(img01_1_new.data))\n",
    "print('Mean:',np.mean(img01_2.data),',', np.mean(img01_2_new.data))\n",
    "print('Mean:',np.mean(img02_1.data),',', np.mean(img02_1_new.data))\n",
    "print('Mean:',np.mean(img02_2.data),',', np.mean(img02_2_new.data))"
   ]
  },
  {
   "cell_type": "markdown",
   "metadata": {},
   "source": [
    "### ** Check that all output (new) sky values are around zero (within a standard deviation)"
   ]
  },
  {
   "cell_type": "markdown",
   "metadata": {
    "collapsed": true
   },
   "source": [
    "##### Notes: ‘global+match’: first use ‘match’ method to equalize sky values between images and then find a minimum “global” sky value in all input images.\n"
   ]
  }
 ],
 "metadata": {
  "anaconda-cloud": {},
  "kernelspec": {
   "display_name": "Python 3",
   "language": "python",
   "name": "python3"
  },
  "language_info": {
   "codemirror_mode": {
    "name": "ipython",
    "version": 3
   },
   "file_extension": ".py",
   "mimetype": "text/x-python",
   "name": "python",
   "nbconvert_exporter": "python",
   "pygments_lexer": "ipython3",
   "version": "3.8.6"
  }
 },
 "nbformat": 4,
 "nbformat_minor": 2
}
