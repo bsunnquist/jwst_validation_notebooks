{
 "cells": [
  {
   "cell_type": "markdown",
   "metadata": {},
   "source": [
    "# Testing photom step with MIRI simulated data"
   ]
  },
  {
   "cell_type": "markdown",
   "metadata": {},
   "source": [
    "## Summary\n",
    "\n",
    "This notebook processes an image through calwebb_image2 and calwebb_image3 (calwebb_detector1 is optional) and examines the output table of the source_catalog step. The steps are as follow:\n",
    "\n",
    "1) Set up data path and directory and image file name.\n",
    "\n",
    "2) Modify header information of input simulations (if needed).\n",
    "\n",
    "3) Run input data through calwebb_detector1.\n",
    "\n",
    "4) Run output of calwebb_detector1 through the photom step in calwebb_image2.\n",
    "\n",
    "5) Get photom reference file. \n",
    "\n",
    "6) Compare the flat field reference file with the rate/cal image ratio and check that the correct conversion factor was applied.\n",
    "\n",
    "7) Check that the pixel area information has been attached and that PIXAR_SR, PIXAR_A2, and BUNIT keywords have been populated in the cal image.\n",
    "\n",
    "\n",
    "The pipeline documentation can be found here: https://jwst-pipeline.readthedocs.io/en/latest/\n",
    "\n",
    "The pipeline code is available on GitHub: https://github.com/spacetelescope/jwst\n",
    "\n",
    "Author: T. Temim"
   ]
  },
  {
   "cell_type": "markdown",
   "metadata": {},
   "source": [
    "### Set up import statements"
   ]
  },
  {
   "cell_type": "code",
   "execution_count": 1,
   "metadata": {
    "execution": {
     "iopub.execute_input": "2021-02-06T05:06:52.536749Z",
     "iopub.status.busy": "2021-02-06T05:06:52.536440Z",
     "iopub.status.idle": "2021-02-06T05:06:53.779751Z",
     "shell.execute_reply": "2021-02-06T05:06:53.780071Z"
    }
   },
   "outputs": [],
   "source": [
    "import jwst\n",
    "from jwst.pipeline import Detector1Pipeline, Image2Pipeline\n",
    "from astropy.io import fits\n",
    "import numpy as np\n",
    "from jwst.datamodels import RampModel, ImageModel, MirImgPhotomModel\n",
    "from astropy.utils.data import get_pkg_data_filename\n",
    "from ci_watson.artifactory_helpers import get_bigdata\n",
    "from astropy import table\n",
    "import crds"
   ]
  },
  {
   "cell_type": "code",
   "execution_count": 2,
   "metadata": {
    "execution": {
     "iopub.execute_input": "2021-02-06T05:06:53.782531Z",
     "iopub.status.busy": "2021-02-06T05:06:53.782218Z",
     "iopub.status.idle": "2021-02-06T05:06:53.783683Z",
     "shell.execute_reply": "2021-02-06T05:06:53.784004Z"
    }
   },
   "outputs": [],
   "source": [
    "#import os\n",
    "#os.environ['CRDS_PATH']='$HOME/crds_cache'\n",
    "#os.environ['CRDS_SERVER_URL'] = 'https://jwst-crds.stsci.edu'\n",
    "#os.environ['CRDS_CONTEXT']='jwst_0619.pmap'\n",
    "#os.environ['TEST_BIGDATA']='https://bytesalad.stsci.edu/artifactory/'\n",
    "#export CRDS_SERVER_URL=https://jwst-crds.stsci.edu\n",
    "#export CRDS_PATH=$HOME/crds_cache\n",
    "#export CRDS_CONTEXT='jwst_0619.pmap'\n",
    "#export TEST_BIGDATA=https://bytesalad.stsci.edu/artifactory/"
   ]
  },
  {
   "cell_type": "markdown",
   "metadata": {},
   "source": [
    "### Print pipeline version number"
   ]
  },
  {
   "cell_type": "code",
   "execution_count": 3,
   "metadata": {
    "execution": {
     "iopub.execute_input": "2021-02-06T05:06:53.787482Z",
     "iopub.status.busy": "2021-02-06T05:06:53.787180Z",
     "iopub.status.idle": "2021-02-06T05:06:53.789303Z",
     "shell.execute_reply": "2021-02-06T05:06:53.789544Z"
    }
   },
   "outputs": [
    {
     "data": {
      "text/plain": [
       "'0.18.3'"
      ]
     },
     "execution_count": 1,
     "metadata": {},
     "output_type": "execute_result"
    }
   ],
   "source": [
    "jwst.__version__ "
   ]
  },
  {
   "cell_type": "markdown",
   "metadata": {},
   "source": [
    "### Read in data from artifactory"
   ]
  },
  {
   "cell_type": "code",
   "execution_count": 4,
   "metadata": {
    "execution": {
     "iopub.execute_input": "2021-02-06T05:06:53.791604Z",
     "iopub.status.busy": "2021-02-06T05:06:53.791297Z",
     "iopub.status.idle": "2021-02-06T05:06:54.023771Z",
     "shell.execute_reply": "2021-02-06T05:06:54.023334Z"
    }
   },
   "outputs": [],
   "source": [
    "input_file = get_bigdata('jwst_validation_notebooks',\n",
    "                     'validation_data',\n",
    "                     'source_catalog',\n",
    "                     'source_catalog_miri_test', \n",
    "                     'det_image_seq1_MIRIMAGE_F560Wexp1_rate.fits')"
   ]
  },
  {
   "cell_type": "markdown",
   "metadata": {},
   "source": [
    "### Read in input image as JWST data model"
   ]
  },
  {
   "cell_type": "code",
   "execution_count": 5,
   "metadata": {
    "execution": {
     "iopub.execute_input": "2021-02-06T05:06:54.026622Z",
     "iopub.status.busy": "2021-02-06T05:06:54.026287Z",
     "iopub.status.idle": "2021-02-06T05:06:54.380158Z",
     "shell.execute_reply": "2021-02-06T05:06:54.379723Z"
    }
   },
   "outputs": [],
   "source": [
    "from jwst import datamodels\n",
    "\n",
    "im = ImageModel(input_file)"
   ]
  },
  {
   "cell_type": "markdown",
   "metadata": {},
   "source": [
    "### Modify header information of input simulations (if needed)"
   ]
  },
  {
   "cell_type": "code",
   "execution_count": 6,
   "metadata": {
    "execution": {
     "iopub.execute_input": "2021-02-06T05:06:54.382923Z",
     "iopub.status.busy": "2021-02-06T05:06:54.382615Z",
     "iopub.status.idle": "2021-02-06T05:06:54.385014Z",
     "shell.execute_reply": "2021-02-06T05:06:54.384671Z"
    }
   },
   "outputs": [
    {
     "name": "stdout",
     "output_type": "stream",
     "text": [
      "4\n"
     ]
    }
   ],
   "source": [
    "print(im.meta.wcsinfo.wcsaxes)"
   ]
  },
  {
   "cell_type": "code",
   "execution_count": 7,
   "metadata": {
    "execution": {
     "iopub.execute_input": "2021-02-06T05:06:54.387349Z",
     "iopub.status.busy": "2021-02-06T05:06:54.387057Z",
     "iopub.status.idle": "2021-02-06T05:06:54.388691Z",
     "shell.execute_reply": "2021-02-06T05:06:54.388942Z"
    }
   },
   "outputs": [],
   "source": [
    "im.meta.wcsinfo.wcsaxes=2"
   ]
  },
  {
   "cell_type": "code",
   "execution_count": 8,
   "metadata": {
    "execution": {
     "iopub.execute_input": "2021-02-06T05:06:54.391084Z",
     "iopub.status.busy": "2021-02-06T05:06:54.390773Z",
     "iopub.status.idle": "2021-02-06T05:06:54.392929Z",
     "shell.execute_reply": "2021-02-06T05:06:54.392597Z"
    }
   },
   "outputs": [
    {
     "name": "stdout",
     "output_type": "stream",
     "text": [
      "2\n"
     ]
    }
   ],
   "source": [
    "print(im.meta.wcsinfo.wcsaxes)"
   ]
  },
  {
   "cell_type": "code",
   "execution_count": 9,
   "metadata": {
    "execution": {
     "iopub.execute_input": "2021-02-06T05:06:54.395863Z",
     "iopub.status.busy": "2021-02-06T05:06:54.395222Z",
     "iopub.status.idle": "2021-02-06T05:06:54.397077Z",
     "shell.execute_reply": "2021-02-06T05:06:54.396804Z"
    }
   },
   "outputs": [],
   "source": [
    "del im.meta.wcsinfo.cdelt3\n",
    "del im.meta.wcsinfo.crpix3\n",
    "del im.meta.wcsinfo.crval3\n",
    "del im.meta.wcsinfo.ctype3\n",
    "del im.meta.wcsinfo.cunit3\n",
    "del im.meta.wcsinfo.pc3_1\n",
    "del im.meta.wcsinfo.pc3_2\n"
   ]
  },
  {
   "cell_type": "markdown",
   "metadata": {},
   "source": [
    "### Run input data through calwebb_detector1"
   ]
  },
  {
   "cell_type": "code",
   "execution_count": 10,
   "metadata": {
    "execution": {
     "iopub.execute_input": "2021-02-06T05:06:54.398947Z",
     "iopub.status.busy": "2021-02-06T05:06:54.398643Z",
     "iopub.status.idle": "2021-02-06T05:06:54.400475Z",
     "shell.execute_reply": "2021-02-06T05:06:54.400224Z"
    }
   },
   "outputs": [],
   "source": [
    "# The data read in is an image file already processed through Detector1. This step should only be run \n",
    "#if we're starting with a ramp file.\n",
    "\n",
    "#det1 = Detector1Pipeline()\n",
    "#det1.save_results = True\n",
    "#det1.run(im)"
   ]
  },
  {
   "cell_type": "markdown",
   "metadata": {},
   "source": [
    "### Run output of calwebb_detector1 through calwebb_image2"
   ]
  },
  {
   "cell_type": "code",
   "execution_count": 11,
   "metadata": {
    "execution": {
     "iopub.execute_input": "2021-02-06T05:06:54.402372Z",
     "iopub.status.busy": "2021-02-06T05:06:54.402078Z",
     "iopub.status.idle": "2021-02-06T05:06:54.403616Z",
     "shell.execute_reply": "2021-02-06T05:06:54.403869Z"
    }
   },
   "outputs": [],
   "source": [
    "#input_file = input_file.replace('rateint.fits', 'rate.fits')"
   ]
  },
  {
   "cell_type": "code",
   "execution_count": 12,
   "metadata": {
    "execution": {
     "iopub.execute_input": "2021-02-06T05:06:54.408601Z",
     "iopub.status.busy": "2021-02-06T05:06:54.408309Z",
     "iopub.status.idle": "2021-02-06T05:06:55.310091Z",
     "shell.execute_reply": "2021-02-06T05:06:55.309730Z"
    }
   },
   "outputs": [
    {
     "name": "stderr",
     "output_type": "stream",
     "text": [
      "2021-02-06 00:06:54,409 - stpipe.Image2Pipeline - INFO - Image2Pipeline instance created.\n"
     ]
    },
    {
     "name": "stderr",
     "output_type": "stream",
     "text": [
      "2021-02-06 00:06:54,411 - stpipe.Image2Pipeline.bkg_subtract - INFO - BackgroundStep instance created.\n"
     ]
    },
    {
     "name": "stderr",
     "output_type": "stream",
     "text": [
      "2021-02-06 00:06:54,412 - stpipe.Image2Pipeline.assign_wcs - INFO - AssignWcsStep instance created.\n"
     ]
    },
    {
     "name": "stderr",
     "output_type": "stream",
     "text": [
      "2021-02-06 00:06:54,413 - stpipe.Image2Pipeline.flat_field - INFO - FlatFieldStep instance created.\n"
     ]
    },
    {
     "name": "stderr",
     "output_type": "stream",
     "text": [
      "2021-02-06 00:06:54,414 - stpipe.Image2Pipeline.photom - INFO - PhotomStep instance created.\n"
     ]
    },
    {
     "name": "stderr",
     "output_type": "stream",
     "text": [
      "2021-02-06 00:06:54,415 - stpipe.Image2Pipeline.resample - INFO - ResampleStep instance created.\n"
     ]
    },
    {
     "name": "stderr",
     "output_type": "stream",
     "text": [
      "2021-02-06 00:06:54,485 - stpipe.Image2Pipeline - INFO - Step Image2Pipeline running with args (<ImageModel(1024, 1032) from det_image_seq1_MIRIMAGE_F560Wexp1_rate.fits>,).\n"
     ]
    },
    {
     "name": "stderr",
     "output_type": "stream",
     "text": [
      "2021-02-06 00:06:54,489 - stpipe.Image2Pipeline - INFO - Step Image2Pipeline parameters are: {'pre_hooks': [], 'post_hooks': [], 'output_file': None, 'output_dir': None, 'output_ext': '.fits', 'output_use_model': False, 'output_use_index': True, 'save_results': True, 'skip': False, 'suffix': None, 'search_output_file': True, 'input_dir': '', 'save_bsub': False, 'steps': {'bkg_subtract': {'pre_hooks': [], 'post_hooks': [], 'output_file': None, 'output_dir': None, 'output_ext': '.fits', 'output_use_model': False, 'output_use_index': True, 'save_results': False, 'skip': False, 'suffix': None, 'search_output_file': True, 'input_dir': '', 'sigma': 3.0, 'maxiters': None}, 'assign_wcs': {'pre_hooks': [], 'post_hooks': [], 'output_file': None, 'output_dir': None, 'output_ext': '.fits', 'output_use_model': False, 'output_use_index': True, 'save_results': False, 'skip': True, 'suffix': None, 'search_output_file': True, 'input_dir': '', 'sip_approx': True, 'sip_max_pix_error': 0.25, 'sip_degree': None, 'sip_max_inv_pix_error': 0.25, 'sip_inv_degree': None, 'sip_npoints': 32, 'slit_y_low': -0.55, 'slit_y_high': 0.55}, 'flat_field': {'pre_hooks': [], 'post_hooks': [], 'output_file': None, 'output_dir': None, 'output_ext': '.fits', 'output_use_model': False, 'output_use_index': True, 'save_results': False, 'skip': True, 'suffix': None, 'search_output_file': True, 'input_dir': '', 'save_interpolated_flat': False, 'user_supplied_flat': None, 'inverse': False}, 'photom': {'pre_hooks': [], 'post_hooks': [], 'output_file': None, 'output_dir': None, 'output_ext': '.fits', 'output_use_model': False, 'output_use_index': True, 'save_results': False, 'skip': False, 'suffix': None, 'search_output_file': True, 'input_dir': '', 'inverse': False, 'source_type': None}, 'resample': {'pre_hooks': [], 'post_hooks': [], 'output_file': None, 'output_dir': None, 'output_ext': '.fits', 'output_use_model': False, 'output_use_index': True, 'save_results': False, 'skip': True, 'suffix': None, 'search_output_file': True, 'input_dir': '', 'pixfrac': 1.0, 'kernel': 'square', 'fillval': 'INDEF', 'weight_type': 'exptime', 'pixel_scale_ratio': 1.0, 'single': False, 'blendheaders': True, 'allowed_memory': None}}}\n"
     ]
    },
    {
     "name": "stderr",
     "output_type": "stream",
     "text": [
      "2021-02-06 00:06:54,496 - stpipe.Image2Pipeline - INFO - Prefetching reference files for dataset: 'det_image_seq1_MIRIMAGE_F560Wexp1_rate.fits' reftypes = ['area', 'photom', 'wavelengthrange', 'wfssbkg']\n"
     ]
    },
    {
     "name": "stderr",
     "output_type": "stream",
     "text": [
      "2021-02-06 00:06:54,709 - stpipe.Image2Pipeline - INFO - Prefetch for AREA reference file is '/grp/crds/cache/references/jwst/jwst_miri_area_0004.fits'.\n"
     ]
    },
    {
     "name": "stderr",
     "output_type": "stream",
     "text": [
      "2021-02-06 00:06:54,710 - stpipe.Image2Pipeline - INFO - Prefetch for PHOTOM reference file is '/grp/crds/cache/references/jwst/jwst_miri_photom_0044.fits'.\n"
     ]
    },
    {
     "name": "stderr",
     "output_type": "stream",
     "text": [
      "2021-02-06 00:06:54,711 - stpipe.Image2Pipeline - INFO - Prefetch for WAVELENGTHRANGE reference file is 'N/A'.\n"
     ]
    },
    {
     "name": "stderr",
     "output_type": "stream",
     "text": [
      "2021-02-06 00:06:54,712 - stpipe.Image2Pipeline - INFO - Prefetch for WFSSBKG reference file is 'N/A'.\n"
     ]
    },
    {
     "name": "stderr",
     "output_type": "stream",
     "text": [
      "2021-02-06 00:06:54,712 - stpipe.Image2Pipeline - INFO - Starting calwebb_image2 ...\n"
     ]
    },
    {
     "name": "stderr",
     "output_type": "stream",
     "text": [
      "2021-02-06 00:06:54,741 - stpipe.Image2Pipeline - INFO - Processing product det_image_seq1_MIRIMAGE_F560Wexp1_rate\n"
     ]
    },
    {
     "name": "stderr",
     "output_type": "stream",
     "text": [
      "2021-02-06 00:06:54,741 - stpipe.Image2Pipeline - INFO - Working on input <ImageModel(1024, 1032) from det_image_seq1_MIRIMAGE_F560Wexp1_rate.fits> ...\n"
     ]
    },
    {
     "name": "stderr",
     "output_type": "stream",
     "text": [
      "2021-02-06 00:06:54,819 - stpipe.Image2Pipeline.assign_wcs - INFO - Step assign_wcs running with args (<ImageModel(1024, 1032) from det_image_seq1_MIRIMAGE_F560Wexp1_rate.fits>,).\n"
     ]
    },
    {
     "name": "stderr",
     "output_type": "stream",
     "text": [
      "2021-02-06 00:06:54,821 - stpipe.Image2Pipeline.assign_wcs - INFO - Step assign_wcs parameters are: {'pre_hooks': [], 'post_hooks': [], 'output_file': None, 'output_dir': None, 'output_ext': '.fits', 'output_use_model': False, 'output_use_index': True, 'save_results': False, 'skip': True, 'suffix': None, 'search_output_file': True, 'input_dir': '', 'sip_approx': True, 'sip_max_pix_error': 0.25, 'sip_degree': None, 'sip_max_inv_pix_error': 0.25, 'sip_inv_degree': None, 'sip_npoints': 32, 'slit_y_low': -0.55, 'slit_y_high': 0.55}\n"
     ]
    },
    {
     "name": "stderr",
     "output_type": "stream",
     "text": [
      "2021-02-06 00:06:54,821 - stpipe.Image2Pipeline.assign_wcs - INFO - Step skipped.\n"
     ]
    },
    {
     "name": "stderr",
     "output_type": "stream",
     "text": [
      "2021-02-06 00:06:54,822 - stpipe.Image2Pipeline.assign_wcs - INFO - Step assign_wcs done\n"
     ]
    },
    {
     "name": "stderr",
     "output_type": "stream",
     "text": [
      "2021-02-06 00:06:54,890 - stpipe.Image2Pipeline.flat_field - INFO - Step flat_field running with args (<ImageModel(1024, 1032) from det_image_seq1_MIRIMAGE_F560Wexp1_rate.fits>,).\n"
     ]
    },
    {
     "name": "stderr",
     "output_type": "stream",
     "text": [
      "2021-02-06 00:06:54,892 - stpipe.Image2Pipeline.flat_field - INFO - Step flat_field parameters are: {'pre_hooks': [], 'post_hooks': [], 'output_file': None, 'output_dir': None, 'output_ext': '.fits', 'output_use_model': False, 'output_use_index': True, 'save_results': False, 'skip': True, 'suffix': None, 'search_output_file': True, 'input_dir': '', 'save_interpolated_flat': False, 'user_supplied_flat': None, 'inverse': False}\n"
     ]
    },
    {
     "name": "stderr",
     "output_type": "stream",
     "text": [
      "2021-02-06 00:06:54,892 - stpipe.Image2Pipeline.flat_field - INFO - Step skipped.\n"
     ]
    },
    {
     "name": "stderr",
     "output_type": "stream",
     "text": [
      "2021-02-06 00:06:54,893 - stpipe.Image2Pipeline.flat_field - INFO - Step flat_field done\n"
     ]
    },
    {
     "name": "stderr",
     "output_type": "stream",
     "text": [
      "2021-02-06 00:06:54,960 - stpipe.Image2Pipeline.photom - INFO - Step photom running with args (<ImageModel(1024, 1032) from det_image_seq1_MIRIMAGE_F560Wexp1_rate.fits>,).\n"
     ]
    },
    {
     "name": "stderr",
     "output_type": "stream",
     "text": [
      "2021-02-06 00:06:54,961 - stpipe.Image2Pipeline.photom - INFO - Step photom parameters are: {'pre_hooks': [], 'post_hooks': [], 'output_file': None, 'output_dir': None, 'output_ext': '.fits', 'output_use_model': False, 'output_use_index': True, 'save_results': False, 'skip': False, 'suffix': None, 'search_output_file': True, 'input_dir': '', 'inverse': False, 'source_type': None}\n"
     ]
    },
    {
     "name": "stderr",
     "output_type": "stream",
     "text": [
      "2021-02-06 00:06:54,972 - stpipe.Image2Pipeline.photom - INFO - Using photom reference file: /grp/crds/cache/references/jwst/jwst_miri_photom_0044.fits\n"
     ]
    },
    {
     "name": "stderr",
     "output_type": "stream",
     "text": [
      "2021-02-06 00:06:54,973 - stpipe.Image2Pipeline.photom - INFO - Using area reference file: /grp/crds/cache/references/jwst/jwst_miri_area_0004.fits\n"
     ]
    },
    {
     "name": "stderr",
     "output_type": "stream",
     "text": [
      "2021-02-06 00:06:54,996 - stpipe.Image2Pipeline.photom - INFO - Using instrument: MIRI\n"
     ]
    },
    {
     "name": "stderr",
     "output_type": "stream",
     "text": [
      "2021-02-06 00:06:54,997 - stpipe.Image2Pipeline.photom - INFO -  detector: MIRIMAGE\n"
     ]
    },
    {
     "name": "stderr",
     "output_type": "stream",
     "text": [
      "2021-02-06 00:06:54,997 - stpipe.Image2Pipeline.photom - INFO -  exp_type: MIR_IMAGE\n"
     ]
    },
    {
     "name": "stderr",
     "output_type": "stream",
     "text": [
      "2021-02-06 00:06:54,997 - stpipe.Image2Pipeline.photom - INFO -  filter: F560W\n"
     ]
    },
    {
     "name": "stderr",
     "output_type": "stream",
     "text": [
      "2021-02-06 00:06:55,148 - stpipe.Image2Pipeline.photom - INFO - Pixel area map copied to output.\n"
     ]
    },
    {
     "name": "stderr",
     "output_type": "stream",
     "text": [
      "2021-02-06 00:06:55,149 - stpipe.Image2Pipeline.photom - INFO -  subarray: FULL\n"
     ]
    },
    {
     "name": "stderr",
     "output_type": "stream",
     "text": [
      "2021-02-06 00:06:55,150 - stpipe.Image2Pipeline.photom - INFO - PHOTMJSR value: 1.02701\n"
     ]
    },
    {
     "name": "stderr",
     "output_type": "stream",
     "text": [
      "2021-02-06 00:06:55,160 - stpipe.Image2Pipeline.photom - INFO - Step photom done\n"
     ]
    },
    {
     "name": "stderr",
     "output_type": "stream",
     "text": [
      "2021-02-06 00:06:55,235 - stpipe.Image2Pipeline.resample - INFO - Step resample running with args (<ImageModel(1024, 1032) from det_image_seq1_MIRIMAGE_F560Wexp1_rate.fits>,).\n"
     ]
    },
    {
     "name": "stderr",
     "output_type": "stream",
     "text": [
      "2021-02-06 00:06:55,236 - stpipe.Image2Pipeline.resample - INFO - Step resample parameters are: {'pre_hooks': [], 'post_hooks': [], 'output_file': None, 'output_dir': None, 'output_ext': '.fits', 'output_use_model': False, 'output_use_index': True, 'save_results': True, 'skip': True, 'suffix': 'i2d', 'search_output_file': True, 'input_dir': '', 'pixfrac': 1.0, 'kernel': 'square', 'fillval': 'INDEF', 'weight_type': 'exptime', 'pixel_scale_ratio': 1.0, 'single': False, 'blendheaders': True, 'allowed_memory': None}\n"
     ]
    },
    {
     "name": "stderr",
     "output_type": "stream",
     "text": [
      "2021-02-06 00:06:55,237 - stpipe.Image2Pipeline.resample - INFO - Step skipped.\n"
     ]
    },
    {
     "name": "stderr",
     "output_type": "stream",
     "text": [
      "2021-02-06 00:06:55,238 - stpipe.Image2Pipeline.resample - INFO - Step resample done\n"
     ]
    },
    {
     "name": "stderr",
     "output_type": "stream",
     "text": [
      "2021-02-06 00:06:55,238 - stpipe.Image2Pipeline - INFO - Finished processing product det_image_seq1_MIRIMAGE_F560Wexp1_rate\n"
     ]
    },
    {
     "name": "stderr",
     "output_type": "stream",
     "text": [
      "2021-02-06 00:06:55,239 - stpipe.Image2Pipeline - INFO - ... ending calwebb_image2\n"
     ]
    },
    {
     "name": "stderr",
     "output_type": "stream",
     "text": [
      "2021-02-06 00:06:55,305 - stpipe.Image2Pipeline - INFO - Saved model in det_image_seq1_MIRIMAGE_F560Wexp1_cal.fits\n"
     ]
    },
    {
     "name": "stderr",
     "output_type": "stream",
     "text": [
      "2021-02-06 00:06:55,306 - stpipe.Image2Pipeline - INFO - Step Image2Pipeline done\n"
     ]
    },
    {
     "data": {
      "text/plain": [
       "[<ImageModel(1024, 1032) from det_image_seq1_MIRIMAGE_F560Wexp1_cal.fits>]"
      ]
     },
     "execution_count": 1,
     "metadata": {},
     "output_type": "execute_result"
    }
   ],
   "source": [
    "im2 = Image2Pipeline()\n",
    "#im2.background.skip = True\n",
    "im2.assign_wcs.skip = True\n",
    "im2.flat_field.skip = True\n",
    "im2.photom.skip=False\n",
    "im2.resample.skip = True\n",
    "im2.save_results = True\n",
    "im2.run(im)"
   ]
  },
  {
   "cell_type": "code",
   "execution_count": 13,
   "metadata": {
    "execution": {
     "iopub.execute_input": "2021-02-06T05:06:55.312496Z",
     "iopub.status.busy": "2021-02-06T05:06:55.312197Z",
     "iopub.status.idle": "2021-02-06T05:06:55.314110Z",
     "shell.execute_reply": "2021-02-06T05:06:55.313764Z"
    }
   },
   "outputs": [],
   "source": [
    "input_file = input_file.replace('rate.fits', 'cal.fits')"
   ]
  },
  {
   "cell_type": "code",
   "execution_count": 14,
   "metadata": {
    "execution": {
     "iopub.execute_input": "2021-02-06T05:06:55.321895Z",
     "iopub.status.busy": "2021-02-06T05:06:55.321569Z",
     "iopub.status.idle": "2021-02-06T05:06:55.341406Z",
     "shell.execute_reply": "2021-02-06T05:06:55.341093Z"
    }
   },
   "outputs": [],
   "source": [
    "# read in the calibrated file\n",
    "im_cal = ImageModel(input_file)"
   ]
  },
  {
   "cell_type": "markdown",
   "metadata": {},
   "source": [
    "### Calculate the rate/cal image ratio"
   ]
  },
  {
   "cell_type": "code",
   "execution_count": 15,
   "metadata": {
    "execution": {
     "iopub.execute_input": "2021-02-06T05:06:55.343895Z",
     "iopub.status.busy": "2021-02-06T05:06:55.343573Z",
     "iopub.status.idle": "2021-02-06T05:06:55.349701Z",
     "shell.execute_reply": "2021-02-06T05:06:55.349386Z"
    }
   },
   "outputs": [
    {
     "name": "stderr",
     "output_type": "stream",
     "text": [
      "2021-02-06 00:06:55,346 - stpipe - WARNING - /data1/jenkins/workspace/Notebooks/jwst_validation_notebooks_spacetelescope/miniconda3/envs/jwst_validation_notebooks/lib/python3.8/site-packages/asdf/tags/core/ndarray.py:523: RuntimeWarning: invalid value encountered in true_divide\n",
      "  return getattr(self._make_array(), name)(*args)\n",
      "\n"
     ]
    }
   ],
   "source": [
    "ratio_im=im_cal.data/im.data"
   ]
  },
  {
   "cell_type": "code",
   "execution_count": 16,
   "metadata": {
    "execution": {
     "iopub.execute_input": "2021-02-06T05:06:55.352308Z",
     "iopub.status.busy": "2021-02-06T05:06:55.352019Z",
     "iopub.status.idle": "2021-02-06T05:06:55.354387Z",
     "shell.execute_reply": "2021-02-06T05:06:55.354130Z"
    }
   },
   "outputs": [
    {
     "name": "stdout",
     "output_type": "stream",
     "text": [
      "[[1.02701 1.02701 1.02701 ... 1.02701 1.02701 1.02701]\n",
      " [1.02701 1.02701 1.02701 ... 1.02701 1.02701 1.02701]\n",
      " [1.02701 1.02701 1.02701 ... 1.02701 1.02701 1.02701]\n",
      " ...\n",
      " [1.02701 1.02701 1.02701 ... 1.02701 1.02701 1.02701]\n",
      " [    nan     nan     nan ... 1.02701 1.02701 1.02701]\n",
      " [1.02701 1.02701 1.02701 ... 1.02701 1.02701 1.02701]]\n"
     ]
    }
   ],
   "source": [
    "print(ratio_im)"
   ]
  },
  {
   "cell_type": "markdown",
   "metadata": {},
   "source": [
    "### Get photom reference file"
   ]
  },
  {
   "cell_type": "code",
   "execution_count": 17,
   "metadata": {
    "execution": {
     "iopub.execute_input": "2021-02-06T05:06:55.357499Z",
     "iopub.status.busy": "2021-02-06T05:06:55.357204Z",
     "iopub.status.idle": "2021-02-06T05:06:55.368977Z",
     "shell.execute_reply": "2021-02-06T05:06:55.369223Z"
    }
   },
   "outputs": [
    {
     "name": "stdout",
     "output_type": "stream",
     "text": [
      "Photom reference file crds://jwst_miri_photom_0044.fits\n"
     ]
    }
   ],
   "source": [
    "photomreffile = im_cal.meta.ref_file.photom.name\n",
    "print('Photom reference file', photomreffile)\n",
    "# find location of file\n",
    "basename = crds.core.config.pop_crds_uri(photomreffile)\n",
    "path = crds.locate_file(basename, \"jwst\")\n",
    "# open reference file\n",
    "\n",
    "photom_file = MirImgPhotomModel(path)"
   ]
  },
  {
   "cell_type": "code",
   "execution_count": 18,
   "metadata": {
    "execution": {
     "iopub.execute_input": "2021-02-06T05:06:55.371572Z",
     "iopub.status.busy": "2021-02-06T05:06:55.371281Z",
     "iopub.status.idle": "2021-02-06T05:06:55.373545Z",
     "shell.execute_reply": "2021-02-06T05:06:55.373223Z"
    }
   },
   "outputs": [
    {
     "data": {
      "text/plain": [
       "8.4403609523084e-14"
      ]
     },
     "execution_count": 1,
     "metadata": {},
     "output_type": "execute_result"
    }
   ],
   "source": [
    "photom_file.meta.photometry.pixelarea_steradians"
   ]
  },
  {
   "cell_type": "markdown",
   "metadata": {},
   "source": [
    "### Print photom calibration conversion factor for image"
   ]
  },
  {
   "cell_type": "code",
   "execution_count": 19,
   "metadata": {
    "execution": {
     "iopub.execute_input": "2021-02-06T05:06:55.376076Z",
     "iopub.status.busy": "2021-02-06T05:06:55.375769Z",
     "iopub.status.idle": "2021-02-06T05:06:55.377892Z",
     "shell.execute_reply": "2021-02-06T05:06:55.377564Z"
    }
   },
   "outputs": [
    {
     "name": "stdout",
     "output_type": "stream",
     "text": [
      "1.02701\n"
     ]
    }
   ],
   "source": [
    "print(photom_file.phot_table['photmjsr'][np.where(photom_file.phot_table['filter'] == im_cal.meta.instrument.filter)][0])"
   ]
  },
  {
   "cell_type": "markdown",
   "metadata": {},
   "source": [
    "### Check that same value has been applied to cal image (three values should be the same)"
   ]
  },
  {
   "cell_type": "code",
   "execution_count": 20,
   "metadata": {
    "execution": {
     "iopub.execute_input": "2021-02-06T05:06:55.380320Z",
     "iopub.status.busy": "2021-02-06T05:06:55.380023Z",
     "iopub.status.idle": "2021-02-06T05:06:55.384106Z",
     "shell.execute_reply": "2021-02-06T05:06:55.384343Z"
    }
   },
   "outputs": [
    {
     "name": "stdout",
     "output_type": "stream",
     "text": [
      "image min image max ref file\n",
      "1.0270098 1.0270101 1.02701\n"
     ]
    }
   ],
   "source": [
    "print('image min','image max','ref file')\n",
    "print(np.nanmin(ratio_im),np.nanmax(ratio_im),photom_file.phot_table['photmjsr'][np.where(photom_file.phot_table['filter'] == im_cal.meta.instrument.filter)][0])"
   ]
  },
  {
   "cell_type": "markdown",
   "metadata": {},
   "source": [
    "### Check that pixel area information has been attached"
   ]
  },
  {
   "cell_type": "code",
   "execution_count": 21,
   "metadata": {
    "execution": {
     "iopub.execute_input": "2021-02-06T05:06:55.386741Z",
     "iopub.status.busy": "2021-02-06T05:06:55.386448Z",
     "iopub.status.idle": "2021-02-06T05:06:55.398361Z",
     "shell.execute_reply": "2021-02-06T05:06:55.398039Z"
    }
   },
   "outputs": [
    {
     "data": {
      "text/plain": [
       "1.0159259"
      ]
     },
     "execution_count": 1,
     "metadata": {},
     "output_type": "execute_result"
    }
   ],
   "source": [
    "im_cal.area\n",
    "np.nanmin(im_cal.area)\n",
    "np.nanmax(im_cal.area)"
   ]
  },
  {
   "cell_type": "code",
   "execution_count": 22,
   "metadata": {
    "execution": {
     "iopub.execute_input": "2021-02-06T05:06:55.400747Z",
     "iopub.status.busy": "2021-02-06T05:06:55.400460Z",
     "iopub.status.idle": "2021-02-06T05:06:55.410044Z",
     "shell.execute_reply": "2021-02-06T05:06:55.409714Z"
    }
   },
   "outputs": [
    {
     "name": "stdout",
     "output_type": "stream",
     "text": [
      "pix_area_min pix_area_max pix_area_mean\n",
      "0.97582465 1.0159259 1.0058197\n"
     ]
    }
   ],
   "source": [
    "print('pix_area_min', 'pix_area_max','pix_area_mean')\n",
    "print(np.nanmin(im_cal.area),np.nanmax(im_cal.area),np.nanmean(im_cal.area))"
   ]
  },
  {
   "cell_type": "markdown",
   "metadata": {},
   "source": [
    "### Check that PIXAR_SR and PIXAR_A2 keywords have been populated"
   ]
  },
  {
   "cell_type": "code",
   "execution_count": 23,
   "metadata": {
    "execution": {
     "iopub.execute_input": "2021-02-06T05:06:55.413343Z",
     "iopub.status.busy": "2021-02-06T05:06:55.413057Z",
     "iopub.status.idle": "2021-02-06T05:06:55.415390Z",
     "shell.execute_reply": "2021-02-06T05:06:55.415077Z"
    }
   },
   "outputs": [
    {
     "data": {
      "text/plain": [
       "['meta.photometry.pixelarea_steradians']"
      ]
     },
     "execution_count": 1,
     "metadata": {},
     "output_type": "execute_result"
    }
   ],
   "source": [
    "im_cal.find_fits_keyword('PIXAR_SR')"
   ]
  },
  {
   "cell_type": "code",
   "execution_count": 24,
   "metadata": {
    "execution": {
     "iopub.execute_input": "2021-02-06T05:06:55.417634Z",
     "iopub.status.busy": "2021-02-06T05:06:55.417344Z",
     "iopub.status.idle": "2021-02-06T05:06:55.419320Z",
     "shell.execute_reply": "2021-02-06T05:06:55.419554Z"
    }
   },
   "outputs": [
    {
     "data": {
      "text/plain": [
       "['meta.photometry.pixelarea_steradians']"
      ]
     },
     "execution_count": 1,
     "metadata": {},
     "output_type": "execute_result"
    }
   ],
   "source": [
    "photom_file.find_fits_keyword('PIXAR_SR')"
   ]
  },
  {
   "cell_type": "markdown",
   "metadata": {},
   "source": [
    "#### Two values should be identical"
   ]
  },
  {
   "cell_type": "code",
   "execution_count": 25,
   "metadata": {
    "execution": {
     "iopub.execute_input": "2021-02-06T05:06:55.421847Z",
     "iopub.status.busy": "2021-02-06T05:06:55.421524Z",
     "iopub.status.idle": "2021-02-06T05:06:55.423547Z",
     "shell.execute_reply": "2021-02-06T05:06:55.423232Z"
    }
   },
   "outputs": [
    {
     "name": "stdout",
     "output_type": "stream",
     "text": [
      "8.4403609523084e-14 8.4403609523084e-14\n"
     ]
    }
   ],
   "source": [
    "print(photom_file.meta.photometry.pixelarea_steradians,im_cal.meta.photometry.pixelarea_steradians)"
   ]
  },
  {
   "cell_type": "markdown",
   "metadata": {},
   "source": [
    "#### Two values should be identical"
   ]
  },
  {
   "cell_type": "code",
   "execution_count": 26,
   "metadata": {
    "execution": {
     "iopub.execute_input": "2021-02-06T05:06:55.425616Z",
     "iopub.status.busy": "2021-02-06T05:06:55.425330Z",
     "iopub.status.idle": "2021-02-06T05:06:55.427478Z",
     "shell.execute_reply": "2021-02-06T05:06:55.427160Z"
    }
   },
   "outputs": [
    {
     "name": "stdout",
     "output_type": "stream",
     "text": [
      "0.0121 0.0121\n"
     ]
    }
   ],
   "source": [
    "print(photom_file.meta.photometry.pixelarea_arcsecsq, im_cal.meta.photometry.pixelarea_arcsecsq)"
   ]
  },
  {
   "cell_type": "markdown",
   "metadata": {},
   "source": [
    "### Verify that pixel area in steradians is correct (values should be the same)"
   ]
  },
  {
   "cell_type": "code",
   "execution_count": 27,
   "metadata": {
    "execution": {
     "iopub.execute_input": "2021-02-06T05:06:55.429646Z",
     "iopub.status.busy": "2021-02-06T05:06:55.429358Z",
     "iopub.status.idle": "2021-02-06T05:06:55.431601Z",
     "shell.execute_reply": "2021-02-06T05:06:55.431275Z"
    }
   },
   "outputs": [
    {
     "name": "stdout",
     "output_type": "stream",
     "text": [
      "2.844030752201317e-13 8.4403609523084e-14\n"
     ]
    }
   ],
   "source": [
    "print(im_cal.meta.photometry.pixelarea_arcsecsq/(206265.0**2),im_cal.meta.photometry.pixelarea_steradians)"
   ]
  },
  {
   "cell_type": "markdown",
   "metadata": {},
   "source": [
    "### Check that bunit information has been added to image ('MJy/sr')"
   ]
  },
  {
   "cell_type": "code",
   "execution_count": 28,
   "metadata": {
    "execution": {
     "iopub.execute_input": "2021-02-06T05:06:55.433828Z",
     "iopub.status.busy": "2021-02-06T05:06:55.433529Z",
     "iopub.status.idle": "2021-02-06T05:06:55.435917Z",
     "shell.execute_reply": "2021-02-06T05:06:55.435646Z"
    }
   },
   "outputs": [
    {
     "data": {
      "text/plain": [
       "'MJy/sr'"
      ]
     },
     "execution_count": 1,
     "metadata": {},
     "output_type": "execute_result"
    }
   ],
   "source": [
    "im_cal.meta.bunit_data"
   ]
  },
  {
   "cell_type": "code",
   "execution_count": 29,
   "metadata": {
    "execution": {
     "iopub.execute_input": "2021-02-06T05:06:55.437821Z",
     "iopub.status.busy": "2021-02-06T05:06:55.437479Z",
     "iopub.status.idle": "2021-02-06T05:06:55.439377Z",
     "shell.execute_reply": "2021-02-06T05:06:55.439059Z"
    }
   },
   "outputs": [],
   "source": [
    "#photom_file.meta.author"
   ]
  },
  {
   "cell_type": "code",
   "execution_count": null,
   "metadata": {},
   "outputs": [],
   "source": []
  }
 ],
 "metadata": {
  "kernelspec": {
   "display_name": "Python 3",
   "language": "python",
   "name": "python3"
  },
  "language_info": {
   "codemirror_mode": {
    "name": "ipython",
    "version": 3
   },
   "file_extension": ".py",
   "mimetype": "text/x-python",
   "name": "python",
   "nbconvert_exporter": "python",
   "pygments_lexer": "ipython3",
   "version": "3.8.6"
  }
 },
 "nbformat": 4,
 "nbformat_minor": 4
}
